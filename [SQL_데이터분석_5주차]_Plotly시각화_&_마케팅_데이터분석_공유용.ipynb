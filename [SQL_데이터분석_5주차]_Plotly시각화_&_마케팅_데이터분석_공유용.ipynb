{
  "nbformat": 4,
  "nbformat_minor": 0,
  "metadata": {
    "colab": {
      "provenance": [],
      "toc_visible": true,
      "include_colab_link": true
    },
    "kernelspec": {
      "name": "python3",
      "display_name": "Python 3"
    },
    "language_info": {
      "name": "python"
    }
  },
  "cells": [
    {
      "cell_type": "markdown",
      "metadata": {
        "id": "view-in-github",
        "colab_type": "text"
      },
      "source": [
        "<a href=\"https://colab.research.google.com/github/jj-snuIS/meta_sql/blob/main/%5BSQL_%EB%8D%B0%EC%9D%B4%ED%84%B0%EB%B6%84%EC%84%9D_5%EC%A3%BC%EC%B0%A8%5D_Plotly%EC%8B%9C%EA%B0%81%ED%99%94_%26_%EB%A7%88%EC%BC%80%ED%8C%85_%EB%8D%B0%EC%9D%B4%ED%84%B0%EB%B6%84%EC%84%9D_%EA%B3%B5%EC%9C%A0%EC%9A%A9.ipynb\" target=\"_parent\"><img src=\"https://colab.research.google.com/assets/colab-badge.svg\" alt=\"Open In Colab\"/></a>"
      ]
    },
    {
      "cell_type": "markdown",
      "source": [
        "# 기본 라이브러리 import"
      ],
      "metadata": {
        "id": "OQ9CGtAYlyhS"
      }
    },
    {
      "cell_type": "code",
      "execution_count": null,
      "metadata": {
        "id": "EhtzhpBngCnD"
      },
      "outputs": [],
      "source": [
        "import pandas as pd"
      ]
    },
    {
      "cell_type": "markdown",
      "source": [
        "# BigQuery 연동을 위한 기본 설정"
      ],
      "metadata": {
        "id": "7K0-QePEgUSH"
      }
    },
    {
      "cell_type": "code",
      "source": [
        "from google.colab import auth\n",
        "from google.cloud import bigquery\n",
        "from google.colab import data_table\n",
        "\n",
        "project = 'crested-drive-372522' # Project ID inserted based on the query results selected to explore\n",
        "location = 'US' # Location inserted based on the query results selected to explore\n",
        "client = bigquery.Client(project=project, location=location)\n",
        "data_table.enable_dataframe_formatter()\n",
        "auth.authenticate_user()"
      ],
      "metadata": {
        "id": "6GfCCPn4gUk4"
      },
      "execution_count": null,
      "outputs": []
    },
    {
      "cell_type": "markdown",
      "source": [
        "# BigQuery 데이터 불러오기"
      ],
      "metadata": {
        "id": "--M4sPJSnFJM"
      }
    },
    {
      "cell_type": "code",
      "source": [
        "query_job = client.query(\"\"\"\n",
        "    select *\n",
        "    from `crested-drive-372522.my_temp.daily_login_users`\n",
        "\"\"\")\n",
        "\n",
        "loginUsersDf = query_job.to_dataframe()\n",
        "loginUsersDf['login_date'] = loginUsersDf['login_date'].astype('datetime64')\n",
        "#------------------------------------------------------------------------------------------------------------------------------------------------#\n",
        "query_job = client.query(\"\"\"\n",
        "    select *\n",
        "    from `crested-drive-372522.my_temp.daily_orders`\n",
        "\"\"\")\n",
        "\n",
        "ordersDf = query_job.to_dataframe()\n",
        "ordersDf['order_date'] = ordersDf['order_date'].astype('datetime64')\n",
        "\n",
        "#------------------------------------------------------------------------------------------------------------------------------------------------#\n",
        "query_job = client.query(\"\"\"\n",
        "    select pickup_shop_name, order_year_month, order_date\n",
        "         , sum(payment_amount) as sales\n",
        "         , count(distinct user_id) as\tpu\n",
        "         , count(distinct order_id) as purchase_count\t\n",
        "         , round(sum(payment_amount)/count(distinct user_id), 2) as arppu\n",
        "    from `crested-drive-372522.my_temp.daily_orders`\n",
        "    group by pickup_shop_name, order_year_month, order_date\n",
        "\"\"\")\n",
        "\n",
        "salesIndexDf = query_job.to_dataframe()\n",
        "salesIndexDf['order_date'] = salesIndexDf['order_date'].astype('datetime64')\n",
        "\n",
        "#------------------------------------------------------------------------------------------------------------------------------------------------#\n",
        "query_job = client.query(\"\"\"\n",
        "    select pickup_shop_name, sum(payment_amount) as sales, count(distinct user_id) as pu\n",
        "    from `crested-drive-372522.localparm_dw.orders`\n",
        "    group by pickup_shop_name\n",
        "\"\"\")\n",
        "\n",
        "salesDf = query_job.to_dataframe()\n",
        "\n",
        "#------------------------------------------------------------------------------------------------------------------------------------------------#\n",
        "query_job = client.query(\"\"\"\n",
        "    select *\n",
        "    from `crested-drive-372522.localparm_dw.pickup_shop`\n",
        "\"\"\")\n",
        "shopsDf = query_job.to_dataframe()"
      ],
      "metadata": {
        "id": "_wEfvP6ZnDrd"
      },
      "execution_count": null,
      "outputs": []
    },
    {
      "cell_type": "markdown",
      "source": [
        "# Plotly를 활용한 시각화"
      ],
      "metadata": {
        "id": "jXb_b7UB1Crr"
      }
    },
    {
      "cell_type": "markdown",
      "source": [
        "## plotly.express"
      ],
      "metadata": {
        "id": "iWxLbGbd39fi"
      }
    },
    {
      "cell_type": "markdown",
      "source": [
        "### 막대그래프"
      ],
      "metadata": {
        "id": "Y7eiVhOv8417"
      }
    },
    {
      "cell_type": "code",
      "source": [
        "import plotly.express as px\n",
        "\n",
        "fig = px.bar(salesDf, \n",
        "             x ='pickup_shop_name', \n",
        "             y = 'sales', \n",
        "             color='pickup_shop_name')\n",
        "\n",
        "# 참고 : https://plotly.com/python/categorical-axes/\n",
        "# << category를 기준으로 오름차순 정렬 >>\n",
        "fig.update_xaxes(categoryorder='category ascending')\n",
        "\n",
        "# << total value를 기준으로 내림차순 정렬 >>\n",
        "# fig.update_xaxes(categoryorder='total descending')\n",
        "\n",
        "# << 지정된 category 순서에 맞춰 정렬 >>\n",
        "# fig.update_xaxes(categoryorder='array', categoryarray= ['픽업존(다이소 난곡사거리점)','픽업존(유승상가)','픽업존(참맛부대찌개아구찜)','픽업존(GS25 목동3동점)','픽업존(더현대서울)','픽업존(GS영등포당산점)','픽업존(서울드림신용협동조합)','픽업존(메이비카페)'])\n",
        "\n",
        "fig.show(renderer='colab')"
      ],
      "metadata": {
        "colab": {
          "base_uri": "https://localhost:8080/",
          "height": 542
        },
        "id": "iItLMfaenqDO",
        "outputId": "0f7f6936-d930-4c1c-e9aa-5bc5ecb3993c"
      },
      "execution_count": null,
      "outputs": [
        {
          "output_type": "display_data",
          "data": {
            "text/html": [
              "<html>\n",
              "<head><meta charset=\"utf-8\" /></head>\n",
              "<body>\n",
              "    <div>            <script src=\"https://cdnjs.cloudflare.com/ajax/libs/mathjax/2.7.5/MathJax.js?config=TeX-AMS-MML_SVG\"></script><script type=\"text/javascript\">if (window.MathJax) {MathJax.Hub.Config({SVG: {font: \"STIX-Web\"}});}</script>                <script type=\"text/javascript\">window.PlotlyConfig = {MathJaxConfig: 'local'};</script>\n",
              "        <script src=\"https://cdn.plot.ly/plotly-2.8.3.min.js\"></script>                <div id=\"2a3a2fef-0975-44cf-b3c9-cbb3265b28d8\" class=\"plotly-graph-div\" style=\"height:525px; width:100%;\"></div>            <script type=\"text/javascript\">                                    window.PLOTLYENV=window.PLOTLYENV || {};                                    if (document.getElementById(\"2a3a2fef-0975-44cf-b3c9-cbb3265b28d8\")) {                    Plotly.newPlot(                        \"2a3a2fef-0975-44cf-b3c9-cbb3265b28d8\",                        [{\"alignmentgroup\":\"True\",\"hovertemplate\":\"pickup_shop_name=%{x}<br>sales=%{y}<extra></extra>\",\"legendgroup\":\"\\ud53d\\uc5c5\\uc874(\\uc720\\uc2b9\\uc0c1\\uac00)\",\"marker\":{\"color\":\"#636efa\",\"pattern\":{\"shape\":\"\"}},\"name\":\"\\ud53d\\uc5c5\\uc874(\\uc720\\uc2b9\\uc0c1\\uac00)\",\"offsetgroup\":\"\\ud53d\\uc5c5\\uc874(\\uc720\\uc2b9\\uc0c1\\uac00)\",\"orientation\":\"v\",\"showlegend\":true,\"textposition\":\"auto\",\"x\":[\"\\ud53d\\uc5c5\\uc874(\\uc720\\uc2b9\\uc0c1\\uac00)\"],\"xaxis\":\"x\",\"y\":[267844000],\"yaxis\":\"y\",\"type\":\"bar\"},{\"alignmentgroup\":\"True\",\"hovertemplate\":\"pickup_shop_name=%{x}<br>sales=%{y}<extra></extra>\",\"legendgroup\":\"\\ud53d\\uc5c5\\uc874(\\ub354\\ud604\\ub300\\uc11c\\uc6b8)\",\"marker\":{\"color\":\"#EF553B\",\"pattern\":{\"shape\":\"\"}},\"name\":\"\\ud53d\\uc5c5\\uc874(\\ub354\\ud604\\ub300\\uc11c\\uc6b8)\",\"offsetgroup\":\"\\ud53d\\uc5c5\\uc874(\\ub354\\ud604\\ub300\\uc11c\\uc6b8)\",\"orientation\":\"v\",\"showlegend\":true,\"textposition\":\"auto\",\"x\":[\"\\ud53d\\uc5c5\\uc874(\\ub354\\ud604\\ub300\\uc11c\\uc6b8)\"],\"xaxis\":\"x\",\"y\":[1199500],\"yaxis\":\"y\",\"type\":\"bar\"},{\"alignmentgroup\":\"True\",\"hovertemplate\":\"pickup_shop_name=%{x}<br>sales=%{y}<extra></extra>\",\"legendgroup\":\"\\ud53d\\uc5c5\\uc874(\\uba54\\uc774\\ube44\\uce74\\ud398)\",\"marker\":{\"color\":\"#00cc96\",\"pattern\":{\"shape\":\"\"}},\"name\":\"\\ud53d\\uc5c5\\uc874(\\uba54\\uc774\\ube44\\uce74\\ud398)\",\"offsetgroup\":\"\\ud53d\\uc5c5\\uc874(\\uba54\\uc774\\ube44\\uce74\\ud398)\",\"orientation\":\"v\",\"showlegend\":true,\"textposition\":\"auto\",\"x\":[\"\\ud53d\\uc5c5\\uc874(\\uba54\\uc774\\ube44\\uce74\\ud398)\"],\"xaxis\":\"x\",\"y\":[76700200],\"yaxis\":\"y\",\"type\":\"bar\"},{\"alignmentgroup\":\"True\",\"hovertemplate\":\"pickup_shop_name=%{x}<br>sales=%{y}<extra></extra>\",\"legendgroup\":\"\\ud53d\\uc5c5\\uc874(GS25 \\ubaa9\\ub3d93\\ub3d9\\uc810)\",\"marker\":{\"color\":\"#ab63fa\",\"pattern\":{\"shape\":\"\"}},\"name\":\"\\ud53d\\uc5c5\\uc874(GS25 \\ubaa9\\ub3d93\\ub3d9\\uc810)\",\"offsetgroup\":\"\\ud53d\\uc5c5\\uc874(GS25 \\ubaa9\\ub3d93\\ub3d9\\uc810)\",\"orientation\":\"v\",\"showlegend\":true,\"textposition\":\"auto\",\"x\":[\"\\ud53d\\uc5c5\\uc874(GS25 \\ubaa9\\ub3d93\\ub3d9\\uc810)\"],\"xaxis\":\"x\",\"y\":[33700500],\"yaxis\":\"y\",\"type\":\"bar\"},{\"alignmentgroup\":\"True\",\"hovertemplate\":\"pickup_shop_name=%{x}<br>sales=%{y}<extra></extra>\",\"legendgroup\":\"\\ud53d\\uc5c5\\uc874(GS\\uc601\\ub4f1\\ud3ec\\ub2f9\\uc0b0\\uc810)\",\"marker\":{\"color\":\"#FFA15A\",\"pattern\":{\"shape\":\"\"}},\"name\":\"\\ud53d\\uc5c5\\uc874(GS\\uc601\\ub4f1\\ud3ec\\ub2f9\\uc0b0\\uc810)\",\"offsetgroup\":\"\\ud53d\\uc5c5\\uc874(GS\\uc601\\ub4f1\\ud3ec\\ub2f9\\uc0b0\\uc810)\",\"orientation\":\"v\",\"showlegend\":true,\"textposition\":\"auto\",\"x\":[\"\\ud53d\\uc5c5\\uc874(GS\\uc601\\ub4f1\\ud3ec\\ub2f9\\uc0b0\\uc810)\"],\"xaxis\":\"x\",\"y\":[36577700],\"yaxis\":\"y\",\"type\":\"bar\"},{\"alignmentgroup\":\"True\",\"hovertemplate\":\"pickup_shop_name=%{x}<br>sales=%{y}<extra></extra>\",\"legendgroup\":\"\\ud53d\\uc5c5\\uc874(\\ucc38\\ub9db\\ubd80\\ub300\\ucc0c\\uac1c\\uc544\\uad6c\\ucc1c)\",\"marker\":{\"color\":\"#19d3f3\",\"pattern\":{\"shape\":\"\"}},\"name\":\"\\ud53d\\uc5c5\\uc874(\\ucc38\\ub9db\\ubd80\\ub300\\ucc0c\\uac1c\\uc544\\uad6c\\ucc1c)\",\"offsetgroup\":\"\\ud53d\\uc5c5\\uc874(\\ucc38\\ub9db\\ubd80\\ub300\\ucc0c\\uac1c\\uc544\\uad6c\\ucc1c)\",\"orientation\":\"v\",\"showlegend\":true,\"textposition\":\"auto\",\"x\":[\"\\ud53d\\uc5c5\\uc874(\\ucc38\\ub9db\\ubd80\\ub300\\ucc0c\\uac1c\\uc544\\uad6c\\ucc1c)\"],\"xaxis\":\"x\",\"y\":[32495100],\"yaxis\":\"y\",\"type\":\"bar\"},{\"alignmentgroup\":\"True\",\"hovertemplate\":\"pickup_shop_name=%{x}<br>sales=%{y}<extra></extra>\",\"legendgroup\":\"\\ud53d\\uc5c5\\uc874(\\ub2e4\\uc774\\uc18c \\ub09c\\uace1\\uc0ac\\uac70\\ub9ac\\uc810)\",\"marker\":{\"color\":\"#FF6692\",\"pattern\":{\"shape\":\"\"}},\"name\":\"\\ud53d\\uc5c5\\uc874(\\ub2e4\\uc774\\uc18c \\ub09c\\uace1\\uc0ac\\uac70\\ub9ac\\uc810)\",\"offsetgroup\":\"\\ud53d\\uc5c5\\uc874(\\ub2e4\\uc774\\uc18c \\ub09c\\uace1\\uc0ac\\uac70\\ub9ac\\uc810)\",\"orientation\":\"v\",\"showlegend\":true,\"textposition\":\"auto\",\"x\":[\"\\ud53d\\uc5c5\\uc874(\\ub2e4\\uc774\\uc18c \\ub09c\\uace1\\uc0ac\\uac70\\ub9ac\\uc810)\"],\"xaxis\":\"x\",\"y\":[12103000],\"yaxis\":\"y\",\"type\":\"bar\"},{\"alignmentgroup\":\"True\",\"hovertemplate\":\"pickup_shop_name=%{x}<br>sales=%{y}<extra></extra>\",\"legendgroup\":\"\\ud53d\\uc5c5\\uc874(\\uc11c\\uc6b8\\ub4dc\\ub9bc\\uc2e0\\uc6a9\\ud611\\ub3d9\\uc870\\ud569)\",\"marker\":{\"color\":\"#B6E880\",\"pattern\":{\"shape\":\"\"}},\"name\":\"\\ud53d\\uc5c5\\uc874(\\uc11c\\uc6b8\\ub4dc\\ub9bc\\uc2e0\\uc6a9\\ud611\\ub3d9\\uc870\\ud569)\",\"offsetgroup\":\"\\ud53d\\uc5c5\\uc874(\\uc11c\\uc6b8\\ub4dc\\ub9bc\\uc2e0\\uc6a9\\ud611\\ub3d9\\uc870\\ud569)\",\"orientation\":\"v\",\"showlegend\":true,\"textposition\":\"auto\",\"x\":[\"\\ud53d\\uc5c5\\uc874(\\uc11c\\uc6b8\\ub4dc\\ub9bc\\uc2e0\\uc6a9\\ud611\\ub3d9\\uc870\\ud569)\"],\"xaxis\":\"x\",\"y\":[37322600],\"yaxis\":\"y\",\"type\":\"bar\"}],                        {\"template\":{\"data\":{\"bar\":[{\"error_x\":{\"color\":\"#2a3f5f\"},\"error_y\":{\"color\":\"#2a3f5f\"},\"marker\":{\"line\":{\"color\":\"#E5ECF6\",\"width\":0.5},\"pattern\":{\"fillmode\":\"overlay\",\"size\":10,\"solidity\":0.2}},\"type\":\"bar\"}],\"barpolar\":[{\"marker\":{\"line\":{\"color\":\"#E5ECF6\",\"width\":0.5},\"pattern\":{\"fillmode\":\"overlay\",\"size\":10,\"solidity\":0.2}},\"type\":\"barpolar\"}],\"carpet\":[{\"aaxis\":{\"endlinecolor\":\"#2a3f5f\",\"gridcolor\":\"white\",\"linecolor\":\"white\",\"minorgridcolor\":\"white\",\"startlinecolor\":\"#2a3f5f\"},\"baxis\":{\"endlinecolor\":\"#2a3f5f\",\"gridcolor\":\"white\",\"linecolor\":\"white\",\"minorgridcolor\":\"white\",\"startlinecolor\":\"#2a3f5f\"},\"type\":\"carpet\"}],\"choropleth\":[{\"colorbar\":{\"outlinewidth\":0,\"ticks\":\"\"},\"type\":\"choropleth\"}],\"contour\":[{\"colorbar\":{\"outlinewidth\":0,\"ticks\":\"\"},\"colorscale\":[[0.0,\"#0d0887\"],[0.1111111111111111,\"#46039f\"],[0.2222222222222222,\"#7201a8\"],[0.3333333333333333,\"#9c179e\"],[0.4444444444444444,\"#bd3786\"],[0.5555555555555556,\"#d8576b\"],[0.6666666666666666,\"#ed7953\"],[0.7777777777777778,\"#fb9f3a\"],[0.8888888888888888,\"#fdca26\"],[1.0,\"#f0f921\"]],\"type\":\"contour\"}],\"contourcarpet\":[{\"colorbar\":{\"outlinewidth\":0,\"ticks\":\"\"},\"type\":\"contourcarpet\"}],\"heatmap\":[{\"colorbar\":{\"outlinewidth\":0,\"ticks\":\"\"},\"colorscale\":[[0.0,\"#0d0887\"],[0.1111111111111111,\"#46039f\"],[0.2222222222222222,\"#7201a8\"],[0.3333333333333333,\"#9c179e\"],[0.4444444444444444,\"#bd3786\"],[0.5555555555555556,\"#d8576b\"],[0.6666666666666666,\"#ed7953\"],[0.7777777777777778,\"#fb9f3a\"],[0.8888888888888888,\"#fdca26\"],[1.0,\"#f0f921\"]],\"type\":\"heatmap\"}],\"heatmapgl\":[{\"colorbar\":{\"outlinewidth\":0,\"ticks\":\"\"},\"colorscale\":[[0.0,\"#0d0887\"],[0.1111111111111111,\"#46039f\"],[0.2222222222222222,\"#7201a8\"],[0.3333333333333333,\"#9c179e\"],[0.4444444444444444,\"#bd3786\"],[0.5555555555555556,\"#d8576b\"],[0.6666666666666666,\"#ed7953\"],[0.7777777777777778,\"#fb9f3a\"],[0.8888888888888888,\"#fdca26\"],[1.0,\"#f0f921\"]],\"type\":\"heatmapgl\"}],\"histogram\":[{\"marker\":{\"pattern\":{\"fillmode\":\"overlay\",\"size\":10,\"solidity\":0.2}},\"type\":\"histogram\"}],\"histogram2d\":[{\"colorbar\":{\"outlinewidth\":0,\"ticks\":\"\"},\"colorscale\":[[0.0,\"#0d0887\"],[0.1111111111111111,\"#46039f\"],[0.2222222222222222,\"#7201a8\"],[0.3333333333333333,\"#9c179e\"],[0.4444444444444444,\"#bd3786\"],[0.5555555555555556,\"#d8576b\"],[0.6666666666666666,\"#ed7953\"],[0.7777777777777778,\"#fb9f3a\"],[0.8888888888888888,\"#fdca26\"],[1.0,\"#f0f921\"]],\"type\":\"histogram2d\"}],\"histogram2dcontour\":[{\"colorbar\":{\"outlinewidth\":0,\"ticks\":\"\"},\"colorscale\":[[0.0,\"#0d0887\"],[0.1111111111111111,\"#46039f\"],[0.2222222222222222,\"#7201a8\"],[0.3333333333333333,\"#9c179e\"],[0.4444444444444444,\"#bd3786\"],[0.5555555555555556,\"#d8576b\"],[0.6666666666666666,\"#ed7953\"],[0.7777777777777778,\"#fb9f3a\"],[0.8888888888888888,\"#fdca26\"],[1.0,\"#f0f921\"]],\"type\":\"histogram2dcontour\"}],\"mesh3d\":[{\"colorbar\":{\"outlinewidth\":0,\"ticks\":\"\"},\"type\":\"mesh3d\"}],\"parcoords\":[{\"line\":{\"colorbar\":{\"outlinewidth\":0,\"ticks\":\"\"}},\"type\":\"parcoords\"}],\"pie\":[{\"automargin\":true,\"type\":\"pie\"}],\"scatter\":[{\"marker\":{\"colorbar\":{\"outlinewidth\":0,\"ticks\":\"\"}},\"type\":\"scatter\"}],\"scatter3d\":[{\"line\":{\"colorbar\":{\"outlinewidth\":0,\"ticks\":\"\"}},\"marker\":{\"colorbar\":{\"outlinewidth\":0,\"ticks\":\"\"}},\"type\":\"scatter3d\"}],\"scattercarpet\":[{\"marker\":{\"colorbar\":{\"outlinewidth\":0,\"ticks\":\"\"}},\"type\":\"scattercarpet\"}],\"scattergeo\":[{\"marker\":{\"colorbar\":{\"outlinewidth\":0,\"ticks\":\"\"}},\"type\":\"scattergeo\"}],\"scattergl\":[{\"marker\":{\"colorbar\":{\"outlinewidth\":0,\"ticks\":\"\"}},\"type\":\"scattergl\"}],\"scattermapbox\":[{\"marker\":{\"colorbar\":{\"outlinewidth\":0,\"ticks\":\"\"}},\"type\":\"scattermapbox\"}],\"scatterpolar\":[{\"marker\":{\"colorbar\":{\"outlinewidth\":0,\"ticks\":\"\"}},\"type\":\"scatterpolar\"}],\"scatterpolargl\":[{\"marker\":{\"colorbar\":{\"outlinewidth\":0,\"ticks\":\"\"}},\"type\":\"scatterpolargl\"}],\"scatterternary\":[{\"marker\":{\"colorbar\":{\"outlinewidth\":0,\"ticks\":\"\"}},\"type\":\"scatterternary\"}],\"surface\":[{\"colorbar\":{\"outlinewidth\":0,\"ticks\":\"\"},\"colorscale\":[[0.0,\"#0d0887\"],[0.1111111111111111,\"#46039f\"],[0.2222222222222222,\"#7201a8\"],[0.3333333333333333,\"#9c179e\"],[0.4444444444444444,\"#bd3786\"],[0.5555555555555556,\"#d8576b\"],[0.6666666666666666,\"#ed7953\"],[0.7777777777777778,\"#fb9f3a\"],[0.8888888888888888,\"#fdca26\"],[1.0,\"#f0f921\"]],\"type\":\"surface\"}],\"table\":[{\"cells\":{\"fill\":{\"color\":\"#EBF0F8\"},\"line\":{\"color\":\"white\"}},\"header\":{\"fill\":{\"color\":\"#C8D4E3\"},\"line\":{\"color\":\"white\"}},\"type\":\"table\"}]},\"layout\":{\"annotationdefaults\":{\"arrowcolor\":\"#2a3f5f\",\"arrowhead\":0,\"arrowwidth\":1},\"autotypenumbers\":\"strict\",\"coloraxis\":{\"colorbar\":{\"outlinewidth\":0,\"ticks\":\"\"}},\"colorscale\":{\"diverging\":[[0,\"#8e0152\"],[0.1,\"#c51b7d\"],[0.2,\"#de77ae\"],[0.3,\"#f1b6da\"],[0.4,\"#fde0ef\"],[0.5,\"#f7f7f7\"],[0.6,\"#e6f5d0\"],[0.7,\"#b8e186\"],[0.8,\"#7fbc41\"],[0.9,\"#4d9221\"],[1,\"#276419\"]],\"sequential\":[[0.0,\"#0d0887\"],[0.1111111111111111,\"#46039f\"],[0.2222222222222222,\"#7201a8\"],[0.3333333333333333,\"#9c179e\"],[0.4444444444444444,\"#bd3786\"],[0.5555555555555556,\"#d8576b\"],[0.6666666666666666,\"#ed7953\"],[0.7777777777777778,\"#fb9f3a\"],[0.8888888888888888,\"#fdca26\"],[1.0,\"#f0f921\"]],\"sequentialminus\":[[0.0,\"#0d0887\"],[0.1111111111111111,\"#46039f\"],[0.2222222222222222,\"#7201a8\"],[0.3333333333333333,\"#9c179e\"],[0.4444444444444444,\"#bd3786\"],[0.5555555555555556,\"#d8576b\"],[0.6666666666666666,\"#ed7953\"],[0.7777777777777778,\"#fb9f3a\"],[0.8888888888888888,\"#fdca26\"],[1.0,\"#f0f921\"]]},\"colorway\":[\"#636efa\",\"#EF553B\",\"#00cc96\",\"#ab63fa\",\"#FFA15A\",\"#19d3f3\",\"#FF6692\",\"#B6E880\",\"#FF97FF\",\"#FECB52\"],\"font\":{\"color\":\"#2a3f5f\"},\"geo\":{\"bgcolor\":\"white\",\"lakecolor\":\"white\",\"landcolor\":\"#E5ECF6\",\"showlakes\":true,\"showland\":true,\"subunitcolor\":\"white\"},\"hoverlabel\":{\"align\":\"left\"},\"hovermode\":\"closest\",\"mapbox\":{\"style\":\"light\"},\"paper_bgcolor\":\"white\",\"plot_bgcolor\":\"#E5ECF6\",\"polar\":{\"angularaxis\":{\"gridcolor\":\"white\",\"linecolor\":\"white\",\"ticks\":\"\"},\"bgcolor\":\"#E5ECF6\",\"radialaxis\":{\"gridcolor\":\"white\",\"linecolor\":\"white\",\"ticks\":\"\"}},\"scene\":{\"xaxis\":{\"backgroundcolor\":\"#E5ECF6\",\"gridcolor\":\"white\",\"gridwidth\":2,\"linecolor\":\"white\",\"showbackground\":true,\"ticks\":\"\",\"zerolinecolor\":\"white\"},\"yaxis\":{\"backgroundcolor\":\"#E5ECF6\",\"gridcolor\":\"white\",\"gridwidth\":2,\"linecolor\":\"white\",\"showbackground\":true,\"ticks\":\"\",\"zerolinecolor\":\"white\"},\"zaxis\":{\"backgroundcolor\":\"#E5ECF6\",\"gridcolor\":\"white\",\"gridwidth\":2,\"linecolor\":\"white\",\"showbackground\":true,\"ticks\":\"\",\"zerolinecolor\":\"white\"}},\"shapedefaults\":{\"line\":{\"color\":\"#2a3f5f\"}},\"ternary\":{\"aaxis\":{\"gridcolor\":\"white\",\"linecolor\":\"white\",\"ticks\":\"\"},\"baxis\":{\"gridcolor\":\"white\",\"linecolor\":\"white\",\"ticks\":\"\"},\"bgcolor\":\"#E5ECF6\",\"caxis\":{\"gridcolor\":\"white\",\"linecolor\":\"white\",\"ticks\":\"\"}},\"title\":{\"x\":0.05},\"xaxis\":{\"automargin\":true,\"gridcolor\":\"white\",\"linecolor\":\"white\",\"ticks\":\"\",\"title\":{\"standoff\":15},\"zerolinecolor\":\"white\",\"zerolinewidth\":2},\"yaxis\":{\"automargin\":true,\"gridcolor\":\"white\",\"linecolor\":\"white\",\"ticks\":\"\",\"title\":{\"standoff\":15},\"zerolinecolor\":\"white\",\"zerolinewidth\":2}}},\"xaxis\":{\"anchor\":\"y\",\"domain\":[0.0,1.0],\"title\":{\"text\":\"pickup_shop_name\"},\"categoryorder\":\"category ascending\",\"categoryarray\":[\"\\ud53d\\uc5c5\\uc874(\\uc720\\uc2b9\\uc0c1\\uac00)\",\"\\ud53d\\uc5c5\\uc874(\\ub354\\ud604\\ub300\\uc11c\\uc6b8)\",\"\\ud53d\\uc5c5\\uc874(\\uba54\\uc774\\ube44\\uce74\\ud398)\",\"\\ud53d\\uc5c5\\uc874(GS25 \\ubaa9\\ub3d93\\ub3d9\\uc810)\",\"\\ud53d\\uc5c5\\uc874(GS\\uc601\\ub4f1\\ud3ec\\ub2f9\\uc0b0\\uc810)\",\"\\ud53d\\uc5c5\\uc874(\\ucc38\\ub9db\\ubd80\\ub300\\ucc0c\\uac1c\\uc544\\uad6c\\ucc1c)\",\"\\ud53d\\uc5c5\\uc874(\\ub2e4\\uc774\\uc18c \\ub09c\\uace1\\uc0ac\\uac70\\ub9ac\\uc810)\",\"\\ud53d\\uc5c5\\uc874(\\uc11c\\uc6b8\\ub4dc\\ub9bc\\uc2e0\\uc6a9\\ud611\\ub3d9\\uc870\\ud569)\"]},\"yaxis\":{\"anchor\":\"x\",\"domain\":[0.0,1.0],\"title\":{\"text\":\"sales\"}},\"legend\":{\"title\":{\"text\":\"pickup_shop_name\"},\"tracegroupgap\":0},\"margin\":{\"t\":60},\"barmode\":\"relative\"},                        {\"responsive\": true}                    ).then(function(){\n",
              "                            \n",
              "var gd = document.getElementById('2a3a2fef-0975-44cf-b3c9-cbb3265b28d8');\n",
              "var x = new MutationObserver(function (mutations, observer) {{\n",
              "        var display = window.getComputedStyle(gd).display;\n",
              "        if (!display || display === 'none') {{\n",
              "            console.log([gd, 'removed!']);\n",
              "            Plotly.purge(gd);\n",
              "            observer.disconnect();\n",
              "        }}\n",
              "}});\n",
              "\n",
              "// Listen for the removal of the full notebook cells\n",
              "var notebookContainer = gd.closest('#notebook-container');\n",
              "if (notebookContainer) {{\n",
              "    x.observe(notebookContainer, {childList: true});\n",
              "}}\n",
              "\n",
              "// Listen for the clearing of the current output cell\n",
              "var outputEl = gd.closest('.output');\n",
              "if (outputEl) {{\n",
              "    x.observe(outputEl, {childList: true});\n",
              "}}\n",
              "\n",
              "                        })                };                            </script>        </div>\n",
              "</body>\n",
              "</html>"
            ]
          },
          "metadata": {}
        }
      ]
    },
    {
      "cell_type": "markdown",
      "source": [
        "### 누적 막대그래프"
      ],
      "metadata": {
        "id": "xB3yS03D9IY_"
      }
    },
    {
      "cell_type": "code",
      "source": [
        "import plotly.express as px\n",
        "\n",
        "## 데이터 핸들링\n",
        "salesTemp = ordersDf.groupby(['order_year_month', 'pickup_shop_name'])['payment_amount'].sum().reset_index()\n",
        "\n",
        "## 시각화\n",
        "fig = px.bar(salesTemp, \n",
        "              x=\"order_year_month\", \n",
        "              y=\"payment_amount\", \n",
        "              color=\"pickup_shop_name\", \n",
        "              text=\"payment_amount\")\n",
        "\n",
        "# 참고: https://plotly.com/python/text-and-annotations/\n",
        "# << 값을 표시방식을 설정 >>\n",
        "# fig.update_traces(texttemplate='%{text:,} 원',)# textposition='inside',) \n",
        "\n",
        "fig.show(renderer='colab') "
      ],
      "metadata": {
        "colab": {
          "base_uri": "https://localhost:8080/",
          "height": 542
        },
        "id": "JehpvvCh4d8J",
        "outputId": "4375294d-f77a-4c4e-b837-b5d986bf7e1d"
      },
      "execution_count": null,
      "outputs": [
        {
          "output_type": "display_data",
          "data": {
            "text/html": [
              "<html>\n",
              "<head><meta charset=\"utf-8\" /></head>\n",
              "<body>\n",
              "    <div>            <script src=\"https://cdnjs.cloudflare.com/ajax/libs/mathjax/2.7.5/MathJax.js?config=TeX-AMS-MML_SVG\"></script><script type=\"text/javascript\">if (window.MathJax) {MathJax.Hub.Config({SVG: {font: \"STIX-Web\"}});}</script>                <script type=\"text/javascript\">window.PlotlyConfig = {MathJaxConfig: 'local'};</script>\n",
              "        <script src=\"https://cdn.plot.ly/plotly-2.8.3.min.js\"></script>                <div id=\"815bd0d9-d4b7-473e-98ab-980a23317c5b\" class=\"plotly-graph-div\" style=\"height:525px; width:100%;\"></div>            <script type=\"text/javascript\">                                    window.PLOTLYENV=window.PLOTLYENV || {};                                    if (document.getElementById(\"815bd0d9-d4b7-473e-98ab-980a23317c5b\")) {                    Plotly.newPlot(                        \"815bd0d9-d4b7-473e-98ab-980a23317c5b\",                        [{\"alignmentgroup\":\"True\",\"hovertemplate\":\"pickup_shop_name=\\ud53d\\uc5c5\\uc874(\\uc720\\uc2b9\\uc0c1\\uac00)<br>order_year_month=%{x}<br>payment_amount=%{text}<extra></extra>\",\"legendgroup\":\"\\ud53d\\uc5c5\\uc874(\\uc720\\uc2b9\\uc0c1\\uac00)\",\"marker\":{\"color\":\"#636efa\",\"pattern\":{\"shape\":\"\"}},\"name\":\"\\ud53d\\uc5c5\\uc874(\\uc720\\uc2b9\\uc0c1\\uac00)\",\"offsetgroup\":\"\\ud53d\\uc5c5\\uc874(\\uc720\\uc2b9\\uc0c1\\uac00)\",\"orientation\":\"v\",\"showlegend\":true,\"text\":[51830600,37015900,35594900,34902700,25446300,28989800,54063800],\"textposition\":\"auto\",\"x\":[\"2022-05\",\"2022-06\",\"2022-07\",\"2022-08\",\"2022-09\",\"2022-10\",\"2022-11\"],\"xaxis\":\"x\",\"y\":[51830600,37015900,35594900,34902700,25446300,28989800,54063800],\"yaxis\":\"y\",\"type\":\"bar\"},{\"alignmentgroup\":\"True\",\"hovertemplate\":\"pickup_shop_name=\\ud53d\\uc5c5\\uc874(GS25 \\ubaa9\\ub3d93\\ub3d9\\uc810)<br>order_year_month=%{x}<br>payment_amount=%{text}<extra></extra>\",\"legendgroup\":\"\\ud53d\\uc5c5\\uc874(GS25 \\ubaa9\\ub3d93\\ub3d9\\uc810)\",\"marker\":{\"color\":\"#EF553B\",\"pattern\":{\"shape\":\"\"}},\"name\":\"\\ud53d\\uc5c5\\uc874(GS25 \\ubaa9\\ub3d93\\ub3d9\\uc810)\",\"offsetgroup\":\"\\ud53d\\uc5c5\\uc874(GS25 \\ubaa9\\ub3d93\\ub3d9\\uc810)\",\"orientation\":\"v\",\"showlegend\":true,\"text\":[1911500,5293500,6453700,5215300,5986900,8839600],\"textposition\":\"auto\",\"x\":[\"2022-06\",\"2022-07\",\"2022-08\",\"2022-09\",\"2022-10\",\"2022-11\"],\"xaxis\":\"x\",\"y\":[1911500,5293500,6453700,5215300,5986900,8839600],\"yaxis\":\"y\",\"type\":\"bar\"},{\"alignmentgroup\":\"True\",\"hovertemplate\":\"pickup_shop_name=\\ud53d\\uc5c5\\uc874(\\uba54\\uc774\\ube44\\uce74\\ud398)<br>order_year_month=%{x}<br>payment_amount=%{text}<extra></extra>\",\"legendgroup\":\"\\ud53d\\uc5c5\\uc874(\\uba54\\uc774\\ube44\\uce74\\ud398)\",\"marker\":{\"color\":\"#00cc96\",\"pattern\":{\"shape\":\"\"}},\"name\":\"\\ud53d\\uc5c5\\uc874(\\uba54\\uc774\\ube44\\uce74\\ud398)\",\"offsetgroup\":\"\\ud53d\\uc5c5\\uc874(\\uba54\\uc774\\ube44\\uce74\\ud398)\",\"orientation\":\"v\",\"showlegend\":true,\"text\":[4663900,11340500,11010200,10381200,11355300,27949100],\"textposition\":\"auto\",\"x\":[\"2022-06\",\"2022-07\",\"2022-08\",\"2022-09\",\"2022-10\",\"2022-11\"],\"xaxis\":\"x\",\"y\":[4663900,11340500,11010200,10381200,11355300,27949100],\"yaxis\":\"y\",\"type\":\"bar\"},{\"alignmentgroup\":\"True\",\"hovertemplate\":\"pickup_shop_name=\\ud53d\\uc5c5\\uc874(\\uc11c\\uc6b8\\ub4dc\\ub9bc\\uc2e0\\uc6a9\\ud611\\ub3d9\\uc870\\ud569)<br>order_year_month=%{x}<br>payment_amount=%{text}<extra></extra>\",\"legendgroup\":\"\\ud53d\\uc5c5\\uc874(\\uc11c\\uc6b8\\ub4dc\\ub9bc\\uc2e0\\uc6a9\\ud611\\ub3d9\\uc870\\ud569)\",\"marker\":{\"color\":\"#ab63fa\",\"pattern\":{\"shape\":\"\"}},\"name\":\"\\ud53d\\uc5c5\\uc874(\\uc11c\\uc6b8\\ub4dc\\ub9bc\\uc2e0\\uc6a9\\ud611\\ub3d9\\uc870\\ud569)\",\"offsetgroup\":\"\\ud53d\\uc5c5\\uc874(\\uc11c\\uc6b8\\ub4dc\\ub9bc\\uc2e0\\uc6a9\\ud611\\ub3d9\\uc870\\ud569)\",\"orientation\":\"v\",\"showlegend\":true,\"text\":[1782700,5263400,7704300,5893100,7184500,9494600],\"textposition\":\"auto\",\"x\":[\"2022-06\",\"2022-07\",\"2022-08\",\"2022-09\",\"2022-10\",\"2022-11\"],\"xaxis\":\"x\",\"y\":[1782700,5263400,7704300,5893100,7184500,9494600],\"yaxis\":\"y\",\"type\":\"bar\"},{\"alignmentgroup\":\"True\",\"hovertemplate\":\"pickup_shop_name=\\ud53d\\uc5c5\\uc874(\\ucc38\\ub9db\\ubd80\\ub300\\ucc0c\\uac1c\\uc544\\uad6c\\ucc1c)<br>order_year_month=%{x}<br>payment_amount=%{text}<extra></extra>\",\"legendgroup\":\"\\ud53d\\uc5c5\\uc874(\\ucc38\\ub9db\\ubd80\\ub300\\ucc0c\\uac1c\\uc544\\uad6c\\ucc1c)\",\"marker\":{\"color\":\"#FFA15A\",\"pattern\":{\"shape\":\"\"}},\"name\":\"\\ud53d\\uc5c5\\uc874(\\ucc38\\ub9db\\ubd80\\ub300\\ucc0c\\uac1c\\uc544\\uad6c\\ucc1c)\",\"offsetgroup\":\"\\ud53d\\uc5c5\\uc874(\\ucc38\\ub9db\\ubd80\\ub300\\ucc0c\\uac1c\\uc544\\uad6c\\ucc1c)\",\"orientation\":\"v\",\"showlegend\":true,\"text\":[3075400,6508900,6730700,5095000,4947500,6137600],\"textposition\":\"auto\",\"x\":[\"2022-06\",\"2022-07\",\"2022-08\",\"2022-09\",\"2022-10\",\"2022-11\"],\"xaxis\":\"x\",\"y\":[3075400,6508900,6730700,5095000,4947500,6137600],\"yaxis\":\"y\",\"type\":\"bar\"},{\"alignmentgroup\":\"True\",\"hovertemplate\":\"pickup_shop_name=\\ud53d\\uc5c5\\uc874(GS\\uc601\\ub4f1\\ud3ec\\ub2f9\\uc0b0\\uc810)<br>order_year_month=%{x}<br>payment_amount=%{text}<extra></extra>\",\"legendgroup\":\"\\ud53d\\uc5c5\\uc874(GS\\uc601\\ub4f1\\ud3ec\\ub2f9\\uc0b0\\uc810)\",\"marker\":{\"color\":\"#19d3f3\",\"pattern\":{\"shape\":\"\"}},\"name\":\"\\ud53d\\uc5c5\\uc874(GS\\uc601\\ub4f1\\ud3ec\\ub2f9\\uc0b0\\uc810)\",\"offsetgroup\":\"\\ud53d\\uc5c5\\uc874(GS\\uc601\\ub4f1\\ud3ec\\ub2f9\\uc0b0\\uc810)\",\"orientation\":\"v\",\"showlegend\":true,\"text\":[36577700],\"textposition\":\"auto\",\"x\":[\"2022-11\"],\"xaxis\":\"x\",\"y\":[36577700],\"yaxis\":\"y\",\"type\":\"bar\"},{\"alignmentgroup\":\"True\",\"hovertemplate\":\"pickup_shop_name=\\ud53d\\uc5c5\\uc874(\\ub2e4\\uc774\\uc18c \\ub09c\\uace1\\uc0ac\\uac70\\ub9ac\\uc810)<br>order_year_month=%{x}<br>payment_amount=%{text}<extra></extra>\",\"legendgroup\":\"\\ud53d\\uc5c5\\uc874(\\ub2e4\\uc774\\uc18c \\ub09c\\uace1\\uc0ac\\uac70\\ub9ac\\uc810)\",\"marker\":{\"color\":\"#FF6692\",\"pattern\":{\"shape\":\"\"}},\"name\":\"\\ud53d\\uc5c5\\uc874(\\ub2e4\\uc774\\uc18c \\ub09c\\uace1\\uc0ac\\uac70\\ub9ac\\uc810)\",\"offsetgroup\":\"\\ud53d\\uc5c5\\uc874(\\ub2e4\\uc774\\uc18c \\ub09c\\uace1\\uc0ac\\uac70\\ub9ac\\uc810)\",\"orientation\":\"v\",\"showlegend\":true,\"text\":[12103000],\"textposition\":\"auto\",\"x\":[\"2022-11\"],\"xaxis\":\"x\",\"y\":[12103000],\"yaxis\":\"y\",\"type\":\"bar\"},{\"alignmentgroup\":\"True\",\"hovertemplate\":\"pickup_shop_name=\\ud53d\\uc5c5\\uc874(\\ub354\\ud604\\ub300\\uc11c\\uc6b8)<br>order_year_month=%{x}<br>payment_amount=%{text}<extra></extra>\",\"legendgroup\":\"\\ud53d\\uc5c5\\uc874(\\ub354\\ud604\\ub300\\uc11c\\uc6b8)\",\"marker\":{\"color\":\"#B6E880\",\"pattern\":{\"shape\":\"\"}},\"name\":\"\\ud53d\\uc5c5\\uc874(\\ub354\\ud604\\ub300\\uc11c\\uc6b8)\",\"offsetgroup\":\"\\ud53d\\uc5c5\\uc874(\\ub354\\ud604\\ub300\\uc11c\\uc6b8)\",\"orientation\":\"v\",\"showlegend\":true,\"text\":[1199500],\"textposition\":\"auto\",\"x\":[\"2022-11\"],\"xaxis\":\"x\",\"y\":[1199500],\"yaxis\":\"y\",\"type\":\"bar\"}],                        {\"template\":{\"data\":{\"bar\":[{\"error_x\":{\"color\":\"#2a3f5f\"},\"error_y\":{\"color\":\"#2a3f5f\"},\"marker\":{\"line\":{\"color\":\"#E5ECF6\",\"width\":0.5},\"pattern\":{\"fillmode\":\"overlay\",\"size\":10,\"solidity\":0.2}},\"type\":\"bar\"}],\"barpolar\":[{\"marker\":{\"line\":{\"color\":\"#E5ECF6\",\"width\":0.5},\"pattern\":{\"fillmode\":\"overlay\",\"size\":10,\"solidity\":0.2}},\"type\":\"barpolar\"}],\"carpet\":[{\"aaxis\":{\"endlinecolor\":\"#2a3f5f\",\"gridcolor\":\"white\",\"linecolor\":\"white\",\"minorgridcolor\":\"white\",\"startlinecolor\":\"#2a3f5f\"},\"baxis\":{\"endlinecolor\":\"#2a3f5f\",\"gridcolor\":\"white\",\"linecolor\":\"white\",\"minorgridcolor\":\"white\",\"startlinecolor\":\"#2a3f5f\"},\"type\":\"carpet\"}],\"choropleth\":[{\"colorbar\":{\"outlinewidth\":0,\"ticks\":\"\"},\"type\":\"choropleth\"}],\"contour\":[{\"colorbar\":{\"outlinewidth\":0,\"ticks\":\"\"},\"colorscale\":[[0.0,\"#0d0887\"],[0.1111111111111111,\"#46039f\"],[0.2222222222222222,\"#7201a8\"],[0.3333333333333333,\"#9c179e\"],[0.4444444444444444,\"#bd3786\"],[0.5555555555555556,\"#d8576b\"],[0.6666666666666666,\"#ed7953\"],[0.7777777777777778,\"#fb9f3a\"],[0.8888888888888888,\"#fdca26\"],[1.0,\"#f0f921\"]],\"type\":\"contour\"}],\"contourcarpet\":[{\"colorbar\":{\"outlinewidth\":0,\"ticks\":\"\"},\"type\":\"contourcarpet\"}],\"heatmap\":[{\"colorbar\":{\"outlinewidth\":0,\"ticks\":\"\"},\"colorscale\":[[0.0,\"#0d0887\"],[0.1111111111111111,\"#46039f\"],[0.2222222222222222,\"#7201a8\"],[0.3333333333333333,\"#9c179e\"],[0.4444444444444444,\"#bd3786\"],[0.5555555555555556,\"#d8576b\"],[0.6666666666666666,\"#ed7953\"],[0.7777777777777778,\"#fb9f3a\"],[0.8888888888888888,\"#fdca26\"],[1.0,\"#f0f921\"]],\"type\":\"heatmap\"}],\"heatmapgl\":[{\"colorbar\":{\"outlinewidth\":0,\"ticks\":\"\"},\"colorscale\":[[0.0,\"#0d0887\"],[0.1111111111111111,\"#46039f\"],[0.2222222222222222,\"#7201a8\"],[0.3333333333333333,\"#9c179e\"],[0.4444444444444444,\"#bd3786\"],[0.5555555555555556,\"#d8576b\"],[0.6666666666666666,\"#ed7953\"],[0.7777777777777778,\"#fb9f3a\"],[0.8888888888888888,\"#fdca26\"],[1.0,\"#f0f921\"]],\"type\":\"heatmapgl\"}],\"histogram\":[{\"marker\":{\"pattern\":{\"fillmode\":\"overlay\",\"size\":10,\"solidity\":0.2}},\"type\":\"histogram\"}],\"histogram2d\":[{\"colorbar\":{\"outlinewidth\":0,\"ticks\":\"\"},\"colorscale\":[[0.0,\"#0d0887\"],[0.1111111111111111,\"#46039f\"],[0.2222222222222222,\"#7201a8\"],[0.3333333333333333,\"#9c179e\"],[0.4444444444444444,\"#bd3786\"],[0.5555555555555556,\"#d8576b\"],[0.6666666666666666,\"#ed7953\"],[0.7777777777777778,\"#fb9f3a\"],[0.8888888888888888,\"#fdca26\"],[1.0,\"#f0f921\"]],\"type\":\"histogram2d\"}],\"histogram2dcontour\":[{\"colorbar\":{\"outlinewidth\":0,\"ticks\":\"\"},\"colorscale\":[[0.0,\"#0d0887\"],[0.1111111111111111,\"#46039f\"],[0.2222222222222222,\"#7201a8\"],[0.3333333333333333,\"#9c179e\"],[0.4444444444444444,\"#bd3786\"],[0.5555555555555556,\"#d8576b\"],[0.6666666666666666,\"#ed7953\"],[0.7777777777777778,\"#fb9f3a\"],[0.8888888888888888,\"#fdca26\"],[1.0,\"#f0f921\"]],\"type\":\"histogram2dcontour\"}],\"mesh3d\":[{\"colorbar\":{\"outlinewidth\":0,\"ticks\":\"\"},\"type\":\"mesh3d\"}],\"parcoords\":[{\"line\":{\"colorbar\":{\"outlinewidth\":0,\"ticks\":\"\"}},\"type\":\"parcoords\"}],\"pie\":[{\"automargin\":true,\"type\":\"pie\"}],\"scatter\":[{\"marker\":{\"colorbar\":{\"outlinewidth\":0,\"ticks\":\"\"}},\"type\":\"scatter\"}],\"scatter3d\":[{\"line\":{\"colorbar\":{\"outlinewidth\":0,\"ticks\":\"\"}},\"marker\":{\"colorbar\":{\"outlinewidth\":0,\"ticks\":\"\"}},\"type\":\"scatter3d\"}],\"scattercarpet\":[{\"marker\":{\"colorbar\":{\"outlinewidth\":0,\"ticks\":\"\"}},\"type\":\"scattercarpet\"}],\"scattergeo\":[{\"marker\":{\"colorbar\":{\"outlinewidth\":0,\"ticks\":\"\"}},\"type\":\"scattergeo\"}],\"scattergl\":[{\"marker\":{\"colorbar\":{\"outlinewidth\":0,\"ticks\":\"\"}},\"type\":\"scattergl\"}],\"scattermapbox\":[{\"marker\":{\"colorbar\":{\"outlinewidth\":0,\"ticks\":\"\"}},\"type\":\"scattermapbox\"}],\"scatterpolar\":[{\"marker\":{\"colorbar\":{\"outlinewidth\":0,\"ticks\":\"\"}},\"type\":\"scatterpolar\"}],\"scatterpolargl\":[{\"marker\":{\"colorbar\":{\"outlinewidth\":0,\"ticks\":\"\"}},\"type\":\"scatterpolargl\"}],\"scatterternary\":[{\"marker\":{\"colorbar\":{\"outlinewidth\":0,\"ticks\":\"\"}},\"type\":\"scatterternary\"}],\"surface\":[{\"colorbar\":{\"outlinewidth\":0,\"ticks\":\"\"},\"colorscale\":[[0.0,\"#0d0887\"],[0.1111111111111111,\"#46039f\"],[0.2222222222222222,\"#7201a8\"],[0.3333333333333333,\"#9c179e\"],[0.4444444444444444,\"#bd3786\"],[0.5555555555555556,\"#d8576b\"],[0.6666666666666666,\"#ed7953\"],[0.7777777777777778,\"#fb9f3a\"],[0.8888888888888888,\"#fdca26\"],[1.0,\"#f0f921\"]],\"type\":\"surface\"}],\"table\":[{\"cells\":{\"fill\":{\"color\":\"#EBF0F8\"},\"line\":{\"color\":\"white\"}},\"header\":{\"fill\":{\"color\":\"#C8D4E3\"},\"line\":{\"color\":\"white\"}},\"type\":\"table\"}]},\"layout\":{\"annotationdefaults\":{\"arrowcolor\":\"#2a3f5f\",\"arrowhead\":0,\"arrowwidth\":1},\"autotypenumbers\":\"strict\",\"coloraxis\":{\"colorbar\":{\"outlinewidth\":0,\"ticks\":\"\"}},\"colorscale\":{\"diverging\":[[0,\"#8e0152\"],[0.1,\"#c51b7d\"],[0.2,\"#de77ae\"],[0.3,\"#f1b6da\"],[0.4,\"#fde0ef\"],[0.5,\"#f7f7f7\"],[0.6,\"#e6f5d0\"],[0.7,\"#b8e186\"],[0.8,\"#7fbc41\"],[0.9,\"#4d9221\"],[1,\"#276419\"]],\"sequential\":[[0.0,\"#0d0887\"],[0.1111111111111111,\"#46039f\"],[0.2222222222222222,\"#7201a8\"],[0.3333333333333333,\"#9c179e\"],[0.4444444444444444,\"#bd3786\"],[0.5555555555555556,\"#d8576b\"],[0.6666666666666666,\"#ed7953\"],[0.7777777777777778,\"#fb9f3a\"],[0.8888888888888888,\"#fdca26\"],[1.0,\"#f0f921\"]],\"sequentialminus\":[[0.0,\"#0d0887\"],[0.1111111111111111,\"#46039f\"],[0.2222222222222222,\"#7201a8\"],[0.3333333333333333,\"#9c179e\"],[0.4444444444444444,\"#bd3786\"],[0.5555555555555556,\"#d8576b\"],[0.6666666666666666,\"#ed7953\"],[0.7777777777777778,\"#fb9f3a\"],[0.8888888888888888,\"#fdca26\"],[1.0,\"#f0f921\"]]},\"colorway\":[\"#636efa\",\"#EF553B\",\"#00cc96\",\"#ab63fa\",\"#FFA15A\",\"#19d3f3\",\"#FF6692\",\"#B6E880\",\"#FF97FF\",\"#FECB52\"],\"font\":{\"color\":\"#2a3f5f\"},\"geo\":{\"bgcolor\":\"white\",\"lakecolor\":\"white\",\"landcolor\":\"#E5ECF6\",\"showlakes\":true,\"showland\":true,\"subunitcolor\":\"white\"},\"hoverlabel\":{\"align\":\"left\"},\"hovermode\":\"closest\",\"mapbox\":{\"style\":\"light\"},\"paper_bgcolor\":\"white\",\"plot_bgcolor\":\"#E5ECF6\",\"polar\":{\"angularaxis\":{\"gridcolor\":\"white\",\"linecolor\":\"white\",\"ticks\":\"\"},\"bgcolor\":\"#E5ECF6\",\"radialaxis\":{\"gridcolor\":\"white\",\"linecolor\":\"white\",\"ticks\":\"\"}},\"scene\":{\"xaxis\":{\"backgroundcolor\":\"#E5ECF6\",\"gridcolor\":\"white\",\"gridwidth\":2,\"linecolor\":\"white\",\"showbackground\":true,\"ticks\":\"\",\"zerolinecolor\":\"white\"},\"yaxis\":{\"backgroundcolor\":\"#E5ECF6\",\"gridcolor\":\"white\",\"gridwidth\":2,\"linecolor\":\"white\",\"showbackground\":true,\"ticks\":\"\",\"zerolinecolor\":\"white\"},\"zaxis\":{\"backgroundcolor\":\"#E5ECF6\",\"gridcolor\":\"white\",\"gridwidth\":2,\"linecolor\":\"white\",\"showbackground\":true,\"ticks\":\"\",\"zerolinecolor\":\"white\"}},\"shapedefaults\":{\"line\":{\"color\":\"#2a3f5f\"}},\"ternary\":{\"aaxis\":{\"gridcolor\":\"white\",\"linecolor\":\"white\",\"ticks\":\"\"},\"baxis\":{\"gridcolor\":\"white\",\"linecolor\":\"white\",\"ticks\":\"\"},\"bgcolor\":\"#E5ECF6\",\"caxis\":{\"gridcolor\":\"white\",\"linecolor\":\"white\",\"ticks\":\"\"}},\"title\":{\"x\":0.05},\"xaxis\":{\"automargin\":true,\"gridcolor\":\"white\",\"linecolor\":\"white\",\"ticks\":\"\",\"title\":{\"standoff\":15},\"zerolinecolor\":\"white\",\"zerolinewidth\":2},\"yaxis\":{\"automargin\":true,\"gridcolor\":\"white\",\"linecolor\":\"white\",\"ticks\":\"\",\"title\":{\"standoff\":15},\"zerolinecolor\":\"white\",\"zerolinewidth\":2}}},\"xaxis\":{\"anchor\":\"y\",\"domain\":[0.0,1.0],\"title\":{\"text\":\"order_year_month\"}},\"yaxis\":{\"anchor\":\"x\",\"domain\":[0.0,1.0],\"title\":{\"text\":\"payment_amount\"}},\"legend\":{\"title\":{\"text\":\"pickup_shop_name\"},\"tracegroupgap\":0},\"margin\":{\"t\":60},\"barmode\":\"relative\"},                        {\"responsive\": true}                    ).then(function(){\n",
              "                            \n",
              "var gd = document.getElementById('815bd0d9-d4b7-473e-98ab-980a23317c5b');\n",
              "var x = new MutationObserver(function (mutations, observer) {{\n",
              "        var display = window.getComputedStyle(gd).display;\n",
              "        if (!display || display === 'none') {{\n",
              "            console.log([gd, 'removed!']);\n",
              "            Plotly.purge(gd);\n",
              "            observer.disconnect();\n",
              "        }}\n",
              "}});\n",
              "\n",
              "// Listen for the removal of the full notebook cells\n",
              "var notebookContainer = gd.closest('#notebook-container');\n",
              "if (notebookContainer) {{\n",
              "    x.observe(notebookContainer, {childList: true});\n",
              "}}\n",
              "\n",
              "// Listen for the clearing of the current output cell\n",
              "var outputEl = gd.closest('.output');\n",
              "if (outputEl) {{\n",
              "    x.observe(outputEl, {childList: true});\n",
              "}}\n",
              "\n",
              "                        })                };                            </script>        </div>\n",
              "</body>\n",
              "</html>"
            ]
          },
          "metadata": {}
        }
      ]
    },
    {
      "cell_type": "markdown",
      "source": [
        "### 라인 그래프"
      ],
      "metadata": {
        "id": "VTK8zsFc9hBh"
      }
    },
    {
      "cell_type": "code",
      "source": [
        "## << 샵별 일간 매출 추이 - 라인 그래프 >>\n",
        "\n",
        "## 데이터 핸들링\n",
        "salesTemp = ordersDf.groupby(['order_date', 'pickup_shop_name'])['payment_amount'].sum().reset_index()\n",
        "\n",
        "## 시각화\n",
        "import plotly.express as px\n",
        "\n",
        "fig = px.line(salesTemp, \n",
        "              x=\"order_date\", \n",
        "              y=\"payment_amount\", \n",
        "              color=\"pickup_shop_name\", \n",
        "              # markers=True,\n",
        "             )\n",
        "\n",
        "fig.show(renderer='colab')"
      ],
      "metadata": {
        "colab": {
          "base_uri": "https://localhost:8080/",
          "height": 542
        },
        "id": "MqRlussX2vuD",
        "outputId": "b0c3740a-5b67-435c-91e3-cca089bad770"
      },
      "execution_count": null,
      "outputs": [
        {
          "output_type": "display_data",
          "data": {
            "text/html": [
              "<html>\n",
              "<head><meta charset=\"utf-8\" /></head>\n",
              "<body>\n",
              "    <div>            <script src=\"https://cdnjs.cloudflare.com/ajax/libs/mathjax/2.7.5/MathJax.js?config=TeX-AMS-MML_SVG\"></script><script type=\"text/javascript\">if (window.MathJax) {MathJax.Hub.Config({SVG: {font: \"STIX-Web\"}});}</script>                <script type=\"text/javascript\">window.PlotlyConfig = {MathJaxConfig: 'local'};</script>\n",
              "        <script src=\"https://cdn.plot.ly/plotly-2.8.3.min.js\"></script>                <div id=\"0f54f65c-122f-4c1c-849e-12dc1bf75329\" class=\"plotly-graph-div\" style=\"height:525px; width:100%;\"></div>            <script type=\"text/javascript\">                                    window.PLOTLYENV=window.PLOTLYENV || {};                                    if (document.getElementById(\"0f54f65c-122f-4c1c-849e-12dc1bf75329\")) {                    Plotly.newPlot(                        \"0f54f65c-122f-4c1c-849e-12dc1bf75329\",                        [{\"hovertemplate\":\"pickup_shop_name=\\ud53d\\uc5c5\\uc874(\\uc720\\uc2b9\\uc0c1\\uac00)<br>order_date=%{x}<br>payment_amount=%{y}<extra></extra>\",\"legendgroup\":\"\\ud53d\\uc5c5\\uc874(\\uc720\\uc2b9\\uc0c1\\uac00)\",\"line\":{\"color\":\"#636efa\",\"dash\":\"solid\"},\"marker\":{\"symbol\":\"circle\"},\"mode\":\"lines\",\"name\":\"\\ud53d\\uc5c5\\uc874(\\uc720\\uc2b9\\uc0c1\\uac00)\",\"orientation\":\"v\",\"showlegend\":true,\"x\":[\"2022-05-01T00:00:00\",\"2022-05-02T00:00:00\",\"2022-05-03T00:00:00\",\"2022-05-04T00:00:00\",\"2022-05-05T00:00:00\",\"2022-05-06T00:00:00\",\"2022-05-07T00:00:00\",\"2022-05-08T00:00:00\",\"2022-05-09T00:00:00\",\"2022-05-10T00:00:00\",\"2022-05-11T00:00:00\",\"2022-05-12T00:00:00\",\"2022-05-13T00:00:00\",\"2022-05-14T00:00:00\",\"2022-05-15T00:00:00\",\"2022-05-16T00:00:00\",\"2022-05-17T00:00:00\",\"2022-05-18T00:00:00\",\"2022-05-19T00:00:00\",\"2022-05-20T00:00:00\",\"2022-05-21T00:00:00\",\"2022-05-22T00:00:00\",\"2022-05-23T00:00:00\",\"2022-05-24T00:00:00\",\"2022-05-25T00:00:00\",\"2022-05-26T00:00:00\",\"2022-05-27T00:00:00\",\"2022-05-28T00:00:00\",\"2022-05-29T00:00:00\",\"2022-05-30T00:00:00\",\"2022-05-31T00:00:00\",\"2022-06-01T00:00:00\",\"2022-06-02T00:00:00\",\"2022-06-03T00:00:00\",\"2022-06-04T00:00:00\",\"2022-06-05T00:00:00\",\"2022-06-06T00:00:00\",\"2022-06-07T00:00:00\",\"2022-06-08T00:00:00\",\"2022-06-09T00:00:00\",\"2022-06-10T00:00:00\",\"2022-06-11T00:00:00\",\"2022-06-12T00:00:00\",\"2022-06-13T00:00:00\",\"2022-06-14T00:00:00\",\"2022-06-15T00:00:00\",\"2022-06-16T00:00:00\",\"2022-06-17T00:00:00\",\"2022-06-18T00:00:00\",\"2022-06-19T00:00:00\",\"2022-06-20T00:00:00\",\"2022-06-21T00:00:00\",\"2022-06-22T00:00:00\",\"2022-06-23T00:00:00\",\"2022-06-24T00:00:00\",\"2022-06-25T00:00:00\",\"2022-06-26T00:00:00\",\"2022-06-27T00:00:00\",\"2022-06-28T00:00:00\",\"2022-06-29T00:00:00\",\"2022-06-30T00:00:00\",\"2022-07-01T00:00:00\",\"2022-07-02T00:00:00\",\"2022-07-03T00:00:00\",\"2022-07-04T00:00:00\",\"2022-07-05T00:00:00\",\"2022-07-06T00:00:00\",\"2022-07-07T00:00:00\",\"2022-07-08T00:00:00\",\"2022-07-09T00:00:00\",\"2022-07-10T00:00:00\",\"2022-07-11T00:00:00\",\"2022-07-12T00:00:00\",\"2022-07-13T00:00:00\",\"2022-07-14T00:00:00\",\"2022-07-15T00:00:00\",\"2022-07-16T00:00:00\",\"2022-07-17T00:00:00\",\"2022-07-18T00:00:00\",\"2022-07-19T00:00:00\",\"2022-07-20T00:00:00\",\"2022-07-21T00:00:00\",\"2022-07-22T00:00:00\",\"2022-07-23T00:00:00\",\"2022-07-25T00:00:00\",\"2022-07-26T00:00:00\",\"2022-07-27T00:00:00\",\"2022-07-28T00:00:00\",\"2022-07-29T00:00:00\",\"2022-07-30T00:00:00\",\"2022-08-01T00:00:00\",\"2022-08-02T00:00:00\",\"2022-08-03T00:00:00\",\"2022-08-04T00:00:00\",\"2022-08-05T00:00:00\",\"2022-08-06T00:00:00\",\"2022-08-07T00:00:00\",\"2022-08-08T00:00:00\",\"2022-08-09T00:00:00\",\"2022-08-10T00:00:00\",\"2022-08-11T00:00:00\",\"2022-08-12T00:00:00\",\"2022-08-13T00:00:00\",\"2022-08-14T00:00:00\",\"2022-08-15T00:00:00\",\"2022-08-16T00:00:00\",\"2022-08-17T00:00:00\",\"2022-08-18T00:00:00\",\"2022-08-19T00:00:00\",\"2022-08-20T00:00:00\",\"2022-08-21T00:00:00\",\"2022-08-22T00:00:00\",\"2022-08-23T00:00:00\",\"2022-08-25T00:00:00\",\"2022-08-26T00:00:00\",\"2022-08-27T00:00:00\",\"2022-08-28T00:00:00\",\"2022-08-29T00:00:00\",\"2022-08-30T00:00:00\",\"2022-08-31T00:00:00\",\"2022-09-01T00:00:00\",\"2022-09-02T00:00:00\",\"2022-09-03T00:00:00\",\"2022-09-04T00:00:00\",\"2022-09-05T00:00:00\",\"2022-09-06T00:00:00\",\"2022-09-07T00:00:00\",\"2022-09-08T00:00:00\",\"2022-09-09T00:00:00\",\"2022-09-13T00:00:00\",\"2022-09-14T00:00:00\",\"2022-09-15T00:00:00\",\"2022-09-16T00:00:00\",\"2022-09-17T00:00:00\",\"2022-09-18T00:00:00\",\"2022-09-19T00:00:00\",\"2022-09-20T00:00:00\",\"2022-09-21T00:00:00\",\"2022-09-22T00:00:00\",\"2022-09-23T00:00:00\",\"2022-09-24T00:00:00\",\"2022-09-25T00:00:00\",\"2022-09-26T00:00:00\",\"2022-09-27T00:00:00\",\"2022-09-28T00:00:00\",\"2022-09-29T00:00:00\",\"2022-09-30T00:00:00\",\"2022-10-01T00:00:00\",\"2022-10-02T00:00:00\",\"2022-10-03T00:00:00\",\"2022-10-04T00:00:00\",\"2022-10-05T00:00:00\",\"2022-10-06T00:00:00\",\"2022-10-07T00:00:00\",\"2022-10-08T00:00:00\",\"2022-10-09T00:00:00\",\"2022-10-10T00:00:00\",\"2022-10-11T00:00:00\",\"2022-10-12T00:00:00\",\"2022-10-13T00:00:00\",\"2022-10-14T00:00:00\",\"2022-10-15T00:00:00\",\"2022-10-16T00:00:00\",\"2022-10-17T00:00:00\",\"2022-10-18T00:00:00\",\"2022-10-19T00:00:00\",\"2022-10-20T00:00:00\",\"2022-10-21T00:00:00\",\"2022-10-22T00:00:00\",\"2022-10-23T00:00:00\",\"2022-10-24T00:00:00\",\"2022-10-25T00:00:00\",\"2022-10-26T00:00:00\",\"2022-10-27T00:00:00\",\"2022-10-28T00:00:00\",\"2022-10-29T00:00:00\",\"2022-10-30T00:00:00\",\"2022-10-31T00:00:00\",\"2022-11-01T00:00:00\",\"2022-11-02T00:00:00\",\"2022-11-03T00:00:00\",\"2022-11-04T00:00:00\",\"2022-11-05T00:00:00\",\"2022-11-06T00:00:00\",\"2022-11-07T00:00:00\",\"2022-11-08T00:00:00\",\"2022-11-09T00:00:00\",\"2022-11-10T00:00:00\",\"2022-11-11T00:00:00\",\"2022-11-12T00:00:00\",\"2022-11-13T00:00:00\",\"2022-11-14T00:00:00\",\"2022-11-15T00:00:00\",\"2022-11-16T00:00:00\",\"2022-11-17T00:00:00\",\"2022-11-18T00:00:00\",\"2022-11-19T00:00:00\",\"2022-11-20T00:00:00\",\"2022-11-21T00:00:00\",\"2022-11-22T00:00:00\",\"2022-11-23T00:00:00\",\"2022-11-24T00:00:00\",\"2022-11-25T00:00:00\",\"2022-11-26T00:00:00\",\"2022-11-27T00:00:00\",\"2022-11-28T00:00:00\",\"2022-11-29T00:00:00\",\"2022-11-30T00:00:00\"],\"xaxis\":\"x\",\"y\":[198000,402000,390000,3058000,3979000,790100,229300,9000,1055700,1581200,1235000,3783000,1784500,237500,68000,2076600,2059400,8115800,1504300,3650500,884400,185500,364000,1494000,947000,1574000,4954300,1969800,518700,900000,1832000,845000,2200900,3935200,167900,143500,68500,2068800,1796400,1062800,2015900,6689400,821900,398000,115000,769400,2306000,896800,2190200,100000,111000,1503000,85000,398000,1976200,67500,53800,172500,2841300,584000,632000,1811500,227600,160500,1388200,2545900,1417600,251900,2661100,237300,101900,1739000,420600,2584500,2641200,2040600,562100,271100,1393200,2030800,888000,1276600,1305400,786800,295500,2080700,446400,3018700,783300,226900,933800,967000,2499100,206700,1082600,557100,190800,352900,2506000,2000000,587000,2166500,524200,47400,18000,251800,2568000,2016400,2363000,1336100,176700,66000,946000,2942100,1576400,415000,498100,1548300,2894800,664900,1463300,595700,162000,256400,1273700,272400,1527000,1822000,526000,571700,100400,2140000,168500,109600,43900,1991200,2515500,370200,1082800,2199000,1304300,162700,460000,1383000,1400500,1034000,510500,1494500,89500,14000,195000,942300,560800,1867400,2369000,262200,191700,1176500,1886700,172800,1804700,1723000,343000,316000,344000,2816800,1096700,370100,1117500,583500,854700,1156700,2090400,966000,1318300,599500,53500,213000,2849100,1137700,1692600,1741400,1767500,463100,1732600,2118200,1379500,2928900,1592900,2510300,601000,2280300,2908100,2804500,2007500,1033400,685900,1813300,2880800,3195800,2029200,1547400,1605800,934700,10700,80000,3979300,1752300],\"yaxis\":\"y\",\"type\":\"scatter\"},{\"hovertemplate\":\"pickup_shop_name=\\ud53d\\uc5c5\\uc874(GS25 \\ubaa9\\ub3d93\\ub3d9\\uc810)<br>order_date=%{x}<br>payment_amount=%{y}<extra></extra>\",\"legendgroup\":\"\\ud53d\\uc5c5\\uc874(GS25 \\ubaa9\\ub3d93\\ub3d9\\uc810)\",\"line\":{\"color\":\"#EF553B\",\"dash\":\"solid\"},\"marker\":{\"symbol\":\"circle\"},\"mode\":\"lines\",\"name\":\"\\ud53d\\uc5c5\\uc874(GS25 \\ubaa9\\ub3d93\\ub3d9\\uc810)\",\"orientation\":\"v\",\"showlegend\":true,\"x\":[\"2022-06-14T00:00:00\",\"2022-06-15T00:00:00\",\"2022-06-16T00:00:00\",\"2022-06-17T00:00:00\",\"2022-06-18T00:00:00\",\"2022-06-19T00:00:00\",\"2022-06-20T00:00:00\",\"2022-06-21T00:00:00\",\"2022-06-22T00:00:00\",\"2022-06-23T00:00:00\",\"2022-06-24T00:00:00\",\"2022-06-27T00:00:00\",\"2022-06-28T00:00:00\",\"2022-06-29T00:00:00\",\"2022-06-30T00:00:00\",\"2022-07-01T00:00:00\",\"2022-07-02T00:00:00\",\"2022-07-03T00:00:00\",\"2022-07-04T00:00:00\",\"2022-07-05T00:00:00\",\"2022-07-06T00:00:00\",\"2022-07-07T00:00:00\",\"2022-07-08T00:00:00\",\"2022-07-09T00:00:00\",\"2022-07-11T00:00:00\",\"2022-07-12T00:00:00\",\"2022-07-13T00:00:00\",\"2022-07-14T00:00:00\",\"2022-07-15T00:00:00\",\"2022-07-16T00:00:00\",\"2022-07-17T00:00:00\",\"2022-07-18T00:00:00\",\"2022-07-19T00:00:00\",\"2022-07-20T00:00:00\",\"2022-07-21T00:00:00\",\"2022-07-22T00:00:00\",\"2022-07-23T00:00:00\",\"2022-07-25T00:00:00\",\"2022-07-26T00:00:00\",\"2022-07-27T00:00:00\",\"2022-07-28T00:00:00\",\"2022-07-29T00:00:00\",\"2022-07-30T00:00:00\",\"2022-07-31T00:00:00\",\"2022-08-01T00:00:00\",\"2022-08-02T00:00:00\",\"2022-08-03T00:00:00\",\"2022-08-04T00:00:00\",\"2022-08-05T00:00:00\",\"2022-08-06T00:00:00\",\"2022-08-07T00:00:00\",\"2022-08-08T00:00:00\",\"2022-08-09T00:00:00\",\"2022-08-10T00:00:00\",\"2022-08-11T00:00:00\",\"2022-08-12T00:00:00\",\"2022-08-13T00:00:00\",\"2022-08-14T00:00:00\",\"2022-08-16T00:00:00\",\"2022-08-17T00:00:00\",\"2022-08-18T00:00:00\",\"2022-08-19T00:00:00\",\"2022-08-20T00:00:00\",\"2022-08-21T00:00:00\",\"2022-08-22T00:00:00\",\"2022-08-23T00:00:00\",\"2022-08-24T00:00:00\",\"2022-08-25T00:00:00\",\"2022-08-26T00:00:00\",\"2022-08-27T00:00:00\",\"2022-08-28T00:00:00\",\"2022-08-29T00:00:00\",\"2022-08-30T00:00:00\",\"2022-08-31T00:00:00\",\"2022-09-01T00:00:00\",\"2022-09-02T00:00:00\",\"2022-09-03T00:00:00\",\"2022-09-04T00:00:00\",\"2022-09-05T00:00:00\",\"2022-09-06T00:00:00\",\"2022-09-07T00:00:00\",\"2022-09-08T00:00:00\",\"2022-09-09T00:00:00\",\"2022-09-13T00:00:00\",\"2022-09-14T00:00:00\",\"2022-09-15T00:00:00\",\"2022-09-16T00:00:00\",\"2022-09-17T00:00:00\",\"2022-09-18T00:00:00\",\"2022-09-19T00:00:00\",\"2022-09-20T00:00:00\",\"2022-09-21T00:00:00\",\"2022-09-22T00:00:00\",\"2022-09-23T00:00:00\",\"2022-09-24T00:00:00\",\"2022-09-25T00:00:00\",\"2022-09-26T00:00:00\",\"2022-09-27T00:00:00\",\"2022-09-28T00:00:00\",\"2022-09-29T00:00:00\",\"2022-09-30T00:00:00\",\"2022-10-01T00:00:00\",\"2022-10-02T00:00:00\",\"2022-10-03T00:00:00\",\"2022-10-05T00:00:00\",\"2022-10-06T00:00:00\",\"2022-10-07T00:00:00\",\"2022-10-08T00:00:00\",\"2022-10-09T00:00:00\",\"2022-10-10T00:00:00\",\"2022-10-11T00:00:00\",\"2022-10-12T00:00:00\",\"2022-10-13T00:00:00\",\"2022-10-14T00:00:00\",\"2022-10-15T00:00:00\",\"2022-10-16T00:00:00\",\"2022-10-17T00:00:00\",\"2022-10-18T00:00:00\",\"2022-10-19T00:00:00\",\"2022-10-20T00:00:00\",\"2022-10-21T00:00:00\",\"2022-10-22T00:00:00\",\"2022-10-23T00:00:00\",\"2022-10-24T00:00:00\",\"2022-10-25T00:00:00\",\"2022-10-26T00:00:00\",\"2022-10-27T00:00:00\",\"2022-10-28T00:00:00\",\"2022-10-29T00:00:00\",\"2022-10-31T00:00:00\",\"2022-11-01T00:00:00\",\"2022-11-02T00:00:00\",\"2022-11-03T00:00:00\",\"2022-11-04T00:00:00\",\"2022-11-05T00:00:00\",\"2022-11-06T00:00:00\",\"2022-11-07T00:00:00\",\"2022-11-08T00:00:00\",\"2022-11-09T00:00:00\",\"2022-11-10T00:00:00\",\"2022-11-11T00:00:00\",\"2022-11-12T00:00:00\",\"2022-11-13T00:00:00\",\"2022-11-14T00:00:00\",\"2022-11-15T00:00:00\",\"2022-11-16T00:00:00\",\"2022-11-17T00:00:00\",\"2022-11-18T00:00:00\",\"2022-11-19T00:00:00\",\"2022-11-20T00:00:00\",\"2022-11-21T00:00:00\",\"2022-11-22T00:00:00\",\"2022-11-23T00:00:00\",\"2022-11-24T00:00:00\",\"2022-11-25T00:00:00\",\"2022-11-26T00:00:00\",\"2022-11-28T00:00:00\",\"2022-11-29T00:00:00\",\"2022-11-30T00:00:00\"],\"xaxis\":\"x\",\"y\":[59000,137000,193000,154000,62000,78000,157000,105000,20000,56000,153500,12000,377000,188000,160000,396700,33000,28500,263900,316400,179900,39000,175500,23400,206700,312000,376400,185300,402200,187800,79600,194800,246500,157800,260800,143200,51000,130800,101300,17600,406000,285400,58000,34000,237000,346000,620100,52900,179200,114800,56000,83000,304000,233000,246000,211900,99900,14500,60000,494000,626400,385900,162900,57800,25000,202000,60000,401500,373500,64500,126200,66800,484400,64500,255000,144000,33000,11000,188400,80500,249000,144000,38000,67700,15900,609800,76800,17900,35000,565800,854700,207500,372200,249500,211100,24000,24000,192000,206500,264500,77500,249000,53000,14000,268500,75400,104000,174000,71400,47800,203000,209500,148800,316900,328000,126000,86000,95600,686200,269500,104900,165500,138000,144600,136800,737100,244500,319900,321500,147500,293200,292900,411900,425000,341000,193900,205600,452400,259900,413000,207600,347200,200000,385000,500000,505200,298800,49400,89500,375000,421800,365500,187600,177500,223800,57500,20000,750700,388700],\"yaxis\":\"y\",\"type\":\"scatter\"},{\"hovertemplate\":\"pickup_shop_name=\\ud53d\\uc5c5\\uc874(\\uba54\\uc774\\ube44\\uce74\\ud398)<br>order_date=%{x}<br>payment_amount=%{y}<extra></extra>\",\"legendgroup\":\"\\ud53d\\uc5c5\\uc874(\\uba54\\uc774\\ube44\\uce74\\ud398)\",\"line\":{\"color\":\"#00cc96\",\"dash\":\"solid\"},\"marker\":{\"symbol\":\"circle\"},\"mode\":\"lines\",\"name\":\"\\ud53d\\uc5c5\\uc874(\\uba54\\uc774\\ube44\\uce74\\ud398)\",\"orientation\":\"v\",\"showlegend\":true,\"x\":[\"2022-06-14T00:00:00\",\"2022-06-15T00:00:00\",\"2022-06-16T00:00:00\",\"2022-06-17T00:00:00\",\"2022-06-18T00:00:00\",\"2022-06-19T00:00:00\",\"2022-06-20T00:00:00\",\"2022-06-21T00:00:00\",\"2022-06-22T00:00:00\",\"2022-06-23T00:00:00\",\"2022-06-24T00:00:00\",\"2022-06-25T00:00:00\",\"2022-06-26T00:00:00\",\"2022-06-27T00:00:00\",\"2022-06-28T00:00:00\",\"2022-06-29T00:00:00\",\"2022-06-30T00:00:00\",\"2022-07-01T00:00:00\",\"2022-07-02T00:00:00\",\"2022-07-03T00:00:00\",\"2022-07-04T00:00:00\",\"2022-07-05T00:00:00\",\"2022-07-06T00:00:00\",\"2022-07-07T00:00:00\",\"2022-07-08T00:00:00\",\"2022-07-09T00:00:00\",\"2022-07-10T00:00:00\",\"2022-07-11T00:00:00\",\"2022-07-12T00:00:00\",\"2022-07-13T00:00:00\",\"2022-07-14T00:00:00\",\"2022-07-15T00:00:00\",\"2022-07-16T00:00:00\",\"2022-07-17T00:00:00\",\"2022-07-18T00:00:00\",\"2022-07-19T00:00:00\",\"2022-07-20T00:00:00\",\"2022-07-21T00:00:00\",\"2022-07-22T00:00:00\",\"2022-07-23T00:00:00\",\"2022-07-25T00:00:00\",\"2022-07-26T00:00:00\",\"2022-07-27T00:00:00\",\"2022-07-28T00:00:00\",\"2022-07-29T00:00:00\",\"2022-08-01T00:00:00\",\"2022-08-02T00:00:00\",\"2022-08-03T00:00:00\",\"2022-08-04T00:00:00\",\"2022-08-05T00:00:00\",\"2022-08-06T00:00:00\",\"2022-08-07T00:00:00\",\"2022-08-08T00:00:00\",\"2022-08-09T00:00:00\",\"2022-08-10T00:00:00\",\"2022-08-11T00:00:00\",\"2022-08-12T00:00:00\",\"2022-08-13T00:00:00\",\"2022-08-16T00:00:00\",\"2022-08-17T00:00:00\",\"2022-08-18T00:00:00\",\"2022-08-19T00:00:00\",\"2022-08-20T00:00:00\",\"2022-08-21T00:00:00\",\"2022-08-22T00:00:00\",\"2022-08-23T00:00:00\",\"2022-08-25T00:00:00\",\"2022-08-26T00:00:00\",\"2022-08-27T00:00:00\",\"2022-08-28T00:00:00\",\"2022-08-29T00:00:00\",\"2022-08-30T00:00:00\",\"2022-08-31T00:00:00\",\"2022-09-01T00:00:00\",\"2022-09-02T00:00:00\",\"2022-09-03T00:00:00\",\"2022-09-04T00:00:00\",\"2022-09-05T00:00:00\",\"2022-09-06T00:00:00\",\"2022-09-07T00:00:00\",\"2022-09-08T00:00:00\",\"2022-09-13T00:00:00\",\"2022-09-14T00:00:00\",\"2022-09-15T00:00:00\",\"2022-09-16T00:00:00\",\"2022-09-17T00:00:00\",\"2022-09-18T00:00:00\",\"2022-09-19T00:00:00\",\"2022-09-20T00:00:00\",\"2022-09-21T00:00:00\",\"2022-09-22T00:00:00\",\"2022-09-23T00:00:00\",\"2022-09-24T00:00:00\",\"2022-09-25T00:00:00\",\"2022-09-26T00:00:00\",\"2022-09-27T00:00:00\",\"2022-09-28T00:00:00\",\"2022-09-29T00:00:00\",\"2022-09-30T00:00:00\",\"2022-10-01T00:00:00\",\"2022-10-02T00:00:00\",\"2022-10-03T00:00:00\",\"2022-10-05T00:00:00\",\"2022-10-06T00:00:00\",\"2022-10-07T00:00:00\",\"2022-10-08T00:00:00\",\"2022-10-09T00:00:00\",\"2022-10-10T00:00:00\",\"2022-10-11T00:00:00\",\"2022-10-12T00:00:00\",\"2022-10-13T00:00:00\",\"2022-10-14T00:00:00\",\"2022-10-15T00:00:00\",\"2022-10-16T00:00:00\",\"2022-10-17T00:00:00\",\"2022-10-18T00:00:00\",\"2022-10-19T00:00:00\",\"2022-10-20T00:00:00\",\"2022-10-21T00:00:00\",\"2022-10-22T00:00:00\",\"2022-10-23T00:00:00\",\"2022-10-24T00:00:00\",\"2022-10-25T00:00:00\",\"2022-10-26T00:00:00\",\"2022-10-27T00:00:00\",\"2022-10-28T00:00:00\",\"2022-10-29T00:00:00\",\"2022-10-30T00:00:00\",\"2022-10-31T00:00:00\",\"2022-11-01T00:00:00\",\"2022-11-02T00:00:00\",\"2022-11-03T00:00:00\",\"2022-11-04T00:00:00\",\"2022-11-05T00:00:00\",\"2022-11-06T00:00:00\",\"2022-11-07T00:00:00\",\"2022-11-08T00:00:00\",\"2022-11-09T00:00:00\",\"2022-11-10T00:00:00\",\"2022-11-11T00:00:00\",\"2022-11-12T00:00:00\",\"2022-11-13T00:00:00\",\"2022-11-14T00:00:00\",\"2022-11-15T00:00:00\",\"2022-11-16T00:00:00\",\"2022-11-17T00:00:00\",\"2022-11-18T00:00:00\",\"2022-11-19T00:00:00\",\"2022-11-20T00:00:00\",\"2022-11-21T00:00:00\",\"2022-11-22T00:00:00\",\"2022-11-23T00:00:00\",\"2022-11-24T00:00:00\",\"2022-11-25T00:00:00\",\"2022-11-26T00:00:00\",\"2022-11-27T00:00:00\",\"2022-11-28T00:00:00\",\"2022-11-29T00:00:00\",\"2022-11-30T00:00:00\"],\"xaxis\":\"x\",\"y\":[60000,112800,827800,324000,784100,21000,69000,105000,51000,84000,712300,61100,29000,48000,1232800,47000,95000,752700,41500,124000,396100,1207300,140800,121600,894900,76500,46300,761800,153000,440000,823000,858000,194400,87000,384000,557200,409500,397300,341400,256200,105800,554300,128300,936900,150700,545000,171000,890700,56600,306000,141800,63700,123000,1159000,166000,203000,575900,102400,404000,771000,1085000,635100,679500,5000,17000,451000,575000,397600,199300,138900,227300,801900,118500,1187500,337500,46900,22000,573700,87000,747000,597000,111200,15900,1157900,196000,30000,54500,472500,1002700,83500,643200,945700,266000,59000,102000,501000,397000,501500,243000,648500,60000,14000,588500,309300,373400,1058000,226200,36000,491900,485100,35900,735900,599900,163900,313000,160000,1022700,507500,106400,368000,253500,321800,413200,697300,622900,463000,143500,16000,120000,845700,584700,1058400,522500,392800,239900,1359400,1517800,865400,1757100,643000,749300,794500,1260400,831100,2026800,1348300,615200,288700,947200,1908600,1607800,837900,992300,810000,328500,10000,86000,1919700,800100],\"yaxis\":\"y\",\"type\":\"scatter\"},{\"hovertemplate\":\"pickup_shop_name=\\ud53d\\uc5c5\\uc874(\\uc11c\\uc6b8\\ub4dc\\ub9bc\\uc2e0\\uc6a9\\ud611\\ub3d9\\uc870\\ud569)<br>order_date=%{x}<br>payment_amount=%{y}<extra></extra>\",\"legendgroup\":\"\\ud53d\\uc5c5\\uc874(\\uc11c\\uc6b8\\ub4dc\\ub9bc\\uc2e0\\uc6a9\\ud611\\ub3d9\\uc870\\ud569)\",\"line\":{\"color\":\"#ab63fa\",\"dash\":\"solid\"},\"marker\":{\"symbol\":\"circle\"},\"mode\":\"lines\",\"name\":\"\\ud53d\\uc5c5\\uc874(\\uc11c\\uc6b8\\ub4dc\\ub9bc\\uc2e0\\uc6a9\\ud611\\ub3d9\\uc870\\ud569)\",\"orientation\":\"v\",\"showlegend\":true,\"x\":[\"2022-06-14T00:00:00\",\"2022-06-15T00:00:00\",\"2022-06-16T00:00:00\",\"2022-06-17T00:00:00\",\"2022-06-18T00:00:00\",\"2022-06-20T00:00:00\",\"2022-06-21T00:00:00\",\"2022-06-22T00:00:00\",\"2022-06-23T00:00:00\",\"2022-06-24T00:00:00\",\"2022-06-25T00:00:00\",\"2022-06-27T00:00:00\",\"2022-06-28T00:00:00\",\"2022-06-29T00:00:00\",\"2022-06-30T00:00:00\",\"2022-07-01T00:00:00\",\"2022-07-02T00:00:00\",\"2022-07-04T00:00:00\",\"2022-07-05T00:00:00\",\"2022-07-06T00:00:00\",\"2022-07-07T00:00:00\",\"2022-07-08T00:00:00\",\"2022-07-09T00:00:00\",\"2022-07-10T00:00:00\",\"2022-07-11T00:00:00\",\"2022-07-12T00:00:00\",\"2022-07-13T00:00:00\",\"2022-07-14T00:00:00\",\"2022-07-15T00:00:00\",\"2022-07-16T00:00:00\",\"2022-07-17T00:00:00\",\"2022-07-18T00:00:00\",\"2022-07-19T00:00:00\",\"2022-07-20T00:00:00\",\"2022-07-21T00:00:00\",\"2022-07-22T00:00:00\",\"2022-07-23T00:00:00\",\"2022-07-24T00:00:00\",\"2022-07-25T00:00:00\",\"2022-07-26T00:00:00\",\"2022-07-27T00:00:00\",\"2022-07-28T00:00:00\",\"2022-07-29T00:00:00\",\"2022-07-30T00:00:00\",\"2022-07-31T00:00:00\",\"2022-08-01T00:00:00\",\"2022-08-02T00:00:00\",\"2022-08-03T00:00:00\",\"2022-08-04T00:00:00\",\"2022-08-05T00:00:00\",\"2022-08-06T00:00:00\",\"2022-08-07T00:00:00\",\"2022-08-08T00:00:00\",\"2022-08-09T00:00:00\",\"2022-08-10T00:00:00\",\"2022-08-11T00:00:00\",\"2022-08-12T00:00:00\",\"2022-08-13T00:00:00\",\"2022-08-15T00:00:00\",\"2022-08-16T00:00:00\",\"2022-08-17T00:00:00\",\"2022-08-18T00:00:00\",\"2022-08-19T00:00:00\",\"2022-08-20T00:00:00\",\"2022-08-21T00:00:00\",\"2022-08-22T00:00:00\",\"2022-08-23T00:00:00\",\"2022-08-25T00:00:00\",\"2022-08-26T00:00:00\",\"2022-08-27T00:00:00\",\"2022-08-28T00:00:00\",\"2022-08-29T00:00:00\",\"2022-08-30T00:00:00\",\"2022-08-31T00:00:00\",\"2022-09-01T00:00:00\",\"2022-09-02T00:00:00\",\"2022-09-03T00:00:00\",\"2022-09-04T00:00:00\",\"2022-09-05T00:00:00\",\"2022-09-06T00:00:00\",\"2022-09-07T00:00:00\",\"2022-09-08T00:00:00\",\"2022-09-09T00:00:00\",\"2022-09-13T00:00:00\",\"2022-09-15T00:00:00\",\"2022-09-16T00:00:00\",\"2022-09-17T00:00:00\",\"2022-09-18T00:00:00\",\"2022-09-19T00:00:00\",\"2022-09-20T00:00:00\",\"2022-09-21T00:00:00\",\"2022-09-22T00:00:00\",\"2022-09-23T00:00:00\",\"2022-09-24T00:00:00\",\"2022-09-25T00:00:00\",\"2022-09-26T00:00:00\",\"2022-09-27T00:00:00\",\"2022-09-28T00:00:00\",\"2022-09-29T00:00:00\",\"2022-09-30T00:00:00\",\"2022-10-01T00:00:00\",\"2022-10-02T00:00:00\",\"2022-10-05T00:00:00\",\"2022-10-06T00:00:00\",\"2022-10-07T00:00:00\",\"2022-10-08T00:00:00\",\"2022-10-09T00:00:00\",\"2022-10-10T00:00:00\",\"2022-10-11T00:00:00\",\"2022-10-12T00:00:00\",\"2022-10-13T00:00:00\",\"2022-10-14T00:00:00\",\"2022-10-15T00:00:00\",\"2022-10-16T00:00:00\",\"2022-10-17T00:00:00\",\"2022-10-18T00:00:00\",\"2022-10-19T00:00:00\",\"2022-10-20T00:00:00\",\"2022-10-21T00:00:00\",\"2022-10-22T00:00:00\",\"2022-10-23T00:00:00\",\"2022-10-24T00:00:00\",\"2022-10-25T00:00:00\",\"2022-10-26T00:00:00\",\"2022-10-27T00:00:00\",\"2022-10-28T00:00:00\",\"2022-10-29T00:00:00\",\"2022-10-30T00:00:00\",\"2022-10-31T00:00:00\",\"2022-11-01T00:00:00\",\"2022-11-02T00:00:00\",\"2022-11-03T00:00:00\",\"2022-11-04T00:00:00\",\"2022-11-05T00:00:00\",\"2022-11-06T00:00:00\",\"2022-11-07T00:00:00\",\"2022-11-08T00:00:00\",\"2022-11-09T00:00:00\",\"2022-11-10T00:00:00\",\"2022-11-11T00:00:00\",\"2022-11-12T00:00:00\",\"2022-11-13T00:00:00\",\"2022-11-14T00:00:00\",\"2022-11-15T00:00:00\",\"2022-11-16T00:00:00\",\"2022-11-17T00:00:00\",\"2022-11-18T00:00:00\",\"2022-11-19T00:00:00\",\"2022-11-20T00:00:00\",\"2022-11-21T00:00:00\",\"2022-11-22T00:00:00\",\"2022-11-23T00:00:00\",\"2022-11-24T00:00:00\",\"2022-11-25T00:00:00\",\"2022-11-26T00:00:00\",\"2022-11-28T00:00:00\",\"2022-11-29T00:00:00\",\"2022-11-30T00:00:00\"],\"xaxis\":\"x\",\"y\":[59000,71800,272000,115000,159000,165000,20000,20000,12000,8000,34000,24000,450900,224000,148000,223300,82900,117500,376500,182400,17800,174200,84600,9600,296100,212000,375900,178900,576000,117700,127000,108600,295200,78700,300300,130700,121500,11500,79600,136400,13500,592800,184400,17000,40800,242800,171000,692400,50600,287100,117800,80500,27900,240000,315000,136000,306000,169400,26000,53000,473500,752000,592200,312300,67000,89000,336000,644000,488400,193100,59900,105200,449300,226900,539800,118900,33000,22000,51500,22500,229000,285000,119000,72600,645300,102700,21000,20000,301100,683800,260500,440700,599300,186400,62000,28000,414000,235000,312000,88000,465000,54500,320300,106600,222900,475000,149300,29700,195500,282500,63800,337000,226000,13000,142000,82800,781400,304000,389800,317000,234000,260800,261700,519700,280700,390000,140500,30000,109000,551300,333400,559000,364500,504600,221300,221900,421300,185500,460900,244900,393200,230000,337900,439000,348800,414800,111800,79400,448800,607200,460600,347900,208500,133400,24500,40000,513600,286600],\"yaxis\":\"y\",\"type\":\"scatter\"},{\"hovertemplate\":\"pickup_shop_name=\\ud53d\\uc5c5\\uc874(\\ucc38\\ub9db\\ubd80\\ub300\\ucc0c\\uac1c\\uc544\\uad6c\\ucc1c)<br>order_date=%{x}<br>payment_amount=%{y}<extra></extra>\",\"legendgroup\":\"\\ud53d\\uc5c5\\uc874(\\ucc38\\ub9db\\ubd80\\ub300\\ucc0c\\uac1c\\uc544\\uad6c\\ucc1c)\",\"line\":{\"color\":\"#FFA15A\",\"dash\":\"solid\"},\"marker\":{\"symbol\":\"circle\"},\"mode\":\"lines\",\"name\":\"\\ud53d\\uc5c5\\uc874(\\ucc38\\ub9db\\ubd80\\ub300\\ucc0c\\uac1c\\uc544\\uad6c\\ucc1c)\",\"orientation\":\"v\",\"showlegend\":true,\"x\":[\"2022-06-15T00:00:00\",\"2022-06-16T00:00:00\",\"2022-06-17T00:00:00\",\"2022-06-18T00:00:00\",\"2022-06-19T00:00:00\",\"2022-06-20T00:00:00\",\"2022-06-21T00:00:00\",\"2022-06-23T00:00:00\",\"2022-06-24T00:00:00\",\"2022-06-25T00:00:00\",\"2022-06-27T00:00:00\",\"2022-06-28T00:00:00\",\"2022-06-29T00:00:00\",\"2022-06-30T00:00:00\",\"2022-07-01T00:00:00\",\"2022-07-02T00:00:00\",\"2022-07-03T00:00:00\",\"2022-07-04T00:00:00\",\"2022-07-05T00:00:00\",\"2022-07-06T00:00:00\",\"2022-07-07T00:00:00\",\"2022-07-08T00:00:00\",\"2022-07-09T00:00:00\",\"2022-07-10T00:00:00\",\"2022-07-11T00:00:00\",\"2022-07-12T00:00:00\",\"2022-07-13T00:00:00\",\"2022-07-14T00:00:00\",\"2022-07-15T00:00:00\",\"2022-07-16T00:00:00\",\"2022-07-17T00:00:00\",\"2022-07-18T00:00:00\",\"2022-07-19T00:00:00\",\"2022-07-20T00:00:00\",\"2022-07-21T00:00:00\",\"2022-07-22T00:00:00\",\"2022-07-23T00:00:00\",\"2022-07-24T00:00:00\",\"2022-07-25T00:00:00\",\"2022-07-26T00:00:00\",\"2022-07-27T00:00:00\",\"2022-07-28T00:00:00\",\"2022-07-29T00:00:00\",\"2022-07-30T00:00:00\",\"2022-07-31T00:00:00\",\"2022-08-01T00:00:00\",\"2022-08-02T00:00:00\",\"2022-08-03T00:00:00\",\"2022-08-04T00:00:00\",\"2022-08-05T00:00:00\",\"2022-08-06T00:00:00\",\"2022-08-07T00:00:00\",\"2022-08-08T00:00:00\",\"2022-08-09T00:00:00\",\"2022-08-10T00:00:00\",\"2022-08-11T00:00:00\",\"2022-08-12T00:00:00\",\"2022-08-13T00:00:00\",\"2022-08-16T00:00:00\",\"2022-08-17T00:00:00\",\"2022-08-18T00:00:00\",\"2022-08-19T00:00:00\",\"2022-08-20T00:00:00\",\"2022-08-22T00:00:00\",\"2022-08-23T00:00:00\",\"2022-08-25T00:00:00\",\"2022-08-26T00:00:00\",\"2022-08-27T00:00:00\",\"2022-08-29T00:00:00\",\"2022-08-30T00:00:00\",\"2022-08-31T00:00:00\",\"2022-09-01T00:00:00\",\"2022-09-02T00:00:00\",\"2022-09-04T00:00:00\",\"2022-09-05T00:00:00\",\"2022-09-06T00:00:00\",\"2022-09-07T00:00:00\",\"2022-09-08T00:00:00\",\"2022-09-13T00:00:00\",\"2022-09-15T00:00:00\",\"2022-09-16T00:00:00\",\"2022-09-17T00:00:00\",\"2022-09-18T00:00:00\",\"2022-09-19T00:00:00\",\"2022-09-20T00:00:00\",\"2022-09-21T00:00:00\",\"2022-09-22T00:00:00\",\"2022-09-23T00:00:00\",\"2022-09-24T00:00:00\",\"2022-09-25T00:00:00\",\"2022-09-26T00:00:00\",\"2022-09-27T00:00:00\",\"2022-09-28T00:00:00\",\"2022-09-29T00:00:00\",\"2022-09-30T00:00:00\",\"2022-10-01T00:00:00\",\"2022-10-03T00:00:00\",\"2022-10-05T00:00:00\",\"2022-10-06T00:00:00\",\"2022-10-07T00:00:00\",\"2022-10-08T00:00:00\",\"2022-10-09T00:00:00\",\"2022-10-10T00:00:00\",\"2022-10-11T00:00:00\",\"2022-10-12T00:00:00\",\"2022-10-13T00:00:00\",\"2022-10-14T00:00:00\",\"2022-10-15T00:00:00\",\"2022-10-16T00:00:00\",\"2022-10-17T00:00:00\",\"2022-10-18T00:00:00\",\"2022-10-19T00:00:00\",\"2022-10-20T00:00:00\",\"2022-10-21T00:00:00\",\"2022-10-22T00:00:00\",\"2022-10-23T00:00:00\",\"2022-10-24T00:00:00\",\"2022-10-25T00:00:00\",\"2022-10-26T00:00:00\",\"2022-10-27T00:00:00\",\"2022-10-28T00:00:00\",\"2022-10-29T00:00:00\",\"2022-10-31T00:00:00\",\"2022-11-01T00:00:00\",\"2022-11-02T00:00:00\",\"2022-11-03T00:00:00\",\"2022-11-04T00:00:00\",\"2022-11-05T00:00:00\",\"2022-11-06T00:00:00\",\"2022-11-07T00:00:00\",\"2022-11-08T00:00:00\",\"2022-11-09T00:00:00\",\"2022-11-10T00:00:00\",\"2022-11-11T00:00:00\",\"2022-11-12T00:00:00\",\"2022-11-13T00:00:00\",\"2022-11-14T00:00:00\",\"2022-11-15T00:00:00\",\"2022-11-16T00:00:00\",\"2022-11-17T00:00:00\",\"2022-11-18T00:00:00\",\"2022-11-19T00:00:00\",\"2022-11-20T00:00:00\",\"2022-11-21T00:00:00\",\"2022-11-22T00:00:00\",\"2022-11-23T00:00:00\",\"2022-11-24T00:00:00\",\"2022-11-25T00:00:00\",\"2022-11-26T00:00:00\",\"2022-11-27T00:00:00\",\"2022-11-28T00:00:00\",\"2022-11-29T00:00:00\",\"2022-11-30T00:00:00\"],\"xaxis\":\"x\",\"y\":[62200,516200,180000,430000,39000,74000,69000,72000,501500,38900,12000,896600,121000,63000,317500,62000,16000,345500,479500,142700,126400,462000,37400,29000,251600,104000,320900,355100,246300,161000,80800,184600,339600,645600,379000,146100,220300,23500,29500,231500,72900,548500,106400,26700,17000,195000,20000,767900,21000,274500,87900,35000,17000,267000,430000,78000,337900,79300,375000,338000,455500,580200,293300,38400,184000,483900,322500,38000,244600,620800,146000,314000,70500,11000,373600,37000,385000,314000,47600,770500,35800,15000,15000,215000,556700,146500,387800,355500,158000,45000,15000,192000,259500,327000,48000,188000,14000,226800,198200,281000,337000,47400,24000,129000,247600,79900,104900,189000,103000,63000,55000,493600,280000,133600,329500,60000,161300,210600,432600,173500,193000,138000,54000,506500,194200,265400,296000,262800,81000,158700,191700,85400,338300,37700,306300,208000,158600,304500,173900,193900,95300,84800,154000,407200,289700,134900,133500,196500,120700,26000,20000,510800,201300],\"yaxis\":\"y\",\"type\":\"scatter\"},{\"hovertemplate\":\"pickup_shop_name=\\ud53d\\uc5c5\\uc874(GS\\uc601\\ub4f1\\ud3ec\\ub2f9\\uc0b0\\uc810)<br>order_date=%{x}<br>payment_amount=%{y}<extra></extra>\",\"legendgroup\":\"\\ud53d\\uc5c5\\uc874(GS\\uc601\\ub4f1\\ud3ec\\ub2f9\\uc0b0\\uc810)\",\"line\":{\"color\":\"#19d3f3\",\"dash\":\"solid\"},\"marker\":{\"symbol\":\"circle\"},\"mode\":\"lines\",\"name\":\"\\ud53d\\uc5c5\\uc874(GS\\uc601\\ub4f1\\ud3ec\\ub2f9\\uc0b0\\uc810)\",\"orientation\":\"v\",\"showlegend\":true,\"x\":[\"2022-11-07T00:00:00\",\"2022-11-08T00:00:00\",\"2022-11-09T00:00:00\",\"2022-11-10T00:00:00\",\"2022-11-11T00:00:00\",\"2022-11-12T00:00:00\",\"2022-11-13T00:00:00\",\"2022-11-14T00:00:00\",\"2022-11-15T00:00:00\",\"2022-11-16T00:00:00\",\"2022-11-17T00:00:00\",\"2022-11-18T00:00:00\",\"2022-11-19T00:00:00\",\"2022-11-20T00:00:00\",\"2022-11-21T00:00:00\",\"2022-11-22T00:00:00\",\"2022-11-23T00:00:00\",\"2022-11-24T00:00:00\",\"2022-11-25T00:00:00\",\"2022-11-26T00:00:00\",\"2022-11-29T00:00:00\",\"2022-11-30T00:00:00\"],\"xaxis\":\"x\",\"y\":[1565200,1838400,1416500,2290800,794600,613400,775500,2641700,1433700,4275500,735300,1757200,545900,1411700,3081100,2104400,1690500,1323700,1200000,506900,3637500,938200],\"yaxis\":\"y\",\"type\":\"scatter\"},{\"hovertemplate\":\"pickup_shop_name=\\ud53d\\uc5c5\\uc874(\\ub2e4\\uc774\\uc18c \\ub09c\\uace1\\uc0ac\\uac70\\ub9ac\\uc810)<br>order_date=%{x}<br>payment_amount=%{y}<extra></extra>\",\"legendgroup\":\"\\ud53d\\uc5c5\\uc874(\\ub2e4\\uc774\\uc18c \\ub09c\\uace1\\uc0ac\\uac70\\ub9ac\\uc810)\",\"line\":{\"color\":\"#FF6692\",\"dash\":\"solid\"},\"marker\":{\"symbol\":\"circle\"},\"mode\":\"lines\",\"name\":\"\\ud53d\\uc5c5\\uc874(\\ub2e4\\uc774\\uc18c \\ub09c\\uace1\\uc0ac\\uac70\\ub9ac\\uc810)\",\"orientation\":\"v\",\"showlegend\":true,\"x\":[\"2022-11-07T00:00:00\",\"2022-11-08T00:00:00\",\"2022-11-09T00:00:00\",\"2022-11-10T00:00:00\",\"2022-11-11T00:00:00\",\"2022-11-12T00:00:00\",\"2022-11-13T00:00:00\",\"2022-11-14T00:00:00\",\"2022-11-15T00:00:00\",\"2022-11-16T00:00:00\",\"2022-11-17T00:00:00\",\"2022-11-18T00:00:00\",\"2022-11-19T00:00:00\",\"2022-11-20T00:00:00\",\"2022-11-21T00:00:00\",\"2022-11-22T00:00:00\",\"2022-11-23T00:00:00\",\"2022-11-24T00:00:00\",\"2022-11-25T00:00:00\",\"2022-11-26T00:00:00\",\"2022-11-29T00:00:00\",\"2022-11-30T00:00:00\"],\"xaxis\":\"x\",\"y\":[429500,633700,679700,859400,167700,146600,159500,1045600,244600,1706400,251900,328700,137800,818400,1317500,1166500,389300,413300,46600,92100,983200,85000],\"yaxis\":\"y\",\"type\":\"scatter\"},{\"hovertemplate\":\"pickup_shop_name=\\ud53d\\uc5c5\\uc874(\\ub354\\ud604\\ub300\\uc11c\\uc6b8)<br>order_date=%{x}<br>payment_amount=%{y}<extra></extra>\",\"legendgroup\":\"\\ud53d\\uc5c5\\uc874(\\ub354\\ud604\\ub300\\uc11c\\uc6b8)\",\"line\":{\"color\":\"#B6E880\",\"dash\":\"solid\"},\"marker\":{\"symbol\":\"circle\"},\"mode\":\"lines\",\"name\":\"\\ud53d\\uc5c5\\uc874(\\ub354\\ud604\\ub300\\uc11c\\uc6b8)\",\"orientation\":\"v\",\"showlegend\":true,\"x\":[\"2022-11-08T00:00:00\",\"2022-11-09T00:00:00\",\"2022-11-10T00:00:00\",\"2022-11-11T00:00:00\",\"2022-11-13T00:00:00\",\"2022-11-14T00:00:00\",\"2022-11-16T00:00:00\",\"2022-11-18T00:00:00\",\"2022-11-20T00:00:00\",\"2022-11-21T00:00:00\",\"2022-11-22T00:00:00\",\"2022-11-23T00:00:00\",\"2022-11-24T00:00:00\",\"2022-11-25T00:00:00\",\"2022-11-29T00:00:00\",\"2022-11-30T00:00:00\"],\"xaxis\":\"x\",\"y\":[149700,129400,52200,26700,54000,177700,156300,20000,107800,113500,47700,38600,9500,39600,41400,35400],\"yaxis\":\"y\",\"type\":\"scatter\"}],                        {\"template\":{\"data\":{\"bar\":[{\"error_x\":{\"color\":\"#2a3f5f\"},\"error_y\":{\"color\":\"#2a3f5f\"},\"marker\":{\"line\":{\"color\":\"#E5ECF6\",\"width\":0.5},\"pattern\":{\"fillmode\":\"overlay\",\"size\":10,\"solidity\":0.2}},\"type\":\"bar\"}],\"barpolar\":[{\"marker\":{\"line\":{\"color\":\"#E5ECF6\",\"width\":0.5},\"pattern\":{\"fillmode\":\"overlay\",\"size\":10,\"solidity\":0.2}},\"type\":\"barpolar\"}],\"carpet\":[{\"aaxis\":{\"endlinecolor\":\"#2a3f5f\",\"gridcolor\":\"white\",\"linecolor\":\"white\",\"minorgridcolor\":\"white\",\"startlinecolor\":\"#2a3f5f\"},\"baxis\":{\"endlinecolor\":\"#2a3f5f\",\"gridcolor\":\"white\",\"linecolor\":\"white\",\"minorgridcolor\":\"white\",\"startlinecolor\":\"#2a3f5f\"},\"type\":\"carpet\"}],\"choropleth\":[{\"colorbar\":{\"outlinewidth\":0,\"ticks\":\"\"},\"type\":\"choropleth\"}],\"contour\":[{\"colorbar\":{\"outlinewidth\":0,\"ticks\":\"\"},\"colorscale\":[[0.0,\"#0d0887\"],[0.1111111111111111,\"#46039f\"],[0.2222222222222222,\"#7201a8\"],[0.3333333333333333,\"#9c179e\"],[0.4444444444444444,\"#bd3786\"],[0.5555555555555556,\"#d8576b\"],[0.6666666666666666,\"#ed7953\"],[0.7777777777777778,\"#fb9f3a\"],[0.8888888888888888,\"#fdca26\"],[1.0,\"#f0f921\"]],\"type\":\"contour\"}],\"contourcarpet\":[{\"colorbar\":{\"outlinewidth\":0,\"ticks\":\"\"},\"type\":\"contourcarpet\"}],\"heatmap\":[{\"colorbar\":{\"outlinewidth\":0,\"ticks\":\"\"},\"colorscale\":[[0.0,\"#0d0887\"],[0.1111111111111111,\"#46039f\"],[0.2222222222222222,\"#7201a8\"],[0.3333333333333333,\"#9c179e\"],[0.4444444444444444,\"#bd3786\"],[0.5555555555555556,\"#d8576b\"],[0.6666666666666666,\"#ed7953\"],[0.7777777777777778,\"#fb9f3a\"],[0.8888888888888888,\"#fdca26\"],[1.0,\"#f0f921\"]],\"type\":\"heatmap\"}],\"heatmapgl\":[{\"colorbar\":{\"outlinewidth\":0,\"ticks\":\"\"},\"colorscale\":[[0.0,\"#0d0887\"],[0.1111111111111111,\"#46039f\"],[0.2222222222222222,\"#7201a8\"],[0.3333333333333333,\"#9c179e\"],[0.4444444444444444,\"#bd3786\"],[0.5555555555555556,\"#d8576b\"],[0.6666666666666666,\"#ed7953\"],[0.7777777777777778,\"#fb9f3a\"],[0.8888888888888888,\"#fdca26\"],[1.0,\"#f0f921\"]],\"type\":\"heatmapgl\"}],\"histogram\":[{\"marker\":{\"pattern\":{\"fillmode\":\"overlay\",\"size\":10,\"solidity\":0.2}},\"type\":\"histogram\"}],\"histogram2d\":[{\"colorbar\":{\"outlinewidth\":0,\"ticks\":\"\"},\"colorscale\":[[0.0,\"#0d0887\"],[0.1111111111111111,\"#46039f\"],[0.2222222222222222,\"#7201a8\"],[0.3333333333333333,\"#9c179e\"],[0.4444444444444444,\"#bd3786\"],[0.5555555555555556,\"#d8576b\"],[0.6666666666666666,\"#ed7953\"],[0.7777777777777778,\"#fb9f3a\"],[0.8888888888888888,\"#fdca26\"],[1.0,\"#f0f921\"]],\"type\":\"histogram2d\"}],\"histogram2dcontour\":[{\"colorbar\":{\"outlinewidth\":0,\"ticks\":\"\"},\"colorscale\":[[0.0,\"#0d0887\"],[0.1111111111111111,\"#46039f\"],[0.2222222222222222,\"#7201a8\"],[0.3333333333333333,\"#9c179e\"],[0.4444444444444444,\"#bd3786\"],[0.5555555555555556,\"#d8576b\"],[0.6666666666666666,\"#ed7953\"],[0.7777777777777778,\"#fb9f3a\"],[0.8888888888888888,\"#fdca26\"],[1.0,\"#f0f921\"]],\"type\":\"histogram2dcontour\"}],\"mesh3d\":[{\"colorbar\":{\"outlinewidth\":0,\"ticks\":\"\"},\"type\":\"mesh3d\"}],\"parcoords\":[{\"line\":{\"colorbar\":{\"outlinewidth\":0,\"ticks\":\"\"}},\"type\":\"parcoords\"}],\"pie\":[{\"automargin\":true,\"type\":\"pie\"}],\"scatter\":[{\"marker\":{\"colorbar\":{\"outlinewidth\":0,\"ticks\":\"\"}},\"type\":\"scatter\"}],\"scatter3d\":[{\"line\":{\"colorbar\":{\"outlinewidth\":0,\"ticks\":\"\"}},\"marker\":{\"colorbar\":{\"outlinewidth\":0,\"ticks\":\"\"}},\"type\":\"scatter3d\"}],\"scattercarpet\":[{\"marker\":{\"colorbar\":{\"outlinewidth\":0,\"ticks\":\"\"}},\"type\":\"scattercarpet\"}],\"scattergeo\":[{\"marker\":{\"colorbar\":{\"outlinewidth\":0,\"ticks\":\"\"}},\"type\":\"scattergeo\"}],\"scattergl\":[{\"marker\":{\"colorbar\":{\"outlinewidth\":0,\"ticks\":\"\"}},\"type\":\"scattergl\"}],\"scattermapbox\":[{\"marker\":{\"colorbar\":{\"outlinewidth\":0,\"ticks\":\"\"}},\"type\":\"scattermapbox\"}],\"scatterpolar\":[{\"marker\":{\"colorbar\":{\"outlinewidth\":0,\"ticks\":\"\"}},\"type\":\"scatterpolar\"}],\"scatterpolargl\":[{\"marker\":{\"colorbar\":{\"outlinewidth\":0,\"ticks\":\"\"}},\"type\":\"scatterpolargl\"}],\"scatterternary\":[{\"marker\":{\"colorbar\":{\"outlinewidth\":0,\"ticks\":\"\"}},\"type\":\"scatterternary\"}],\"surface\":[{\"colorbar\":{\"outlinewidth\":0,\"ticks\":\"\"},\"colorscale\":[[0.0,\"#0d0887\"],[0.1111111111111111,\"#46039f\"],[0.2222222222222222,\"#7201a8\"],[0.3333333333333333,\"#9c179e\"],[0.4444444444444444,\"#bd3786\"],[0.5555555555555556,\"#d8576b\"],[0.6666666666666666,\"#ed7953\"],[0.7777777777777778,\"#fb9f3a\"],[0.8888888888888888,\"#fdca26\"],[1.0,\"#f0f921\"]],\"type\":\"surface\"}],\"table\":[{\"cells\":{\"fill\":{\"color\":\"#EBF0F8\"},\"line\":{\"color\":\"white\"}},\"header\":{\"fill\":{\"color\":\"#C8D4E3\"},\"line\":{\"color\":\"white\"}},\"type\":\"table\"}]},\"layout\":{\"annotationdefaults\":{\"arrowcolor\":\"#2a3f5f\",\"arrowhead\":0,\"arrowwidth\":1},\"autotypenumbers\":\"strict\",\"coloraxis\":{\"colorbar\":{\"outlinewidth\":0,\"ticks\":\"\"}},\"colorscale\":{\"diverging\":[[0,\"#8e0152\"],[0.1,\"#c51b7d\"],[0.2,\"#de77ae\"],[0.3,\"#f1b6da\"],[0.4,\"#fde0ef\"],[0.5,\"#f7f7f7\"],[0.6,\"#e6f5d0\"],[0.7,\"#b8e186\"],[0.8,\"#7fbc41\"],[0.9,\"#4d9221\"],[1,\"#276419\"]],\"sequential\":[[0.0,\"#0d0887\"],[0.1111111111111111,\"#46039f\"],[0.2222222222222222,\"#7201a8\"],[0.3333333333333333,\"#9c179e\"],[0.4444444444444444,\"#bd3786\"],[0.5555555555555556,\"#d8576b\"],[0.6666666666666666,\"#ed7953\"],[0.7777777777777778,\"#fb9f3a\"],[0.8888888888888888,\"#fdca26\"],[1.0,\"#f0f921\"]],\"sequentialminus\":[[0.0,\"#0d0887\"],[0.1111111111111111,\"#46039f\"],[0.2222222222222222,\"#7201a8\"],[0.3333333333333333,\"#9c179e\"],[0.4444444444444444,\"#bd3786\"],[0.5555555555555556,\"#d8576b\"],[0.6666666666666666,\"#ed7953\"],[0.7777777777777778,\"#fb9f3a\"],[0.8888888888888888,\"#fdca26\"],[1.0,\"#f0f921\"]]},\"colorway\":[\"#636efa\",\"#EF553B\",\"#00cc96\",\"#ab63fa\",\"#FFA15A\",\"#19d3f3\",\"#FF6692\",\"#B6E880\",\"#FF97FF\",\"#FECB52\"],\"font\":{\"color\":\"#2a3f5f\"},\"geo\":{\"bgcolor\":\"white\",\"lakecolor\":\"white\",\"landcolor\":\"#E5ECF6\",\"showlakes\":true,\"showland\":true,\"subunitcolor\":\"white\"},\"hoverlabel\":{\"align\":\"left\"},\"hovermode\":\"closest\",\"mapbox\":{\"style\":\"light\"},\"paper_bgcolor\":\"white\",\"plot_bgcolor\":\"#E5ECF6\",\"polar\":{\"angularaxis\":{\"gridcolor\":\"white\",\"linecolor\":\"white\",\"ticks\":\"\"},\"bgcolor\":\"#E5ECF6\",\"radialaxis\":{\"gridcolor\":\"white\",\"linecolor\":\"white\",\"ticks\":\"\"}},\"scene\":{\"xaxis\":{\"backgroundcolor\":\"#E5ECF6\",\"gridcolor\":\"white\",\"gridwidth\":2,\"linecolor\":\"white\",\"showbackground\":true,\"ticks\":\"\",\"zerolinecolor\":\"white\"},\"yaxis\":{\"backgroundcolor\":\"#E5ECF6\",\"gridcolor\":\"white\",\"gridwidth\":2,\"linecolor\":\"white\",\"showbackground\":true,\"ticks\":\"\",\"zerolinecolor\":\"white\"},\"zaxis\":{\"backgroundcolor\":\"#E5ECF6\",\"gridcolor\":\"white\",\"gridwidth\":2,\"linecolor\":\"white\",\"showbackground\":true,\"ticks\":\"\",\"zerolinecolor\":\"white\"}},\"shapedefaults\":{\"line\":{\"color\":\"#2a3f5f\"}},\"ternary\":{\"aaxis\":{\"gridcolor\":\"white\",\"linecolor\":\"white\",\"ticks\":\"\"},\"baxis\":{\"gridcolor\":\"white\",\"linecolor\":\"white\",\"ticks\":\"\"},\"bgcolor\":\"#E5ECF6\",\"caxis\":{\"gridcolor\":\"white\",\"linecolor\":\"white\",\"ticks\":\"\"}},\"title\":{\"x\":0.05},\"xaxis\":{\"automargin\":true,\"gridcolor\":\"white\",\"linecolor\":\"white\",\"ticks\":\"\",\"title\":{\"standoff\":15},\"zerolinecolor\":\"white\",\"zerolinewidth\":2},\"yaxis\":{\"automargin\":true,\"gridcolor\":\"white\",\"linecolor\":\"white\",\"ticks\":\"\",\"title\":{\"standoff\":15},\"zerolinecolor\":\"white\",\"zerolinewidth\":2}}},\"xaxis\":{\"anchor\":\"y\",\"domain\":[0.0,1.0],\"title\":{\"text\":\"order_date\"}},\"yaxis\":{\"anchor\":\"x\",\"domain\":[0.0,1.0],\"title\":{\"text\":\"payment_amount\"}},\"legend\":{\"title\":{\"text\":\"pickup_shop_name\"},\"tracegroupgap\":0},\"margin\":{\"t\":60}},                        {\"responsive\": true}                    ).then(function(){\n",
              "                            \n",
              "var gd = document.getElementById('0f54f65c-122f-4c1c-849e-12dc1bf75329');\n",
              "var x = new MutationObserver(function (mutations, observer) {{\n",
              "        var display = window.getComputedStyle(gd).display;\n",
              "        if (!display || display === 'none') {{\n",
              "            console.log([gd, 'removed!']);\n",
              "            Plotly.purge(gd);\n",
              "            observer.disconnect();\n",
              "        }}\n",
              "}});\n",
              "\n",
              "// Listen for the removal of the full notebook cells\n",
              "var notebookContainer = gd.closest('#notebook-container');\n",
              "if (notebookContainer) {{\n",
              "    x.observe(notebookContainer, {childList: true});\n",
              "}}\n",
              "\n",
              "// Listen for the clearing of the current output cell\n",
              "var outputEl = gd.closest('.output');\n",
              "if (outputEl) {{\n",
              "    x.observe(outputEl, {childList: true});\n",
              "}}\n",
              "\n",
              "                        })                };                            </script>        </div>\n",
              "</body>\n",
              "</html>"
            ]
          },
          "metadata": {}
        }
      ]
    },
    {
      "cell_type": "markdown",
      "source": [
        "### 산점도"
      ],
      "metadata": {
        "id": "2sW2obBU6Iez"
      }
    },
    {
      "cell_type": "code",
      "source": [
        "## << PU & SALES 산점도 >>\n",
        "\n",
        "## 데이터 핸들링\n",
        "salesTemp = ordersDf.groupby(['pickup_shop_name', 'order_date']).agg({'payment_amount':'sum', 'user_id':'nunique'}).reset_index()\n",
        "salesTemp.rename(columns={'payment_amount':'sales', 'user_id':'pu'}, inplace=True)\n",
        "salesTemp['sales'] = salesTemp['sales'].astype('float') ## catter plot error 방지\n",
        "\n",
        "import plotly.express as px\n",
        "\n",
        "## 시각화\n",
        "fig = px.scatter(salesTemp, x='pu', y='sales')#, color='pickup_shop_name', size = 'sales', trendline = 'ols')\n",
        "fig.show()\n"
      ],
      "metadata": {
        "colab": {
          "base_uri": "https://localhost:8080/",
          "height": 542
        },
        "id": "91ltXfj26Gzh",
        "outputId": "19e47d62-e000-49c0-f52e-fcea9b9292b6"
      },
      "execution_count": null,
      "outputs": [
        {
          "output_type": "display_data",
          "data": {
            "text/html": [
              "<html>\n",
              "<head><meta charset=\"utf-8\" /></head>\n",
              "<body>\n",
              "    <div>            <script src=\"https://cdnjs.cloudflare.com/ajax/libs/mathjax/2.7.5/MathJax.js?config=TeX-AMS-MML_SVG\"></script><script type=\"text/javascript\">if (window.MathJax) {MathJax.Hub.Config({SVG: {font: \"STIX-Web\"}});}</script>                <script type=\"text/javascript\">window.PlotlyConfig = {MathJaxConfig: 'local'};</script>\n",
              "        <script src=\"https://cdn.plot.ly/plotly-2.8.3.min.js\"></script>                <div id=\"e6220feb-a5b9-4d7f-9288-157a703d320e\" class=\"plotly-graph-div\" style=\"height:525px; width:100%;\"></div>            <script type=\"text/javascript\">                                    window.PLOTLYENV=window.PLOTLYENV || {};                                    if (document.getElementById(\"e6220feb-a5b9-4d7f-9288-157a703d320e\")) {                    Plotly.newPlot(                        \"e6220feb-a5b9-4d7f-9288-157a703d320e\",                        [{\"hovertemplate\":\"pu=%{x}<br>sales=%{y}<extra></extra>\",\"legendgroup\":\"\",\"marker\":{\"color\":\"#636efa\",\"symbol\":\"circle\"},\"mode\":\"markers\",\"name\":\"\",\"orientation\":\"v\",\"showlegend\":false,\"x\":[3,6,8,7,3,2,7,2,1,2,8,1,21,10,9,25,3,2,18,14,17,2,11,2,12,14,19,11,18,9,6,7,10,6,16,6,4,8,11,2,21,12,2,2,10,17,28,4,16,7,3,3,15,12,14,14,5,2,4,33,30,25,8,4,2,16,3,25,15,5,4,3,23,4,17,9,2,1,7,4,12,6,2,3,1,30,5,1,1,26,34,8,21,16,12,1,1,13,13,17,5,16,3,1,17,8,6,8,6,1,11,16,6,18,18,4,3,4,35,16,7,13,7,10,9,34,13,20,12,8,21,19,20,18,14,8,15,18,15,21,13,17,7,16,25,27,20,7,8,20,22,23,10,14,16,6,1,46,25,59,74,54,94,35,20,22,92,58,134,40,62,25,78,116,83,69,72,44,16,152,48,20,25,22,33,10,6,8,39,10,40,13,13,5,41,43,41,18,24,3,4,45,6,7,4,4,1,1,7,5,1,8,5,3,2,1,1,4,3,5,8,45,17,43,1,3,4,1,4,42,5,2,3,60,3,4,38,2,6,28,46,7,5,54,3,2,36,7,23,45,35,11,5,26,25,18,27,17,18,6,28,7,50,5,29,10,48,4,21,6,4,5,29,10,10,39,3,21,44,45,42,32,1,2,27,25,15,6,5,9,35,6,49,16,2,2,20,5,25,20,6,1,51,8,2,2,25,41,5,29,47,14,1,4,28,21,27,14,34,3,1,34,17,14,49,10,2,25,28,3,31,26,8,12,7,44,27,7,27,13,17,28,32,31,30,6,1,5,48,31,44,27,26,13,60,60,31,71,31,32,22,55,35,73,65,31,17,60,84,83,38,47,44,28,1,4,109,45,2,4,9,5,6,5,1,1,1,1,2,1,17,10,7,25,6,10,19,16,1,13,4,1,16,12,17,12,28,7,5,7,12,5,17,8,8,1,6,11,2,27,9,1,2,15,8,38,2,23,7,3,2,16,16,6,20,10,2,4,28,34,34,19,3,5,18,33,23,8,3,5,22,7,23,7,2,1,3,1,14,12,4,4,37,6,2,2,20,40,12,22,36,7,3,1,27,14,20,8,27,3,23,10,10,23,10,2,12,20,3,18,13,1,7,4,38,19,19,19,15,14,19,25,15,24,8,2,6,36,25,29,17,20,6,16,21,7,22,19,13,6,11,25,15,34,13,6,20,26,26,13,11,11,3,2,37,20,11,14,20,161,166,47,15,1,71,54,53,192,116,11,2,110,151,325,61,186,53,11,14,60,75,59,226,116,18,48,94,39,121,264,16,9,5,87,83,58,90,309,39,22,9,39,136,37,120,5,6,67,5,21,116,7,4,10,148,30,23,99,14,5,87,97,71,16,144,17,7,101,15,116,140,99,32,15,83,75,23,77,48,56,16,115,22,138,39,12,52,50,140,11,80,28,8,17,122,86,31,108,31,4,3,16,129,88,142,73,12,4,59,114,69,13,16,59,137,23,87,35,11,10,51,15,67,75,29,24,4,119,8,5,4,98,118,23,54,117,57,8,21,87,64,67,30,87,5,1,12,69,45,62,107,21,14,67,101,10,80,89,14,15,17,131,64,13,69,30,41,70,98,61,83,29,3,9,148,73,81,95,70,24,97,98,56,138,80,82,22,91,136,106,117,89,46,94,124,155,88,88,89,60,1,4,208,83,6,30,8,30,2,3,2,4,29,2,1,43,8,3,21,3,1,19,23,6,5,24,2,1,15,4,14,24,13,8,5,12,15,25,19,8,15,1,2,15,5,26,5,1,1,13,2,36,1,19,4,2,1,18,17,5,24,4,18,20,22,27,16,2,13,13,17,3,12,28,2,20,4,1,14,3,14,12,2,37,2,1,1,10,26,9,15,21,8,2,1,9,16,14,3,11,1,14,8,11,14,4,1,8,11,4,7,12,4,3,3,22,16,7,16,3,6,15,20,13,13,4,2,25,12,15,14,7,3,6,11,6,22,3,15,6,9,14,7,14,7,7,8,18,18,6,10,13,11,1,1,29,17],\"xaxis\":\"x\",\"y\":[59000.0,137000.0,193000.0,154000.0,62000.0,78000.0,157000.0,105000.0,20000.0,56000.0,153500.0,12000.0,377000.0,188000.0,160000.0,396700.0,33000.0,28500.0,263900.0,316400.0,179900.0,39000.0,175500.0,23400.0,206700.0,312000.0,376400.0,185300.0,402200.0,187800.0,79600.0,194800.0,246500.0,157800.0,260800.0,143200.0,51000.0,130800.0,101300.0,17600.0,406000.0,285400.0,58000.0,34000.0,237000.0,346000.0,620100.0,52900.0,179200.0,114800.0,56000.0,83000.0,304000.0,233000.0,246000.0,211900.0,99900.0,14500.0,60000.0,494000.0,626400.0,385900.0,162900.0,57800.0,25000.0,202000.0,60000.0,401500.0,373500.0,64500.0,126200.0,66800.0,484400.0,64500.0,255000.0,144000.0,33000.0,11000.0,188400.0,80500.0,249000.0,144000.0,38000.0,67700.0,15900.0,609800.0,76800.0,17900.0,35000.0,565800.0,854700.0,207500.0,372200.0,249500.0,211100.0,24000.0,24000.0,192000.0,206500.0,264500.0,77500.0,249000.0,53000.0,14000.0,268500.0,75400.0,104000.0,174000.0,71400.0,47800.0,203000.0,209500.0,148800.0,316900.0,328000.0,126000.0,86000.0,95600.0,686200.0,269500.0,104900.0,165500.0,138000.0,144600.0,136800.0,737100.0,244500.0,319900.0,321500.0,147500.0,293200.0,292900.0,411900.0,425000.0,341000.0,193900.0,205600.0,452400.0,259900.0,413000.0,207600.0,347200.0,200000.0,385000.0,500000.0,505200.0,298800.0,49400.0,89500.0,375000.0,421800.0,365500.0,187600.0,177500.0,223800.0,57500.0,20000.0,750700.0,388700.0,1565200.0,1838400.0,1416500.0,2290800.0,794600.0,613400.0,775500.0,2641700.0,1433700.0,4275500.0,735300.0,1757200.0,545900.0,1411700.0,3081100.0,2104400.0,1690500.0,1323700.0,1200000.0,506900.0,3637500.0,938200.0,429500.0,633700.0,679700.0,859400.0,167700.0,146600.0,159500.0,1045600.0,244600.0,1706400.0,251900.0,328700.0,137800.0,818400.0,1317500.0,1166500.0,389300.0,413300.0,46600.0,92100.0,983200.0,85000.0,149700.0,129400.0,52200.0,26700.0,54000.0,177700.0,156300.0,20000.0,107800.0,113500.0,47700.0,38600.0,9500.0,39600.0,41400.0,35400.0,60000.0,112800.0,827800.0,324000.0,784100.0,21000.0,69000.0,105000.0,51000.0,84000.0,712300.0,61100.0,29000.0,48000.0,1232800.0,47000.0,95000.0,752700.0,41500.0,124000.0,396100.0,1207300.0,140800.0,121600.0,894900.0,76500.0,46300.0,761800.0,153000.0,440000.0,823000.0,858000.0,194400.0,87000.0,384000.0,557200.0,409500.0,397300.0,341400.0,256200.0,105800.0,554300.0,128300.0,936900.0,150700.0,545000.0,171000.0,890700.0,56600.0,306000.0,141800.0,63700.0,123000.0,1159000.0,166000.0,203000.0,575900.0,102400.0,404000.0,771000.0,1085000.0,635100.0,679500.0,5000.0,17000.0,451000.0,575000.0,397600.0,199300.0,138900.0,227300.0,801900.0,118500.0,1187500.0,337500.0,46900.0,22000.0,573700.0,87000.0,747000.0,597000.0,111200.0,15900.0,1157900.0,196000.0,30000.0,54500.0,472500.0,1002700.0,83500.0,643200.0,945700.0,266000.0,59000.0,102000.0,501000.0,397000.0,501500.0,243000.0,648500.0,60000.0,14000.0,588500.0,309300.0,373400.0,1058000.0,226200.0,36000.0,491900.0,485100.0,35900.0,735900.0,599900.0,163900.0,313000.0,160000.0,1022700.0,507500.0,106400.0,368000.0,253500.0,321800.0,413200.0,697300.0,622900.0,463000.0,143500.0,16000.0,120000.0,845700.0,584700.0,1058400.0,522500.0,392800.0,239900.0,1359400.0,1517800.0,865400.0,1757100.0,643000.0,749300.0,794500.0,1260400.0,831100.0,2026800.0,1348300.0,615200.0,288700.0,947200.0,1908600.0,1607800.0,837900.0,992300.0,810000.0,328500.0,10000.0,86000.0,1919700.0,800100.0,59000.0,71800.0,272000.0,115000.0,159000.0,165000.0,20000.0,20000.0,12000.0,8000.0,34000.0,24000.0,450900.0,224000.0,148000.0,223300.0,82900.0,117500.0,376500.0,182400.0,17800.0,174200.0,84600.0,9600.0,296100.0,212000.0,375900.0,178900.0,576000.0,117700.0,127000.0,108600.0,295200.0,78700.0,300300.0,130700.0,121500.0,11500.0,79600.0,136400.0,13500.0,592800.0,184400.0,17000.0,40800.0,242800.0,171000.0,692400.0,50600.0,287100.0,117800.0,80500.0,27900.0,240000.0,315000.0,136000.0,306000.0,169400.0,26000.0,53000.0,473500.0,752000.0,592200.0,312300.0,67000.0,89000.0,336000.0,644000.0,488400.0,193100.0,59900.0,105200.0,449300.0,226900.0,539800.0,118900.0,33000.0,22000.0,51500.0,22500.0,229000.0,285000.0,119000.0,72600.0,645300.0,102700.0,21000.0,20000.0,301100.0,683800.0,260500.0,440700.0,599300.0,186400.0,62000.0,28000.0,414000.0,235000.0,312000.0,88000.0,465000.0,54500.0,320300.0,106600.0,222900.0,475000.0,149300.0,29700.0,195500.0,282500.0,63800.0,337000.0,226000.0,13000.0,142000.0,82800.0,781400.0,304000.0,389800.0,317000.0,234000.0,260800.0,261700.0,519700.0,280700.0,390000.0,140500.0,30000.0,109000.0,551300.0,333400.0,559000.0,364500.0,504600.0,221300.0,221900.0,421300.0,185500.0,460900.0,244900.0,393200.0,230000.0,337900.0,439000.0,348800.0,414800.0,111800.0,79400.0,448800.0,607200.0,460600.0,347900.0,208500.0,133400.0,24500.0,40000.0,513600.0,286600.0,198000.0,402000.0,390000.0,3058000.0,3979000.0,790100.0,229300.0,9000.0,1055700.0,1581200.0,1235000.0,3783000.0,1784500.0,237500.0,68000.0,2076600.0,2059400.0,8115800.0,1504300.0,3650500.0,884400.0,185500.0,364000.0,1494000.0,947000.0,1574000.0,4954300.0,1969800.0,518700.0,900000.0,1832000.0,845000.0,2200900.0,3935200.0,167900.0,143500.0,68500.0,2068800.0,1796400.0,1062800.0,2015900.0,6689400.0,821900.0,398000.0,115000.0,769400.0,2306000.0,896800.0,2190200.0,100000.0,111000.0,1503000.0,85000.0,398000.0,1976200.0,67500.0,53800.0,172500.0,2841300.0,584000.0,632000.0,1811500.0,227600.0,160500.0,1388200.0,2545900.0,1417600.0,251900.0,2661100.0,237300.0,101900.0,1739000.0,420600.0,2584500.0,2641200.0,2040600.0,562100.0,271100.0,1393200.0,2030800.0,888000.0,1276600.0,1305400.0,786800.0,295500.0,2080700.0,446400.0,3018700.0,783300.0,226900.0,933800.0,967000.0,2499100.0,206700.0,1082600.0,557100.0,190800.0,352900.0,2506000.0,2000000.0,587000.0,2166500.0,524200.0,47400.0,18000.0,251800.0,2568000.0,2016400.0,2363000.0,1336100.0,176700.0,66000.0,946000.0,2942100.0,1576400.0,415000.0,498100.0,1548300.0,2894800.0,664900.0,1463300.0,595700.0,162000.0,256400.0,1273700.0,272400.0,1527000.0,1822000.0,526000.0,571700.0,100400.0,2140000.0,168500.0,109600.0,43900.0,1991200.0,2515500.0,370200.0,1082800.0,2199000.0,1304300.0,162700.0,460000.0,1383000.0,1400500.0,1034000.0,510500.0,1494500.0,89500.0,14000.0,195000.0,942300.0,560800.0,1867400.0,2369000.0,262200.0,191700.0,1176500.0,1886700.0,172800.0,1804700.0,1723000.0,343000.0,316000.0,344000.0,2816800.0,1096700.0,370100.0,1117500.0,583500.0,854700.0,1156700.0,2090400.0,966000.0,1318300.0,599500.0,53500.0,213000.0,2849100.0,1137700.0,1692600.0,1741400.0,1767500.0,463100.0,1732600.0,2118200.0,1379500.0,2928900.0,1592900.0,2510300.0,601000.0,2280300.0,2908100.0,2804500.0,2007500.0,1033400.0,685900.0,1813300.0,2880800.0,3195800.0,2029200.0,1547400.0,1605800.0,934700.0,10700.0,80000.0,3979300.0,1752300.0,62200.0,516200.0,180000.0,430000.0,39000.0,74000.0,69000.0,72000.0,501500.0,38900.0,12000.0,896600.0,121000.0,63000.0,317500.0,62000.0,16000.0,345500.0,479500.0,142700.0,126400.0,462000.0,37400.0,29000.0,251600.0,104000.0,320900.0,355100.0,246300.0,161000.0,80800.0,184600.0,339600.0,645600.0,379000.0,146100.0,220300.0,23500.0,29500.0,231500.0,72900.0,548500.0,106400.0,26700.0,17000.0,195000.0,20000.0,767900.0,21000.0,274500.0,87900.0,35000.0,17000.0,267000.0,430000.0,78000.0,337900.0,79300.0,375000.0,338000.0,455500.0,580200.0,293300.0,38400.0,184000.0,483900.0,322500.0,38000.0,244600.0,620800.0,146000.0,314000.0,70500.0,11000.0,373600.0,37000.0,385000.0,314000.0,47600.0,770500.0,35800.0,15000.0,15000.0,215000.0,556700.0,146500.0,387800.0,355500.0,158000.0,45000.0,15000.0,192000.0,259500.0,327000.0,48000.0,188000.0,14000.0,226800.0,198200.0,281000.0,337000.0,47400.0,24000.0,129000.0,247600.0,79900.0,104900.0,189000.0,103000.0,63000.0,55000.0,493600.0,280000.0,133600.0,329500.0,60000.0,161300.0,210600.0,432600.0,173500.0,193000.0,138000.0,54000.0,506500.0,194200.0,265400.0,296000.0,262800.0,81000.0,158700.0,191700.0,85400.0,338300.0,37700.0,306300.0,208000.0,158600.0,304500.0,173900.0,193900.0,95300.0,84800.0,154000.0,407200.0,289700.0,134900.0,133500.0,196500.0,120700.0,26000.0,20000.0,510800.0,201300.0],\"yaxis\":\"y\",\"type\":\"scatter\"}],                        {\"template\":{\"data\":{\"bar\":[{\"error_x\":{\"color\":\"#2a3f5f\"},\"error_y\":{\"color\":\"#2a3f5f\"},\"marker\":{\"line\":{\"color\":\"#E5ECF6\",\"width\":0.5},\"pattern\":{\"fillmode\":\"overlay\",\"size\":10,\"solidity\":0.2}},\"type\":\"bar\"}],\"barpolar\":[{\"marker\":{\"line\":{\"color\":\"#E5ECF6\",\"width\":0.5},\"pattern\":{\"fillmode\":\"overlay\",\"size\":10,\"solidity\":0.2}},\"type\":\"barpolar\"}],\"carpet\":[{\"aaxis\":{\"endlinecolor\":\"#2a3f5f\",\"gridcolor\":\"white\",\"linecolor\":\"white\",\"minorgridcolor\":\"white\",\"startlinecolor\":\"#2a3f5f\"},\"baxis\":{\"endlinecolor\":\"#2a3f5f\",\"gridcolor\":\"white\",\"linecolor\":\"white\",\"minorgridcolor\":\"white\",\"startlinecolor\":\"#2a3f5f\"},\"type\":\"carpet\"}],\"choropleth\":[{\"colorbar\":{\"outlinewidth\":0,\"ticks\":\"\"},\"type\":\"choropleth\"}],\"contour\":[{\"colorbar\":{\"outlinewidth\":0,\"ticks\":\"\"},\"colorscale\":[[0.0,\"#0d0887\"],[0.1111111111111111,\"#46039f\"],[0.2222222222222222,\"#7201a8\"],[0.3333333333333333,\"#9c179e\"],[0.4444444444444444,\"#bd3786\"],[0.5555555555555556,\"#d8576b\"],[0.6666666666666666,\"#ed7953\"],[0.7777777777777778,\"#fb9f3a\"],[0.8888888888888888,\"#fdca26\"],[1.0,\"#f0f921\"]],\"type\":\"contour\"}],\"contourcarpet\":[{\"colorbar\":{\"outlinewidth\":0,\"ticks\":\"\"},\"type\":\"contourcarpet\"}],\"heatmap\":[{\"colorbar\":{\"outlinewidth\":0,\"ticks\":\"\"},\"colorscale\":[[0.0,\"#0d0887\"],[0.1111111111111111,\"#46039f\"],[0.2222222222222222,\"#7201a8\"],[0.3333333333333333,\"#9c179e\"],[0.4444444444444444,\"#bd3786\"],[0.5555555555555556,\"#d8576b\"],[0.6666666666666666,\"#ed7953\"],[0.7777777777777778,\"#fb9f3a\"],[0.8888888888888888,\"#fdca26\"],[1.0,\"#f0f921\"]],\"type\":\"heatmap\"}],\"heatmapgl\":[{\"colorbar\":{\"outlinewidth\":0,\"ticks\":\"\"},\"colorscale\":[[0.0,\"#0d0887\"],[0.1111111111111111,\"#46039f\"],[0.2222222222222222,\"#7201a8\"],[0.3333333333333333,\"#9c179e\"],[0.4444444444444444,\"#bd3786\"],[0.5555555555555556,\"#d8576b\"],[0.6666666666666666,\"#ed7953\"],[0.7777777777777778,\"#fb9f3a\"],[0.8888888888888888,\"#fdca26\"],[1.0,\"#f0f921\"]],\"type\":\"heatmapgl\"}],\"histogram\":[{\"marker\":{\"pattern\":{\"fillmode\":\"overlay\",\"size\":10,\"solidity\":0.2}},\"type\":\"histogram\"}],\"histogram2d\":[{\"colorbar\":{\"outlinewidth\":0,\"ticks\":\"\"},\"colorscale\":[[0.0,\"#0d0887\"],[0.1111111111111111,\"#46039f\"],[0.2222222222222222,\"#7201a8\"],[0.3333333333333333,\"#9c179e\"],[0.4444444444444444,\"#bd3786\"],[0.5555555555555556,\"#d8576b\"],[0.6666666666666666,\"#ed7953\"],[0.7777777777777778,\"#fb9f3a\"],[0.8888888888888888,\"#fdca26\"],[1.0,\"#f0f921\"]],\"type\":\"histogram2d\"}],\"histogram2dcontour\":[{\"colorbar\":{\"outlinewidth\":0,\"ticks\":\"\"},\"colorscale\":[[0.0,\"#0d0887\"],[0.1111111111111111,\"#46039f\"],[0.2222222222222222,\"#7201a8\"],[0.3333333333333333,\"#9c179e\"],[0.4444444444444444,\"#bd3786\"],[0.5555555555555556,\"#d8576b\"],[0.6666666666666666,\"#ed7953\"],[0.7777777777777778,\"#fb9f3a\"],[0.8888888888888888,\"#fdca26\"],[1.0,\"#f0f921\"]],\"type\":\"histogram2dcontour\"}],\"mesh3d\":[{\"colorbar\":{\"outlinewidth\":0,\"ticks\":\"\"},\"type\":\"mesh3d\"}],\"parcoords\":[{\"line\":{\"colorbar\":{\"outlinewidth\":0,\"ticks\":\"\"}},\"type\":\"parcoords\"}],\"pie\":[{\"automargin\":true,\"type\":\"pie\"}],\"scatter\":[{\"marker\":{\"colorbar\":{\"outlinewidth\":0,\"ticks\":\"\"}},\"type\":\"scatter\"}],\"scatter3d\":[{\"line\":{\"colorbar\":{\"outlinewidth\":0,\"ticks\":\"\"}},\"marker\":{\"colorbar\":{\"outlinewidth\":0,\"ticks\":\"\"}},\"type\":\"scatter3d\"}],\"scattercarpet\":[{\"marker\":{\"colorbar\":{\"outlinewidth\":0,\"ticks\":\"\"}},\"type\":\"scattercarpet\"}],\"scattergeo\":[{\"marker\":{\"colorbar\":{\"outlinewidth\":0,\"ticks\":\"\"}},\"type\":\"scattergeo\"}],\"scattergl\":[{\"marker\":{\"colorbar\":{\"outlinewidth\":0,\"ticks\":\"\"}},\"type\":\"scattergl\"}],\"scattermapbox\":[{\"marker\":{\"colorbar\":{\"outlinewidth\":0,\"ticks\":\"\"}},\"type\":\"scattermapbox\"}],\"scatterpolar\":[{\"marker\":{\"colorbar\":{\"outlinewidth\":0,\"ticks\":\"\"}},\"type\":\"scatterpolar\"}],\"scatterpolargl\":[{\"marker\":{\"colorbar\":{\"outlinewidth\":0,\"ticks\":\"\"}},\"type\":\"scatterpolargl\"}],\"scatterternary\":[{\"marker\":{\"colorbar\":{\"outlinewidth\":0,\"ticks\":\"\"}},\"type\":\"scatterternary\"}],\"surface\":[{\"colorbar\":{\"outlinewidth\":0,\"ticks\":\"\"},\"colorscale\":[[0.0,\"#0d0887\"],[0.1111111111111111,\"#46039f\"],[0.2222222222222222,\"#7201a8\"],[0.3333333333333333,\"#9c179e\"],[0.4444444444444444,\"#bd3786\"],[0.5555555555555556,\"#d8576b\"],[0.6666666666666666,\"#ed7953\"],[0.7777777777777778,\"#fb9f3a\"],[0.8888888888888888,\"#fdca26\"],[1.0,\"#f0f921\"]],\"type\":\"surface\"}],\"table\":[{\"cells\":{\"fill\":{\"color\":\"#EBF0F8\"},\"line\":{\"color\":\"white\"}},\"header\":{\"fill\":{\"color\":\"#C8D4E3\"},\"line\":{\"color\":\"white\"}},\"type\":\"table\"}]},\"layout\":{\"annotationdefaults\":{\"arrowcolor\":\"#2a3f5f\",\"arrowhead\":0,\"arrowwidth\":1},\"autotypenumbers\":\"strict\",\"coloraxis\":{\"colorbar\":{\"outlinewidth\":0,\"ticks\":\"\"}},\"colorscale\":{\"diverging\":[[0,\"#8e0152\"],[0.1,\"#c51b7d\"],[0.2,\"#de77ae\"],[0.3,\"#f1b6da\"],[0.4,\"#fde0ef\"],[0.5,\"#f7f7f7\"],[0.6,\"#e6f5d0\"],[0.7,\"#b8e186\"],[0.8,\"#7fbc41\"],[0.9,\"#4d9221\"],[1,\"#276419\"]],\"sequential\":[[0.0,\"#0d0887\"],[0.1111111111111111,\"#46039f\"],[0.2222222222222222,\"#7201a8\"],[0.3333333333333333,\"#9c179e\"],[0.4444444444444444,\"#bd3786\"],[0.5555555555555556,\"#d8576b\"],[0.6666666666666666,\"#ed7953\"],[0.7777777777777778,\"#fb9f3a\"],[0.8888888888888888,\"#fdca26\"],[1.0,\"#f0f921\"]],\"sequentialminus\":[[0.0,\"#0d0887\"],[0.1111111111111111,\"#46039f\"],[0.2222222222222222,\"#7201a8\"],[0.3333333333333333,\"#9c179e\"],[0.4444444444444444,\"#bd3786\"],[0.5555555555555556,\"#d8576b\"],[0.6666666666666666,\"#ed7953\"],[0.7777777777777778,\"#fb9f3a\"],[0.8888888888888888,\"#fdca26\"],[1.0,\"#f0f921\"]]},\"colorway\":[\"#636efa\",\"#EF553B\",\"#00cc96\",\"#ab63fa\",\"#FFA15A\",\"#19d3f3\",\"#FF6692\",\"#B6E880\",\"#FF97FF\",\"#FECB52\"],\"font\":{\"color\":\"#2a3f5f\"},\"geo\":{\"bgcolor\":\"white\",\"lakecolor\":\"white\",\"landcolor\":\"#E5ECF6\",\"showlakes\":true,\"showland\":true,\"subunitcolor\":\"white\"},\"hoverlabel\":{\"align\":\"left\"},\"hovermode\":\"closest\",\"mapbox\":{\"style\":\"light\"},\"paper_bgcolor\":\"white\",\"plot_bgcolor\":\"#E5ECF6\",\"polar\":{\"angularaxis\":{\"gridcolor\":\"white\",\"linecolor\":\"white\",\"ticks\":\"\"},\"bgcolor\":\"#E5ECF6\",\"radialaxis\":{\"gridcolor\":\"white\",\"linecolor\":\"white\",\"ticks\":\"\"}},\"scene\":{\"xaxis\":{\"backgroundcolor\":\"#E5ECF6\",\"gridcolor\":\"white\",\"gridwidth\":2,\"linecolor\":\"white\",\"showbackground\":true,\"ticks\":\"\",\"zerolinecolor\":\"white\"},\"yaxis\":{\"backgroundcolor\":\"#E5ECF6\",\"gridcolor\":\"white\",\"gridwidth\":2,\"linecolor\":\"white\",\"showbackground\":true,\"ticks\":\"\",\"zerolinecolor\":\"white\"},\"zaxis\":{\"backgroundcolor\":\"#E5ECF6\",\"gridcolor\":\"white\",\"gridwidth\":2,\"linecolor\":\"white\",\"showbackground\":true,\"ticks\":\"\",\"zerolinecolor\":\"white\"}},\"shapedefaults\":{\"line\":{\"color\":\"#2a3f5f\"}},\"ternary\":{\"aaxis\":{\"gridcolor\":\"white\",\"linecolor\":\"white\",\"ticks\":\"\"},\"baxis\":{\"gridcolor\":\"white\",\"linecolor\":\"white\",\"ticks\":\"\"},\"bgcolor\":\"#E5ECF6\",\"caxis\":{\"gridcolor\":\"white\",\"linecolor\":\"white\",\"ticks\":\"\"}},\"title\":{\"x\":0.05},\"xaxis\":{\"automargin\":true,\"gridcolor\":\"white\",\"linecolor\":\"white\",\"ticks\":\"\",\"title\":{\"standoff\":15},\"zerolinecolor\":\"white\",\"zerolinewidth\":2},\"yaxis\":{\"automargin\":true,\"gridcolor\":\"white\",\"linecolor\":\"white\",\"ticks\":\"\",\"title\":{\"standoff\":15},\"zerolinecolor\":\"white\",\"zerolinewidth\":2}}},\"xaxis\":{\"anchor\":\"y\",\"domain\":[0.0,1.0],\"title\":{\"text\":\"pu\"}},\"yaxis\":{\"anchor\":\"x\",\"domain\":[0.0,1.0],\"title\":{\"text\":\"sales\"}},\"legend\":{\"tracegroupgap\":0},\"margin\":{\"t\":60}},                        {\"responsive\": true}                    ).then(function(){\n",
              "                            \n",
              "var gd = document.getElementById('e6220feb-a5b9-4d7f-9288-157a703d320e');\n",
              "var x = new MutationObserver(function (mutations, observer) {{\n",
              "        var display = window.getComputedStyle(gd).display;\n",
              "        if (!display || display === 'none') {{\n",
              "            console.log([gd, 'removed!']);\n",
              "            Plotly.purge(gd);\n",
              "            observer.disconnect();\n",
              "        }}\n",
              "}});\n",
              "\n",
              "// Listen for the removal of the full notebook cells\n",
              "var notebookContainer = gd.closest('#notebook-container');\n",
              "if (notebookContainer) {{\n",
              "    x.observe(notebookContainer, {childList: true});\n",
              "}}\n",
              "\n",
              "// Listen for the clearing of the current output cell\n",
              "var outputEl = gd.closest('.output');\n",
              "if (outputEl) {{\n",
              "    x.observe(outputEl, {childList: true});\n",
              "}}\n",
              "\n",
              "                        })                };                            </script>        </div>\n",
              "</body>\n",
              "</html>"
            ]
          },
          "metadata": {}
        }
      ]
    },
    {
      "cell_type": "code",
      "source": [
        "## << PU & SALES 산점도 - 픽업 매장별로 분리해서 도식 >>\n",
        "\n",
        "## 시각화\n",
        "import plotly.express as px\n",
        "\n",
        "fig = px.scatter(salesTemp, x='pu', y='sales', \n",
        "                 facet_col='pickup_shop_name',) # 표를 분리하기 위한 기준 컬럼 설정 (행기준 적용시 > facet_row 사용)\n",
        "                 # color='sales', trendline = 'ols',) \n",
        "fig.show()"
      ],
      "metadata": {
        "colab": {
          "base_uri": "https://localhost:8080/",
          "height": 542
        },
        "id": "K8Rkl-hE8bcC",
        "outputId": "35301770-cfb7-4ae1-f985-431d7a315bcd"
      },
      "execution_count": null,
      "outputs": [
        {
          "output_type": "display_data",
          "data": {
            "text/html": [
              "<html>\n",
              "<head><meta charset=\"utf-8\" /></head>\n",
              "<body>\n",
              "    <div>            <script src=\"https://cdnjs.cloudflare.com/ajax/libs/mathjax/2.7.5/MathJax.js?config=TeX-AMS-MML_SVG\"></script><script type=\"text/javascript\">if (window.MathJax) {MathJax.Hub.Config({SVG: {font: \"STIX-Web\"}});}</script>                <script type=\"text/javascript\">window.PlotlyConfig = {MathJaxConfig: 'local'};</script>\n",
              "        <script src=\"https://cdn.plot.ly/plotly-2.8.3.min.js\"></script>                <div id=\"fbaa97f5-1c49-458a-8f7b-037e79fe48d7\" class=\"plotly-graph-div\" style=\"height:525px; width:100%;\"></div>            <script type=\"text/javascript\">                                    window.PLOTLYENV=window.PLOTLYENV || {};                                    if (document.getElementById(\"fbaa97f5-1c49-458a-8f7b-037e79fe48d7\")) {                    Plotly.newPlot(                        \"fbaa97f5-1c49-458a-8f7b-037e79fe48d7\",                        [{\"hovertemplate\":\"pickup_shop_name=\\ud53d\\uc5c5\\uc874(GS25 \\ubaa9\\ub3d93\\ub3d9\\uc810)<br>pu=%{x}<br>sales=%{y}<extra></extra>\",\"legendgroup\":\"\",\"marker\":{\"color\":\"#636efa\",\"symbol\":\"circle\"},\"mode\":\"markers\",\"name\":\"\",\"orientation\":\"v\",\"showlegend\":false,\"x\":[3,6,8,7,3,2,7,2,1,2,8,1,21,10,9,25,3,2,18,14,17,2,11,2,12,14,19,11,18,9,6,7,10,6,16,6,4,8,11,2,21,12,2,2,10,17,28,4,16,7,3,3,15,12,14,14,5,2,4,33,30,25,8,4,2,16,3,25,15,5,4,3,23,4,17,9,2,1,7,4,12,6,2,3,1,30,5,1,1,26,34,8,21,16,12,1,1,13,13,17,5,16,3,1,17,8,6,8,6,1,11,16,6,18,18,4,3,4,35,16,7,13,7,10,9,34,13,20,12,8,21,19,20,18,14,8,15,18,15,21,13,17,7,16,25,27,20,7,8,20,22,23,10,14,16,6,1,46,25],\"xaxis\":\"x\",\"y\":[59000.0,137000.0,193000.0,154000.0,62000.0,78000.0,157000.0,105000.0,20000.0,56000.0,153500.0,12000.0,377000.0,188000.0,160000.0,396700.0,33000.0,28500.0,263900.0,316400.0,179900.0,39000.0,175500.0,23400.0,206700.0,312000.0,376400.0,185300.0,402200.0,187800.0,79600.0,194800.0,246500.0,157800.0,260800.0,143200.0,51000.0,130800.0,101300.0,17600.0,406000.0,285400.0,58000.0,34000.0,237000.0,346000.0,620100.0,52900.0,179200.0,114800.0,56000.0,83000.0,304000.0,233000.0,246000.0,211900.0,99900.0,14500.0,60000.0,494000.0,626400.0,385900.0,162900.0,57800.0,25000.0,202000.0,60000.0,401500.0,373500.0,64500.0,126200.0,66800.0,484400.0,64500.0,255000.0,144000.0,33000.0,11000.0,188400.0,80500.0,249000.0,144000.0,38000.0,67700.0,15900.0,609800.0,76800.0,17900.0,35000.0,565800.0,854700.0,207500.0,372200.0,249500.0,211100.0,24000.0,24000.0,192000.0,206500.0,264500.0,77500.0,249000.0,53000.0,14000.0,268500.0,75400.0,104000.0,174000.0,71400.0,47800.0,203000.0,209500.0,148800.0,316900.0,328000.0,126000.0,86000.0,95600.0,686200.0,269500.0,104900.0,165500.0,138000.0,144600.0,136800.0,737100.0,244500.0,319900.0,321500.0,147500.0,293200.0,292900.0,411900.0,425000.0,341000.0,193900.0,205600.0,452400.0,259900.0,413000.0,207600.0,347200.0,200000.0,385000.0,500000.0,505200.0,298800.0,49400.0,89500.0,375000.0,421800.0,365500.0,187600.0,177500.0,223800.0,57500.0,20000.0,750700.0,388700.0],\"yaxis\":\"y\",\"type\":\"scatter\"},{\"hovertemplate\":\"pickup_shop_name=\\ud53d\\uc5c5\\uc874(GS\\uc601\\ub4f1\\ud3ec\\ub2f9\\uc0b0\\uc810)<br>pu=%{x}<br>sales=%{y}<extra></extra>\",\"legendgroup\":\"\",\"marker\":{\"color\":\"#636efa\",\"symbol\":\"circle\"},\"mode\":\"markers\",\"name\":\"\",\"orientation\":\"v\",\"showlegend\":false,\"x\":[59,74,54,94,35,20,22,92,58,134,40,62,25,78,116,83,69,72,44,16,152,48],\"xaxis\":\"x2\",\"y\":[1565200.0,1838400.0,1416500.0,2290800.0,794600.0,613400.0,775500.0,2641700.0,1433700.0,4275500.0,735300.0,1757200.0,545900.0,1411700.0,3081100.0,2104400.0,1690500.0,1323700.0,1200000.0,506900.0,3637500.0,938200.0],\"yaxis\":\"y2\",\"type\":\"scatter\"},{\"hovertemplate\":\"pickup_shop_name=\\ud53d\\uc5c5\\uc874(\\ub2e4\\uc774\\uc18c \\ub09c\\uace1\\uc0ac\\uac70\\ub9ac\\uc810)<br>pu=%{x}<br>sales=%{y}<extra></extra>\",\"legendgroup\":\"\",\"marker\":{\"color\":\"#636efa\",\"symbol\":\"circle\"},\"mode\":\"markers\",\"name\":\"\",\"orientation\":\"v\",\"showlegend\":false,\"x\":[20,25,22,33,10,6,8,39,10,40,13,13,5,41,43,41,18,24,3,4,45,6],\"xaxis\":\"x3\",\"y\":[429500.0,633700.0,679700.0,859400.0,167700.0,146600.0,159500.0,1045600.0,244600.0,1706400.0,251900.0,328700.0,137800.0,818400.0,1317500.0,1166500.0,389300.0,413300.0,46600.0,92100.0,983200.0,85000.0],\"yaxis\":\"y3\",\"type\":\"scatter\"},{\"hovertemplate\":\"pickup_shop_name=\\ud53d\\uc5c5\\uc874(\\ub354\\ud604\\ub300\\uc11c\\uc6b8)<br>pu=%{x}<br>sales=%{y}<extra></extra>\",\"legendgroup\":\"\",\"marker\":{\"color\":\"#636efa\",\"symbol\":\"circle\"},\"mode\":\"markers\",\"name\":\"\",\"orientation\":\"v\",\"showlegend\":false,\"x\":[7,4,4,1,1,7,5,1,8,5,3,2,1,1,4,3],\"xaxis\":\"x4\",\"y\":[149700.0,129400.0,52200.0,26700.0,54000.0,177700.0,156300.0,20000.0,107800.0,113500.0,47700.0,38600.0,9500.0,39600.0,41400.0,35400.0],\"yaxis\":\"y4\",\"type\":\"scatter\"},{\"hovertemplate\":\"pickup_shop_name=\\ud53d\\uc5c5\\uc874(\\uba54\\uc774\\ube44\\uce74\\ud398)<br>pu=%{x}<br>sales=%{y}<extra></extra>\",\"legendgroup\":\"\",\"marker\":{\"color\":\"#636efa\",\"symbol\":\"circle\"},\"mode\":\"markers\",\"name\":\"\",\"orientation\":\"v\",\"showlegend\":false,\"x\":[5,8,45,17,43,1,3,4,1,4,42,5,2,3,60,3,4,38,2,6,28,46,7,5,54,3,2,36,7,23,45,35,11,5,26,25,18,27,17,18,6,28,7,50,5,29,10,48,4,21,6,4,5,29,10,10,39,3,21,44,45,42,32,1,2,27,25,15,6,5,9,35,6,49,16,2,2,20,5,25,20,6,1,51,8,2,2,25,41,5,29,47,14,1,4,28,21,27,14,34,3,1,34,17,14,49,10,2,25,28,3,31,26,8,12,7,44,27,7,27,13,17,28,32,31,30,6,1,5,48,31,44,27,26,13,60,60,31,71,31,32,22,55,35,73,65,31,17,60,84,83,38,47,44,28,1,4,109,45],\"xaxis\":\"x5\",\"y\":[60000.0,112800.0,827800.0,324000.0,784100.0,21000.0,69000.0,105000.0,51000.0,84000.0,712300.0,61100.0,29000.0,48000.0,1232800.0,47000.0,95000.0,752700.0,41500.0,124000.0,396100.0,1207300.0,140800.0,121600.0,894900.0,76500.0,46300.0,761800.0,153000.0,440000.0,823000.0,858000.0,194400.0,87000.0,384000.0,557200.0,409500.0,397300.0,341400.0,256200.0,105800.0,554300.0,128300.0,936900.0,150700.0,545000.0,171000.0,890700.0,56600.0,306000.0,141800.0,63700.0,123000.0,1159000.0,166000.0,203000.0,575900.0,102400.0,404000.0,771000.0,1085000.0,635100.0,679500.0,5000.0,17000.0,451000.0,575000.0,397600.0,199300.0,138900.0,227300.0,801900.0,118500.0,1187500.0,337500.0,46900.0,22000.0,573700.0,87000.0,747000.0,597000.0,111200.0,15900.0,1157900.0,196000.0,30000.0,54500.0,472500.0,1002700.0,83500.0,643200.0,945700.0,266000.0,59000.0,102000.0,501000.0,397000.0,501500.0,243000.0,648500.0,60000.0,14000.0,588500.0,309300.0,373400.0,1058000.0,226200.0,36000.0,491900.0,485100.0,35900.0,735900.0,599900.0,163900.0,313000.0,160000.0,1022700.0,507500.0,106400.0,368000.0,253500.0,321800.0,413200.0,697300.0,622900.0,463000.0,143500.0,16000.0,120000.0,845700.0,584700.0,1058400.0,522500.0,392800.0,239900.0,1359400.0,1517800.0,865400.0,1757100.0,643000.0,749300.0,794500.0,1260400.0,831100.0,2026800.0,1348300.0,615200.0,288700.0,947200.0,1908600.0,1607800.0,837900.0,992300.0,810000.0,328500.0,10000.0,86000.0,1919700.0,800100.0],\"yaxis\":\"y5\",\"type\":\"scatter\"},{\"hovertemplate\":\"pickup_shop_name=\\ud53d\\uc5c5\\uc874(\\uc11c\\uc6b8\\ub4dc\\ub9bc\\uc2e0\\uc6a9\\ud611\\ub3d9\\uc870\\ud569)<br>pu=%{x}<br>sales=%{y}<extra></extra>\",\"legendgroup\":\"\",\"marker\":{\"color\":\"#636efa\",\"symbol\":\"circle\"},\"mode\":\"markers\",\"name\":\"\",\"orientation\":\"v\",\"showlegend\":false,\"x\":[2,4,9,5,6,5,1,1,1,1,2,1,17,10,7,25,6,10,19,16,1,13,4,1,16,12,17,12,28,7,5,7,12,5,17,8,8,1,6,11,2,27,9,1,2,15,8,38,2,23,7,3,2,16,16,6,20,10,2,4,28,34,34,19,3,5,18,33,23,8,3,5,22,7,23,7,2,1,3,1,14,12,4,4,37,6,2,2,20,40,12,22,36,7,3,1,27,14,20,8,27,3,23,10,10,23,10,2,12,20,3,18,13,1,7,4,38,19,19,19,15,14,19,25,15,24,8,2,6,36,25,29,17,20,6,16,21,7,22,19,13,6,11,25,15,34,13,6,20,26,26,13,11,11,3,2,37,20],\"xaxis\":\"x6\",\"y\":[59000.0,71800.0,272000.0,115000.0,159000.0,165000.0,20000.0,20000.0,12000.0,8000.0,34000.0,24000.0,450900.0,224000.0,148000.0,223300.0,82900.0,117500.0,376500.0,182400.0,17800.0,174200.0,84600.0,9600.0,296100.0,212000.0,375900.0,178900.0,576000.0,117700.0,127000.0,108600.0,295200.0,78700.0,300300.0,130700.0,121500.0,11500.0,79600.0,136400.0,13500.0,592800.0,184400.0,17000.0,40800.0,242800.0,171000.0,692400.0,50600.0,287100.0,117800.0,80500.0,27900.0,240000.0,315000.0,136000.0,306000.0,169400.0,26000.0,53000.0,473500.0,752000.0,592200.0,312300.0,67000.0,89000.0,336000.0,644000.0,488400.0,193100.0,59900.0,105200.0,449300.0,226900.0,539800.0,118900.0,33000.0,22000.0,51500.0,22500.0,229000.0,285000.0,119000.0,72600.0,645300.0,102700.0,21000.0,20000.0,301100.0,683800.0,260500.0,440700.0,599300.0,186400.0,62000.0,28000.0,414000.0,235000.0,312000.0,88000.0,465000.0,54500.0,320300.0,106600.0,222900.0,475000.0,149300.0,29700.0,195500.0,282500.0,63800.0,337000.0,226000.0,13000.0,142000.0,82800.0,781400.0,304000.0,389800.0,317000.0,234000.0,260800.0,261700.0,519700.0,280700.0,390000.0,140500.0,30000.0,109000.0,551300.0,333400.0,559000.0,364500.0,504600.0,221300.0,221900.0,421300.0,185500.0,460900.0,244900.0,393200.0,230000.0,337900.0,439000.0,348800.0,414800.0,111800.0,79400.0,448800.0,607200.0,460600.0,347900.0,208500.0,133400.0,24500.0,40000.0,513600.0,286600.0],\"yaxis\":\"y6\",\"type\":\"scatter\"},{\"hovertemplate\":\"pickup_shop_name=\\ud53d\\uc5c5\\uc874(\\uc720\\uc2b9\\uc0c1\\uac00)<br>pu=%{x}<br>sales=%{y}<extra></extra>\",\"legendgroup\":\"\",\"marker\":{\"color\":\"#636efa\",\"symbol\":\"circle\"},\"mode\":\"markers\",\"name\":\"\",\"orientation\":\"v\",\"showlegend\":false,\"x\":[11,14,20,161,166,47,15,1,71,54,53,192,116,11,2,110,151,325,61,186,53,11,14,60,75,59,226,116,18,48,94,39,121,264,16,9,5,87,83,58,90,309,39,22,9,39,136,37,120,5,6,67,5,21,116,7,4,10,148,30,23,99,14,5,87,97,71,16,144,17,7,101,15,116,140,99,32,15,83,75,23,77,48,56,16,115,22,138,39,12,52,50,140,11,80,28,8,17,122,86,31,108,31,4,3,16,129,88,142,73,12,4,59,114,69,13,16,59,137,23,87,35,11,10,51,15,67,75,29,24,4,119,8,5,4,98,118,23,54,117,57,8,21,87,64,67,30,87,5,1,12,69,45,62,107,21,14,67,101,10,80,89,14,15,17,131,64,13,69,30,41,70,98,61,83,29,3,9,148,73,81,95,70,24,97,98,56,138,80,82,22,91,136,106,117,89,46,94,124,155,88,88,89,60,1,4,208,83],\"xaxis\":\"x7\",\"y\":[198000.0,402000.0,390000.0,3058000.0,3979000.0,790100.0,229300.0,9000.0,1055700.0,1581200.0,1235000.0,3783000.0,1784500.0,237500.0,68000.0,2076600.0,2059400.0,8115800.0,1504300.0,3650500.0,884400.0,185500.0,364000.0,1494000.0,947000.0,1574000.0,4954300.0,1969800.0,518700.0,900000.0,1832000.0,845000.0,2200900.0,3935200.0,167900.0,143500.0,68500.0,2068800.0,1796400.0,1062800.0,2015900.0,6689400.0,821900.0,398000.0,115000.0,769400.0,2306000.0,896800.0,2190200.0,100000.0,111000.0,1503000.0,85000.0,398000.0,1976200.0,67500.0,53800.0,172500.0,2841300.0,584000.0,632000.0,1811500.0,227600.0,160500.0,1388200.0,2545900.0,1417600.0,251900.0,2661100.0,237300.0,101900.0,1739000.0,420600.0,2584500.0,2641200.0,2040600.0,562100.0,271100.0,1393200.0,2030800.0,888000.0,1276600.0,1305400.0,786800.0,295500.0,2080700.0,446400.0,3018700.0,783300.0,226900.0,933800.0,967000.0,2499100.0,206700.0,1082600.0,557100.0,190800.0,352900.0,2506000.0,2000000.0,587000.0,2166500.0,524200.0,47400.0,18000.0,251800.0,2568000.0,2016400.0,2363000.0,1336100.0,176700.0,66000.0,946000.0,2942100.0,1576400.0,415000.0,498100.0,1548300.0,2894800.0,664900.0,1463300.0,595700.0,162000.0,256400.0,1273700.0,272400.0,1527000.0,1822000.0,526000.0,571700.0,100400.0,2140000.0,168500.0,109600.0,43900.0,1991200.0,2515500.0,370200.0,1082800.0,2199000.0,1304300.0,162700.0,460000.0,1383000.0,1400500.0,1034000.0,510500.0,1494500.0,89500.0,14000.0,195000.0,942300.0,560800.0,1867400.0,2369000.0,262200.0,191700.0,1176500.0,1886700.0,172800.0,1804700.0,1723000.0,343000.0,316000.0,344000.0,2816800.0,1096700.0,370100.0,1117500.0,583500.0,854700.0,1156700.0,2090400.0,966000.0,1318300.0,599500.0,53500.0,213000.0,2849100.0,1137700.0,1692600.0,1741400.0,1767500.0,463100.0,1732600.0,2118200.0,1379500.0,2928900.0,1592900.0,2510300.0,601000.0,2280300.0,2908100.0,2804500.0,2007500.0,1033400.0,685900.0,1813300.0,2880800.0,3195800.0,2029200.0,1547400.0,1605800.0,934700.0,10700.0,80000.0,3979300.0,1752300.0],\"yaxis\":\"y7\",\"type\":\"scatter\"},{\"hovertemplate\":\"pickup_shop_name=\\ud53d\\uc5c5\\uc874(\\ucc38\\ub9db\\ubd80\\ub300\\ucc0c\\uac1c\\uc544\\uad6c\\ucc1c)<br>pu=%{x}<br>sales=%{y}<extra></extra>\",\"legendgroup\":\"\",\"marker\":{\"color\":\"#636efa\",\"symbol\":\"circle\"},\"mode\":\"markers\",\"name\":\"\",\"orientation\":\"v\",\"showlegend\":false,\"x\":[6,30,8,30,2,3,2,4,29,2,1,43,8,3,21,3,1,19,23,6,5,24,2,1,15,4,14,24,13,8,5,12,15,25,19,8,15,1,2,15,5,26,5,1,1,13,2,36,1,19,4,2,1,18,17,5,24,4,18,20,22,27,16,2,13,13,17,3,12,28,2,20,4,1,14,3,14,12,2,37,2,1,1,10,26,9,15,21,8,2,1,9,16,14,3,11,1,14,8,11,14,4,1,8,11,4,7,12,4,3,3,22,16,7,16,3,6,15,20,13,13,4,2,25,12,15,14,7,3,6,11,6,22,3,15,6,9,14,7,14,7,7,8,18,18,6,10,13,11,1,1,29,17],\"xaxis\":\"x8\",\"y\":[62200.0,516200.0,180000.0,430000.0,39000.0,74000.0,69000.0,72000.0,501500.0,38900.0,12000.0,896600.0,121000.0,63000.0,317500.0,62000.0,16000.0,345500.0,479500.0,142700.0,126400.0,462000.0,37400.0,29000.0,251600.0,104000.0,320900.0,355100.0,246300.0,161000.0,80800.0,184600.0,339600.0,645600.0,379000.0,146100.0,220300.0,23500.0,29500.0,231500.0,72900.0,548500.0,106400.0,26700.0,17000.0,195000.0,20000.0,767900.0,21000.0,274500.0,87900.0,35000.0,17000.0,267000.0,430000.0,78000.0,337900.0,79300.0,375000.0,338000.0,455500.0,580200.0,293300.0,38400.0,184000.0,483900.0,322500.0,38000.0,244600.0,620800.0,146000.0,314000.0,70500.0,11000.0,373600.0,37000.0,385000.0,314000.0,47600.0,770500.0,35800.0,15000.0,15000.0,215000.0,556700.0,146500.0,387800.0,355500.0,158000.0,45000.0,15000.0,192000.0,259500.0,327000.0,48000.0,188000.0,14000.0,226800.0,198200.0,281000.0,337000.0,47400.0,24000.0,129000.0,247600.0,79900.0,104900.0,189000.0,103000.0,63000.0,55000.0,493600.0,280000.0,133600.0,329500.0,60000.0,161300.0,210600.0,432600.0,173500.0,193000.0,138000.0,54000.0,506500.0,194200.0,265400.0,296000.0,262800.0,81000.0,158700.0,191700.0,85400.0,338300.0,37700.0,306300.0,208000.0,158600.0,304500.0,173900.0,193900.0,95300.0,84800.0,154000.0,407200.0,289700.0,134900.0,133500.0,196500.0,120700.0,26000.0,20000.0,510800.0,201300.0],\"yaxis\":\"y8\",\"type\":\"scatter\"}],                        {\"template\":{\"data\":{\"bar\":[{\"error_x\":{\"color\":\"#2a3f5f\"},\"error_y\":{\"color\":\"#2a3f5f\"},\"marker\":{\"line\":{\"color\":\"#E5ECF6\",\"width\":0.5},\"pattern\":{\"fillmode\":\"overlay\",\"size\":10,\"solidity\":0.2}},\"type\":\"bar\"}],\"barpolar\":[{\"marker\":{\"line\":{\"color\":\"#E5ECF6\",\"width\":0.5},\"pattern\":{\"fillmode\":\"overlay\",\"size\":10,\"solidity\":0.2}},\"type\":\"barpolar\"}],\"carpet\":[{\"aaxis\":{\"endlinecolor\":\"#2a3f5f\",\"gridcolor\":\"white\",\"linecolor\":\"white\",\"minorgridcolor\":\"white\",\"startlinecolor\":\"#2a3f5f\"},\"baxis\":{\"endlinecolor\":\"#2a3f5f\",\"gridcolor\":\"white\",\"linecolor\":\"white\",\"minorgridcolor\":\"white\",\"startlinecolor\":\"#2a3f5f\"},\"type\":\"carpet\"}],\"choropleth\":[{\"colorbar\":{\"outlinewidth\":0,\"ticks\":\"\"},\"type\":\"choropleth\"}],\"contour\":[{\"colorbar\":{\"outlinewidth\":0,\"ticks\":\"\"},\"colorscale\":[[0.0,\"#0d0887\"],[0.1111111111111111,\"#46039f\"],[0.2222222222222222,\"#7201a8\"],[0.3333333333333333,\"#9c179e\"],[0.4444444444444444,\"#bd3786\"],[0.5555555555555556,\"#d8576b\"],[0.6666666666666666,\"#ed7953\"],[0.7777777777777778,\"#fb9f3a\"],[0.8888888888888888,\"#fdca26\"],[1.0,\"#f0f921\"]],\"type\":\"contour\"}],\"contourcarpet\":[{\"colorbar\":{\"outlinewidth\":0,\"ticks\":\"\"},\"type\":\"contourcarpet\"}],\"heatmap\":[{\"colorbar\":{\"outlinewidth\":0,\"ticks\":\"\"},\"colorscale\":[[0.0,\"#0d0887\"],[0.1111111111111111,\"#46039f\"],[0.2222222222222222,\"#7201a8\"],[0.3333333333333333,\"#9c179e\"],[0.4444444444444444,\"#bd3786\"],[0.5555555555555556,\"#d8576b\"],[0.6666666666666666,\"#ed7953\"],[0.7777777777777778,\"#fb9f3a\"],[0.8888888888888888,\"#fdca26\"],[1.0,\"#f0f921\"]],\"type\":\"heatmap\"}],\"heatmapgl\":[{\"colorbar\":{\"outlinewidth\":0,\"ticks\":\"\"},\"colorscale\":[[0.0,\"#0d0887\"],[0.1111111111111111,\"#46039f\"],[0.2222222222222222,\"#7201a8\"],[0.3333333333333333,\"#9c179e\"],[0.4444444444444444,\"#bd3786\"],[0.5555555555555556,\"#d8576b\"],[0.6666666666666666,\"#ed7953\"],[0.7777777777777778,\"#fb9f3a\"],[0.8888888888888888,\"#fdca26\"],[1.0,\"#f0f921\"]],\"type\":\"heatmapgl\"}],\"histogram\":[{\"marker\":{\"pattern\":{\"fillmode\":\"overlay\",\"size\":10,\"solidity\":0.2}},\"type\":\"histogram\"}],\"histogram2d\":[{\"colorbar\":{\"outlinewidth\":0,\"ticks\":\"\"},\"colorscale\":[[0.0,\"#0d0887\"],[0.1111111111111111,\"#46039f\"],[0.2222222222222222,\"#7201a8\"],[0.3333333333333333,\"#9c179e\"],[0.4444444444444444,\"#bd3786\"],[0.5555555555555556,\"#d8576b\"],[0.6666666666666666,\"#ed7953\"],[0.7777777777777778,\"#fb9f3a\"],[0.8888888888888888,\"#fdca26\"],[1.0,\"#f0f921\"]],\"type\":\"histogram2d\"}],\"histogram2dcontour\":[{\"colorbar\":{\"outlinewidth\":0,\"ticks\":\"\"},\"colorscale\":[[0.0,\"#0d0887\"],[0.1111111111111111,\"#46039f\"],[0.2222222222222222,\"#7201a8\"],[0.3333333333333333,\"#9c179e\"],[0.4444444444444444,\"#bd3786\"],[0.5555555555555556,\"#d8576b\"],[0.6666666666666666,\"#ed7953\"],[0.7777777777777778,\"#fb9f3a\"],[0.8888888888888888,\"#fdca26\"],[1.0,\"#f0f921\"]],\"type\":\"histogram2dcontour\"}],\"mesh3d\":[{\"colorbar\":{\"outlinewidth\":0,\"ticks\":\"\"},\"type\":\"mesh3d\"}],\"parcoords\":[{\"line\":{\"colorbar\":{\"outlinewidth\":0,\"ticks\":\"\"}},\"type\":\"parcoords\"}],\"pie\":[{\"automargin\":true,\"type\":\"pie\"}],\"scatter\":[{\"marker\":{\"colorbar\":{\"outlinewidth\":0,\"ticks\":\"\"}},\"type\":\"scatter\"}],\"scatter3d\":[{\"line\":{\"colorbar\":{\"outlinewidth\":0,\"ticks\":\"\"}},\"marker\":{\"colorbar\":{\"outlinewidth\":0,\"ticks\":\"\"}},\"type\":\"scatter3d\"}],\"scattercarpet\":[{\"marker\":{\"colorbar\":{\"outlinewidth\":0,\"ticks\":\"\"}},\"type\":\"scattercarpet\"}],\"scattergeo\":[{\"marker\":{\"colorbar\":{\"outlinewidth\":0,\"ticks\":\"\"}},\"type\":\"scattergeo\"}],\"scattergl\":[{\"marker\":{\"colorbar\":{\"outlinewidth\":0,\"ticks\":\"\"}},\"type\":\"scattergl\"}],\"scattermapbox\":[{\"marker\":{\"colorbar\":{\"outlinewidth\":0,\"ticks\":\"\"}},\"type\":\"scattermapbox\"}],\"scatterpolar\":[{\"marker\":{\"colorbar\":{\"outlinewidth\":0,\"ticks\":\"\"}},\"type\":\"scatterpolar\"}],\"scatterpolargl\":[{\"marker\":{\"colorbar\":{\"outlinewidth\":0,\"ticks\":\"\"}},\"type\":\"scatterpolargl\"}],\"scatterternary\":[{\"marker\":{\"colorbar\":{\"outlinewidth\":0,\"ticks\":\"\"}},\"type\":\"scatterternary\"}],\"surface\":[{\"colorbar\":{\"outlinewidth\":0,\"ticks\":\"\"},\"colorscale\":[[0.0,\"#0d0887\"],[0.1111111111111111,\"#46039f\"],[0.2222222222222222,\"#7201a8\"],[0.3333333333333333,\"#9c179e\"],[0.4444444444444444,\"#bd3786\"],[0.5555555555555556,\"#d8576b\"],[0.6666666666666666,\"#ed7953\"],[0.7777777777777778,\"#fb9f3a\"],[0.8888888888888888,\"#fdca26\"],[1.0,\"#f0f921\"]],\"type\":\"surface\"}],\"table\":[{\"cells\":{\"fill\":{\"color\":\"#EBF0F8\"},\"line\":{\"color\":\"white\"}},\"header\":{\"fill\":{\"color\":\"#C8D4E3\"},\"line\":{\"color\":\"white\"}},\"type\":\"table\"}]},\"layout\":{\"annotationdefaults\":{\"arrowcolor\":\"#2a3f5f\",\"arrowhead\":0,\"arrowwidth\":1},\"autotypenumbers\":\"strict\",\"coloraxis\":{\"colorbar\":{\"outlinewidth\":0,\"ticks\":\"\"}},\"colorscale\":{\"diverging\":[[0,\"#8e0152\"],[0.1,\"#c51b7d\"],[0.2,\"#de77ae\"],[0.3,\"#f1b6da\"],[0.4,\"#fde0ef\"],[0.5,\"#f7f7f7\"],[0.6,\"#e6f5d0\"],[0.7,\"#b8e186\"],[0.8,\"#7fbc41\"],[0.9,\"#4d9221\"],[1,\"#276419\"]],\"sequential\":[[0.0,\"#0d0887\"],[0.1111111111111111,\"#46039f\"],[0.2222222222222222,\"#7201a8\"],[0.3333333333333333,\"#9c179e\"],[0.4444444444444444,\"#bd3786\"],[0.5555555555555556,\"#d8576b\"],[0.6666666666666666,\"#ed7953\"],[0.7777777777777778,\"#fb9f3a\"],[0.8888888888888888,\"#fdca26\"],[1.0,\"#f0f921\"]],\"sequentialminus\":[[0.0,\"#0d0887\"],[0.1111111111111111,\"#46039f\"],[0.2222222222222222,\"#7201a8\"],[0.3333333333333333,\"#9c179e\"],[0.4444444444444444,\"#bd3786\"],[0.5555555555555556,\"#d8576b\"],[0.6666666666666666,\"#ed7953\"],[0.7777777777777778,\"#fb9f3a\"],[0.8888888888888888,\"#fdca26\"],[1.0,\"#f0f921\"]]},\"colorway\":[\"#636efa\",\"#EF553B\",\"#00cc96\",\"#ab63fa\",\"#FFA15A\",\"#19d3f3\",\"#FF6692\",\"#B6E880\",\"#FF97FF\",\"#FECB52\"],\"font\":{\"color\":\"#2a3f5f\"},\"geo\":{\"bgcolor\":\"white\",\"lakecolor\":\"white\",\"landcolor\":\"#E5ECF6\",\"showlakes\":true,\"showland\":true,\"subunitcolor\":\"white\"},\"hoverlabel\":{\"align\":\"left\"},\"hovermode\":\"closest\",\"mapbox\":{\"style\":\"light\"},\"paper_bgcolor\":\"white\",\"plot_bgcolor\":\"#E5ECF6\",\"polar\":{\"angularaxis\":{\"gridcolor\":\"white\",\"linecolor\":\"white\",\"ticks\":\"\"},\"bgcolor\":\"#E5ECF6\",\"radialaxis\":{\"gridcolor\":\"white\",\"linecolor\":\"white\",\"ticks\":\"\"}},\"scene\":{\"xaxis\":{\"backgroundcolor\":\"#E5ECF6\",\"gridcolor\":\"white\",\"gridwidth\":2,\"linecolor\":\"white\",\"showbackground\":true,\"ticks\":\"\",\"zerolinecolor\":\"white\"},\"yaxis\":{\"backgroundcolor\":\"#E5ECF6\",\"gridcolor\":\"white\",\"gridwidth\":2,\"linecolor\":\"white\",\"showbackground\":true,\"ticks\":\"\",\"zerolinecolor\":\"white\"},\"zaxis\":{\"backgroundcolor\":\"#E5ECF6\",\"gridcolor\":\"white\",\"gridwidth\":2,\"linecolor\":\"white\",\"showbackground\":true,\"ticks\":\"\",\"zerolinecolor\":\"white\"}},\"shapedefaults\":{\"line\":{\"color\":\"#2a3f5f\"}},\"ternary\":{\"aaxis\":{\"gridcolor\":\"white\",\"linecolor\":\"white\",\"ticks\":\"\"},\"baxis\":{\"gridcolor\":\"white\",\"linecolor\":\"white\",\"ticks\":\"\"},\"bgcolor\":\"#E5ECF6\",\"caxis\":{\"gridcolor\":\"white\",\"linecolor\":\"white\",\"ticks\":\"\"}},\"title\":{\"x\":0.05},\"xaxis\":{\"automargin\":true,\"gridcolor\":\"white\",\"linecolor\":\"white\",\"ticks\":\"\",\"title\":{\"standoff\":15},\"zerolinecolor\":\"white\",\"zerolinewidth\":2},\"yaxis\":{\"automargin\":true,\"gridcolor\":\"white\",\"linecolor\":\"white\",\"ticks\":\"\",\"title\":{\"standoff\":15},\"zerolinecolor\":\"white\",\"zerolinewidth\":2}}},\"xaxis\":{\"anchor\":\"y\",\"domain\":[0.0,0.1075],\"title\":{\"text\":\"pu\"}},\"yaxis\":{\"anchor\":\"x\",\"domain\":[0.0,1.0],\"title\":{\"text\":\"sales\"}},\"xaxis2\":{\"anchor\":\"y2\",\"domain\":[0.1275,0.235],\"matches\":\"x\",\"title\":{\"text\":\"pu\"}},\"yaxis2\":{\"anchor\":\"x2\",\"domain\":[0.0,1.0],\"matches\":\"y\",\"showticklabels\":false},\"xaxis3\":{\"anchor\":\"y3\",\"domain\":[0.255,0.3625],\"matches\":\"x\",\"title\":{\"text\":\"pu\"}},\"yaxis3\":{\"anchor\":\"x3\",\"domain\":[0.0,1.0],\"matches\":\"y\",\"showticklabels\":false},\"xaxis4\":{\"anchor\":\"y4\",\"domain\":[0.3825,0.49],\"matches\":\"x\",\"title\":{\"text\":\"pu\"}},\"yaxis4\":{\"anchor\":\"x4\",\"domain\":[0.0,1.0],\"matches\":\"y\",\"showticklabels\":false},\"xaxis5\":{\"anchor\":\"y5\",\"domain\":[0.51,0.6175],\"matches\":\"x\",\"title\":{\"text\":\"pu\"}},\"yaxis5\":{\"anchor\":\"x5\",\"domain\":[0.0,1.0],\"matches\":\"y\",\"showticklabels\":false},\"xaxis6\":{\"anchor\":\"y6\",\"domain\":[0.6375,0.745],\"matches\":\"x\",\"title\":{\"text\":\"pu\"}},\"yaxis6\":{\"anchor\":\"x6\",\"domain\":[0.0,1.0],\"matches\":\"y\",\"showticklabels\":false},\"xaxis7\":{\"anchor\":\"y7\",\"domain\":[0.765,0.8725],\"matches\":\"x\",\"title\":{\"text\":\"pu\"}},\"yaxis7\":{\"anchor\":\"x7\",\"domain\":[0.0,1.0],\"matches\":\"y\",\"showticklabels\":false},\"xaxis8\":{\"anchor\":\"y8\",\"domain\":[0.8925000000000001,1.0],\"matches\":\"x\",\"title\":{\"text\":\"pu\"}},\"yaxis8\":{\"anchor\":\"x8\",\"domain\":[0.0,1.0],\"matches\":\"y\",\"showticklabels\":false},\"annotations\":[{\"font\":{},\"showarrow\":false,\"text\":\"pickup_shop_name=\\ud53d\\uc5c5\\uc874(GS25 \\ubaa9\\ub3d93\\ub3d9\\uc810)\",\"x\":0.05375,\"xanchor\":\"center\",\"xref\":\"paper\",\"y\":1.0,\"yanchor\":\"bottom\",\"yref\":\"paper\"},{\"font\":{},\"showarrow\":false,\"text\":\"pickup_shop_name=\\ud53d\\uc5c5\\uc874(GS\\uc601\\ub4f1\\ud3ec\\ub2f9\\uc0b0\\uc810)\",\"x\":0.18125,\"xanchor\":\"center\",\"xref\":\"paper\",\"y\":1.0,\"yanchor\":\"bottom\",\"yref\":\"paper\"},{\"font\":{},\"showarrow\":false,\"text\":\"pickup_shop_name=\\ud53d\\uc5c5\\uc874(\\ub2e4\\uc774\\uc18c \\ub09c\\uace1\\uc0ac\\uac70\\ub9ac\\uc810)\",\"x\":0.30874999999999997,\"xanchor\":\"center\",\"xref\":\"paper\",\"y\":1.0,\"yanchor\":\"bottom\",\"yref\":\"paper\"},{\"font\":{},\"showarrow\":false,\"text\":\"pickup_shop_name=\\ud53d\\uc5c5\\uc874(\\ub354\\ud604\\ub300\\uc11c\\uc6b8)\",\"x\":0.43625,\"xanchor\":\"center\",\"xref\":\"paper\",\"y\":1.0,\"yanchor\":\"bottom\",\"yref\":\"paper\"},{\"font\":{},\"showarrow\":false,\"text\":\"pickup_shop_name=\\ud53d\\uc5c5\\uc874(\\uba54\\uc774\\ube44\\uce74\\ud398)\",\"x\":0.56375,\"xanchor\":\"center\",\"xref\":\"paper\",\"y\":1.0,\"yanchor\":\"bottom\",\"yref\":\"paper\"},{\"font\":{},\"showarrow\":false,\"text\":\"pickup_shop_name=\\ud53d\\uc5c5\\uc874(\\uc11c\\uc6b8\\ub4dc\\ub9bc\\uc2e0\\uc6a9\\ud611\\ub3d9\\uc870\\ud569)\",\"x\":0.6912499999999999,\"xanchor\":\"center\",\"xref\":\"paper\",\"y\":1.0,\"yanchor\":\"bottom\",\"yref\":\"paper\"},{\"font\":{},\"showarrow\":false,\"text\":\"pickup_shop_name=\\ud53d\\uc5c5\\uc874(\\uc720\\uc2b9\\uc0c1\\uac00)\",\"x\":0.8187500000000001,\"xanchor\":\"center\",\"xref\":\"paper\",\"y\":1.0,\"yanchor\":\"bottom\",\"yref\":\"paper\"},{\"font\":{},\"showarrow\":false,\"text\":\"pickup_shop_name=\\ud53d\\uc5c5\\uc874(\\ucc38\\ub9db\\ubd80\\ub300\\ucc0c\\uac1c\\uc544\\uad6c\\ucc1c)\",\"x\":0.94625,\"xanchor\":\"center\",\"xref\":\"paper\",\"y\":1.0,\"yanchor\":\"bottom\",\"yref\":\"paper\"}],\"legend\":{\"tracegroupgap\":0},\"margin\":{\"t\":60}},                        {\"responsive\": true}                    ).then(function(){\n",
              "                            \n",
              "var gd = document.getElementById('fbaa97f5-1c49-458a-8f7b-037e79fe48d7');\n",
              "var x = new MutationObserver(function (mutations, observer) {{\n",
              "        var display = window.getComputedStyle(gd).display;\n",
              "        if (!display || display === 'none') {{\n",
              "            console.log([gd, 'removed!']);\n",
              "            Plotly.purge(gd);\n",
              "            observer.disconnect();\n",
              "        }}\n",
              "}});\n",
              "\n",
              "// Listen for the removal of the full notebook cells\n",
              "var notebookContainer = gd.closest('#notebook-container');\n",
              "if (notebookContainer) {{\n",
              "    x.observe(notebookContainer, {childList: true});\n",
              "}}\n",
              "\n",
              "// Listen for the clearing of the current output cell\n",
              "var outputEl = gd.closest('.output');\n",
              "if (outputEl) {{\n",
              "    x.observe(outputEl, {childList: true});\n",
              "}}\n",
              "\n",
              "                        })                };                            </script>        </div>\n",
              "</body>\n",
              "</html>"
            ]
          },
          "metadata": {}
        }
      ]
    },
    {
      "cell_type": "code",
      "source": [
        "## << PU & SALES 산점도 - 픽업 매장별 분리 도식 >>\n",
        "\n",
        "import plotly.graph_objects as go\n",
        "\n",
        "fig = go.Figure()\n",
        "fig.add_trace(\n",
        "    go.Scatter(\n",
        "        x = salesTemp[salesTemp['pickup_shop_name'] == '픽업존(유승상가)']['pu'],\n",
        "        y = salesTemp[salesTemp['pickup_shop_name'] == '픽업존(유승상가)']['sales'],\n",
        "        name = \"픽업존(유승상가)\",\n",
        "        mode = \"markers\", # lines+markers\n",
        "        # marker_color = \"lightgray\",\n",
        "    )\n",
        ")\n",
        "\n",
        "fig.add_trace(\n",
        "    go.Scatter(\n",
        "        x = salesTemp[salesTemp['pickup_shop_name'] == '픽업존(GS영등포당산점)']['pu'],\n",
        "        y = salesTemp[salesTemp['pickup_shop_name'] == '픽업존(GS영등포당산점)']['sales'],\n",
        "        name = \"픽업존(GS영등포당산점)\",\n",
        "        mode = \"markers\", # lines+markers\n",
        "        # marker_color = \"crimson\",\n",
        "    )\n",
        ")\n",
        "\n",
        "# fig의 mode에 대해서는 밑에서 일괄 적용하는것이 가능하다.\n",
        "# fig.update_traces(mode='markers', marker_line_width=0.5, marker_size=10) \n",
        "\n",
        "fig.show()"
      ],
      "metadata": {
        "colab": {
          "base_uri": "https://localhost:8080/",
          "height": 542
        },
        "id": "bYq4zkym4VDl",
        "outputId": "0827f5a9-91c6-4e69-9130-240293b378a6"
      },
      "execution_count": null,
      "outputs": [
        {
          "output_type": "display_data",
          "data": {
            "text/html": [
              "<html>\n",
              "<head><meta charset=\"utf-8\" /></head>\n",
              "<body>\n",
              "    <div>            <script src=\"https://cdnjs.cloudflare.com/ajax/libs/mathjax/2.7.5/MathJax.js?config=TeX-AMS-MML_SVG\"></script><script type=\"text/javascript\">if (window.MathJax) {MathJax.Hub.Config({SVG: {font: \"STIX-Web\"}});}</script>                <script type=\"text/javascript\">window.PlotlyConfig = {MathJaxConfig: 'local'};</script>\n",
              "        <script src=\"https://cdn.plot.ly/plotly-2.8.3.min.js\"></script>                <div id=\"e31f59f7-a105-492e-a2d6-cf631296501d\" class=\"plotly-graph-div\" style=\"height:525px; width:100%;\"></div>            <script type=\"text/javascript\">                                    window.PLOTLYENV=window.PLOTLYENV || {};                                    if (document.getElementById(\"e31f59f7-a105-492e-a2d6-cf631296501d\")) {                    Plotly.newPlot(                        \"e31f59f7-a105-492e-a2d6-cf631296501d\",                        [{\"mode\":\"markers\",\"name\":\"\\ud53d\\uc5c5\\uc874(\\uc720\\uc2b9\\uc0c1\\uac00)\",\"x\":[11,14,20,161,166,47,15,1,71,54,53,192,116,11,2,110,151,325,61,186,53,11,14,60,75,59,226,116,18,48,94,39,121,264,16,9,5,87,83,58,90,309,39,22,9,39,136,37,120,5,6,67,5,21,116,7,4,10,148,30,23,99,14,5,87,97,71,16,144,17,7,101,15,116,140,99,32,15,83,75,23,77,48,56,16,115,22,138,39,12,52,50,140,11,80,28,8,17,122,86,31,108,31,4,3,16,129,88,142,73,12,4,59,114,69,13,16,59,137,23,87,35,11,10,51,15,67,75,29,24,4,119,8,5,4,98,118,23,54,117,57,8,21,87,64,67,30,87,5,1,12,69,45,62,107,21,14,67,101,10,80,89,14,15,17,131,64,13,69,30,41,70,98,61,83,29,3,9,148,73,81,95,70,24,97,98,56,138,80,82,22,91,136,106,117,89,46,94,124,155,88,88,89,60,1,4,208,83],\"y\":[198000.0,402000.0,390000.0,3058000.0,3979000.0,790100.0,229300.0,9000.0,1055700.0,1581200.0,1235000.0,3783000.0,1784500.0,237500.0,68000.0,2076600.0,2059400.0,8115800.0,1504300.0,3650500.0,884400.0,185500.0,364000.0,1494000.0,947000.0,1574000.0,4954300.0,1969800.0,518700.0,900000.0,1832000.0,845000.0,2200900.0,3935200.0,167900.0,143500.0,68500.0,2068800.0,1796400.0,1062800.0,2015900.0,6689400.0,821900.0,398000.0,115000.0,769400.0,2306000.0,896800.0,2190200.0,100000.0,111000.0,1503000.0,85000.0,398000.0,1976200.0,67500.0,53800.0,172500.0,2841300.0,584000.0,632000.0,1811500.0,227600.0,160500.0,1388200.0,2545900.0,1417600.0,251900.0,2661100.0,237300.0,101900.0,1739000.0,420600.0,2584500.0,2641200.0,2040600.0,562100.0,271100.0,1393200.0,2030800.0,888000.0,1276600.0,1305400.0,786800.0,295500.0,2080700.0,446400.0,3018700.0,783300.0,226900.0,933800.0,967000.0,2499100.0,206700.0,1082600.0,557100.0,190800.0,352900.0,2506000.0,2000000.0,587000.0,2166500.0,524200.0,47400.0,18000.0,251800.0,2568000.0,2016400.0,2363000.0,1336100.0,176700.0,66000.0,946000.0,2942100.0,1576400.0,415000.0,498100.0,1548300.0,2894800.0,664900.0,1463300.0,595700.0,162000.0,256400.0,1273700.0,272400.0,1527000.0,1822000.0,526000.0,571700.0,100400.0,2140000.0,168500.0,109600.0,43900.0,1991200.0,2515500.0,370200.0,1082800.0,2199000.0,1304300.0,162700.0,460000.0,1383000.0,1400500.0,1034000.0,510500.0,1494500.0,89500.0,14000.0,195000.0,942300.0,560800.0,1867400.0,2369000.0,262200.0,191700.0,1176500.0,1886700.0,172800.0,1804700.0,1723000.0,343000.0,316000.0,344000.0,2816800.0,1096700.0,370100.0,1117500.0,583500.0,854700.0,1156700.0,2090400.0,966000.0,1318300.0,599500.0,53500.0,213000.0,2849100.0,1137700.0,1692600.0,1741400.0,1767500.0,463100.0,1732600.0,2118200.0,1379500.0,2928900.0,1592900.0,2510300.0,601000.0,2280300.0,2908100.0,2804500.0,2007500.0,1033400.0,685900.0,1813300.0,2880800.0,3195800.0,2029200.0,1547400.0,1605800.0,934700.0,10700.0,80000.0,3979300.0,1752300.0],\"type\":\"scatter\"},{\"mode\":\"markers\",\"name\":\"\\ud53d\\uc5c5\\uc874(GS\\uc601\\ub4f1\\ud3ec\\ub2f9\\uc0b0\\uc810)\",\"x\":[59,74,54,94,35,20,22,92,58,134,40,62,25,78,116,83,69,72,44,16,152,48],\"y\":[1565200.0,1838400.0,1416500.0,2290800.0,794600.0,613400.0,775500.0,2641700.0,1433700.0,4275500.0,735300.0,1757200.0,545900.0,1411700.0,3081100.0,2104400.0,1690500.0,1323700.0,1200000.0,506900.0,3637500.0,938200.0],\"type\":\"scatter\"}],                        {\"template\":{\"data\":{\"bar\":[{\"error_x\":{\"color\":\"#2a3f5f\"},\"error_y\":{\"color\":\"#2a3f5f\"},\"marker\":{\"line\":{\"color\":\"#E5ECF6\",\"width\":0.5},\"pattern\":{\"fillmode\":\"overlay\",\"size\":10,\"solidity\":0.2}},\"type\":\"bar\"}],\"barpolar\":[{\"marker\":{\"line\":{\"color\":\"#E5ECF6\",\"width\":0.5},\"pattern\":{\"fillmode\":\"overlay\",\"size\":10,\"solidity\":0.2}},\"type\":\"barpolar\"}],\"carpet\":[{\"aaxis\":{\"endlinecolor\":\"#2a3f5f\",\"gridcolor\":\"white\",\"linecolor\":\"white\",\"minorgridcolor\":\"white\",\"startlinecolor\":\"#2a3f5f\"},\"baxis\":{\"endlinecolor\":\"#2a3f5f\",\"gridcolor\":\"white\",\"linecolor\":\"white\",\"minorgridcolor\":\"white\",\"startlinecolor\":\"#2a3f5f\"},\"type\":\"carpet\"}],\"choropleth\":[{\"colorbar\":{\"outlinewidth\":0,\"ticks\":\"\"},\"type\":\"choropleth\"}],\"contour\":[{\"colorbar\":{\"outlinewidth\":0,\"ticks\":\"\"},\"colorscale\":[[0.0,\"#0d0887\"],[0.1111111111111111,\"#46039f\"],[0.2222222222222222,\"#7201a8\"],[0.3333333333333333,\"#9c179e\"],[0.4444444444444444,\"#bd3786\"],[0.5555555555555556,\"#d8576b\"],[0.6666666666666666,\"#ed7953\"],[0.7777777777777778,\"#fb9f3a\"],[0.8888888888888888,\"#fdca26\"],[1.0,\"#f0f921\"]],\"type\":\"contour\"}],\"contourcarpet\":[{\"colorbar\":{\"outlinewidth\":0,\"ticks\":\"\"},\"type\":\"contourcarpet\"}],\"heatmap\":[{\"colorbar\":{\"outlinewidth\":0,\"ticks\":\"\"},\"colorscale\":[[0.0,\"#0d0887\"],[0.1111111111111111,\"#46039f\"],[0.2222222222222222,\"#7201a8\"],[0.3333333333333333,\"#9c179e\"],[0.4444444444444444,\"#bd3786\"],[0.5555555555555556,\"#d8576b\"],[0.6666666666666666,\"#ed7953\"],[0.7777777777777778,\"#fb9f3a\"],[0.8888888888888888,\"#fdca26\"],[1.0,\"#f0f921\"]],\"type\":\"heatmap\"}],\"heatmapgl\":[{\"colorbar\":{\"outlinewidth\":0,\"ticks\":\"\"},\"colorscale\":[[0.0,\"#0d0887\"],[0.1111111111111111,\"#46039f\"],[0.2222222222222222,\"#7201a8\"],[0.3333333333333333,\"#9c179e\"],[0.4444444444444444,\"#bd3786\"],[0.5555555555555556,\"#d8576b\"],[0.6666666666666666,\"#ed7953\"],[0.7777777777777778,\"#fb9f3a\"],[0.8888888888888888,\"#fdca26\"],[1.0,\"#f0f921\"]],\"type\":\"heatmapgl\"}],\"histogram\":[{\"marker\":{\"pattern\":{\"fillmode\":\"overlay\",\"size\":10,\"solidity\":0.2}},\"type\":\"histogram\"}],\"histogram2d\":[{\"colorbar\":{\"outlinewidth\":0,\"ticks\":\"\"},\"colorscale\":[[0.0,\"#0d0887\"],[0.1111111111111111,\"#46039f\"],[0.2222222222222222,\"#7201a8\"],[0.3333333333333333,\"#9c179e\"],[0.4444444444444444,\"#bd3786\"],[0.5555555555555556,\"#d8576b\"],[0.6666666666666666,\"#ed7953\"],[0.7777777777777778,\"#fb9f3a\"],[0.8888888888888888,\"#fdca26\"],[1.0,\"#f0f921\"]],\"type\":\"histogram2d\"}],\"histogram2dcontour\":[{\"colorbar\":{\"outlinewidth\":0,\"ticks\":\"\"},\"colorscale\":[[0.0,\"#0d0887\"],[0.1111111111111111,\"#46039f\"],[0.2222222222222222,\"#7201a8\"],[0.3333333333333333,\"#9c179e\"],[0.4444444444444444,\"#bd3786\"],[0.5555555555555556,\"#d8576b\"],[0.6666666666666666,\"#ed7953\"],[0.7777777777777778,\"#fb9f3a\"],[0.8888888888888888,\"#fdca26\"],[1.0,\"#f0f921\"]],\"type\":\"histogram2dcontour\"}],\"mesh3d\":[{\"colorbar\":{\"outlinewidth\":0,\"ticks\":\"\"},\"type\":\"mesh3d\"}],\"parcoords\":[{\"line\":{\"colorbar\":{\"outlinewidth\":0,\"ticks\":\"\"}},\"type\":\"parcoords\"}],\"pie\":[{\"automargin\":true,\"type\":\"pie\"}],\"scatter\":[{\"marker\":{\"colorbar\":{\"outlinewidth\":0,\"ticks\":\"\"}},\"type\":\"scatter\"}],\"scatter3d\":[{\"line\":{\"colorbar\":{\"outlinewidth\":0,\"ticks\":\"\"}},\"marker\":{\"colorbar\":{\"outlinewidth\":0,\"ticks\":\"\"}},\"type\":\"scatter3d\"}],\"scattercarpet\":[{\"marker\":{\"colorbar\":{\"outlinewidth\":0,\"ticks\":\"\"}},\"type\":\"scattercarpet\"}],\"scattergeo\":[{\"marker\":{\"colorbar\":{\"outlinewidth\":0,\"ticks\":\"\"}},\"type\":\"scattergeo\"}],\"scattergl\":[{\"marker\":{\"colorbar\":{\"outlinewidth\":0,\"ticks\":\"\"}},\"type\":\"scattergl\"}],\"scattermapbox\":[{\"marker\":{\"colorbar\":{\"outlinewidth\":0,\"ticks\":\"\"}},\"type\":\"scattermapbox\"}],\"scatterpolar\":[{\"marker\":{\"colorbar\":{\"outlinewidth\":0,\"ticks\":\"\"}},\"type\":\"scatterpolar\"}],\"scatterpolargl\":[{\"marker\":{\"colorbar\":{\"outlinewidth\":0,\"ticks\":\"\"}},\"type\":\"scatterpolargl\"}],\"scatterternary\":[{\"marker\":{\"colorbar\":{\"outlinewidth\":0,\"ticks\":\"\"}},\"type\":\"scatterternary\"}],\"surface\":[{\"colorbar\":{\"outlinewidth\":0,\"ticks\":\"\"},\"colorscale\":[[0.0,\"#0d0887\"],[0.1111111111111111,\"#46039f\"],[0.2222222222222222,\"#7201a8\"],[0.3333333333333333,\"#9c179e\"],[0.4444444444444444,\"#bd3786\"],[0.5555555555555556,\"#d8576b\"],[0.6666666666666666,\"#ed7953\"],[0.7777777777777778,\"#fb9f3a\"],[0.8888888888888888,\"#fdca26\"],[1.0,\"#f0f921\"]],\"type\":\"surface\"}],\"table\":[{\"cells\":{\"fill\":{\"color\":\"#EBF0F8\"},\"line\":{\"color\":\"white\"}},\"header\":{\"fill\":{\"color\":\"#C8D4E3\"},\"line\":{\"color\":\"white\"}},\"type\":\"table\"}]},\"layout\":{\"annotationdefaults\":{\"arrowcolor\":\"#2a3f5f\",\"arrowhead\":0,\"arrowwidth\":1},\"autotypenumbers\":\"strict\",\"coloraxis\":{\"colorbar\":{\"outlinewidth\":0,\"ticks\":\"\"}},\"colorscale\":{\"diverging\":[[0,\"#8e0152\"],[0.1,\"#c51b7d\"],[0.2,\"#de77ae\"],[0.3,\"#f1b6da\"],[0.4,\"#fde0ef\"],[0.5,\"#f7f7f7\"],[0.6,\"#e6f5d0\"],[0.7,\"#b8e186\"],[0.8,\"#7fbc41\"],[0.9,\"#4d9221\"],[1,\"#276419\"]],\"sequential\":[[0.0,\"#0d0887\"],[0.1111111111111111,\"#46039f\"],[0.2222222222222222,\"#7201a8\"],[0.3333333333333333,\"#9c179e\"],[0.4444444444444444,\"#bd3786\"],[0.5555555555555556,\"#d8576b\"],[0.6666666666666666,\"#ed7953\"],[0.7777777777777778,\"#fb9f3a\"],[0.8888888888888888,\"#fdca26\"],[1.0,\"#f0f921\"]],\"sequentialminus\":[[0.0,\"#0d0887\"],[0.1111111111111111,\"#46039f\"],[0.2222222222222222,\"#7201a8\"],[0.3333333333333333,\"#9c179e\"],[0.4444444444444444,\"#bd3786\"],[0.5555555555555556,\"#d8576b\"],[0.6666666666666666,\"#ed7953\"],[0.7777777777777778,\"#fb9f3a\"],[0.8888888888888888,\"#fdca26\"],[1.0,\"#f0f921\"]]},\"colorway\":[\"#636efa\",\"#EF553B\",\"#00cc96\",\"#ab63fa\",\"#FFA15A\",\"#19d3f3\",\"#FF6692\",\"#B6E880\",\"#FF97FF\",\"#FECB52\"],\"font\":{\"color\":\"#2a3f5f\"},\"geo\":{\"bgcolor\":\"white\",\"lakecolor\":\"white\",\"landcolor\":\"#E5ECF6\",\"showlakes\":true,\"showland\":true,\"subunitcolor\":\"white\"},\"hoverlabel\":{\"align\":\"left\"},\"hovermode\":\"closest\",\"mapbox\":{\"style\":\"light\"},\"paper_bgcolor\":\"white\",\"plot_bgcolor\":\"#E5ECF6\",\"polar\":{\"angularaxis\":{\"gridcolor\":\"white\",\"linecolor\":\"white\",\"ticks\":\"\"},\"bgcolor\":\"#E5ECF6\",\"radialaxis\":{\"gridcolor\":\"white\",\"linecolor\":\"white\",\"ticks\":\"\"}},\"scene\":{\"xaxis\":{\"backgroundcolor\":\"#E5ECF6\",\"gridcolor\":\"white\",\"gridwidth\":2,\"linecolor\":\"white\",\"showbackground\":true,\"ticks\":\"\",\"zerolinecolor\":\"white\"},\"yaxis\":{\"backgroundcolor\":\"#E5ECF6\",\"gridcolor\":\"white\",\"gridwidth\":2,\"linecolor\":\"white\",\"showbackground\":true,\"ticks\":\"\",\"zerolinecolor\":\"white\"},\"zaxis\":{\"backgroundcolor\":\"#E5ECF6\",\"gridcolor\":\"white\",\"gridwidth\":2,\"linecolor\":\"white\",\"showbackground\":true,\"ticks\":\"\",\"zerolinecolor\":\"white\"}},\"shapedefaults\":{\"line\":{\"color\":\"#2a3f5f\"}},\"ternary\":{\"aaxis\":{\"gridcolor\":\"white\",\"linecolor\":\"white\",\"ticks\":\"\"},\"baxis\":{\"gridcolor\":\"white\",\"linecolor\":\"white\",\"ticks\":\"\"},\"bgcolor\":\"#E5ECF6\",\"caxis\":{\"gridcolor\":\"white\",\"linecolor\":\"white\",\"ticks\":\"\"}},\"title\":{\"x\":0.05},\"xaxis\":{\"automargin\":true,\"gridcolor\":\"white\",\"linecolor\":\"white\",\"ticks\":\"\",\"title\":{\"standoff\":15},\"zerolinecolor\":\"white\",\"zerolinewidth\":2},\"yaxis\":{\"automargin\":true,\"gridcolor\":\"white\",\"linecolor\":\"white\",\"ticks\":\"\",\"title\":{\"standoff\":15},\"zerolinecolor\":\"white\",\"zerolinewidth\":2}}}},                        {\"responsive\": true}                    ).then(function(){\n",
              "                            \n",
              "var gd = document.getElementById('e31f59f7-a105-492e-a2d6-cf631296501d');\n",
              "var x = new MutationObserver(function (mutations, observer) {{\n",
              "        var display = window.getComputedStyle(gd).display;\n",
              "        if (!display || display === 'none') {{\n",
              "            console.log([gd, 'removed!']);\n",
              "            Plotly.purge(gd);\n",
              "            observer.disconnect();\n",
              "        }}\n",
              "}});\n",
              "\n",
              "// Listen for the removal of the full notebook cells\n",
              "var notebookContainer = gd.closest('#notebook-container');\n",
              "if (notebookContainer) {{\n",
              "    x.observe(notebookContainer, {childList: true});\n",
              "}}\n",
              "\n",
              "// Listen for the clearing of the current output cell\n",
              "var outputEl = gd.closest('.output');\n",
              "if (outputEl) {{\n",
              "    x.observe(outputEl, {childList: true});\n",
              "}}\n",
              "\n",
              "                        })                };                            </script>        </div>\n",
              "</body>\n",
              "</html>"
            ]
          },
          "metadata": {}
        }
      ]
    },
    {
      "cell_type": "code",
      "source": [
        "salesIndexDf.info()"
      ],
      "metadata": {
        "colab": {
          "base_uri": "https://localhost:8080/"
        },
        "id": "wf90TPMoil1X",
        "outputId": "c95f9a96-f127-4f9d-ee78-42c3b9313582"
      },
      "execution_count": null,
      "outputs": [
        {
          "output_type": "stream",
          "name": "stdout",
          "text": [
            "<class 'pandas.core.frame.DataFrame'>\n",
            "RangeIndex: 897 entries, 0 to 896\n",
            "Data columns (total 7 columns):\n",
            " #   Column            Non-Null Count  Dtype         \n",
            "---  ------            --------------  -----         \n",
            " 0   pickup_shop_name  897 non-null    object        \n",
            " 1   order_year_month  897 non-null    object        \n",
            " 2   order_date        897 non-null    datetime64[ns]\n",
            " 3   sales             897 non-null    Int64         \n",
            " 4   pu                897 non-null    Int64         \n",
            " 5   purchase_count    897 non-null    Int64         \n",
            " 6   arppu             897 non-null    float64       \n",
            "dtypes: Int64(3), datetime64[ns](1), float64(1), object(2)\n",
            "memory usage: 51.8+ KB\n"
          ]
        }
      ]
    },
    {
      "cell_type": "code",
      "source": [
        "import plotly.express as px\n",
        "\n",
        "# 데이터 핸들링\n",
        "\n",
        "# trendline 설정 error 수정.\n",
        "salesIndexDf['pu'] = salesIndexDf['pu'].astype('float')\n",
        "salesIndexDf['sales'] = salesIndexDf['sales'].astype('float')\n",
        "\n",
        "fig = px.scatter(salesIndexDf,\n",
        "                 x = 'pu',\n",
        "                 y = 'sales',\n",
        "                 color = 'pickup_shop_name',\n",
        "                 facet_col = 'order_year_month', )# 표를 분리하기 위한 기준 컬럼 설정 (행기준 적용시 > facet_row 사용)\n",
        "                #  facet_col_wrap=4, # 몇개를 기준으로 줄바꿈을 할지 설정 \n",
        "                #  trendline='ols')\n",
        "\n",
        "fig.show()"
      ],
      "metadata": {
        "colab": {
          "base_uri": "https://localhost:8080/",
          "height": 542
        },
        "id": "996_0f-_-L94",
        "outputId": "afeff7e6-9701-46a9-d895-dda9a93aee8a"
      },
      "execution_count": null,
      "outputs": [
        {
          "output_type": "display_data",
          "data": {
            "text/html": [
              "<html>\n",
              "<head><meta charset=\"utf-8\" /></head>\n",
              "<body>\n",
              "    <div>            <script src=\"https://cdnjs.cloudflare.com/ajax/libs/mathjax/2.7.5/MathJax.js?config=TeX-AMS-MML_SVG\"></script><script type=\"text/javascript\">if (window.MathJax) {MathJax.Hub.Config({SVG: {font: \"STIX-Web\"}});}</script>                <script type=\"text/javascript\">window.PlotlyConfig = {MathJaxConfig: 'local'};</script>\n",
              "        <script src=\"https://cdn.plot.ly/plotly-2.8.3.min.js\"></script>                <div id=\"335f88f5-d37a-41df-9b0a-c142167bbbfc\" class=\"plotly-graph-div\" style=\"height:525px; width:100%;\"></div>            <script type=\"text/javascript\">                                    window.PLOTLYENV=window.PLOTLYENV || {};                                    if (document.getElementById(\"335f88f5-d37a-41df-9b0a-c142167bbbfc\")) {                    Plotly.newPlot(                        \"335f88f5-d37a-41df-9b0a-c142167bbbfc\",                        [{\"hovertemplate\":\"pickup_shop_name=\\ud53d\\uc5c5\\uc874(\\ub354\\ud604\\ub300\\uc11c\\uc6b8)<br>order_year_month=2022-11<br>pu=%{x}<br>sales=%{y}<extra></extra>\",\"legendgroup\":\"\\ud53d\\uc5c5\\uc874(\\ub354\\ud604\\ub300\\uc11c\\uc6b8)\",\"marker\":{\"color\":\"#636efa\",\"symbol\":\"circle\"},\"mode\":\"markers\",\"name\":\"\\ud53d\\uc5c5\\uc874(\\ub354\\ud604\\ub300\\uc11c\\uc6b8)\",\"orientation\":\"v\",\"showlegend\":true,\"x\":[8.0,7.0,5.0,3.0,5.0,1.0,3.0,1.0,1.0,4.0,4.0,7.0,4.0,1.0,2.0,1.0],\"xaxis\":\"x\",\"y\":[107800.0,177700.0,156300.0,35400.0,113500.0,9500.0,47700.0,26700.0,54000.0,52200.0,129400.0,149700.0,41400.0,20000.0,38600.0,39600.0],\"yaxis\":\"y\",\"type\":\"scatter\"},{\"hovertemplate\":\"pickup_shop_name=\\ud53d\\uc5c5\\uc874(\\uc720\\uc2b9\\uc0c1\\uac00)<br>order_year_month=2022-11<br>pu=%{x}<br>sales=%{y}<extra></extra>\",\"legendgroup\":\"\\ud53d\\uc5c5\\uc874(\\uc720\\uc2b9\\uc0c1\\uac00)\",\"marker\":{\"color\":\"#EF553B\",\"symbol\":\"circle\"},\"mode\":\"markers\",\"name\":\"\\ud53d\\uc5c5\\uc874(\\uc720\\uc2b9\\uc0c1\\uac00)\",\"orientation\":\"v\",\"showlegend\":true,\"x\":[208.0,83.0,98.0,56.0,46.0,94.0,91.0,138.0,80.0,82.0,136.0,22.0,155.0,89.0,88.0,88.0,70.0,81.0,95.0,24.0,97.0,106.0,4.0,124.0,117.0,89.0,148.0,73.0,60.0,1.0],\"xaxis\":\"x\",\"y\":[3979300.0,1752300.0,2118200.0,1379500.0,685900.0,1813300.0,2280300.0,2928900.0,1592900.0,2510300.0,2908100.0,601000.0,3195800.0,1605800.0,1547400.0,2029200.0,1767500.0,1692600.0,1741400.0,463100.0,1732600.0,2804500.0,80000.0,2880800.0,2007500.0,1033400.0,2849100.0,1137700.0,934700.0,10700.0],\"yaxis\":\"y\",\"type\":\"scatter\"},{\"hovertemplate\":\"pickup_shop_name=\\ud53d\\uc5c5\\uc874(\\uc720\\uc2b9\\uc0c1\\uac00)<br>order_year_month=2022-10<br>pu=%{x}<br>sales=%{y}<extra></extra>\",\"legendgroup\":\"\\ud53d\\uc5c5\\uc874(\\uc720\\uc2b9\\uc0c1\\uac00)\",\"marker\":{\"color\":\"#EF553B\",\"symbol\":\"circle\"},\"mode\":\"markers\",\"name\":\"\\ud53d\\uc5c5\\uc874(\\uc720\\uc2b9\\uc0c1\\uac00)\",\"orientation\":\"v\",\"showlegend\":false,\"x\":[131.0,41.0,70.0,29.0,9.0,64.0,67.0,14.0,21.0,80.0,89.0,98.0,101.0,61.0,15.0,14.0,107.0,83.0,3.0,69.0,62.0,45.0,12.0,10.0,69.0,30.0,13.0,5.0,87.0,17.0,1.0],\"xaxis\":\"x2\",\"y\":[2816800.0,854700.0,1156700.0,599500.0,213000.0,1096700.0,1176500.0,191700.0,262200.0,1804700.0,1723000.0,2090400.0,1886700.0,966000.0,316000.0,343000.0,2369000.0,1318300.0,53500.0,942300.0,1867400.0,560800.0,195000.0,172800.0,1117500.0,583500.0,370100.0,89500.0,1494500.0,344000.0,14000.0],\"yaxis\":\"y2\",\"type\":\"scatter\"},{\"hovertemplate\":\"pickup_shop_name=\\ud53d\\uc5c5\\uc874(\\uc720\\uc2b9\\uc0c1\\uac00)<br>order_year_month=2022-08<br>pu=%{x}<br>sales=%{y}<extra></extra>\",\"legendgroup\":\"\\ud53d\\uc5c5\\uc874(\\uc720\\uc2b9\\uc0c1\\uac00)\",\"marker\":{\"color\":\"#EF553B\",\"symbol\":\"circle\"},\"mode\":\"markers\",\"name\":\"\\ud53d\\uc5c5\\uc874(\\uc720\\uc2b9\\uc0c1\\uac00)\",\"orientation\":\"v\",\"showlegend\":false,\"x\":[59.0,114.0,28.0,80.0,17.0,8.0,108.0,88.0,129.0,122.0,31.0,31.0,137.0,142.0,73.0,12.0,4.0,11.0,140.0,50.0,69.0,13.0,16.0,23.0,59.0,86.0,52.0,16.0,4.0,3.0],\"xaxis\":\"x3\",\"y\":[946000.0,2942100.0,557100.0,1082600.0,352900.0,190800.0,2166500.0,2016400.0,2568000.0,2506000.0,587000.0,524200.0,2894800.0,2363000.0,1336100.0,176700.0,66000.0,206700.0,2499100.0,967000.0,1576400.0,415000.0,498100.0,664900.0,1548300.0,2000000.0,933800.0,251800.0,47400.0,18000.0],\"yaxis\":\"y3\",\"type\":\"scatter\"},{\"hovertemplate\":\"pickup_shop_name=\\ud53d\\uc5c5\\uc874(\\uc720\\uc2b9\\uc0c1\\uac00)<br>order_year_month=2022-05<br>pu=%{x}<br>sales=%{y}<extra></extra>\",\"legendgroup\":\"\\ud53d\\uc5c5\\uc874(\\uc720\\uc2b9\\uc0c1\\uac00)\",\"marker\":{\"color\":\"#EF553B\",\"symbol\":\"circle\"},\"mode\":\"markers\",\"name\":\"\\ud53d\\uc5c5\\uc874(\\uc720\\uc2b9\\uc0c1\\uac00)\",\"orientation\":\"v\",\"showlegend\":false,\"x\":[11.0,166.0,1.0,53.0,47.0,54.0,15.0,71.0,226.0,48.0,18.0,116.0,94.0,59.0,325.0,61.0,186.0,53.0,75.0,192.0,116.0,151.0,20.0,14.0,11.0,110.0,60.0,11.0,2.0,14.0,161.0],\"xaxis\":\"x4\",\"y\":[198000.0,3979000.0,9000.0,1235000.0,790100.0,1581200.0,229300.0,1055700.0,4954300.0,900000.0,518700.0,1969800.0,1832000.0,1574000.0,8115800.0,1504300.0,3650500.0,884400.0,947000.0,3783000.0,1784500.0,2059400.0,390000.0,364000.0,185500.0,2076600.0,1494000.0,237500.0,68000.0,402000.0,3058000.0],\"yaxis\":\"y4\",\"type\":\"scatter\"},{\"hovertemplate\":\"pickup_shop_name=\\ud53d\\uc5c5\\uc874(\\uc720\\uc2b9\\uc0c1\\uac00)<br>order_year_month=2022-07<br>pu=%{x}<br>sales=%{y}<extra></extra>\",\"legendgroup\":\"\\ud53d\\uc5c5\\uc874(\\uc720\\uc2b9\\uc0c1\\uac00)\",\"marker\":{\"color\":\"#EF553B\",\"symbol\":\"circle\"},\"mode\":\"markers\",\"name\":\"\\ud53d\\uc5c5\\uc874(\\uc720\\uc2b9\\uc0c1\\uac00)\",\"orientation\":\"v\",\"showlegend\":false,\"x\":[87.0,97.0,16.0,71.0,75.0,23.0,77.0,101.0,115.0,22.0,140.0,99.0,16.0,138.0,12.0,39.0,116.0,48.0,144.0,17.0,15.0,7.0,14.0,99.0,5.0,83.0,56.0,32.0,15.0],\"xaxis\":\"x5\",\"y\":[1388200.0,2545900.0,251900.0,1417600.0,2030800.0,888000.0,1276600.0,1739000.0,2080700.0,446400.0,2641200.0,2040600.0,295500.0,3018700.0,226900.0,783300.0,2584500.0,1305400.0,2661100.0,237300.0,420600.0,101900.0,227600.0,1811500.0,160500.0,1393200.0,786800.0,562100.0,271100.0],\"yaxis\":\"y5\",\"type\":\"scatter\"},{\"hovertemplate\":\"pickup_shop_name=\\ud53d\\uc5c5\\uc874(\\uc720\\uc2b9\\uc0c1\\uac00)<br>order_year_month=2022-09<br>pu=%{x}<br>sales=%{y}<extra></extra>\",\"legendgroup\":\"\\ud53d\\uc5c5\\uc874(\\uc720\\uc2b9\\uc0c1\\uac00)\",\"marker\":{\"color\":\"#EF553B\",\"symbol\":\"circle\"},\"mode\":\"markers\",\"name\":\"\\ud53d\\uc5c5\\uc874(\\uc720\\uc2b9\\uc0c1\\uac00)\",\"orientation\":\"v\",\"showlegend\":false,\"x\":[119.0,87.0,57.0,117.0,87.0,75.0,29.0,98.0,118.0,23.0,54.0,8.0,67.0,5.0,8.0,4.0,64.0,67.0,35.0,21.0,30.0,51.0,15.0,24.0,10.0,11.0,4.0],\"xaxis\":\"x6\",\"y\":[2140000.0,1463300.0,1304300.0,2199000.0,1383000.0,1822000.0,526000.0,1991200.0,2515500.0,370200.0,1082800.0,162700.0,1527000.0,109600.0,168500.0,43900.0,1400500.0,1034000.0,595700.0,460000.0,510500.0,1273700.0,272400.0,571700.0,256400.0,162000.0,100400.0],\"yaxis\":\"y6\",\"type\":\"scatter\"},{\"hovertemplate\":\"pickup_shop_name=\\ud53d\\uc5c5\\uc874(\\uc720\\uc2b9\\uc0c1\\uac00)<br>order_year_month=2022-06<br>pu=%{x}<br>sales=%{y}<extra></extra>\",\"legendgroup\":\"\\ud53d\\uc5c5\\uc874(\\uc720\\uc2b9\\uc0c1\\uac00)\",\"marker\":{\"color\":\"#EF553B\",\"symbol\":\"circle\"},\"mode\":\"markers\",\"name\":\"\\ud53d\\uc5c5\\uc874(\\uc720\\uc2b9\\uc0c1\\uac00)\",\"orientation\":\"v\",\"showlegend\":false,\"x\":[120.0,309.0,39.0,136.0,264.0,39.0,90.0,22.0,9.0,58.0,37.0,6.0,5.0,67.0,23.0,148.0,116.0,121.0,9.0,16.0,30.0,5.0,87.0,21.0,5.0,39.0,4.0,7.0,10.0,83.0],\"xaxis\":\"x7\",\"y\":[2190200.0,6689400.0,821900.0,2306000.0,3935200.0,845000.0,2015900.0,398000.0,115000.0,1062800.0,896800.0,111000.0,100000.0,1503000.0,632000.0,2841300.0,1976200.0,2200900.0,143500.0,167900.0,584000.0,68500.0,2068800.0,398000.0,85000.0,769400.0,53800.0,67500.0,172500.0,1796400.0],\"yaxis\":\"y7\",\"type\":\"scatter\"},{\"hovertemplate\":\"pickup_shop_name=\\ud53d\\uc5c5\\uc874(\\uba54\\uc774\\ube44\\uce74\\ud398)<br>order_year_month=2022-11<br>pu=%{x}<br>sales=%{y}<extra></extra>\",\"legendgroup\":\"\\ud53d\\uc5c5\\uc874(\\uba54\\uc774\\ube44\\uce74\\ud398)\",\"marker\":{\"color\":\"#00cc96\",\"symbol\":\"circle\"},\"mode\":\"markers\",\"name\":\"\\ud53d\\uc5c5\\uc874(\\uba54\\uc774\\ube44\\uce74\\ud398)\",\"orientation\":\"v\",\"showlegend\":true,\"x\":[109.0,17.0,60.0,84.0,55.0,71.0,35.0,31.0,32.0,22.0,83.0,38.0,44.0,47.0,27.0,44.0,26.0,60.0,73.0,4.0,45.0,60.0,65.0,48.0,31.0,31.0,13.0,28.0,31.0,1.0],\"xaxis\":\"x\",\"y\":[1919700.0,288700.0,947200.0,1908600.0,1260400.0,1757100.0,831100.0,643000.0,749300.0,794500.0,1607800.0,837900.0,810000.0,992300.0,522500.0,1058400.0,392800.0,1359400.0,2026800.0,86000.0,800100.0,1517800.0,1348300.0,845700.0,615200.0,865400.0,239900.0,328500.0,584700.0,10000.0],\"yaxis\":\"y\",\"type\":\"scatter\"},{\"hovertemplate\":\"pickup_shop_name=\\ud53d\\uc5c5\\uc874(\\uba54\\uc774\\ube44\\uce74\\ud398)<br>order_year_month=2022-10<br>pu=%{x}<br>sales=%{y}<extra></extra>\",\"legendgroup\":\"\\ud53d\\uc5c5\\uc874(\\uba54\\uc774\\ube44\\uce74\\ud398)\",\"marker\":{\"color\":\"#00cc96\",\"symbol\":\"circle\"},\"mode\":\"markers\",\"name\":\"\\ud53d\\uc5c5\\uc874(\\uba54\\uc774\\ube44\\uce74\\ud398)\",\"orientation\":\"v\",\"showlegend\":false,\"x\":[44.0,17.0,5.0,6.0,27.0,10.0,25.0,31.0,26.0,32.0,31.0,28.0,3.0,28.0,12.0,8.0,49.0,2.0,1.0,14.0,17.0,34.0,27.0,30.0,13.0,7.0,34.0,3.0,7.0,1.0],\"xaxis\":\"x2\",\"y\":[1022700.0,321800.0,120000.0,143500.0,507500.0,226200.0,491900.0,735900.0,599900.0,697300.0,622900.0,485100.0,35900.0,413200.0,313000.0,163900.0,1058000.0,36000.0,16000.0,373400.0,309300.0,588500.0,368000.0,463000.0,253500.0,106400.0,648500.0,60000.0,160000.0,14000.0],\"yaxis\":\"y2\",\"type\":\"scatter\"},{\"hovertemplate\":\"pickup_shop_name=\\ud53d\\uc5c5\\uc874(\\uba54\\uc774\\ube44\\uce74\\ud398)<br>order_year_month=2022-08<br>pu=%{x}<br>sales=%{y}<extra></extra>\",\"legendgroup\":\"\\ud53d\\uc5c5\\uc874(\\uba54\\uc774\\ube44\\uce74\\ud398)\",\"marker\":{\"color\":\"#00cc96\",\"symbol\":\"circle\"},\"mode\":\"markers\",\"name\":\"\\ud53d\\uc5c5\\uc874(\\uba54\\uc774\\ube44\\uce74\\ud398)\",\"orientation\":\"v\",\"showlegend\":false,\"x\":[27.0,25.0,4.0,21.0,6.0,39.0,44.0,45.0,29.0,10.0,35.0,42.0,32.0,4.0,48.0,10.0,15.0,6.0,6.0,9.0,5.0,10.0,2.0,5.0,29.0,3.0,1.0,21.0],\"xaxis\":\"x3\",\"y\":[451000.0,575000.0,63700.0,306000.0,141800.0,575900.0,771000.0,1085000.0,1159000.0,203000.0,801900.0,635100.0,679500.0,56600.0,890700.0,171000.0,397600.0,118500.0,199300.0,227300.0,138900.0,166000.0,17000.0,123000.0,545000.0,102400.0,5000.0,404000.0],\"yaxis\":\"y3\",\"type\":\"scatter\"},{\"hovertemplate\":\"pickup_shop_name=\\ud53d\\uc5c5\\uc874(\\uba54\\uc774\\ube44\\uce74\\ud398)<br>order_year_month=2022-07<br>pu=%{x}<br>sales=%{y}<extra></extra>\",\"legendgroup\":\"\\ud53d\\uc5c5\\uc874(\\uba54\\uc774\\ube44\\uce74\\ud398)\",\"marker\":{\"color\":\"#00cc96\",\"symbol\":\"circle\"},\"mode\":\"markers\",\"name\":\"\\ud53d\\uc5c5\\uc874(\\uba54\\uc774\\ube44\\uce74\\ud398)\",\"orientation\":\"v\",\"showlegend\":false,\"x\":[46.0,28.0,5.0,27.0,25.0,18.0,36.0,35.0,45.0,28.0,7.0,6.0,7.0,50.0,5.0,23.0,17.0,54.0,2.0,38.0,6.0,26.0,18.0,11.0,5.0,7.0,3.0,2.0],\"xaxis\":\"x5\",\"y\":[1207300.0,396100.0,121600.0,397300.0,557200.0,409500.0,761800.0,858000.0,823000.0,554300.0,128300.0,105800.0,140800.0,936900.0,150700.0,440000.0,341400.0,894900.0,46300.0,752700.0,124000.0,384000.0,256200.0,194400.0,87000.0,153000.0,76500.0,41500.0],\"yaxis\":\"y5\",\"type\":\"scatter\"},{\"hovertemplate\":\"pickup_shop_name=\\ud53d\\uc5c5\\uc874(\\uba54\\uc774\\ube44\\uce74\\ud398)<br>order_year_month=2022-09<br>pu=%{x}<br>sales=%{y}<extra></extra>\",\"legendgroup\":\"\\ud53d\\uc5c5\\uc874(\\uba54\\uc774\\ube44\\uce74\\ud398)\",\"marker\":{\"color\":\"#00cc96\",\"symbol\":\"circle\"},\"mode\":\"markers\",\"name\":\"\\ud53d\\uc5c5\\uc874(\\uba54\\uc774\\ube44\\uce74\\ud398)\",\"orientation\":\"v\",\"showlegend\":false,\"x\":[51.0,49.0,14.0,47.0,28.0,20.0,41.0,25.0,5.0,29.0,25.0,8.0,2.0,21.0,27.0,16.0,4.0,1.0,2.0,20.0,5.0,6.0,2.0,14.0,2.0,1.0],\"xaxis\":\"x6\",\"y\":[1157900.0,1187500.0,266000.0,945700.0,501000.0,597000.0,1002700.0,472500.0,83500.0,643200.0,747000.0,196000.0,54500.0,397000.0,501500.0,337500.0,102000.0,59000.0,30000.0,573700.0,87000.0,111200.0,46900.0,243000.0,22000.0,15900.0],\"yaxis\":\"y6\",\"type\":\"scatter\"},{\"hovertemplate\":\"pickup_shop_name=\\ud53d\\uc5c5\\uc874(\\uba54\\uc774\\ube44\\uce74\\ud398)<br>order_year_month=2022-06<br>pu=%{x}<br>sales=%{y}<extra></extra>\",\"legendgroup\":\"\\ud53d\\uc5c5\\uc874(\\uba54\\uc774\\ube44\\uce74\\ud398)\",\"marker\":{\"color\":\"#00cc96\",\"symbol\":\"circle\"},\"mode\":\"markers\",\"name\":\"\\ud53d\\uc5c5\\uc874(\\uba54\\uc774\\ube44\\uce74\\ud398)\",\"orientation\":\"v\",\"showlegend\":false,\"x\":[43.0,45.0,17.0,1.0,3.0,4.0,4.0,60.0,42.0,3.0,5.0,8.0,5.0,2.0,1.0,4.0,3.0],\"xaxis\":\"x7\",\"y\":[784100.0,827800.0,324000.0,21000.0,69000.0,105000.0,95000.0,1232800.0,712300.0,47000.0,60000.0,112800.0,61100.0,29000.0,51000.0,84000.0,48000.0],\"yaxis\":\"y7\",\"type\":\"scatter\"},{\"hovertemplate\":\"pickup_shop_name=\\ud53d\\uc5c5\\uc874(GS25 \\ubaa9\\ub3d93\\ub3d9\\uc810)<br>order_year_month=2022-11<br>pu=%{x}<br>sales=%{y}<extra></extra>\",\"legendgroup\":\"\\ud53d\\uc5c5\\uc874(GS25 \\ubaa9\\ub3d93\\ub3d9\\uc810)\",\"marker\":{\"color\":\"#ab63fa\",\"symbol\":\"circle\"},\"mode\":\"markers\",\"name\":\"\\ud53d\\uc5c5\\uc874(GS25 \\ubaa9\\ub3d93\\ub3d9\\uc810)\",\"orientation\":\"v\",\"showlegend\":true,\"x\":[15.0,20.0,16.0,25.0,13.0,17.0,14.0,8.0,18.0,20.0,27.0,1.0,25.0,46.0,23.0,20.0,18.0,22.0,21.0,21.0,15.0,16.0,14.0,7.0,6.0,19.0,8.0,10.0,7.0],\"xaxis\":\"x\",\"y\":[259900.0,375000.0,385000.0,500000.0,207600.0,347200.0,177500.0,193900.0,425000.0,411900.0,505200.0,20000.0,388700.0,750700.0,365500.0,298800.0,452400.0,421800.0,293200.0,413000.0,205600.0,223800.0,341000.0,200000.0,57500.0,292900.0,89500.0,187600.0,49400.0],\"yaxis\":\"y\",\"type\":\"scatter\"},{\"hovertemplate\":\"pickup_shop_name=\\ud53d\\uc5c5\\uc874(GS25 \\ubaa9\\ub3d93\\ub3d9\\uc810)<br>order_year_month=2022-10<br>pu=%{x}<br>sales=%{y}<extra></extra>\",\"legendgroup\":\"\\ud53d\\uc5c5\\uc874(GS25 \\ubaa9\\ub3d93\\ub3d9\\uc810)\",\"marker\":{\"color\":\"#ab63fa\",\"symbol\":\"circle\"},\"mode\":\"markers\",\"name\":\"\\ud53d\\uc5c5\\uc874(GS25 \\ubaa9\\ub3d93\\ub3d9\\uc810)\",\"orientation\":\"v\",\"showlegend\":false,\"x\":[35.0,10.0,12.0,8.0,16.0,1.0,6.0,18.0,18.0,34.0,16.0,13.0,9.0,4.0,8.0,20.0,17.0,8.0,6.0,13.0,7.0,7.0,16.0,3.0,6.0,3.0,1.0,4.0,11.0],\"xaxis\":\"x2\",\"y\":[686200.0,144600.0,321500.0,147500.0,269500.0,47800.0,71400.0,328000.0,316900.0,737100.0,209500.0,244500.0,136800.0,126000.0,174000.0,319900.0,268500.0,75400.0,148800.0,165500.0,138000.0,104900.0,249000.0,53000.0,104000.0,86000.0,14000.0,95600.0,203000.0],\"yaxis\":\"y2\",\"type\":\"scatter\"},{\"hovertemplate\":\"pickup_shop_name=\\ud53d\\uc5c5\\uc874(GS25 \\ubaa9\\ub3d93\\ub3d9\\uc810)<br>order_year_month=2022-08<br>pu=%{x}<br>sales=%{y}<extra></extra>\",\"legendgroup\":\"\\ud53d\\uc5c5\\uc874(GS25 \\ubaa9\\ub3d93\\ub3d9\\uc810)\",\"marker\":{\"color\":\"#ab63fa\",\"symbol\":\"circle\"},\"mode\":\"markers\",\"name\":\"\\ud53d\\uc5c5\\uc874(GS25 \\ubaa9\\ub3d93\\ub3d9\\uc810)\",\"orientation\":\"v\",\"showlegend\":false,\"x\":[16.0,25.0,7.0,14.0,33.0,30.0,15.0,23.0,4.0,8.0,4.0,28.0,17.0,15.0,4.0,3.0,5.0,4.0,12.0,14.0,25.0,2.0,3.0,3.0,16.0,10.0,5.0,2.0,3.0,4.0],\"xaxis\":\"x3\",\"y\":[202000.0,401500.0,114800.0,211900.0,494000.0,626400.0,304000.0,484400.0,57800.0,162900.0,52900.0,620100.0,346000.0,373500.0,64500.0,66800.0,64500.0,126200.0,233000.0,246000.0,385900.0,25000.0,56000.0,83000.0,179200.0,237000.0,99900.0,14500.0,60000.0,60000.0],\"yaxis\":\"y3\",\"type\":\"scatter\"},{\"hovertemplate\":\"pickup_shop_name=\\ud53d\\uc5c5\\uc874(GS25 \\ubaa9\\ub3d93\\ub3d9\\uc810)<br>order_year_month=2022-07<br>pu=%{x}<br>sales=%{y}<extra></extra>\",\"legendgroup\":\"\\ud53d\\uc5c5\\uc874(GS25 \\ubaa9\\ub3d93\\ub3d9\\uc810)\",\"marker\":{\"color\":\"#ab63fa\",\"symbol\":\"circle\"},\"mode\":\"markers\",\"name\":\"\\ud53d\\uc5c5\\uc874(GS25 \\ubaa9\\ub3d93\\ub3d9\\uc810)\",\"orientation\":\"v\",\"showlegend\":false,\"x\":[17.0,2.0,18.0,14.0,10.0,16.0,6.0,12.0,11.0,18.0,11.0,21.0,25.0,12.0,2.0,2.0,19.0,2.0,11.0,6.0,9.0,6.0,2.0,7.0,14.0,4.0,3.0,8.0,2.0],\"xaxis\":\"x5\",\"y\":[179900.0,39000.0,263900.0,316400.0,246500.0,260800.0,157800.0,206700.0,185300.0,402200.0,101300.0,406000.0,396700.0,285400.0,58000.0,34000.0,376400.0,23400.0,175500.0,143200.0,187800.0,79600.0,17600.0,194800.0,312000.0,51000.0,33000.0,130800.0,28500.0],\"yaxis\":\"y5\",\"type\":\"scatter\"},{\"hovertemplate\":\"pickup_shop_name=\\ud53d\\uc5c5\\uc874(GS25 \\ubaa9\\ub3d93\\ub3d9\\uc810)<br>order_year_month=2022-09<br>pu=%{x}<br>sales=%{y}<extra></extra>\",\"legendgroup\":\"\\ud53d\\uc5c5\\uc874(GS25 \\ubaa9\\ub3d93\\ub3d9\\uc810)\",\"marker\":{\"color\":\"#ab63fa\",\"symbol\":\"circle\"},\"mode\":\"markers\",\"name\":\"\\ud53d\\uc5c5\\uc874(GS25 \\ubaa9\\ub3d93\\ub3d9\\uc810)\",\"orientation\":\"v\",\"showlegend\":false,\"x\":[30.0,17.0,12.0,16.0,13.0,8.0,34.0,26.0,21.0,2.0,6.0,12.0,5.0,17.0,13.0,9.0,1.0,1.0,1.0,7.0,4.0,5.0,1.0,2.0,3.0,1.0,1.0],\"xaxis\":\"x6\",\"y\":[609800.0,255000.0,211100.0,249500.0,192000.0,207500.0,854700.0,565800.0,372200.0,38000.0,144000.0,249000.0,76800.0,264500.0,206500.0,144000.0,24000.0,24000.0,17900.0,188400.0,80500.0,77500.0,11000.0,33000.0,67700.0,15900.0,35000.0],\"yaxis\":\"y6\",\"type\":\"scatter\"},{\"hovertemplate\":\"pickup_shop_name=\\ud53d\\uc5c5\\uc874(GS25 \\ubaa9\\ub3d93\\ub3d9\\uc810)<br>order_year_month=2022-06<br>pu=%{x}<br>sales=%{y}<extra></extra>\",\"legendgroup\":\"\\ud53d\\uc5c5\\uc874(GS25 \\ubaa9\\ub3d93\\ub3d9\\uc810)\",\"marker\":{\"color\":\"#ab63fa\",\"symbol\":\"circle\"},\"mode\":\"markers\",\"name\":\"\\ud53d\\uc5c5\\uc874(GS25 \\ubaa9\\ub3d93\\ub3d9\\uc810)\",\"orientation\":\"v\",\"showlegend\":false,\"x\":[21.0,10.0,9.0,8.0,3.0,2.0,7.0,7.0,2.0,1.0,2.0,8.0,6.0,3.0,1.0],\"xaxis\":\"x7\",\"y\":[377000.0,188000.0,160000.0,193000.0,62000.0,78000.0,154000.0,157000.0,105000.0,20000.0,56000.0,153500.0,137000.0,59000.0,12000.0],\"yaxis\":\"y7\",\"type\":\"scatter\"},{\"hovertemplate\":\"pickup_shop_name=\\ud53d\\uc5c5\\uc874(GS\\uc601\\ub4f1\\ud3ec\\ub2f9\\uc0b0\\uc810)<br>order_year_month=2022-11<br>pu=%{x}<br>sales=%{y}<extra></extra>\",\"legendgroup\":\"\\ud53d\\uc5c5\\uc874(GS\\uc601\\ub4f1\\ud3ec\\ub2f9\\uc0b0\\uc810)\",\"marker\":{\"color\":\"#FFA15A\",\"symbol\":\"circle\"},\"mode\":\"markers\",\"name\":\"\\ud53d\\uc5c5\\uc874(GS\\uc601\\ub4f1\\ud3ec\\ub2f9\\uc0b0\\uc810)\",\"orientation\":\"v\",\"showlegend\":true,\"x\":[152.0,48.0,78.0,92.0,22.0,58.0,83.0,69.0,44.0,72.0,134.0,74.0,116.0,40.0,35.0,20.0,59.0,94.0,54.0,62.0,25.0,16.0],\"xaxis\":\"x\",\"y\":[3637500.0,938200.0,1411700.0,2641700.0,775500.0,1433700.0,2104400.0,1690500.0,1200000.0,1323700.0,4275500.0,1838400.0,3081100.0,735300.0,794600.0,613400.0,1565200.0,2290800.0,1416500.0,1757200.0,545900.0,506900.0],\"yaxis\":\"y\",\"type\":\"scatter\"},{\"hovertemplate\":\"pickup_shop_name=\\ud53d\\uc5c5\\uc874(\\ucc38\\ub9db\\ubd80\\ub300\\ucc0c\\uac1c\\uc544\\uad6c\\ucc1c)<br>order_year_month=2022-11<br>pu=%{x}<br>sales=%{y}<extra></extra>\",\"legendgroup\":\"\\ud53d\\uc5c5\\uc874(\\ucc38\\ub9db\\ubd80\\ub300\\ucc0c\\uac1c\\uc544\\uad6c\\ucc1c)\",\"marker\":{\"color\":\"#19d3f3\",\"symbol\":\"circle\"},\"mode\":\"markers\",\"name\":\"\\ud53d\\uc5c5\\uc874(\\ucc38\\ub9db\\ubd80\\ub300\\ucc0c\\uac1c\\uc544\\uad6c\\ucc1c)\",\"orientation\":\"v\",\"showlegend\":true,\"x\":[29.0,3.0,6.0,14.0,13.0,18.0,6.0,3.0,6.0,15.0,7.0,1.0,22.0,14.0,18.0,10.0,17.0,25.0,7.0,11.0,6.0,9.0,7.0,14.0,15.0,8.0,7.0,11.0,1.0,12.0],\"xaxis\":\"x\",\"y\":[510800.0,37700.0,208000.0,304500.0,196500.0,289700.0,134900.0,81000.0,158700.0,265400.0,173900.0,20000.0,338300.0,193900.0,407200.0,133500.0,201300.0,506500.0,95300.0,191700.0,85400.0,158600.0,262800.0,296000.0,306300.0,154000.0,84800.0,120700.0,26000.0,194200.0],\"yaxis\":\"y\",\"type\":\"scatter\"},{\"hovertemplate\":\"pickup_shop_name=\\ud53d\\uc5c5\\uc874(\\ucc38\\ub9db\\ubd80\\ub300\\ucc0c\\uac1c\\uc544\\uad6c\\ucc1c)<br>order_year_month=2022-10<br>pu=%{x}<br>sales=%{y}<extra></extra>\",\"legendgroup\":\"\\ud53d\\uc5c5\\uc874(\\ucc38\\ub9db\\ubd80\\ub300\\ucc0c\\uac1c\\uc544\\uad6c\\ucc1c)\",\"marker\":{\"color\":\"#19d3f3\",\"symbol\":\"circle\"},\"mode\":\"markers\",\"name\":\"\\ud53d\\uc5c5\\uc874(\\ucc38\\ub9db\\ubd80\\ub300\\ucc0c\\uac1c\\uc544\\uad6c\\ucc1c)\",\"orientation\":\"v\",\"showlegend\":false,\"x\":[22.0,4.0,16.0,4.0,7.0,20.0,11.0,13.0,15.0,4.0,3.0,12.0,1.0,14.0,13.0,11.0,14.0,8.0,4.0,16.0,6.0,2.0,7.0,3.0,11.0,1.0,8.0,3.0],\"xaxis\":\"x2\",\"y\":[493600.0,138000.0,280000.0,47400.0,104900.0,432600.0,247600.0,173500.0,210600.0,103000.0,63000.0,189000.0,24000.0,337000.0,193000.0,281000.0,226800.0,198200.0,79900.0,329500.0,161300.0,54000.0,133600.0,55000.0,188000.0,14000.0,129000.0,60000.0],\"yaxis\":\"y2\",\"type\":\"scatter\"},{\"hovertemplate\":\"pickup_shop_name=\\ud53d\\uc5c5\\uc874(\\ucc38\\ub9db\\ubd80\\ub300\\ucc0c\\uac1c\\uc544\\uad6c\\ucc1c)<br>order_year_month=2022-08<br>pu=%{x}<br>sales=%{y}<extra></extra>\",\"legendgroup\":\"\\ud53d\\uc5c5\\uc874(\\ucc38\\ub9db\\ubd80\\ub300\\ucc0c\\uac1c\\uc544\\uad6c\\ucc1c)\",\"marker\":{\"color\":\"#19d3f3\",\"symbol\":\"circle\"},\"mode\":\"markers\",\"name\":\"\\ud53d\\uc5c5\\uc874(\\ucc38\\ub9db\\ubd80\\ub300\\ucc0c\\uac1c\\uc544\\uad6c\\ucc1c)\",\"orientation\":\"v\",\"showlegend\":false,\"x\":[13.0,13.0,19.0,4.0,24.0,20.0,22.0,18.0,5.0,4.0,28.0,27.0,16.0,2.0,36.0,2.0,17.0,2.0,17.0,2.0,1.0,3.0,12.0,18.0,1.0,13.0],\"xaxis\":\"x3\",\"y\":[184000.0,483900.0,274500.0,87900.0,337900.0,338000.0,455500.0,267000.0,78000.0,79300.0,620800.0,580200.0,293300.0,38400.0,767900.0,20000.0,322500.0,146000.0,430000.0,35000.0,21000.0,38000.0,244600.0,375000.0,17000.0,195000.0],\"yaxis\":\"y3\",\"type\":\"scatter\"},{\"hovertemplate\":\"pickup_shop_name=\\ud53d\\uc5c5\\uc874(\\ucc38\\ub9db\\ubd80\\ub300\\ucc0c\\uac1c\\uc544\\uad6c\\ucc1c)<br>order_year_month=2022-07<br>pu=%{x}<br>sales=%{y}<extra></extra>\",\"legendgroup\":\"\\ud53d\\uc5c5\\uc874(\\ucc38\\ub9db\\ubd80\\ub300\\ucc0c\\uac1c\\uc544\\uad6c\\ucc1c)\",\"marker\":{\"color\":\"#19d3f3\",\"symbol\":\"circle\"},\"mode\":\"markers\",\"name\":\"\\ud53d\\uc5c5\\uc874(\\ucc38\\ub9db\\ubd80\\ub300\\ucc0c\\uac1c\\uc544\\uad6c\\ucc1c)\",\"orientation\":\"v\",\"showlegend\":false,\"x\":[19.0,5.0,15.0,15.0,24.0,15.0,2.0,23.0,6.0,26.0,5.0,1.0,5.0,14.0,13.0,8.0,25.0,21.0,3.0,1.0,12.0,19.0,5.0,8.0,4.0,24.0,2.0,1.0,15.0,1.0,1.0],\"xaxis\":\"x5\",\"y\":[345500.0,126400.0,339600.0,251600.0,355100.0,231500.0,29500.0,479500.0,142700.0,548500.0,106400.0,17000.0,72900.0,320900.0,246300.0,146100.0,645600.0,317500.0,62000.0,16000.0,184600.0,379000.0,80800.0,161000.0,104000.0,462000.0,37400.0,23500.0,220300.0,26700.0,29000.0],\"yaxis\":\"y5\",\"type\":\"scatter\"},{\"hovertemplate\":\"pickup_shop_name=\\ud53d\\uc5c5\\uc874(\\ucc38\\ub9db\\ubd80\\ub300\\ucc0c\\uac1c\\uc544\\uad6c\\ucc1c)<br>order_year_month=2022-09<br>pu=%{x}<br>sales=%{y}<extra></extra>\",\"legendgroup\":\"\\ud53d\\uc5c5\\uc874(\\ucc38\\ub9db\\ubd80\\ub300\\ucc0c\\uac1c\\uc544\\uad6c\\ucc1c)\",\"marker\":{\"color\":\"#19d3f3\",\"symbol\":\"circle\"},\"mode\":\"markers\",\"name\":\"\\ud53d\\uc5c5\\uc874(\\ucc38\\ub9db\\ubd80\\ub300\\ucc0c\\uac1c\\uc544\\uad6c\\ucc1c)\",\"orientation\":\"v\",\"showlegend\":false,\"x\":[37.0,20.0,8.0,21.0,9.0,12.0,26.0,15.0,14.0,16.0,14.0,2.0,10.0,1.0,1.0,2.0,14.0,3.0,9.0,2.0,3.0,4.0,1.0,1.0],\"xaxis\":\"x6\",\"y\":[770500.0,314000.0,158000.0,355500.0,192000.0,314000.0,556700.0,387800.0,385000.0,259500.0,327000.0,45000.0,215000.0,15000.0,15000.0,35800.0,373600.0,37000.0,146500.0,47600.0,48000.0,70500.0,11000.0,15000.0],\"yaxis\":\"y6\",\"type\":\"scatter\"},{\"hovertemplate\":\"pickup_shop_name=\\ud53d\\uc5c5\\uc874(\\ucc38\\ub9db\\ubd80\\ub300\\ucc0c\\uac1c\\uc544\\uad6c\\ucc1c)<br>order_year_month=2022-06<br>pu=%{x}<br>sales=%{y}<extra></extra>\",\"legendgroup\":\"\\ud53d\\uc5c5\\uc874(\\ucc38\\ub9db\\ubd80\\ub300\\ucc0c\\uac1c\\uc544\\uad6c\\ucc1c)\",\"marker\":{\"color\":\"#19d3f3\",\"symbol\":\"circle\"},\"mode\":\"markers\",\"name\":\"\\ud53d\\uc5c5\\uc874(\\ucc38\\ub9db\\ubd80\\ub300\\ucc0c\\uac1c\\uc544\\uad6c\\ucc1c)\",\"orientation\":\"v\",\"showlegend\":false,\"x\":[30.0,30.0,8.0,2.0,3.0,2.0,3.0,43.0,29.0,8.0,6.0,2.0,4.0,1.0],\"xaxis\":\"x7\",\"y\":[430000.0,516200.0,180000.0,39000.0,74000.0,69000.0,63000.0,896600.0,501500.0,121000.0,62200.0,38900.0,72000.0,12000.0],\"yaxis\":\"y7\",\"type\":\"scatter\"},{\"hovertemplate\":\"pickup_shop_name=\\ud53d\\uc5c5\\uc874(\\ub2e4\\uc774\\uc18c \\ub09c\\uace1\\uc0ac\\uac70\\ub9ac\\uc810)<br>order_year_month=2022-11<br>pu=%{x}<br>sales=%{y}<extra></extra>\",\"legendgroup\":\"\\ud53d\\uc5c5\\uc874(\\ub2e4\\uc774\\uc18c \\ub09c\\uace1\\uc0ac\\uac70\\ub9ac\\uc810)\",\"marker\":{\"color\":\"#FF6692\",\"symbol\":\"circle\"},\"mode\":\"markers\",\"name\":\"\\ud53d\\uc5c5\\uc874(\\ub2e4\\uc774\\uc18c \\ub09c\\uace1\\uc0ac\\uac70\\ub9ac\\uc810)\",\"orientation\":\"v\",\"showlegend\":true,\"x\":[45.0,41.0,39.0,41.0,18.0,24.0,40.0,25.0,43.0,10.0,3.0,13.0,10.0,6.0,20.0,8.0,33.0,22.0,13.0,5.0,6.0,4.0],\"xaxis\":\"x\",\"y\":[983200.0,818400.0,1045600.0,1166500.0,389300.0,413300.0,1706400.0,633700.0,1317500.0,244600.0,46600.0,251900.0,167700.0,146600.0,429500.0,159500.0,859400.0,679700.0,328700.0,137800.0,85000.0,92100.0],\"yaxis\":\"y\",\"type\":\"scatter\"},{\"hovertemplate\":\"pickup_shop_name=\\ud53d\\uc5c5\\uc874(\\uc11c\\uc6b8\\ub4dc\\ub9bc\\uc2e0\\uc6a9\\ud611\\ub3d9\\uc870\\ud569)<br>order_year_month=2022-11<br>pu=%{x}<br>sales=%{y}<extra></extra>\",\"legendgroup\":\"\\ud53d\\uc5c5\\uc874(\\uc11c\\uc6b8\\ub4dc\\ub9bc\\uc2e0\\uc6a9\\ud611\\ub3d9\\uc870\\ud569)\",\"marker\":{\"color\":\"#B6E880\",\"symbol\":\"circle\"},\"mode\":\"markers\",\"name\":\"\\ud53d\\uc5c5\\uc874(\\uc11c\\uc6b8\\ub4dc\\ub9bc\\uc2e0\\uc6a9\\ud611\\ub3d9\\uc870\\ud569)\",\"orientation\":\"v\",\"showlegend\":true,\"x\":[20.0,11.0,19.0,6.0,13.0,11.0,13.0,11.0,6.0,16.0,29.0,17.0,15.0,2.0,20.0,37.0,26.0,22.0,26.0,34.0,25.0,13.0,21.0,36.0,25.0,20.0,6.0,7.0,3.0],\"xaxis\":\"x\",\"y\":[448800.0,337900.0,244900.0,230000.0,393200.0,208500.0,347900.0,133400.0,221300.0,221900.0,559000.0,364500.0,348800.0,40000.0,286600.0,513600.0,607200.0,460900.0,460600.0,414800.0,439000.0,111800.0,421300.0,551300.0,333400.0,504600.0,79400.0,185500.0,24500.0],\"yaxis\":\"y\",\"type\":\"scatter\"},{\"hovertemplate\":\"pickup_shop_name=\\ud53d\\uc5c5\\uc874(\\uc11c\\uc6b8\\ub4dc\\ub9bc\\uc2e0\\uc6a9\\ud611\\ub3d9\\uc870\\ud569)<br>order_year_month=2022-10<br>pu=%{x}<br>sales=%{y}<extra></extra>\",\"legendgroup\":\"\\ud53d\\uc5c5\\uc874(\\uc11c\\uc6b8\\ub4dc\\ub9bc\\uc2e0\\uc6a9\\ud611\\ub3d9\\uc870\\ud569)\",\"marker\":{\"color\":\"#B6E880\",\"symbol\":\"circle\"},\"mode\":\"markers\",\"name\":\"\\ud53d\\uc5c5\\uc874(\\uc11c\\uc6b8\\ub4dc\\ub9bc\\uc2e0\\uc6a9\\ud611\\ub3d9\\uc870\\ud569)\",\"orientation\":\"v\",\"showlegend\":false,\"x\":[38.0,19.0,6.0,8.0,12.0,10.0,2.0,13.0,18.0,15.0,25.0,20.0,3.0,1.0,7.0,23.0,24.0,23.0,10.0,10.0,19.0,14.0,2.0,15.0,19.0,4.0,19.0,27.0,3.0],\"xaxis\":\"x2\",\"y\":[781400.0,261700.0,109000.0,140500.0,195500.0,149300.0,29700.0,226000.0,337000.0,280700.0,519700.0,282500.0,63800.0,13000.0,142000.0,475000.0,390000.0,320300.0,222900.0,106600.0,317000.0,260800.0,30000.0,234000.0,389800.0,82800.0,304000.0,465000.0,54500.0],\"yaxis\":\"y2\",\"type\":\"scatter\"},{\"hovertemplate\":\"pickup_shop_name=\\ud53d\\uc5c5\\uc874(\\uc11c\\uc6b8\\ub4dc\\ub9bc\\uc2e0\\uc6a9\\ud611\\ub3d9\\uc870\\ud569)<br>order_year_month=2022-08<br>pu=%{x}<br>sales=%{y}<extra></extra>\",\"legendgroup\":\"\\ud53d\\uc5c5\\uc874(\\uc11c\\uc6b8\\ub4dc\\ub9bc\\uc2e0\\uc6a9\\ud611\\ub3d9\\uc870\\ud569)\",\"marker\":{\"color\":\"#B6E880\",\"symbol\":\"circle\"},\"mode\":\"markers\",\"name\":\"\\ud53d\\uc5c5\\uc874(\\uc11c\\uc6b8\\ub4dc\\ub9bc\\uc2e0\\uc6a9\\ud611\\ub3d9\\uc870\\ud569)\",\"orientation\":\"v\",\"showlegend\":false,\"x\":[18.0,33.0,3.0,23.0,7.0,2.0,20.0,28.0,34.0,16.0,22.0,34.0,3.0,19.0,38.0,2.0,8.0,7.0,23.0,5.0,6.0,16.0,8.0,5.0,3.0,15.0,10.0,4.0,2.0],\"xaxis\":\"x3\",\"y\":[336000.0,644000.0,80500.0,287100.0,117800.0,27900.0,306000.0,473500.0,752000.0,240000.0,449300.0,592200.0,67000.0,312300.0,692400.0,50600.0,171000.0,226900.0,488400.0,105200.0,136000.0,315000.0,193100.0,89000.0,59900.0,242800.0,169400.0,53000.0,26000.0],\"yaxis\":\"y3\",\"type\":\"scatter\"},{\"hovertemplate\":\"pickup_shop_name=\\ud53d\\uc5c5\\uc874(\\uc11c\\uc6b8\\ub4dc\\ub9bc\\uc2e0\\uc6a9\\ud611\\ub3d9\\uc870\\ud569)<br>order_year_month=2022-07<br>pu=%{x}<br>sales=%{y}<extra></extra>\",\"legendgroup\":\"\\ud53d\\uc5c5\\uc874(\\uc11c\\uc6b8\\ub4dc\\ub9bc\\uc2e0\\uc6a9\\ud611\\ub3d9\\uc870\\ud569)\",\"marker\":{\"color\":\"#B6E880\",\"symbol\":\"circle\"},\"mode\":\"markers\",\"name\":\"\\ud53d\\uc5c5\\uc874(\\uc11c\\uc6b8\\ub4dc\\ub9bc\\uc2e0\\uc6a9\\ud611\\ub3d9\\uc870\\ud569)\",\"orientation\":\"v\",\"showlegend\":false,\"x\":[10.0,19.0,12.0,17.0,5.0,16.0,28.0,12.0,6.0,11.0,27.0,25.0,9.0,1.0,17.0,8.0,13.0,1.0,4.0,2.0,8.0,5.0,7.0,7.0,2.0,1.0,6.0,12.0,16.0,1.0],\"xaxis\":\"x5\",\"y\":[117500.0,376500.0,295200.0,300300.0,78700.0,296100.0,576000.0,178900.0,79600.0,136400.0,592800.0,223300.0,184400.0,17000.0,375900.0,130700.0,174200.0,9600.0,84600.0,40800.0,121500.0,127000.0,108600.0,117700.0,13500.0,17800.0,82900.0,212000.0,182400.0,11500.0],\"yaxis\":\"y5\",\"type\":\"scatter\"},{\"hovertemplate\":\"pickup_shop_name=\\ud53d\\uc5c5\\uc874(\\uc11c\\uc6b8\\ub4dc\\ub9bc\\uc2e0\\uc6a9\\ud611\\ub3d9\\uc870\\ud569)<br>order_year_month=2022-09<br>pu=%{x}<br>sales=%{y}<extra></extra>\",\"legendgroup\":\"\\ud53d\\uc5c5\\uc874(\\uc11c\\uc6b8\\ub4dc\\ub9bc\\uc2e0\\uc6a9\\ud611\\ub3d9\\uc870\\ud569)\",\"marker\":{\"color\":\"#B6E880\",\"symbol\":\"circle\"},\"mode\":\"markers\",\"name\":\"\\ud53d\\uc5c5\\uc874(\\uc11c\\uc6b8\\ub4dc\\ub9bc\\uc2e0\\uc6a9\\ud611\\ub3d9\\uc870\\ud569)\",\"orientation\":\"v\",\"showlegend\":false,\"x\":[37.0,23.0,7.0,36.0,27.0,12.0,20.0,12.0,40.0,22.0,4.0,14.0,2.0,2.0,6.0,20.0,14.0,7.0,8.0,3.0,1.0,3.0,1.0,1.0,2.0,4.0],\"xaxis\":\"x6\",\"y\":[645300.0,539800.0,186400.0,599300.0,414000.0,285000.0,301100.0,260500.0,683800.0,440700.0,119000.0,229000.0,21000.0,20000.0,102700.0,312000.0,235000.0,118900.0,88000.0,62000.0,28000.0,51500.0,22500.0,22000.0,33000.0,72600.0],\"yaxis\":\"y6\",\"type\":\"scatter\"},{\"hovertemplate\":\"pickup_shop_name=\\ud53d\\uc5c5\\uc874(\\uc11c\\uc6b8\\ub4dc\\ub9bc\\uc2e0\\uc6a9\\ud611\\ub3d9\\uc870\\ud569)<br>order_year_month=2022-06<br>pu=%{x}<br>sales=%{y}<extra></extra>\",\"legendgroup\":\"\\ud53d\\uc5c5\\uc874(\\uc11c\\uc6b8\\ub4dc\\ub9bc\\uc2e0\\uc6a9\\ud611\\ub3d9\\uc870\\ud569)\",\"marker\":{\"color\":\"#B6E880\",\"symbol\":\"circle\"},\"mode\":\"markers\",\"name\":\"\\ud53d\\uc5c5\\uc874(\\uc11c\\uc6b8\\ub4dc\\ub9bc\\uc2e0\\uc6a9\\ud611\\ub3d9\\uc870\\ud569)\",\"orientation\":\"v\",\"showlegend\":false,\"x\":[17.0,10.0,7.0,6.0,5.0,1.0,1.0,2.0,4.0,5.0,9.0,2.0,1.0,1.0,1.0],\"xaxis\":\"x7\",\"y\":[450900.0,224000.0,148000.0,159000.0,165000.0,20000.0,20000.0,34000.0,71800.0,115000.0,272000.0,59000.0,8000.0,12000.0,24000.0],\"yaxis\":\"y7\",\"type\":\"scatter\"}],                        {\"template\":{\"data\":{\"bar\":[{\"error_x\":{\"color\":\"#2a3f5f\"},\"error_y\":{\"color\":\"#2a3f5f\"},\"marker\":{\"line\":{\"color\":\"#E5ECF6\",\"width\":0.5},\"pattern\":{\"fillmode\":\"overlay\",\"size\":10,\"solidity\":0.2}},\"type\":\"bar\"}],\"barpolar\":[{\"marker\":{\"line\":{\"color\":\"#E5ECF6\",\"width\":0.5},\"pattern\":{\"fillmode\":\"overlay\",\"size\":10,\"solidity\":0.2}},\"type\":\"barpolar\"}],\"carpet\":[{\"aaxis\":{\"endlinecolor\":\"#2a3f5f\",\"gridcolor\":\"white\",\"linecolor\":\"white\",\"minorgridcolor\":\"white\",\"startlinecolor\":\"#2a3f5f\"},\"baxis\":{\"endlinecolor\":\"#2a3f5f\",\"gridcolor\":\"white\",\"linecolor\":\"white\",\"minorgridcolor\":\"white\",\"startlinecolor\":\"#2a3f5f\"},\"type\":\"carpet\"}],\"choropleth\":[{\"colorbar\":{\"outlinewidth\":0,\"ticks\":\"\"},\"type\":\"choropleth\"}],\"contour\":[{\"colorbar\":{\"outlinewidth\":0,\"ticks\":\"\"},\"colorscale\":[[0.0,\"#0d0887\"],[0.1111111111111111,\"#46039f\"],[0.2222222222222222,\"#7201a8\"],[0.3333333333333333,\"#9c179e\"],[0.4444444444444444,\"#bd3786\"],[0.5555555555555556,\"#d8576b\"],[0.6666666666666666,\"#ed7953\"],[0.7777777777777778,\"#fb9f3a\"],[0.8888888888888888,\"#fdca26\"],[1.0,\"#f0f921\"]],\"type\":\"contour\"}],\"contourcarpet\":[{\"colorbar\":{\"outlinewidth\":0,\"ticks\":\"\"},\"type\":\"contourcarpet\"}],\"heatmap\":[{\"colorbar\":{\"outlinewidth\":0,\"ticks\":\"\"},\"colorscale\":[[0.0,\"#0d0887\"],[0.1111111111111111,\"#46039f\"],[0.2222222222222222,\"#7201a8\"],[0.3333333333333333,\"#9c179e\"],[0.4444444444444444,\"#bd3786\"],[0.5555555555555556,\"#d8576b\"],[0.6666666666666666,\"#ed7953\"],[0.7777777777777778,\"#fb9f3a\"],[0.8888888888888888,\"#fdca26\"],[1.0,\"#f0f921\"]],\"type\":\"heatmap\"}],\"heatmapgl\":[{\"colorbar\":{\"outlinewidth\":0,\"ticks\":\"\"},\"colorscale\":[[0.0,\"#0d0887\"],[0.1111111111111111,\"#46039f\"],[0.2222222222222222,\"#7201a8\"],[0.3333333333333333,\"#9c179e\"],[0.4444444444444444,\"#bd3786\"],[0.5555555555555556,\"#d8576b\"],[0.6666666666666666,\"#ed7953\"],[0.7777777777777778,\"#fb9f3a\"],[0.8888888888888888,\"#fdca26\"],[1.0,\"#f0f921\"]],\"type\":\"heatmapgl\"}],\"histogram\":[{\"marker\":{\"pattern\":{\"fillmode\":\"overlay\",\"size\":10,\"solidity\":0.2}},\"type\":\"histogram\"}],\"histogram2d\":[{\"colorbar\":{\"outlinewidth\":0,\"ticks\":\"\"},\"colorscale\":[[0.0,\"#0d0887\"],[0.1111111111111111,\"#46039f\"],[0.2222222222222222,\"#7201a8\"],[0.3333333333333333,\"#9c179e\"],[0.4444444444444444,\"#bd3786\"],[0.5555555555555556,\"#d8576b\"],[0.6666666666666666,\"#ed7953\"],[0.7777777777777778,\"#fb9f3a\"],[0.8888888888888888,\"#fdca26\"],[1.0,\"#f0f921\"]],\"type\":\"histogram2d\"}],\"histogram2dcontour\":[{\"colorbar\":{\"outlinewidth\":0,\"ticks\":\"\"},\"colorscale\":[[0.0,\"#0d0887\"],[0.1111111111111111,\"#46039f\"],[0.2222222222222222,\"#7201a8\"],[0.3333333333333333,\"#9c179e\"],[0.4444444444444444,\"#bd3786\"],[0.5555555555555556,\"#d8576b\"],[0.6666666666666666,\"#ed7953\"],[0.7777777777777778,\"#fb9f3a\"],[0.8888888888888888,\"#fdca26\"],[1.0,\"#f0f921\"]],\"type\":\"histogram2dcontour\"}],\"mesh3d\":[{\"colorbar\":{\"outlinewidth\":0,\"ticks\":\"\"},\"type\":\"mesh3d\"}],\"parcoords\":[{\"line\":{\"colorbar\":{\"outlinewidth\":0,\"ticks\":\"\"}},\"type\":\"parcoords\"}],\"pie\":[{\"automargin\":true,\"type\":\"pie\"}],\"scatter\":[{\"marker\":{\"colorbar\":{\"outlinewidth\":0,\"ticks\":\"\"}},\"type\":\"scatter\"}],\"scatter3d\":[{\"line\":{\"colorbar\":{\"outlinewidth\":0,\"ticks\":\"\"}},\"marker\":{\"colorbar\":{\"outlinewidth\":0,\"ticks\":\"\"}},\"type\":\"scatter3d\"}],\"scattercarpet\":[{\"marker\":{\"colorbar\":{\"outlinewidth\":0,\"ticks\":\"\"}},\"type\":\"scattercarpet\"}],\"scattergeo\":[{\"marker\":{\"colorbar\":{\"outlinewidth\":0,\"ticks\":\"\"}},\"type\":\"scattergeo\"}],\"scattergl\":[{\"marker\":{\"colorbar\":{\"outlinewidth\":0,\"ticks\":\"\"}},\"type\":\"scattergl\"}],\"scattermapbox\":[{\"marker\":{\"colorbar\":{\"outlinewidth\":0,\"ticks\":\"\"}},\"type\":\"scattermapbox\"}],\"scatterpolar\":[{\"marker\":{\"colorbar\":{\"outlinewidth\":0,\"ticks\":\"\"}},\"type\":\"scatterpolar\"}],\"scatterpolargl\":[{\"marker\":{\"colorbar\":{\"outlinewidth\":0,\"ticks\":\"\"}},\"type\":\"scatterpolargl\"}],\"scatterternary\":[{\"marker\":{\"colorbar\":{\"outlinewidth\":0,\"ticks\":\"\"}},\"type\":\"scatterternary\"}],\"surface\":[{\"colorbar\":{\"outlinewidth\":0,\"ticks\":\"\"},\"colorscale\":[[0.0,\"#0d0887\"],[0.1111111111111111,\"#46039f\"],[0.2222222222222222,\"#7201a8\"],[0.3333333333333333,\"#9c179e\"],[0.4444444444444444,\"#bd3786\"],[0.5555555555555556,\"#d8576b\"],[0.6666666666666666,\"#ed7953\"],[0.7777777777777778,\"#fb9f3a\"],[0.8888888888888888,\"#fdca26\"],[1.0,\"#f0f921\"]],\"type\":\"surface\"}],\"table\":[{\"cells\":{\"fill\":{\"color\":\"#EBF0F8\"},\"line\":{\"color\":\"white\"}},\"header\":{\"fill\":{\"color\":\"#C8D4E3\"},\"line\":{\"color\":\"white\"}},\"type\":\"table\"}]},\"layout\":{\"annotationdefaults\":{\"arrowcolor\":\"#2a3f5f\",\"arrowhead\":0,\"arrowwidth\":1},\"autotypenumbers\":\"strict\",\"coloraxis\":{\"colorbar\":{\"outlinewidth\":0,\"ticks\":\"\"}},\"colorscale\":{\"diverging\":[[0,\"#8e0152\"],[0.1,\"#c51b7d\"],[0.2,\"#de77ae\"],[0.3,\"#f1b6da\"],[0.4,\"#fde0ef\"],[0.5,\"#f7f7f7\"],[0.6,\"#e6f5d0\"],[0.7,\"#b8e186\"],[0.8,\"#7fbc41\"],[0.9,\"#4d9221\"],[1,\"#276419\"]],\"sequential\":[[0.0,\"#0d0887\"],[0.1111111111111111,\"#46039f\"],[0.2222222222222222,\"#7201a8\"],[0.3333333333333333,\"#9c179e\"],[0.4444444444444444,\"#bd3786\"],[0.5555555555555556,\"#d8576b\"],[0.6666666666666666,\"#ed7953\"],[0.7777777777777778,\"#fb9f3a\"],[0.8888888888888888,\"#fdca26\"],[1.0,\"#f0f921\"]],\"sequentialminus\":[[0.0,\"#0d0887\"],[0.1111111111111111,\"#46039f\"],[0.2222222222222222,\"#7201a8\"],[0.3333333333333333,\"#9c179e\"],[0.4444444444444444,\"#bd3786\"],[0.5555555555555556,\"#d8576b\"],[0.6666666666666666,\"#ed7953\"],[0.7777777777777778,\"#fb9f3a\"],[0.8888888888888888,\"#fdca26\"],[1.0,\"#f0f921\"]]},\"colorway\":[\"#636efa\",\"#EF553B\",\"#00cc96\",\"#ab63fa\",\"#FFA15A\",\"#19d3f3\",\"#FF6692\",\"#B6E880\",\"#FF97FF\",\"#FECB52\"],\"font\":{\"color\":\"#2a3f5f\"},\"geo\":{\"bgcolor\":\"white\",\"lakecolor\":\"white\",\"landcolor\":\"#E5ECF6\",\"showlakes\":true,\"showland\":true,\"subunitcolor\":\"white\"},\"hoverlabel\":{\"align\":\"left\"},\"hovermode\":\"closest\",\"mapbox\":{\"style\":\"light\"},\"paper_bgcolor\":\"white\",\"plot_bgcolor\":\"#E5ECF6\",\"polar\":{\"angularaxis\":{\"gridcolor\":\"white\",\"linecolor\":\"white\",\"ticks\":\"\"},\"bgcolor\":\"#E5ECF6\",\"radialaxis\":{\"gridcolor\":\"white\",\"linecolor\":\"white\",\"ticks\":\"\"}},\"scene\":{\"xaxis\":{\"backgroundcolor\":\"#E5ECF6\",\"gridcolor\":\"white\",\"gridwidth\":2,\"linecolor\":\"white\",\"showbackground\":true,\"ticks\":\"\",\"zerolinecolor\":\"white\"},\"yaxis\":{\"backgroundcolor\":\"#E5ECF6\",\"gridcolor\":\"white\",\"gridwidth\":2,\"linecolor\":\"white\",\"showbackground\":true,\"ticks\":\"\",\"zerolinecolor\":\"white\"},\"zaxis\":{\"backgroundcolor\":\"#E5ECF6\",\"gridcolor\":\"white\",\"gridwidth\":2,\"linecolor\":\"white\",\"showbackground\":true,\"ticks\":\"\",\"zerolinecolor\":\"white\"}},\"shapedefaults\":{\"line\":{\"color\":\"#2a3f5f\"}},\"ternary\":{\"aaxis\":{\"gridcolor\":\"white\",\"linecolor\":\"white\",\"ticks\":\"\"},\"baxis\":{\"gridcolor\":\"white\",\"linecolor\":\"white\",\"ticks\":\"\"},\"bgcolor\":\"#E5ECF6\",\"caxis\":{\"gridcolor\":\"white\",\"linecolor\":\"white\",\"ticks\":\"\"}},\"title\":{\"x\":0.05},\"xaxis\":{\"automargin\":true,\"gridcolor\":\"white\",\"linecolor\":\"white\",\"ticks\":\"\",\"title\":{\"standoff\":15},\"zerolinecolor\":\"white\",\"zerolinewidth\":2},\"yaxis\":{\"automargin\":true,\"gridcolor\":\"white\",\"linecolor\":\"white\",\"ticks\":\"\",\"title\":{\"standoff\":15},\"zerolinecolor\":\"white\",\"zerolinewidth\":2}}},\"xaxis\":{\"anchor\":\"y\",\"domain\":[0.0,0.1257142857142857],\"title\":{\"text\":\"pu\"}},\"yaxis\":{\"anchor\":\"x\",\"domain\":[0.0,1.0],\"title\":{\"text\":\"sales\"}},\"xaxis2\":{\"anchor\":\"y2\",\"domain\":[0.14571428571428569,0.27142857142857135],\"matches\":\"x\",\"title\":{\"text\":\"pu\"}},\"yaxis2\":{\"anchor\":\"x2\",\"domain\":[0.0,1.0],\"matches\":\"y\",\"showticklabels\":false},\"xaxis3\":{\"anchor\":\"y3\",\"domain\":[0.29142857142857137,0.41714285714285704],\"matches\":\"x\",\"title\":{\"text\":\"pu\"}},\"yaxis3\":{\"anchor\":\"x3\",\"domain\":[0.0,1.0],\"matches\":\"y\",\"showticklabels\":false},\"xaxis4\":{\"anchor\":\"y4\",\"domain\":[0.4371428571428571,0.5628571428571428],\"matches\":\"x\",\"title\":{\"text\":\"pu\"}},\"yaxis4\":{\"anchor\":\"x4\",\"domain\":[0.0,1.0],\"matches\":\"y\",\"showticklabels\":false},\"xaxis5\":{\"anchor\":\"y5\",\"domain\":[0.5828571428571427,0.7085714285714284],\"matches\":\"x\",\"title\":{\"text\":\"pu\"}},\"yaxis5\":{\"anchor\":\"x5\",\"domain\":[0.0,1.0],\"matches\":\"y\",\"showticklabels\":false},\"xaxis6\":{\"anchor\":\"y6\",\"domain\":[0.7285714285714284,0.8542857142857141],\"matches\":\"x\",\"title\":{\"text\":\"pu\"}},\"yaxis6\":{\"anchor\":\"x6\",\"domain\":[0.0,1.0],\"matches\":\"y\",\"showticklabels\":false},\"xaxis7\":{\"anchor\":\"y7\",\"domain\":[0.8742857142857141,0.9999999999999998],\"matches\":\"x\",\"title\":{\"text\":\"pu\"}},\"yaxis7\":{\"anchor\":\"x7\",\"domain\":[0.0,1.0],\"matches\":\"y\",\"showticklabels\":false},\"annotations\":[{\"font\":{},\"showarrow\":false,\"text\":\"order_year_month=2022-11\",\"x\":0.06285714285714285,\"xanchor\":\"center\",\"xref\":\"paper\",\"y\":1.0,\"yanchor\":\"bottom\",\"yref\":\"paper\"},{\"font\":{},\"showarrow\":false,\"text\":\"order_year_month=2022-10\",\"x\":0.20857142857142852,\"xanchor\":\"center\",\"xref\":\"paper\",\"y\":1.0,\"yanchor\":\"bottom\",\"yref\":\"paper\"},{\"font\":{},\"showarrow\":false,\"text\":\"order_year_month=2022-08\",\"x\":0.3542857142857142,\"xanchor\":\"center\",\"xref\":\"paper\",\"y\":1.0,\"yanchor\":\"bottom\",\"yref\":\"paper\"},{\"font\":{},\"showarrow\":false,\"text\":\"order_year_month=2022-05\",\"x\":0.5,\"xanchor\":\"center\",\"xref\":\"paper\",\"y\":1.0,\"yanchor\":\"bottom\",\"yref\":\"paper\"},{\"font\":{},\"showarrow\":false,\"text\":\"order_year_month=2022-07\",\"x\":0.6457142857142856,\"xanchor\":\"center\",\"xref\":\"paper\",\"y\":1.0,\"yanchor\":\"bottom\",\"yref\":\"paper\"},{\"font\":{},\"showarrow\":false,\"text\":\"order_year_month=2022-09\",\"x\":0.7914285714285713,\"xanchor\":\"center\",\"xref\":\"paper\",\"y\":1.0,\"yanchor\":\"bottom\",\"yref\":\"paper\"},{\"font\":{},\"showarrow\":false,\"text\":\"order_year_month=2022-06\",\"x\":0.9371428571428569,\"xanchor\":\"center\",\"xref\":\"paper\",\"y\":1.0,\"yanchor\":\"bottom\",\"yref\":\"paper\"}],\"legend\":{\"title\":{\"text\":\"pickup_shop_name\"},\"tracegroupgap\":0},\"margin\":{\"t\":60}},                        {\"responsive\": true}                    ).then(function(){\n",
              "                            \n",
              "var gd = document.getElementById('335f88f5-d37a-41df-9b0a-c142167bbbfc');\n",
              "var x = new MutationObserver(function (mutations, observer) {{\n",
              "        var display = window.getComputedStyle(gd).display;\n",
              "        if (!display || display === 'none') {{\n",
              "            console.log([gd, 'removed!']);\n",
              "            Plotly.purge(gd);\n",
              "            observer.disconnect();\n",
              "        }}\n",
              "}});\n",
              "\n",
              "// Listen for the removal of the full notebook cells\n",
              "var notebookContainer = gd.closest('#notebook-container');\n",
              "if (notebookContainer) {{\n",
              "    x.observe(notebookContainer, {childList: true});\n",
              "}}\n",
              "\n",
              "// Listen for the clearing of the current output cell\n",
              "var outputEl = gd.closest('.output');\n",
              "if (outputEl) {{\n",
              "    x.observe(outputEl, {childList: true});\n",
              "}}\n",
              "\n",
              "                        })                };                            </script>        </div>\n",
              "</body>\n",
              "</html>"
            ]
          },
          "metadata": {}
        }
      ]
    },
    {
      "cell_type": "code",
      "source": [
        "## << 설정한 컬럼들간의 산점도 >>\n",
        "\n",
        "import plotly.express as px\n",
        "\n",
        "fig = px.scatter_matrix(salesIndexDf, \n",
        "                        dimensions = ['sales', 'arppu', 'purchase_count', 'pu'],\n",
        "                        # color = 'pickup_shop_name' # 매장별로 차이가 존재할까?\n",
        "                        )\n",
        "\n",
        "fig.show()"
      ],
      "metadata": {
        "colab": {
          "base_uri": "https://localhost:8080/",
          "height": 542
        },
        "id": "TrJ8pmVX-MbB",
        "outputId": "1d571e7d-66e8-4af4-967e-a590acc3ff79"
      },
      "execution_count": null,
      "outputs": [
        {
          "output_type": "display_data",
          "data": {
            "text/html": [
              "<html>\n",
              "<head><meta charset=\"utf-8\" /></head>\n",
              "<body>\n",
              "    <div>            <script src=\"https://cdnjs.cloudflare.com/ajax/libs/mathjax/2.7.5/MathJax.js?config=TeX-AMS-MML_SVG\"></script><script type=\"text/javascript\">if (window.MathJax) {MathJax.Hub.Config({SVG: {font: \"STIX-Web\"}});}</script>                <script type=\"text/javascript\">window.PlotlyConfig = {MathJaxConfig: 'local'};</script>\n",
              "        <script src=\"https://cdn.plot.ly/plotly-2.8.3.min.js\"></script>                <div id=\"0e74a2a2-6d48-45b1-815b-62fa5f5502e6\" class=\"plotly-graph-div\" style=\"height:525px; width:100%;\"></div>            <script type=\"text/javascript\">                                    window.PLOTLYENV=window.PLOTLYENV || {};                                    if (document.getElementById(\"0e74a2a2-6d48-45b1-815b-62fa5f5502e6\")) {                    Plotly.newPlot(                        \"0e74a2a2-6d48-45b1-815b-62fa5f5502e6\",                        [{\"dimensions\":[{\"axis\":{\"matches\":true},\"label\":\"sales\",\"values\":[107800.0,177700.0,156300.0,35400.0,113500.0,9500.0,47700.0,26700.0,54000.0,52200.0,129400.0,149700.0,41400.0,20000.0,38600.0,39600.0,3979300.0,1752300.0,2118200.0,1379500.0,2816800.0,946000.0,198000.0,854700.0,1156700.0,685900.0,3979000.0,9000.0,1235000.0,790100.0,1581200.0,229300.0,1055700.0,1388200.0,2545900.0,251900.0,1417600.0,599500.0,213000.0,1813300.0,2942100.0,2140000.0,1096700.0,2280300.0,2030800.0,888000.0,1276600.0,1176500.0,191700.0,262200.0,2928900.0,4954300.0,900000.0,518700.0,1969800.0,1832000.0,1592900.0,2510300.0,2908100.0,601000.0,1574000.0,1463300.0,3195800.0,1605800.0,1547400.0,2029200.0,1304300.0,1767500.0,1692600.0,1741400.0,463100.0,1732600.0,2804500.0,80000.0,1804700.0,1723000.0,557100.0,1082600.0,352900.0,190800.0,2199000.0,2090400.0,1739000.0,2080700.0,446400.0,2880800.0,2641200.0,2040600.0,2190200.0,1383000.0,2166500.0,295500.0,2016400.0,2568000.0,8115800.0,1504300.0,3650500.0,884400.0,6689400.0,821900.0,947000.0,3783000.0,1784500.0,2306000.0,1886700.0,1822000.0,526000.0,2007500.0,1033400.0,2059400.0,3018700.0,1991200.0,2515500.0,370200.0,2506000.0,3935200.0,966000.0,587000.0,524200.0,1082800.0,162700.0,316000.0,343000.0,2849100.0,845000.0,1137700.0,1527000.0,2369000.0,109600.0,168500.0,43900.0,2015900.0,398000.0,115000.0,1062800.0,1400500.0,1034000.0,2894800.0,226900.0,783300.0,2363000.0,1318300.0,53500.0,390000.0,942300.0,1867400.0,560800.0,1336100.0,176700.0,66000.0,195000.0,896800.0,111000.0,100000.0,206700.0,2499100.0,2584500.0,364000.0,185500.0,1503000.0,1305400.0,2661100.0,237300.0,420600.0,101900.0,967000.0,1576400.0,415000.0,498100.0,664900.0,1548300.0,595700.0,2000000.0,632000.0,227600.0,1811500.0,160500.0,2076600.0,933800.0,1393200.0,2841300.0,172800.0,1976200.0,786800.0,562100.0,271100.0,460000.0,2200900.0,143500.0,167900.0,934700.0,1117500.0,583500.0,584000.0,68500.0,2068800.0,510500.0,1273700.0,272400.0,398000.0,85000.0,769400.0,571700.0,370100.0,1494000.0,89500.0,1494500.0,344000.0,53800.0,67500.0,172500.0,237500.0,251800.0,47400.0,18000.0,68000.0,256400.0,402000.0,14000.0,1796400.0,162000.0,100400.0,3058000.0,10700.0,1919700.0,1022700.0,451000.0,321800.0,288700.0,1207300.0,396100.0,121600.0,120000.0,143500.0,947200.0,1908600.0,575000.0,1157900.0,507500.0,1260400.0,397300.0,557200.0,409500.0,226200.0,491900.0,1757100.0,831100.0,643000.0,749300.0,794500.0,1187500.0,1607800.0,837900.0,810000.0,992300.0,266000.0,522500.0,1058400.0,392800.0,1359400.0,2026800.0,86000.0,800100.0,735900.0,599900.0,1517800.0,63700.0,306000.0,141800.0,945700.0,697300.0,622900.0,761800.0,858000.0,823000.0,784100.0,501000.0,575900.0,554300.0,128300.0,105800.0,140800.0,771000.0,827800.0,1085000.0,485100.0,597000.0,1348300.0,35900.0,936900.0,1002700.0,472500.0,83500.0,1159000.0,413200.0,203000.0,643200.0,313000.0,163900.0,845700.0,615200.0,865400.0,747000.0,1058000.0,36000.0,196000.0,54500.0,239900.0,397000.0,501500.0,801900.0,150700.0,635100.0,16000.0,373400.0,309300.0,588500.0,679500.0,324000.0,21000.0,56600.0,890700.0,440000.0,69000.0,105000.0,341400.0,894900.0,46300.0,171000.0,397600.0,118500.0,199300.0,337500.0,227300.0,138900.0,166000.0,95000.0,752700.0,124000.0,384000.0,1232800.0,712300.0,256200.0,17000.0,194400.0,87000.0,102000.0,59000.0,328500.0,123000.0,30000.0,368000.0,584700.0,47000.0,463000.0,573700.0,87000.0,60000.0,112800.0,253500.0,111200.0,106400.0,648500.0,60000.0,153000.0,160000.0,76500.0,61100.0,29000.0,41500.0,545000.0,102400.0,46900.0,243000.0,51000.0,14000.0,5000.0,22000.0,10000.0,404000.0,15900.0,84000.0,48000.0,259900.0,686200.0,202000.0,144600.0,179900.0,39000.0,263900.0,316400.0,321500.0,147500.0,375000.0,401500.0,609800.0,269500.0,385000.0,246500.0,260800.0,157800.0,47800.0,71400.0,500000.0,207600.0,347200.0,255000.0,177500.0,211100.0,193900.0,425000.0,411900.0,505200.0,20000.0,388700.0,328000.0,316900.0,114800.0,249500.0,737100.0,750700.0,206700.0,185300.0,402200.0,192000.0,211900.0,101300.0,494000.0,626400.0,209500.0,365500.0,298800.0,452400.0,406000.0,207500.0,854700.0,565800.0,421800.0,304000.0,244500.0,136800.0,372200.0,126000.0,293200.0,413000.0,396700.0,377000.0,188000.0,160000.0,38000.0,144000.0,205600.0,249000.0,174000.0,76800.0,264500.0,206500.0,484400.0,285400.0,58000.0,34000.0,319900.0,223800.0,268500.0,75400.0,341000.0,57800.0,162900.0,193000.0,62000.0,78000.0,154000.0,52900.0,620100.0,376400.0,23400.0,175500.0,346000.0,373500.0,144000.0,64500.0,66800.0,64500.0,126200.0,233000.0,246000.0,157000.0,385900.0,148800.0,143200.0,25000.0,187800.0,79600.0,24000.0,24000.0,200000.0,17600.0,57500.0,56000.0,83000.0,165500.0,292900.0,89500.0,187600.0,17900.0,188400.0,105000.0,20000.0,56000.0,138000.0,194800.0,104900.0,249000.0,53000.0,49400.0,312000.0,179200.0,153500.0,237000.0,104000.0,99900.0,14500.0,137000.0,59000.0,80500.0,86000.0,77500.0,14000.0,11000.0,33000.0,51000.0,95600.0,60000.0,33000.0,60000.0,130800.0,67700.0,15900.0,203000.0,12000.0,28500.0,35000.0,3637500.0,938200.0,1411700.0,2641700.0,775500.0,1433700.0,2104400.0,1690500.0,1200000.0,1323700.0,4275500.0,1838400.0,3081100.0,735300.0,794600.0,613400.0,1565200.0,2290800.0,1416500.0,1757200.0,545900.0,506900.0,510800.0,493600.0,184000.0,345500.0,126400.0,138000.0,483900.0,770500.0,280000.0,339600.0,47400.0,37700.0,208000.0,304500.0,314000.0,196500.0,289700.0,134900.0,158000.0,81000.0,158700.0,265400.0,173900.0,20000.0,104900.0,274500.0,87900.0,355500.0,432600.0,251600.0,355100.0,430000.0,192000.0,337900.0,231500.0,29500.0,479500.0,142700.0,338000.0,516200.0,455500.0,247600.0,314000.0,338300.0,193900.0,548500.0,556700.0,407200.0,267000.0,133500.0,173500.0,201300.0,210600.0,78000.0,79300.0,387800.0,103000.0,63000.0,189000.0,506500.0,95300.0,191700.0,85400.0,158600.0,385000.0,24000.0,337000.0,262800.0,259500.0,620800.0,106400.0,17000.0,580200.0,193000.0,281000.0,226800.0,198200.0,293300.0,38400.0,72900.0,180000.0,39000.0,74000.0,296000.0,767900.0,320900.0,246300.0,69000.0,146100.0,645600.0,20000.0,322500.0,146000.0,430000.0,317500.0,63000.0,62000.0,16000.0,184600.0,327000.0,896600.0,79900.0,306300.0,501500.0,154000.0,379000.0,80800.0,161000.0,45000.0,84800.0,215000.0,120700.0,26000.0,35000.0,15000.0,15000.0,329500.0,194200.0,121000.0,21000.0,35800.0,161300.0,54000.0,373600.0,37000.0,62200.0,146500.0,47600.0,133600.0,104000.0,462000.0,55000.0,37400.0,38900.0,38000.0,23500.0,220300.0,244600.0,48000.0,26700.0,188000.0,14000.0,70500.0,11000.0,29000.0,375000.0,17000.0,195000.0,15000.0,129000.0,72000.0,12000.0,60000.0,983200.0,818400.0,1045600.0,1166500.0,389300.0,413300.0,1706400.0,633700.0,1317500.0,244600.0,46600.0,251900.0,167700.0,146600.0,429500.0,159500.0,859400.0,679700.0,328700.0,137800.0,85000.0,92100.0,781400.0,336000.0,261700.0,117500.0,376500.0,109000.0,140500.0,448800.0,644000.0,645300.0,337900.0,295200.0,300300.0,78700.0,195500.0,149300.0,29700.0,244900.0,230000.0,393200.0,539800.0,208500.0,347900.0,133400.0,186400.0,221300.0,221900.0,559000.0,364500.0,348800.0,40000.0,286600.0,226000.0,337000.0,80500.0,287100.0,117800.0,27900.0,599300.0,280700.0,519700.0,513600.0,296100.0,607200.0,576000.0,178900.0,414000.0,306000.0,79600.0,136400.0,473500.0,752000.0,282500.0,285000.0,460900.0,460600.0,414800.0,63800.0,439000.0,111800.0,592800.0,301100.0,260500.0,683800.0,440700.0,240000.0,13000.0,142000.0,421300.0,450900.0,224000.0,148000.0,223300.0,119000.0,551300.0,333400.0,229000.0,21000.0,20000.0,102700.0,475000.0,504600.0,312000.0,235000.0,449300.0,184400.0,17000.0,592200.0,390000.0,320300.0,222900.0,106600.0,67000.0,312300.0,159000.0,692400.0,50600.0,375900.0,130700.0,174200.0,9600.0,84600.0,171000.0,118900.0,226900.0,488400.0,105200.0,136000.0,315000.0,193100.0,79400.0,40800.0,165000.0,88000.0,121500.0,89000.0,127000.0,108600.0,117700.0,62000.0,13500.0,28000.0,317000.0,185500.0,17800.0,82900.0,260800.0,30000.0,51500.0,22500.0,20000.0,20000.0,234000.0,389800.0,59900.0,212000.0,82800.0,34000.0,304000.0,242800.0,169400.0,53000.0,71800.0,115000.0,272000.0,59000.0,465000.0,54500.0,8000.0,24500.0,22000.0,33000.0,26000.0,182400.0,72600.0,12000.0,24000.0,11500.0]},{\"axis\":{\"matches\":true},\"label\":\"arppu\",\"values\":[13475.0,25385.71,31260.0,11800.0,22700.0,9500.0,15900.0,26700.0,54000.0,13050.0,32350.0,21385.71,10350.0,20000.0,19300.0,39600.0,19131.25,21112.05,21614.29,24633.93,21502.29,16033.9,18000.0,20846.34,16524.29,14910.87,23969.88,9000.0,23301.89,16810.64,29281.48,15286.67,14869.01,15956.32,26246.39,15743.75,19966.2,20672.41,23666.67,19290.43,25807.89,17983.19,17135.94,25058.24,27077.33,38608.7,16579.22,17559.7,13692.86,12485.71,21223.91,21921.68,18750.0,28816.67,16981.03,19489.36,19911.25,30613.41,21383.09,27318.18,26677.97,16819.54,20618.06,18042.7,17584.09,23059.09,22882.46,25250.0,20896.3,18330.53,19295.83,17861.86,26457.55,20000.0,22558.75,19359.55,19896.43,13532.5,20758.82,23850.0,18794.87,21330.61,17217.82,18093.04,20290.91,23232.26,18865.71,20612.12,18251.67,15896.55,20060.19,18468.75,22913.64,19906.98,24971.69,24660.66,19626.34,16686.79,21648.54,21074.36,12626.67,19703.13,15383.62,16955.88,18680.2,24293.33,18137.93,17158.12,11611.24,13638.41,21874.64,20318.37,21317.8,16095.65,20540.98,14906.06,15836.07,18935.48,16909.68,20051.85,20337.5,21066.67,24500.0,19250.68,21666.67,15584.93,22791.04,22140.19,21920.0,21062.5,10975.0,22398.89,18090.91,12777.78,18324.14,21882.81,15432.84,21129.93,18908.33,20084.62,16640.85,15883.13,17833.33,19500.0,13656.52,30119.35,12462.22,18302.74,14725.0,16500.0,16250.0,24237.84,18500.0,20000.0,18790.91,17850.71,22280.17,26000.0,16863.64,22432.84,27195.83,18479.86,13958.82,28040.0,14557.14,19340.0,22846.38,31923.08,31131.25,28908.7,26242.37,17020.0,23255.81,27478.26,16257.14,18297.98,32100.0,18878.18,17957.69,16785.54,19197.97,17280.0,17036.21,14050.0,17565.63,18073.33,21904.76,18189.26,15944.44,10493.75,15578.33,16195.65,19450.0,19466.67,13700.0,23779.31,17016.67,24974.51,18160.0,18952.38,17000.0,19728.21,23820.83,28469.23,24900.0,17900.0,17178.16,20235.29,13450.0,9642.86,17250.0,21590.91,15737.5,11850.0,6000.0,34000.0,25640.0,28714.29,14000.0,21643.37,14727.27,25100.0,18993.79,10700.0,17611.93,23243.18,16703.7,18929.41,16982.35,26245.65,14146.43,24320.0,24000.0,23916.67,15786.67,22721.43,23000.0,22703.92,18796.3,22916.36,14714.81,22288.0,22750.0,22620.0,19676.0,24747.89,23745.71,20741.94,23415.63,36113.64,24234.69,19371.08,22050.0,18409.09,21112.77,19000.0,19351.85,24054.55,15107.69,22656.67,27764.38,21500.0,17780.0,23738.71,23073.08,25296.67,15925.0,14571.43,23633.33,20121.28,21790.63,20093.55,21161.11,24514.29,18288.89,18234.88,17892.86,14766.67,19796.43,18328.57,17633.33,20114.29,17522.73,18395.56,24111.11,17325.0,29850.0,20743.08,11966.67,18738.0,24456.1,18900.0,16700.0,39965.52,14757.14,20300.0,22179.31,26083.33,20487.5,17618.75,19845.16,27916.13,29880.0,21591.84,18000.0,24500.0,27250.0,18453.85,18904.76,18574.07,22911.43,30140.0,15121.43,16000.0,26671.43,18194.12,17308.82,21234.38,19058.82,21000.0,14150.0,18556.25,19130.43,23000.0,26250.0,20082.35,16572.22,23150.0,17100.0,26506.67,19750.0,33216.67,21093.75,25255.56,27780.0,16600.0,23750.0,19807.89,20666.67,14769.23,20546.67,16959.52,14233.33,8500.0,17672.73,17400.0,25500.0,59000.0,11732.14,24600.0,15000.0,13629.63,18861.29,15666.67,15433.33,28685.0,17400.0,12000.0,14100.0,19500.0,18533.33,15200.0,19073.53,20000.0,21857.14,22857.14,25500.0,12220.0,14500.0,20750.0,18793.1,34133.33,23450.0,17357.14,51000.0,14000.0,5000.0,11000.0,10000.0,19238.1,15900.0,21000.0,16000.0,17326.67,19605.71,12625.0,14460.0,10582.35,19500.0,14661.11,22600.0,26791.67,18437.5,18750.0,16060.0,20326.67,16843.75,24062.5,24650.0,16300.0,26300.0,47800.0,11900.0,20000.0,15969.23,20423.53,15000.0,12678.57,17591.67,24237.5,23611.11,20595.0,18711.11,20000.0,15548.0,18222.22,17605.56,16400.0,15593.75,21679.41,16319.57,17225.0,16845.45,22344.44,14769.23,15135.71,9209.09,14969.7,20880.0,13093.75,15891.3,14940.0,25133.33,19333.33,25937.5,25138.24,21761.54,19172.73,20266.67,18807.69,15200.0,17723.81,31500.0,13961.9,19666.67,15868.0,17952.38,18800.0,17777.78,19000.0,24000.0,13706.67,20750.0,21750.0,15360.0,15558.82,15884.62,21060.87,23783.33,29000.0,17000.0,15995.0,13987.5,15794.12,9425.0,24357.14,14450.0,20362.5,24125.0,20666.67,39000.0,22000.0,13225.0,22146.43,19810.53,11700.0,15954.55,20352.94,24900.0,16000.0,16125.0,22266.67,12900.0,31550.0,19416.67,17571.43,22428.57,15436.0,24800.0,23866.67,12500.0,20866.67,13266.67,24000.0,24000.0,28571.43,8800.0,9583.33,18666.67,27666.67,12730.77,15415.79,11187.5,18760.0,17900.0,26914.29,52500.0,20000.0,28000.0,19714.29,27828.57,14985.71,15562.5,17666.67,7057.14,22285.71,11200.0,19187.5,23700.0,17333.33,19980.0,7250.0,22833.33,19666.67,20125.0,28666.67,15500.0,14000.0,11000.0,16500.0,12750.0,23900.0,20000.0,11000.0,15000.0,16350.0,22566.67,15900.0,18454.55,12000.0,14250.0,35000.0,23930.92,19545.83,18098.72,28714.13,35250.0,24718.97,25354.22,24500.0,27272.73,18384.72,31906.72,24843.24,26561.21,18382.5,22702.86,30670.0,26528.81,24370.21,26231.48,28341.94,21836.0,31681.25,17613.79,22436.36,14153.85,18184.21,25280.0,34500.0,37223.08,20824.32,17500.0,22640.0,11850.0,12566.67,34666.67,21750.0,15700.0,15115.38,16094.44,22483.33,19750.0,27000.0,26450.0,17693.33,24842.86,20000.0,14985.71,14447.37,21975.0,16928.57,21630.0,16773.33,14795.83,14333.33,21333.33,14079.17,15433.33,14750.0,20847.83,23783.33,16900.0,17206.67,20704.55,22509.09,26166.67,15377.27,13850.0,21096.15,21411.54,22622.22,14833.33,13350.0,13346.15,11841.18,14040.0,15600.0,19825.0,25853.33,25750.0,21000.0,15750.0,20260.0,13614.29,17427.27,14233.33,17622.22,27500.0,24000.0,24071.43,37542.86,16218.75,22171.43,21280.0,17000.0,21488.89,14846.15,25545.45,16200.0,24775.0,18331.25,19200.0,14580.0,22500.0,19500.0,24666.67,21142.86,21330.56,22921.43,18946.15,34500.0,18262.5,25824.0,10000.0,18970.59,73000.0,25294.12,15119.05,21000.0,20666.67,16000.0,15383.33,23357.14,20851.16,19975.0,20420.0,17293.1,19250.0,19947.37,16160.0,20125.0,22500.0,12114.29,21500.0,10972.73,26000.0,17500.0,15000.0,15000.0,20593.75,16183.33,15125.0,21000.0,17900.0,26883.33,27000.0,26685.71,12333.33,10366.67,16277.78,23800.0,19085.71,26000.0,19250.0,18333.33,18700.0,19450.0,12666.67,23500.0,14686.67,20383.33,16000.0,26700.0,17090.91,14000.0,17625.0,11000.0,29000.0,20833.33,17000.0,15000.0,15000.0,16125.0,18000.0,12000.0,20000.0,21848.89,19960.98,26810.26,28451.22,21627.78,17220.83,42660.0,25348.0,30639.53,24460.0,15533.33,19376.92,16770.0,24433.33,21475.0,19937.5,26042.42,30895.45,25284.62,27560.0,14166.67,23025.0,20563.16,18666.67,13773.68,11750.0,19815.79,18166.67,17562.5,22440.0,19515.15,17440.54,30718.18,24600.0,17664.71,15740.0,16291.67,14930.0,14850.0,12889.47,38333.33,30246.15,23469.57,18954.55,26761.54,12127.27,26628.57,36883.33,13868.75,19275.86,21441.18,23253.33,20000.0,14330.0,17384.62,18722.22,26833.33,12482.61,16828.57,13950.0,16647.22,18713.33,20788.0,13881.08,18506.25,23353.85,20571.43,14908.33,15333.33,15300.0,13266.67,12400.0,16910.71,22117.65,14125.0,23750.0,20950.0,17715.38,12200.0,21266.67,17560.0,8600.0,21955.56,15055.0,21708.33,17095.0,20031.82,15000.0,13000.0,20285.71,20061.9,26523.53,22400.0,21142.86,8932.0,29750.0,15313.89,13336.0,16357.14,10500.0,10000.0,17116.67,20652.17,25230.0,15600.0,16785.71,20422.73,20488.89,17000.0,17417.65,16250.0,13926.09,22290.0,10660.0,22333.33,16436.84,26500.0,18221.05,25300.0,22111.76,16337.5,13400.0,9600.0,21150.0,21375.0,16985.71,32414.29,21234.78,21040.0,22666.67,19687.5,24137.5,13233.33,20400.0,33000.0,11000.0,15187.5,17800.0,25400.0,15514.29,16814.29,20666.67,6750.0,28000.0,16684.21,26500.0,17800.0,13816.67,18628.57,15000.0,17166.67,22500.0,20000.0,20000.0,15600.0,20515.79,19966.67,17666.67,20700.0,17000.0,16000.0,16186.67,16940.0,13250.0,17950.0,23000.0,30222.22,29500.0,17222.22,18166.67,8000.0,8166.67,22000.0,16500.0,13000.0,11400.0,18150.0,12000.0,24000.0,11500.0]},{\"axis\":{\"matches\":true},\"label\":\"purchase_count\",\"values\":[9,10,6,3,6,1,3,1,2,4,5,8,5,1,2,1,356,113,122,69,177,79,11,44,93,70,195,1,63,51,54,15,73,116,134,17,78,33,10,145,138,172,80,128,91,31,91,86,16,22,181,322,50,23,139,102,96,111,195,30,64,127,270,125,121,128,64,104,123,131,28,126,142,4,116,103,34,105,20,10,183,126,119,139,27,183,176,136,187,102,182,17,108,194,472,64,203,56,456,41,79,224,129,194,124,101,36,177,109,165,207,124,168,24,149,413,82,32,33,67,9,18,15,274,43,88,90,171,6,10,4,105,24,9,62,89,76,215,12,44,209,110,4,20,84,91,51,87,16,4,12,39,6,5,13,168,155,14,11,75,61,228,21,18,8,54,90,15,19,26,63,42,104,23,15,131,8,138,53,105,249,11,181,58,36,16,24,135,10,16,84,94,34,34,5,102,39,69,16,21,5,43,28,15,63,6,102,17,5,7,10,13,16,4,3,3,13,14,1,89,11,5,171,1,175,60,32,19,23,65,37,7,5,7,81,120,33,80,36,78,30,29,23,17,29,91,49,39,38,31,79,118,49,52,63,15,33,67,29,73,97,4,54,44,32,75,4,26,7,74,43,46,43,50,62,76,34,56,35,8,7,9,65,68,51,33,30,93,3,65,62,32,5,75,36,11,34,15,8,78,42,44,45,72,2,10,3,13,25,35,55,5,59,1,20,19,44,38,17,1,5,67,29,3,4,20,89,3,10,22,7,9,21,11,6,10,4,53,7,34,101,63,20,2,15,5,6,1,32,6,2,32,39,3,42,22,5,5,8,15,6,8,41,3,7,8,4,5,2,2,30,4,5,15,1,1,1,2,1,21,1,4,3,16,39,17,11,18,2,20,17,13,9,30,27,39,20,21,10,17,7,2,6,39,16,20,22,17,12,9,26,26,30,1,28,22,21,9,22,44,66,13,11,23,15,17,11,36,35,16,32,26,22,30,10,48,36,26,16,17,10,24,5,29,22,40,26,11,10,2,8,18,16,12,5,18,14,32,14,3,2,24,17,17,9,16,6,8,10,3,3,9,4,39,24,2,13,21,18,11,4,3,5,5,14,15,8,30,7,7,2,13,8,1,1,7,2,7,3,3,19,22,11,13,1,10,2,1,2,8,9,7,18,4,7,14,18,8,11,7,7,2,6,3,5,4,5,1,1,2,4,4,3,3,4,8,3,1,12,1,2,1,236,63,124,153,28,60,119,82,49,84,183,87,185,47,43,26,83,114,59,72,28,17,40,25,15,26,5,4,20,49,22,16,4,3,11,20,28,18,23,9,8,4,8,17,9,1,8,25,5,30,24,19,26,45,12,33,18,2,29,6,24,39,31,16,17,24,19,39,39,24,19,12,16,21,18,5,4,20,4,4,13,43,10,14,6,9,24,2,17,13,19,46,6,1,48,18,13,18,8,19,2,5,8,3,3,20,50,15,16,2,8,28,2,22,2,26,26,3,3,1,13,19,66,4,16,40,11,23,6,12,2,7,10,12,1,3,1,1,19,15,8,1,2,6,2,16,3,6,9,2,7,4,38,3,2,2,3,1,16,12,4,1,13,1,5,1,1,19,1,13,1,8,4,1,3,73,67,59,71,20,28,64,33,80,11,3,15,12,8,26,8,46,25,18,5,6,4,50,22,22,11,23,6,9,30,39,47,16,15,18,6,14,12,3,23,6,19,31,16,21,14,8,11,19,36,27,20,2,24,15,21,3,26,7,2,49,18,34,45,20,33,36,14,31,31,6,12,40,39,21,16,27,40,44,4,33,17,41,22,14,49,27,17,1,7,27,23,12,7,34,5,50,26,19,2,2,7,34,27,23,17,31,11,1,46,33,28,14,10,5,23,8,45,3,21,8,19,1,5,9,8,7,25,5,7,19,9,7,2,6,9,8,6,7,8,8,3,2,1,24,8,1,7,16,2,5,1,1,1,17,20,4,12,5,2,22,16,11,4,4,5,10,2,31,3,1,3,1,2,2,19,4,1,1,1]},{\"axis\":{\"matches\":true},\"label\":\"pu\",\"values\":[8.0,7.0,5.0,3.0,5.0,1.0,3.0,1.0,1.0,4.0,4.0,7.0,4.0,1.0,2.0,1.0,208.0,83.0,98.0,56.0,131.0,59.0,11.0,41.0,70.0,46.0,166.0,1.0,53.0,47.0,54.0,15.0,71.0,87.0,97.0,16.0,71.0,29.0,9.0,94.0,114.0,119.0,64.0,91.0,75.0,23.0,77.0,67.0,14.0,21.0,138.0,226.0,48.0,18.0,116.0,94.0,80.0,82.0,136.0,22.0,59.0,87.0,155.0,89.0,88.0,88.0,57.0,70.0,81.0,95.0,24.0,97.0,106.0,4.0,80.0,89.0,28.0,80.0,17.0,8.0,117.0,98.0,101.0,115.0,22.0,124.0,140.0,99.0,120.0,87.0,108.0,16.0,88.0,129.0,325.0,61.0,186.0,53.0,309.0,39.0,75.0,192.0,116.0,136.0,101.0,75.0,29.0,117.0,89.0,151.0,138.0,98.0,118.0,23.0,122.0,264.0,61.0,31.0,31.0,54.0,8.0,15.0,14.0,148.0,39.0,73.0,67.0,107.0,5.0,8.0,4.0,90.0,22.0,9.0,58.0,64.0,67.0,137.0,12.0,39.0,142.0,83.0,3.0,20.0,69.0,62.0,45.0,73.0,12.0,4.0,12.0,37.0,6.0,5.0,11.0,140.0,116.0,14.0,11.0,67.0,48.0,144.0,17.0,15.0,7.0,50.0,69.0,13.0,16.0,23.0,59.0,35.0,86.0,23.0,14.0,99.0,5.0,110.0,52.0,83.0,148.0,10.0,116.0,56.0,32.0,15.0,21.0,121.0,9.0,16.0,60.0,69.0,30.0,30.0,5.0,87.0,30.0,51.0,15.0,21.0,5.0,39.0,24.0,13.0,60.0,5.0,87.0,17.0,4.0,7.0,10.0,11.0,16.0,4.0,3.0,2.0,10.0,14.0,1.0,83.0,11.0,4.0,161.0,1.0,109.0,44.0,27.0,17.0,17.0,46.0,28.0,5.0,5.0,6.0,60.0,84.0,25.0,51.0,27.0,55.0,27.0,25.0,18.0,10.0,25.0,71.0,35.0,31.0,32.0,22.0,49.0,83.0,38.0,44.0,47.0,14.0,27.0,44.0,26.0,60.0,73.0,4.0,45.0,31.0,26.0,60.0,4.0,21.0,6.0,47.0,32.0,31.0,36.0,35.0,45.0,43.0,28.0,39.0,28.0,7.0,6.0,7.0,44.0,45.0,45.0,28.0,20.0,65.0,3.0,50.0,41.0,25.0,5.0,29.0,28.0,10.0,29.0,12.0,8.0,48.0,31.0,31.0,25.0,49.0,2.0,8.0,2.0,13.0,21.0,27.0,35.0,5.0,42.0,1.0,14.0,17.0,34.0,32.0,17.0,1.0,4.0,48.0,23.0,3.0,4.0,17.0,54.0,2.0,10.0,15.0,6.0,6.0,16.0,9.0,5.0,10.0,4.0,38.0,6.0,26.0,60.0,42.0,18.0,2.0,11.0,5.0,4.0,1.0,28.0,5.0,2.0,27.0,31.0,3.0,30.0,20.0,5.0,5.0,8.0,13.0,6.0,7.0,34.0,3.0,7.0,7.0,3.0,5.0,2.0,2.0,29.0,3.0,2.0,14.0,1.0,1.0,1.0,2.0,1.0,21.0,1.0,4.0,3.0,15.0,35.0,16.0,10.0,17.0,2.0,18.0,14.0,12.0,8.0,20.0,25.0,30.0,16.0,16.0,10.0,16.0,6.0,1.0,6.0,25.0,13.0,17.0,17.0,14.0,12.0,8.0,18.0,20.0,27.0,1.0,25.0,18.0,18.0,7.0,16.0,34.0,46.0,12.0,11.0,18.0,13.0,14.0,11.0,33.0,30.0,16.0,23.0,20.0,18.0,21.0,8.0,34.0,26.0,22.0,15.0,13.0,9.0,21.0,4.0,21.0,21.0,25.0,21.0,10.0,9.0,2.0,6.0,15.0,12.0,8.0,5.0,17.0,13.0,23.0,12.0,2.0,2.0,20.0,16.0,17.0,8.0,14.0,4.0,8.0,8.0,3.0,2.0,7.0,4.0,28.0,19.0,2.0,11.0,17.0,15.0,9.0,4.0,3.0,5.0,4.0,12.0,14.0,7.0,25.0,6.0,6.0,2.0,9.0,6.0,1.0,1.0,7.0,2.0,6.0,3.0,3.0,13.0,19.0,8.0,10.0,1.0,7.0,2.0,1.0,2.0,7.0,7.0,7.0,16.0,3.0,7.0,14.0,16.0,8.0,10.0,6.0,5.0,2.0,6.0,3.0,4.0,3.0,5.0,1.0,1.0,2.0,4.0,4.0,3.0,3.0,4.0,8.0,3.0,1.0,11.0,1.0,2.0,1.0,152.0,48.0,78.0,92.0,22.0,58.0,83.0,69.0,44.0,72.0,134.0,74.0,116.0,40.0,35.0,20.0,59.0,94.0,54.0,62.0,25.0,16.0,29.0,22.0,13.0,19.0,5.0,4.0,13.0,37.0,16.0,15.0,4.0,3.0,6.0,14.0,20.0,13.0,18.0,6.0,8.0,3.0,6.0,15.0,7.0,1.0,7.0,19.0,4.0,21.0,20.0,15.0,24.0,30.0,9.0,24.0,15.0,2.0,23.0,6.0,20.0,30.0,22.0,11.0,12.0,22.0,14.0,26.0,26.0,18.0,18.0,10.0,13.0,17.0,15.0,5.0,4.0,15.0,4.0,3.0,12.0,25.0,7.0,11.0,6.0,9.0,14.0,1.0,14.0,7.0,16.0,28.0,5.0,1.0,27.0,13.0,11.0,14.0,8.0,16.0,2.0,5.0,8.0,2.0,3.0,14.0,36.0,14.0,13.0,2.0,8.0,25.0,2.0,17.0,2.0,17.0,21.0,3.0,3.0,1.0,12.0,14.0,43.0,4.0,15.0,29.0,8.0,19.0,5.0,8.0,2.0,7.0,10.0,11.0,1.0,2.0,1.0,1.0,16.0,12.0,8.0,1.0,2.0,6.0,2.0,14.0,3.0,6.0,9.0,2.0,7.0,4.0,24.0,3.0,2.0,2.0,3.0,1.0,15.0,12.0,3.0,1.0,11.0,1.0,4.0,1.0,1.0,18.0,1.0,13.0,1.0,8.0,4.0,1.0,3.0,45.0,41.0,39.0,41.0,18.0,24.0,40.0,25.0,43.0,10.0,3.0,13.0,10.0,6.0,20.0,8.0,33.0,22.0,13.0,5.0,6.0,4.0,38.0,18.0,19.0,10.0,19.0,6.0,8.0,20.0,33.0,37.0,11.0,12.0,17.0,5.0,12.0,10.0,2.0,19.0,6.0,13.0,23.0,11.0,13.0,11.0,7.0,6.0,16.0,29.0,17.0,15.0,2.0,20.0,13.0,18.0,3.0,23.0,7.0,2.0,36.0,15.0,25.0,37.0,16.0,26.0,28.0,12.0,27.0,20.0,6.0,11.0,28.0,34.0,20.0,12.0,22.0,26.0,34.0,3.0,25.0,13.0,27.0,20.0,12.0,40.0,22.0,16.0,1.0,7.0,21.0,17.0,10.0,7.0,25.0,4.0,36.0,25.0,14.0,2.0,2.0,6.0,23.0,20.0,20.0,14.0,22.0,9.0,1.0,34.0,24.0,23.0,10.0,10.0,3.0,19.0,6.0,38.0,2.0,17.0,8.0,13.0,1.0,4.0,8.0,7.0,7.0,23.0,5.0,6.0,16.0,8.0,6.0,2.0,5.0,8.0,8.0,5.0,5.0,7.0,7.0,3.0,2.0,1.0,19.0,7.0,1.0,6.0,14.0,2.0,3.0,1.0,1.0,1.0,15.0,19.0,3.0,12.0,4.0,2.0,19.0,15.0,10.0,4.0,4.0,5.0,9.0,2.0,27.0,3.0,1.0,3.0,1.0,2.0,2.0,16.0,4.0,1.0,1.0,1.0]}],\"hovertemplate\":\"%{xaxis.title.text}=%{x}<br>%{yaxis.title.text}=%{y}<extra></extra>\",\"legendgroup\":\"\",\"marker\":{\"color\":\"#636efa\",\"symbol\":\"circle\"},\"name\":\"\",\"showlegend\":false,\"type\":\"splom\"}],                        {\"template\":{\"data\":{\"bar\":[{\"error_x\":{\"color\":\"#2a3f5f\"},\"error_y\":{\"color\":\"#2a3f5f\"},\"marker\":{\"line\":{\"color\":\"#E5ECF6\",\"width\":0.5},\"pattern\":{\"fillmode\":\"overlay\",\"size\":10,\"solidity\":0.2}},\"type\":\"bar\"}],\"barpolar\":[{\"marker\":{\"line\":{\"color\":\"#E5ECF6\",\"width\":0.5},\"pattern\":{\"fillmode\":\"overlay\",\"size\":10,\"solidity\":0.2}},\"type\":\"barpolar\"}],\"carpet\":[{\"aaxis\":{\"endlinecolor\":\"#2a3f5f\",\"gridcolor\":\"white\",\"linecolor\":\"white\",\"minorgridcolor\":\"white\",\"startlinecolor\":\"#2a3f5f\"},\"baxis\":{\"endlinecolor\":\"#2a3f5f\",\"gridcolor\":\"white\",\"linecolor\":\"white\",\"minorgridcolor\":\"white\",\"startlinecolor\":\"#2a3f5f\"},\"type\":\"carpet\"}],\"choropleth\":[{\"colorbar\":{\"outlinewidth\":0,\"ticks\":\"\"},\"type\":\"choropleth\"}],\"contour\":[{\"colorbar\":{\"outlinewidth\":0,\"ticks\":\"\"},\"colorscale\":[[0.0,\"#0d0887\"],[0.1111111111111111,\"#46039f\"],[0.2222222222222222,\"#7201a8\"],[0.3333333333333333,\"#9c179e\"],[0.4444444444444444,\"#bd3786\"],[0.5555555555555556,\"#d8576b\"],[0.6666666666666666,\"#ed7953\"],[0.7777777777777778,\"#fb9f3a\"],[0.8888888888888888,\"#fdca26\"],[1.0,\"#f0f921\"]],\"type\":\"contour\"}],\"contourcarpet\":[{\"colorbar\":{\"outlinewidth\":0,\"ticks\":\"\"},\"type\":\"contourcarpet\"}],\"heatmap\":[{\"colorbar\":{\"outlinewidth\":0,\"ticks\":\"\"},\"colorscale\":[[0.0,\"#0d0887\"],[0.1111111111111111,\"#46039f\"],[0.2222222222222222,\"#7201a8\"],[0.3333333333333333,\"#9c179e\"],[0.4444444444444444,\"#bd3786\"],[0.5555555555555556,\"#d8576b\"],[0.6666666666666666,\"#ed7953\"],[0.7777777777777778,\"#fb9f3a\"],[0.8888888888888888,\"#fdca26\"],[1.0,\"#f0f921\"]],\"type\":\"heatmap\"}],\"heatmapgl\":[{\"colorbar\":{\"outlinewidth\":0,\"ticks\":\"\"},\"colorscale\":[[0.0,\"#0d0887\"],[0.1111111111111111,\"#46039f\"],[0.2222222222222222,\"#7201a8\"],[0.3333333333333333,\"#9c179e\"],[0.4444444444444444,\"#bd3786\"],[0.5555555555555556,\"#d8576b\"],[0.6666666666666666,\"#ed7953\"],[0.7777777777777778,\"#fb9f3a\"],[0.8888888888888888,\"#fdca26\"],[1.0,\"#f0f921\"]],\"type\":\"heatmapgl\"}],\"histogram\":[{\"marker\":{\"pattern\":{\"fillmode\":\"overlay\",\"size\":10,\"solidity\":0.2}},\"type\":\"histogram\"}],\"histogram2d\":[{\"colorbar\":{\"outlinewidth\":0,\"ticks\":\"\"},\"colorscale\":[[0.0,\"#0d0887\"],[0.1111111111111111,\"#46039f\"],[0.2222222222222222,\"#7201a8\"],[0.3333333333333333,\"#9c179e\"],[0.4444444444444444,\"#bd3786\"],[0.5555555555555556,\"#d8576b\"],[0.6666666666666666,\"#ed7953\"],[0.7777777777777778,\"#fb9f3a\"],[0.8888888888888888,\"#fdca26\"],[1.0,\"#f0f921\"]],\"type\":\"histogram2d\"}],\"histogram2dcontour\":[{\"colorbar\":{\"outlinewidth\":0,\"ticks\":\"\"},\"colorscale\":[[0.0,\"#0d0887\"],[0.1111111111111111,\"#46039f\"],[0.2222222222222222,\"#7201a8\"],[0.3333333333333333,\"#9c179e\"],[0.4444444444444444,\"#bd3786\"],[0.5555555555555556,\"#d8576b\"],[0.6666666666666666,\"#ed7953\"],[0.7777777777777778,\"#fb9f3a\"],[0.8888888888888888,\"#fdca26\"],[1.0,\"#f0f921\"]],\"type\":\"histogram2dcontour\"}],\"mesh3d\":[{\"colorbar\":{\"outlinewidth\":0,\"ticks\":\"\"},\"type\":\"mesh3d\"}],\"parcoords\":[{\"line\":{\"colorbar\":{\"outlinewidth\":0,\"ticks\":\"\"}},\"type\":\"parcoords\"}],\"pie\":[{\"automargin\":true,\"type\":\"pie\"}],\"scatter\":[{\"marker\":{\"colorbar\":{\"outlinewidth\":0,\"ticks\":\"\"}},\"type\":\"scatter\"}],\"scatter3d\":[{\"line\":{\"colorbar\":{\"outlinewidth\":0,\"ticks\":\"\"}},\"marker\":{\"colorbar\":{\"outlinewidth\":0,\"ticks\":\"\"}},\"type\":\"scatter3d\"}],\"scattercarpet\":[{\"marker\":{\"colorbar\":{\"outlinewidth\":0,\"ticks\":\"\"}},\"type\":\"scattercarpet\"}],\"scattergeo\":[{\"marker\":{\"colorbar\":{\"outlinewidth\":0,\"ticks\":\"\"}},\"type\":\"scattergeo\"}],\"scattergl\":[{\"marker\":{\"colorbar\":{\"outlinewidth\":0,\"ticks\":\"\"}},\"type\":\"scattergl\"}],\"scattermapbox\":[{\"marker\":{\"colorbar\":{\"outlinewidth\":0,\"ticks\":\"\"}},\"type\":\"scattermapbox\"}],\"scatterpolar\":[{\"marker\":{\"colorbar\":{\"outlinewidth\":0,\"ticks\":\"\"}},\"type\":\"scatterpolar\"}],\"scatterpolargl\":[{\"marker\":{\"colorbar\":{\"outlinewidth\":0,\"ticks\":\"\"}},\"type\":\"scatterpolargl\"}],\"scatterternary\":[{\"marker\":{\"colorbar\":{\"outlinewidth\":0,\"ticks\":\"\"}},\"type\":\"scatterternary\"}],\"surface\":[{\"colorbar\":{\"outlinewidth\":0,\"ticks\":\"\"},\"colorscale\":[[0.0,\"#0d0887\"],[0.1111111111111111,\"#46039f\"],[0.2222222222222222,\"#7201a8\"],[0.3333333333333333,\"#9c179e\"],[0.4444444444444444,\"#bd3786\"],[0.5555555555555556,\"#d8576b\"],[0.6666666666666666,\"#ed7953\"],[0.7777777777777778,\"#fb9f3a\"],[0.8888888888888888,\"#fdca26\"],[1.0,\"#f0f921\"]],\"type\":\"surface\"}],\"table\":[{\"cells\":{\"fill\":{\"color\":\"#EBF0F8\"},\"line\":{\"color\":\"white\"}},\"header\":{\"fill\":{\"color\":\"#C8D4E3\"},\"line\":{\"color\":\"white\"}},\"type\":\"table\"}]},\"layout\":{\"annotationdefaults\":{\"arrowcolor\":\"#2a3f5f\",\"arrowhead\":0,\"arrowwidth\":1},\"autotypenumbers\":\"strict\",\"coloraxis\":{\"colorbar\":{\"outlinewidth\":0,\"ticks\":\"\"}},\"colorscale\":{\"diverging\":[[0,\"#8e0152\"],[0.1,\"#c51b7d\"],[0.2,\"#de77ae\"],[0.3,\"#f1b6da\"],[0.4,\"#fde0ef\"],[0.5,\"#f7f7f7\"],[0.6,\"#e6f5d0\"],[0.7,\"#b8e186\"],[0.8,\"#7fbc41\"],[0.9,\"#4d9221\"],[1,\"#276419\"]],\"sequential\":[[0.0,\"#0d0887\"],[0.1111111111111111,\"#46039f\"],[0.2222222222222222,\"#7201a8\"],[0.3333333333333333,\"#9c179e\"],[0.4444444444444444,\"#bd3786\"],[0.5555555555555556,\"#d8576b\"],[0.6666666666666666,\"#ed7953\"],[0.7777777777777778,\"#fb9f3a\"],[0.8888888888888888,\"#fdca26\"],[1.0,\"#f0f921\"]],\"sequentialminus\":[[0.0,\"#0d0887\"],[0.1111111111111111,\"#46039f\"],[0.2222222222222222,\"#7201a8\"],[0.3333333333333333,\"#9c179e\"],[0.4444444444444444,\"#bd3786\"],[0.5555555555555556,\"#d8576b\"],[0.6666666666666666,\"#ed7953\"],[0.7777777777777778,\"#fb9f3a\"],[0.8888888888888888,\"#fdca26\"],[1.0,\"#f0f921\"]]},\"colorway\":[\"#636efa\",\"#EF553B\",\"#00cc96\",\"#ab63fa\",\"#FFA15A\",\"#19d3f3\",\"#FF6692\",\"#B6E880\",\"#FF97FF\",\"#FECB52\"],\"font\":{\"color\":\"#2a3f5f\"},\"geo\":{\"bgcolor\":\"white\",\"lakecolor\":\"white\",\"landcolor\":\"#E5ECF6\",\"showlakes\":true,\"showland\":true,\"subunitcolor\":\"white\"},\"hoverlabel\":{\"align\":\"left\"},\"hovermode\":\"closest\",\"mapbox\":{\"style\":\"light\"},\"paper_bgcolor\":\"white\",\"plot_bgcolor\":\"#E5ECF6\",\"polar\":{\"angularaxis\":{\"gridcolor\":\"white\",\"linecolor\":\"white\",\"ticks\":\"\"},\"bgcolor\":\"#E5ECF6\",\"radialaxis\":{\"gridcolor\":\"white\",\"linecolor\":\"white\",\"ticks\":\"\"}},\"scene\":{\"xaxis\":{\"backgroundcolor\":\"#E5ECF6\",\"gridcolor\":\"white\",\"gridwidth\":2,\"linecolor\":\"white\",\"showbackground\":true,\"ticks\":\"\",\"zerolinecolor\":\"white\"},\"yaxis\":{\"backgroundcolor\":\"#E5ECF6\",\"gridcolor\":\"white\",\"gridwidth\":2,\"linecolor\":\"white\",\"showbackground\":true,\"ticks\":\"\",\"zerolinecolor\":\"white\"},\"zaxis\":{\"backgroundcolor\":\"#E5ECF6\",\"gridcolor\":\"white\",\"gridwidth\":2,\"linecolor\":\"white\",\"showbackground\":true,\"ticks\":\"\",\"zerolinecolor\":\"white\"}},\"shapedefaults\":{\"line\":{\"color\":\"#2a3f5f\"}},\"ternary\":{\"aaxis\":{\"gridcolor\":\"white\",\"linecolor\":\"white\",\"ticks\":\"\"},\"baxis\":{\"gridcolor\":\"white\",\"linecolor\":\"white\",\"ticks\":\"\"},\"bgcolor\":\"#E5ECF6\",\"caxis\":{\"gridcolor\":\"white\",\"linecolor\":\"white\",\"ticks\":\"\"}},\"title\":{\"x\":0.05},\"xaxis\":{\"automargin\":true,\"gridcolor\":\"white\",\"linecolor\":\"white\",\"ticks\":\"\",\"title\":{\"standoff\":15},\"zerolinecolor\":\"white\",\"zerolinewidth\":2},\"yaxis\":{\"automargin\":true,\"gridcolor\":\"white\",\"linecolor\":\"white\",\"ticks\":\"\",\"title\":{\"standoff\":15},\"zerolinecolor\":\"white\",\"zerolinewidth\":2}}},\"legend\":{\"tracegroupgap\":0},\"margin\":{\"t\":60},\"dragmode\":\"select\"},                        {\"responsive\": true}                    ).then(function(){\n",
              "                            \n",
              "var gd = document.getElementById('0e74a2a2-6d48-45b1-815b-62fa5f5502e6');\n",
              "var x = new MutationObserver(function (mutations, observer) {{\n",
              "        var display = window.getComputedStyle(gd).display;\n",
              "        if (!display || display === 'none') {{\n",
              "            console.log([gd, 'removed!']);\n",
              "            Plotly.purge(gd);\n",
              "            observer.disconnect();\n",
              "        }}\n",
              "}});\n",
              "\n",
              "// Listen for the removal of the full notebook cells\n",
              "var notebookContainer = gd.closest('#notebook-container');\n",
              "if (notebookContainer) {{\n",
              "    x.observe(notebookContainer, {childList: true});\n",
              "}}\n",
              "\n",
              "// Listen for the clearing of the current output cell\n",
              "var outputEl = gd.closest('.output');\n",
              "if (outputEl) {{\n",
              "    x.observe(outputEl, {childList: true});\n",
              "}}\n",
              "\n",
              "                        })                };                            </script>        </div>\n",
              "</body>\n",
              "</html>"
            ]
          },
          "metadata": {}
        }
      ]
    },
    {
      "cell_type": "markdown",
      "source": [
        "# 마케팅 데이터 분석"
      ],
      "metadata": {
        "id": "fyyyLvhrlkaV"
      }
    },
    {
      "cell_type": "markdown",
      "source": [
        "## 비용 (Cost)"
      ],
      "metadata": {
        "id": "DlqwY0jnlt4B"
      }
    },
    {
      "cell_type": "markdown",
      "source": [
        "### 일간 비용"
      ],
      "metadata": {
        "id": "ZJvPsfMryUKr"
      }
    },
    {
      "cell_type": "code",
      "source": [
        "## << 데이터프레임 생성 - 일간 마케팅 비용 >>\n",
        "query_job = client.query(\"\"\"\n",
        "  select aggregate_date, min(format_date('%Y-%m', aggregate_date)) as aggregate_year_month, sum(cost) as cost\n",
        "  from `my_temp.daily_cost`\n",
        "  group by aggregate_date\n",
        "  order by aggregate_date\n",
        "\"\"\")\n",
        "\n",
        "dailyCostDf = query_job.to_dataframe()\n",
        "dailyCostDf['aggregate_date'] = dailyCostDf['aggregate_date'].astype('datetime64')"
      ],
      "metadata": {
        "id": "qN8__iTwWstO"
      },
      "execution_count": null,
      "outputs": []
    },
    {
      "cell_type": "code",
      "source": [
        "## << 시각화 - 일간 마케팅 비용 막대그래프 >>\n",
        "\n",
        "import plotly.express as px\n",
        "\n",
        "fig = px.bar(dailyCostDf, \n",
        "             x ='aggregate_date', \n",
        "             y = 'cost', \n",
        "             color='aggregate_year_month',)\n",
        "\n",
        "fig.show(renderer='colab')"
      ],
      "metadata": {
        "colab": {
          "base_uri": "https://localhost:8080/",
          "height": 542
        },
        "id": "Xa1LU28_ltdx",
        "outputId": "becf1b23-ee4c-42d2-e138-54cedc1c7882"
      },
      "execution_count": null,
      "outputs": [
        {
          "output_type": "display_data",
          "data": {
            "text/html": [
              "<html>\n",
              "<head><meta charset=\"utf-8\" /></head>\n",
              "<body>\n",
              "    <div>            <script src=\"https://cdnjs.cloudflare.com/ajax/libs/mathjax/2.7.5/MathJax.js?config=TeX-AMS-MML_SVG\"></script><script type=\"text/javascript\">if (window.MathJax) {MathJax.Hub.Config({SVG: {font: \"STIX-Web\"}});}</script>                <script type=\"text/javascript\">window.PlotlyConfig = {MathJaxConfig: 'local'};</script>\n",
              "        <script src=\"https://cdn.plot.ly/plotly-2.8.3.min.js\"></script>                <div id=\"6ef9de5c-9b5f-4cc9-95f1-6c2dbdfecdef\" class=\"plotly-graph-div\" style=\"height:525px; width:100%;\"></div>            <script type=\"text/javascript\">                                    window.PLOTLYENV=window.PLOTLYENV || {};                                    if (document.getElementById(\"6ef9de5c-9b5f-4cc9-95f1-6c2dbdfecdef\")) {                    Plotly.newPlot(                        \"6ef9de5c-9b5f-4cc9-95f1-6c2dbdfecdef\",                        [{\"alignmentgroup\":\"True\",\"hovertemplate\":\"aggregate_year_month=2022-05<br>aggregate_date=%{x}<br>cost=%{y}<extra></extra>\",\"legendgroup\":\"2022-05\",\"marker\":{\"color\":\"#636efa\",\"pattern\":{\"shape\":\"\"}},\"name\":\"2022-05\",\"offsetgroup\":\"2022-05\",\"orientation\":\"v\",\"showlegend\":true,\"textposition\":\"auto\",\"x\":[\"2022-05-01T00:00:00\",\"2022-05-02T00:00:00\",\"2022-05-03T00:00:00\",\"2022-05-04T00:00:00\",\"2022-05-05T00:00:00\",\"2022-05-06T00:00:00\",\"2022-05-07T00:00:00\",\"2022-05-08T00:00:00\",\"2022-05-09T00:00:00\",\"2022-05-10T00:00:00\",\"2022-05-11T00:00:00\",\"2022-05-12T00:00:00\",\"2022-05-13T00:00:00\",\"2022-05-14T00:00:00\",\"2022-05-15T00:00:00\",\"2022-05-16T00:00:00\",\"2022-05-17T00:00:00\",\"2022-05-18T00:00:00\",\"2022-05-19T00:00:00\",\"2022-05-20T00:00:00\",\"2022-05-21T00:00:00\",\"2022-05-22T00:00:00\",\"2022-05-23T00:00:00\",\"2022-05-24T00:00:00\",\"2022-05-25T00:00:00\",\"2022-05-26T00:00:00\",\"2022-05-27T00:00:00\",\"2022-05-28T00:00:00\",\"2022-05-29T00:00:00\",\"2022-05-30T00:00:00\",\"2022-05-31T00:00:00\"],\"xaxis\":\"x\",\"y\":[126032.3788,101023.8217,175948.31530000002,251600.9564,151227.37610000002,151012.0294,252698.6081,152143.6144,202561.0879,151262.2953,279228.309,75402.0666,100745.64809999999,50847.6186,50372.778399999996,125596.0436,202463.43699999998,126388.2082,126387.93470000001,152161.4811,25236.3322,100918.6428,101094.4973,75822.4305,76170.7668,101224.11290000001,228081.1164,253026.55079999997,252890.2732,301015.2709,330250.3114],\"yaxis\":\"y\",\"type\":\"bar\"},{\"alignmentgroup\":\"True\",\"hovertemplate\":\"aggregate_year_month=2022-06<br>aggregate_date=%{x}<br>cost=%{y}<extra></extra>\",\"legendgroup\":\"2022-06\",\"marker\":{\"color\":\"#EF553B\",\"pattern\":{\"shape\":\"\"}},\"name\":\"2022-06\",\"offsetgroup\":\"2022-06\",\"orientation\":\"v\",\"showlegend\":true,\"textposition\":\"auto\",\"x\":[\"2022-06-01T00:00:00\",\"2022-06-02T00:00:00\",\"2022-06-03T00:00:00\",\"2022-06-04T00:00:00\",\"2022-06-05T00:00:00\",\"2022-06-06T00:00:00\",\"2022-06-07T00:00:00\",\"2022-06-08T00:00:00\",\"2022-06-09T00:00:00\",\"2022-06-10T00:00:00\",\"2022-06-11T00:00:00\",\"2022-06-12T00:00:00\",\"2022-06-13T00:00:00\",\"2022-06-14T00:00:00\",\"2022-06-15T00:00:00\",\"2022-06-16T00:00:00\",\"2022-06-17T00:00:00\",\"2022-06-18T00:00:00\",\"2022-06-19T00:00:00\",\"2022-06-20T00:00:00\",\"2022-06-21T00:00:00\",\"2022-06-22T00:00:00\",\"2022-06-23T00:00:00\",\"2022-06-24T00:00:00\",\"2022-06-25T00:00:00\",\"2022-06-26T00:00:00\",\"2022-06-27T00:00:00\",\"2022-06-28T00:00:00\",\"2022-06-29T00:00:00\",\"2022-06-30T00:00:00\"],\"xaxis\":\"x\",\"y\":[126909.5245,226247.0482,227230.895,429745.3373,125755.42510000002,152146.3638,177967.7106,277125.7938,353629.9999,251963.39500000002,405759.632,151074.1774,101676.9318,428687.7149,607219.563,633765.5346,859659.2977,735530.9961,403442.6202,328005.1789,252653.2698,177100.8758,202488.43349999998,301634.4817,528639.2067,707781.639,328119.4453,402662.4334,579433.4112,428953.9615],\"yaxis\":\"y\",\"type\":\"bar\"},{\"alignmentgroup\":\"True\",\"hovertemplate\":\"aggregate_year_month=2022-07<br>aggregate_date=%{x}<br>cost=%{y}<extra></extra>\",\"legendgroup\":\"2022-07\",\"marker\":{\"color\":\"#00cc96\",\"pattern\":{\"shape\":\"\"}},\"name\":\"2022-07\",\"offsetgroup\":\"2022-07\",\"orientation\":\"v\",\"showlegend\":true,\"textposition\":\"auto\",\"x\":[\"2022-07-01T00:00:00\",\"2022-07-02T00:00:00\",\"2022-07-03T00:00:00\",\"2022-07-04T00:00:00\",\"2022-07-05T00:00:00\",\"2022-07-06T00:00:00\",\"2022-07-07T00:00:00\",\"2022-07-08T00:00:00\",\"2022-07-09T00:00:00\",\"2022-07-10T00:00:00\",\"2022-07-11T00:00:00\",\"2022-07-12T00:00:00\",\"2022-07-13T00:00:00\",\"2022-07-14T00:00:00\",\"2022-07-15T00:00:00\",\"2022-07-16T00:00:00\",\"2022-07-17T00:00:00\",\"2022-07-18T00:00:00\",\"2022-07-19T00:00:00\",\"2022-07-20T00:00:00\",\"2022-07-21T00:00:00\",\"2022-07-22T00:00:00\",\"2022-07-23T00:00:00\",\"2022-07-24T00:00:00\",\"2022-07-25T00:00:00\",\"2022-07-26T00:00:00\",\"2022-07-27T00:00:00\",\"2022-07-28T00:00:00\",\"2022-07-29T00:00:00\",\"2022-07-30T00:00:00\",\"2022-07-31T00:00:00\"],\"xaxis\":\"x\",\"y\":[900954.1586,378043.8134,269277.644,355624.817,1243873.2059999998,610993.3215000001,808932.5885,502651.6047,343279.96880000003,394603.9673,573862.4506,470026.66860000003,773424.9395999999,268888.7859,432738.1018,412160.38060000003,576551.0619,323969.65880000003,888523.3864000001,845573.7663,668304.5309,524215.20509999996,195527.5296,217651.9657,198934.17349999998,108605.1596,270106.3846,576185.4315000001,1136564.6972,520832.04500000004,217784.8495],\"yaxis\":\"y\",\"type\":\"bar\"},{\"alignmentgroup\":\"True\",\"hovertemplate\":\"aggregate_year_month=2022-08<br>aggregate_date=%{x}<br>cost=%{y}<extra></extra>\",\"legendgroup\":\"2022-08\",\"marker\":{\"color\":\"#ab63fa\",\"pattern\":{\"shape\":\"\"}},\"name\":\"2022-08\",\"offsetgroup\":\"2022-08\",\"orientation\":\"v\",\"showlegend\":true,\"textposition\":\"auto\",\"x\":[\"2022-08-01T00:00:00\",\"2022-08-02T00:00:00\",\"2022-08-03T00:00:00\",\"2022-08-04T00:00:00\",\"2022-08-05T00:00:00\",\"2022-08-06T00:00:00\",\"2022-08-07T00:00:00\",\"2022-08-08T00:00:00\",\"2022-08-09T00:00:00\",\"2022-08-10T00:00:00\",\"2022-08-11T00:00:00\",\"2022-08-12T00:00:00\",\"2022-08-13T00:00:00\",\"2022-08-14T00:00:00\",\"2022-08-15T00:00:00\",\"2022-08-16T00:00:00\",\"2022-08-17T00:00:00\",\"2022-08-18T00:00:00\",\"2022-08-19T00:00:00\",\"2022-08-20T00:00:00\",\"2022-08-21T00:00:00\",\"2022-08-22T00:00:00\",\"2022-08-23T00:00:00\",\"2022-08-24T00:00:00\",\"2022-08-25T00:00:00\",\"2022-08-26T00:00:00\",\"2022-08-27T00:00:00\",\"2022-08-28T00:00:00\",\"2022-08-29T00:00:00\",\"2022-08-30T00:00:00\",\"2022-08-31T00:00:00\"],\"xaxis\":\"x\",\"y\":[396269.52999999997,631863.1445,288698.80189999996,700410.7376000001,307743.8147,214981.0533,163465.526,160492.9668,594209.4694,342784.152,144499.021,577494.9605,109279.2916,253482.0221,144633.40240000002,125489.80669999999,162844.7533,195716.12209999998,197905.5604,179925.188,54684.9332,125182.0459,179782.5197,70848.1875,379328.7868,627094.1316,504389.982,144733.5641,485342.8034,556065.5292,806418.7870999998],\"yaxis\":\"y\",\"type\":\"bar\"},{\"alignmentgroup\":\"True\",\"hovertemplate\":\"aggregate_year_month=2022-09<br>aggregate_date=%{x}<br>cost=%{y}<extra></extra>\",\"legendgroup\":\"2022-09\",\"marker\":{\"color\":\"#FFA15A\",\"pattern\":{\"shape\":\"\"}},\"name\":\"2022-09\",\"offsetgroup\":\"2022-09\",\"orientation\":\"v\",\"showlegend\":true,\"textposition\":\"auto\",\"x\":[\"2022-09-01T00:00:00\",\"2022-09-02T00:00:00\",\"2022-09-03T00:00:00\",\"2022-09-04T00:00:00\",\"2022-09-05T00:00:00\",\"2022-09-06T00:00:00\",\"2022-09-07T00:00:00\",\"2022-09-08T00:00:00\",\"2022-09-09T00:00:00\",\"2022-09-10T00:00:00\",\"2022-09-11T00:00:00\",\"2022-09-12T00:00:00\",\"2022-09-13T00:00:00\",\"2022-09-14T00:00:00\",\"2022-09-15T00:00:00\",\"2022-09-16T00:00:00\",\"2022-09-17T00:00:00\",\"2022-09-18T00:00:00\",\"2022-09-19T00:00:00\",\"2022-09-20T00:00:00\",\"2022-09-21T00:00:00\",\"2022-09-22T00:00:00\",\"2022-09-23T00:00:00\",\"2022-09-24T00:00:00\",\"2022-09-25T00:00:00\",\"2022-09-26T00:00:00\",\"2022-09-27T00:00:00\",\"2022-09-28T00:00:00\",\"2022-09-29T00:00:00\",\"2022-09-30T00:00:00\"],\"xaxis\":\"x\",\"y\":[539548.2699,608101.5464999999,413211.09770000004,485610.5206,555672.8163,268201.8299,196106.9267,163953.998,109479.0763,90028.6825,163369.3936,163606.2416,198579.7586,179613.13910000003,233237.1997,144565.0606,70387.9424,89844.7647,54337.1524,197724.6721,253495.1552,360112.951,306646.9487,468250.2812000001,357864.0488,143573.939,70523.1309,143384.0692,593057.5233,390961.56799999997],\"yaxis\":\"y\",\"type\":\"bar\"},{\"alignmentgroup\":\"True\",\"hovertemplate\":\"aggregate_year_month=2022-10<br>aggregate_date=%{x}<br>cost=%{y}<extra></extra>\",\"legendgroup\":\"2022-10\",\"marker\":{\"color\":\"#19d3f3\",\"pattern\":{\"shape\":\"\"}},\"name\":\"2022-10\",\"offsetgroup\":\"2022-10\",\"orientation\":\"v\",\"showlegend\":true,\"textposition\":\"auto\",\"x\":[\"2022-10-01T00:00:00\",\"2022-10-02T00:00:00\",\"2022-10-03T00:00:00\",\"2022-10-04T00:00:00\",\"2022-10-05T00:00:00\",\"2022-10-06T00:00:00\",\"2022-10-07T00:00:00\",\"2022-10-08T00:00:00\",\"2022-10-09T00:00:00\",\"2022-10-10T00:00:00\",\"2022-10-11T00:00:00\",\"2022-10-12T00:00:00\",\"2022-10-13T00:00:00\",\"2022-10-14T00:00:00\",\"2022-10-15T00:00:00\",\"2022-10-16T00:00:00\",\"2022-10-17T00:00:00\",\"2022-10-18T00:00:00\",\"2022-10-19T00:00:00\",\"2022-10-20T00:00:00\",\"2022-10-21T00:00:00\",\"2022-10-22T00:00:00\",\"2022-10-23T00:00:00\",\"2022-10-24T00:00:00\",\"2022-10-25T00:00:00\",\"2022-10-26T00:00:00\",\"2022-10-27T00:00:00\",\"2022-10-28T00:00:00\",\"2022-10-29T00:00:00\",\"2022-10-30T00:00:00\",\"2022-10-31T00:00:00\"],\"xaxis\":\"x\",\"y\":[286059.3845,428506.10949999996,449574.01350000006,305215.2174,250291.7484,160974.16879999998,250058.2867,431475.8539,287739.6735,141784.12939999998,288191.8037,337065.1944,396637.90099999995,359023.69019999995,375481.74490000005,269283.29720000003,302075.7347,268446.0196,646250.0451,177048.231,901245.2633,537510.5087,433449.16530000005,591040.3592,407741.9788,195193.0936,342987.58749999997,321339.29000000004,105604.8496,217165.05569999997,105848.17670000001],\"yaxis\":\"y\",\"type\":\"bar\"},{\"alignmentgroup\":\"True\",\"hovertemplate\":\"aggregate_year_month=2022-11<br>aggregate_date=%{x}<br>cost=%{y}<extra></extra>\",\"legendgroup\":\"2022-11\",\"marker\":{\"color\":\"#FF6692\",\"pattern\":{\"shape\":\"\"}},\"name\":\"2022-11\",\"offsetgroup\":\"2022-11\",\"orientation\":\"v\",\"showlegend\":true,\"textposition\":\"auto\",\"x\":[\"2022-11-01T00:00:00\",\"2022-11-02T00:00:00\",\"2022-11-03T00:00:00\",\"2022-11-04T00:00:00\",\"2022-11-05T00:00:00\",\"2022-11-06T00:00:00\",\"2022-11-07T00:00:00\",\"2022-11-08T00:00:00\",\"2022-11-09T00:00:00\",\"2022-11-10T00:00:00\",\"2022-11-11T00:00:00\",\"2022-11-12T00:00:00\",\"2022-11-13T00:00:00\",\"2022-11-14T00:00:00\",\"2022-11-15T00:00:00\",\"2022-11-16T00:00:00\",\"2022-11-17T00:00:00\",\"2022-11-18T00:00:00\",\"2022-11-19T00:00:00\",\"2022-11-20T00:00:00\",\"2022-11-21T00:00:00\",\"2022-11-22T00:00:00\",\"2022-11-23T00:00:00\",\"2022-11-24T00:00:00\",\"2022-11-25T00:00:00\",\"2022-11-26T00:00:00\",\"2022-11-27T00:00:00\",\"2022-11-28T00:00:00\",\"2022-11-29T00:00:00\",\"2022-11-30T00:00:00\"],\"xaxis\":\"x\",\"y\":[144374.0429,450802.79130000004,89706.1084,252373.1837,70666.9006,198610.4805,13762792.265400002,5130722.2447999995,3479032.5026999996,2727717.4236,1356408.9631,1176135.4216,434968.9755,764605.0022,632651.6732,1389536.1534,830643.9962,1238461.3084000002,1023880.2396999999,1262754.4459000002,1765958.5404000003,1256904.9693000002,540654.9525,789233.1797999999,878546.4585999999,395067.6959,125510.07990000001,466152.0236,527889.3104000001,494811.79959999997],\"yaxis\":\"y\",\"type\":\"bar\"}],                        {\"template\":{\"data\":{\"bar\":[{\"error_x\":{\"color\":\"#2a3f5f\"},\"error_y\":{\"color\":\"#2a3f5f\"},\"marker\":{\"line\":{\"color\":\"#E5ECF6\",\"width\":0.5},\"pattern\":{\"fillmode\":\"overlay\",\"size\":10,\"solidity\":0.2}},\"type\":\"bar\"}],\"barpolar\":[{\"marker\":{\"line\":{\"color\":\"#E5ECF6\",\"width\":0.5},\"pattern\":{\"fillmode\":\"overlay\",\"size\":10,\"solidity\":0.2}},\"type\":\"barpolar\"}],\"carpet\":[{\"aaxis\":{\"endlinecolor\":\"#2a3f5f\",\"gridcolor\":\"white\",\"linecolor\":\"white\",\"minorgridcolor\":\"white\",\"startlinecolor\":\"#2a3f5f\"},\"baxis\":{\"endlinecolor\":\"#2a3f5f\",\"gridcolor\":\"white\",\"linecolor\":\"white\",\"minorgridcolor\":\"white\",\"startlinecolor\":\"#2a3f5f\"},\"type\":\"carpet\"}],\"choropleth\":[{\"colorbar\":{\"outlinewidth\":0,\"ticks\":\"\"},\"type\":\"choropleth\"}],\"contour\":[{\"colorbar\":{\"outlinewidth\":0,\"ticks\":\"\"},\"colorscale\":[[0.0,\"#0d0887\"],[0.1111111111111111,\"#46039f\"],[0.2222222222222222,\"#7201a8\"],[0.3333333333333333,\"#9c179e\"],[0.4444444444444444,\"#bd3786\"],[0.5555555555555556,\"#d8576b\"],[0.6666666666666666,\"#ed7953\"],[0.7777777777777778,\"#fb9f3a\"],[0.8888888888888888,\"#fdca26\"],[1.0,\"#f0f921\"]],\"type\":\"contour\"}],\"contourcarpet\":[{\"colorbar\":{\"outlinewidth\":0,\"ticks\":\"\"},\"type\":\"contourcarpet\"}],\"heatmap\":[{\"colorbar\":{\"outlinewidth\":0,\"ticks\":\"\"},\"colorscale\":[[0.0,\"#0d0887\"],[0.1111111111111111,\"#46039f\"],[0.2222222222222222,\"#7201a8\"],[0.3333333333333333,\"#9c179e\"],[0.4444444444444444,\"#bd3786\"],[0.5555555555555556,\"#d8576b\"],[0.6666666666666666,\"#ed7953\"],[0.7777777777777778,\"#fb9f3a\"],[0.8888888888888888,\"#fdca26\"],[1.0,\"#f0f921\"]],\"type\":\"heatmap\"}],\"heatmapgl\":[{\"colorbar\":{\"outlinewidth\":0,\"ticks\":\"\"},\"colorscale\":[[0.0,\"#0d0887\"],[0.1111111111111111,\"#46039f\"],[0.2222222222222222,\"#7201a8\"],[0.3333333333333333,\"#9c179e\"],[0.4444444444444444,\"#bd3786\"],[0.5555555555555556,\"#d8576b\"],[0.6666666666666666,\"#ed7953\"],[0.7777777777777778,\"#fb9f3a\"],[0.8888888888888888,\"#fdca26\"],[1.0,\"#f0f921\"]],\"type\":\"heatmapgl\"}],\"histogram\":[{\"marker\":{\"pattern\":{\"fillmode\":\"overlay\",\"size\":10,\"solidity\":0.2}},\"type\":\"histogram\"}],\"histogram2d\":[{\"colorbar\":{\"outlinewidth\":0,\"ticks\":\"\"},\"colorscale\":[[0.0,\"#0d0887\"],[0.1111111111111111,\"#46039f\"],[0.2222222222222222,\"#7201a8\"],[0.3333333333333333,\"#9c179e\"],[0.4444444444444444,\"#bd3786\"],[0.5555555555555556,\"#d8576b\"],[0.6666666666666666,\"#ed7953\"],[0.7777777777777778,\"#fb9f3a\"],[0.8888888888888888,\"#fdca26\"],[1.0,\"#f0f921\"]],\"type\":\"histogram2d\"}],\"histogram2dcontour\":[{\"colorbar\":{\"outlinewidth\":0,\"ticks\":\"\"},\"colorscale\":[[0.0,\"#0d0887\"],[0.1111111111111111,\"#46039f\"],[0.2222222222222222,\"#7201a8\"],[0.3333333333333333,\"#9c179e\"],[0.4444444444444444,\"#bd3786\"],[0.5555555555555556,\"#d8576b\"],[0.6666666666666666,\"#ed7953\"],[0.7777777777777778,\"#fb9f3a\"],[0.8888888888888888,\"#fdca26\"],[1.0,\"#f0f921\"]],\"type\":\"histogram2dcontour\"}],\"mesh3d\":[{\"colorbar\":{\"outlinewidth\":0,\"ticks\":\"\"},\"type\":\"mesh3d\"}],\"parcoords\":[{\"line\":{\"colorbar\":{\"outlinewidth\":0,\"ticks\":\"\"}},\"type\":\"parcoords\"}],\"pie\":[{\"automargin\":true,\"type\":\"pie\"}],\"scatter\":[{\"marker\":{\"colorbar\":{\"outlinewidth\":0,\"ticks\":\"\"}},\"type\":\"scatter\"}],\"scatter3d\":[{\"line\":{\"colorbar\":{\"outlinewidth\":0,\"ticks\":\"\"}},\"marker\":{\"colorbar\":{\"outlinewidth\":0,\"ticks\":\"\"}},\"type\":\"scatter3d\"}],\"scattercarpet\":[{\"marker\":{\"colorbar\":{\"outlinewidth\":0,\"ticks\":\"\"}},\"type\":\"scattercarpet\"}],\"scattergeo\":[{\"marker\":{\"colorbar\":{\"outlinewidth\":0,\"ticks\":\"\"}},\"type\":\"scattergeo\"}],\"scattergl\":[{\"marker\":{\"colorbar\":{\"outlinewidth\":0,\"ticks\":\"\"}},\"type\":\"scattergl\"}],\"scattermapbox\":[{\"marker\":{\"colorbar\":{\"outlinewidth\":0,\"ticks\":\"\"}},\"type\":\"scattermapbox\"}],\"scatterpolar\":[{\"marker\":{\"colorbar\":{\"outlinewidth\":0,\"ticks\":\"\"}},\"type\":\"scatterpolar\"}],\"scatterpolargl\":[{\"marker\":{\"colorbar\":{\"outlinewidth\":0,\"ticks\":\"\"}},\"type\":\"scatterpolargl\"}],\"scatterternary\":[{\"marker\":{\"colorbar\":{\"outlinewidth\":0,\"ticks\":\"\"}},\"type\":\"scatterternary\"}],\"surface\":[{\"colorbar\":{\"outlinewidth\":0,\"ticks\":\"\"},\"colorscale\":[[0.0,\"#0d0887\"],[0.1111111111111111,\"#46039f\"],[0.2222222222222222,\"#7201a8\"],[0.3333333333333333,\"#9c179e\"],[0.4444444444444444,\"#bd3786\"],[0.5555555555555556,\"#d8576b\"],[0.6666666666666666,\"#ed7953\"],[0.7777777777777778,\"#fb9f3a\"],[0.8888888888888888,\"#fdca26\"],[1.0,\"#f0f921\"]],\"type\":\"surface\"}],\"table\":[{\"cells\":{\"fill\":{\"color\":\"#EBF0F8\"},\"line\":{\"color\":\"white\"}},\"header\":{\"fill\":{\"color\":\"#C8D4E3\"},\"line\":{\"color\":\"white\"}},\"type\":\"table\"}]},\"layout\":{\"annotationdefaults\":{\"arrowcolor\":\"#2a3f5f\",\"arrowhead\":0,\"arrowwidth\":1},\"autotypenumbers\":\"strict\",\"coloraxis\":{\"colorbar\":{\"outlinewidth\":0,\"ticks\":\"\"}},\"colorscale\":{\"diverging\":[[0,\"#8e0152\"],[0.1,\"#c51b7d\"],[0.2,\"#de77ae\"],[0.3,\"#f1b6da\"],[0.4,\"#fde0ef\"],[0.5,\"#f7f7f7\"],[0.6,\"#e6f5d0\"],[0.7,\"#b8e186\"],[0.8,\"#7fbc41\"],[0.9,\"#4d9221\"],[1,\"#276419\"]],\"sequential\":[[0.0,\"#0d0887\"],[0.1111111111111111,\"#46039f\"],[0.2222222222222222,\"#7201a8\"],[0.3333333333333333,\"#9c179e\"],[0.4444444444444444,\"#bd3786\"],[0.5555555555555556,\"#d8576b\"],[0.6666666666666666,\"#ed7953\"],[0.7777777777777778,\"#fb9f3a\"],[0.8888888888888888,\"#fdca26\"],[1.0,\"#f0f921\"]],\"sequentialminus\":[[0.0,\"#0d0887\"],[0.1111111111111111,\"#46039f\"],[0.2222222222222222,\"#7201a8\"],[0.3333333333333333,\"#9c179e\"],[0.4444444444444444,\"#bd3786\"],[0.5555555555555556,\"#d8576b\"],[0.6666666666666666,\"#ed7953\"],[0.7777777777777778,\"#fb9f3a\"],[0.8888888888888888,\"#fdca26\"],[1.0,\"#f0f921\"]]},\"colorway\":[\"#636efa\",\"#EF553B\",\"#00cc96\",\"#ab63fa\",\"#FFA15A\",\"#19d3f3\",\"#FF6692\",\"#B6E880\",\"#FF97FF\",\"#FECB52\"],\"font\":{\"color\":\"#2a3f5f\"},\"geo\":{\"bgcolor\":\"white\",\"lakecolor\":\"white\",\"landcolor\":\"#E5ECF6\",\"showlakes\":true,\"showland\":true,\"subunitcolor\":\"white\"},\"hoverlabel\":{\"align\":\"left\"},\"hovermode\":\"closest\",\"mapbox\":{\"style\":\"light\"},\"paper_bgcolor\":\"white\",\"plot_bgcolor\":\"#E5ECF6\",\"polar\":{\"angularaxis\":{\"gridcolor\":\"white\",\"linecolor\":\"white\",\"ticks\":\"\"},\"bgcolor\":\"#E5ECF6\",\"radialaxis\":{\"gridcolor\":\"white\",\"linecolor\":\"white\",\"ticks\":\"\"}},\"scene\":{\"xaxis\":{\"backgroundcolor\":\"#E5ECF6\",\"gridcolor\":\"white\",\"gridwidth\":2,\"linecolor\":\"white\",\"showbackground\":true,\"ticks\":\"\",\"zerolinecolor\":\"white\"},\"yaxis\":{\"backgroundcolor\":\"#E5ECF6\",\"gridcolor\":\"white\",\"gridwidth\":2,\"linecolor\":\"white\",\"showbackground\":true,\"ticks\":\"\",\"zerolinecolor\":\"white\"},\"zaxis\":{\"backgroundcolor\":\"#E5ECF6\",\"gridcolor\":\"white\",\"gridwidth\":2,\"linecolor\":\"white\",\"showbackground\":true,\"ticks\":\"\",\"zerolinecolor\":\"white\"}},\"shapedefaults\":{\"line\":{\"color\":\"#2a3f5f\"}},\"ternary\":{\"aaxis\":{\"gridcolor\":\"white\",\"linecolor\":\"white\",\"ticks\":\"\"},\"baxis\":{\"gridcolor\":\"white\",\"linecolor\":\"white\",\"ticks\":\"\"},\"bgcolor\":\"#E5ECF6\",\"caxis\":{\"gridcolor\":\"white\",\"linecolor\":\"white\",\"ticks\":\"\"}},\"title\":{\"x\":0.05},\"xaxis\":{\"automargin\":true,\"gridcolor\":\"white\",\"linecolor\":\"white\",\"ticks\":\"\",\"title\":{\"standoff\":15},\"zerolinecolor\":\"white\",\"zerolinewidth\":2},\"yaxis\":{\"automargin\":true,\"gridcolor\":\"white\",\"linecolor\":\"white\",\"ticks\":\"\",\"title\":{\"standoff\":15},\"zerolinecolor\":\"white\",\"zerolinewidth\":2}}},\"xaxis\":{\"anchor\":\"y\",\"domain\":[0.0,1.0],\"title\":{\"text\":\"aggregate_date\"}},\"yaxis\":{\"anchor\":\"x\",\"domain\":[0.0,1.0],\"title\":{\"text\":\"cost\"}},\"legend\":{\"title\":{\"text\":\"aggregate_year_month\"},\"tracegroupgap\":0},\"margin\":{\"t\":60},\"barmode\":\"relative\"},                        {\"responsive\": true}                    ).then(function(){\n",
              "                            \n",
              "var gd = document.getElementById('6ef9de5c-9b5f-4cc9-95f1-6c2dbdfecdef');\n",
              "var x = new MutationObserver(function (mutations, observer) {{\n",
              "        var display = window.getComputedStyle(gd).display;\n",
              "        if (!display || display === 'none') {{\n",
              "            console.log([gd, 'removed!']);\n",
              "            Plotly.purge(gd);\n",
              "            observer.disconnect();\n",
              "        }}\n",
              "}});\n",
              "\n",
              "// Listen for the removal of the full notebook cells\n",
              "var notebookContainer = gd.closest('#notebook-container');\n",
              "if (notebookContainer) {{\n",
              "    x.observe(notebookContainer, {childList: true});\n",
              "}}\n",
              "\n",
              "// Listen for the clearing of the current output cell\n",
              "var outputEl = gd.closest('.output');\n",
              "if (outputEl) {{\n",
              "    x.observe(outputEl, {childList: true});\n",
              "}}\n",
              "\n",
              "                        })                };                            </script>        </div>\n",
              "</body>\n",
              "</html>"
            ]
          },
          "metadata": {}
        }
      ]
    },
    {
      "cell_type": "code",
      "source": [
        "dailyCostDf.info()"
      ],
      "metadata": {
        "colab": {
          "base_uri": "https://localhost:8080/"
        },
        "id": "gASR2OfIlrzQ",
        "outputId": "da294db7-765c-4333-fee6-2fbba8a6b0f3"
      },
      "execution_count": null,
      "outputs": [
        {
          "output_type": "stream",
          "name": "stdout",
          "text": [
            "<class 'pandas.core.frame.DataFrame'>\n",
            "RangeIndex: 214 entries, 0 to 213\n",
            "Data columns (total 3 columns):\n",
            " #   Column                Non-Null Count  Dtype         \n",
            "---  ------                --------------  -----         \n",
            " 0   aggregate_date        214 non-null    datetime64[ns]\n",
            " 1   aggregate_year_month  214 non-null    object        \n",
            " 2   cost                  214 non-null    float64       \n",
            "dtypes: datetime64[ns](1), float64(1), object(1)\n",
            "memory usage: 5.1+ KB\n"
          ]
        }
      ]
    },
    {
      "cell_type": "markdown",
      "source": [
        "### 월간 비용 "
      ],
      "metadata": {
        "id": "JRklau_Vovgr"
      }
    },
    {
      "cell_type": "code",
      "source": [
        "## << 시각화 - 월간 마케팅 비용 >>\n",
        "\n",
        "import plotly.express as px\n",
        "\n",
        "fig = px.bar(dailyCostDf, \n",
        "             x ='aggregate_year_month', \n",
        "             y = 'cost', \n",
        "             color='aggregate_year_month',)\n",
        "\n",
        "fig.show(renderer='colab')"
      ],
      "metadata": {
        "colab": {
          "base_uri": "https://localhost:8080/",
          "height": 542
        },
        "id": "bofyL2FcovGb",
        "outputId": "9295713e-9c07-4197-da34-4d0359945830"
      },
      "execution_count": null,
      "outputs": [
        {
          "output_type": "display_data",
          "data": {
            "text/html": [
              "<html>\n",
              "<head><meta charset=\"utf-8\" /></head>\n",
              "<body>\n",
              "    <div>            <script src=\"https://cdnjs.cloudflare.com/ajax/libs/mathjax/2.7.5/MathJax.js?config=TeX-AMS-MML_SVG\"></script><script type=\"text/javascript\">if (window.MathJax) {MathJax.Hub.Config({SVG: {font: \"STIX-Web\"}});}</script>                <script type=\"text/javascript\">window.PlotlyConfig = {MathJaxConfig: 'local'};</script>\n",
              "        <script src=\"https://cdn.plot.ly/plotly-2.8.3.min.js\"></script>                <div id=\"9aa0bb13-5e02-4748-aac8-38cffa27a5a3\" class=\"plotly-graph-div\" style=\"height:525px; width:100%;\"></div>            <script type=\"text/javascript\">                                    window.PLOTLYENV=window.PLOTLYENV || {};                                    if (document.getElementById(\"9aa0bb13-5e02-4748-aac8-38cffa27a5a3\")) {                    Plotly.newPlot(                        \"9aa0bb13-5e02-4748-aac8-38cffa27a5a3\",                        [{\"alignmentgroup\":\"True\",\"hovertemplate\":\"aggregate_year_month=%{x}<br>cost=%{y}<extra></extra>\",\"legendgroup\":\"2022-05\",\"marker\":{\"color\":\"#636efa\",\"pattern\":{\"shape\":\"\"}},\"name\":\"2022-05\",\"offsetgroup\":\"2022-05\",\"orientation\":\"v\",\"showlegend\":true,\"textposition\":\"auto\",\"x\":[\"2022-05\",\"2022-05\",\"2022-05\",\"2022-05\",\"2022-05\",\"2022-05\",\"2022-05\",\"2022-05\",\"2022-05\",\"2022-05\",\"2022-05\",\"2022-05\",\"2022-05\",\"2022-05\",\"2022-05\",\"2022-05\",\"2022-05\",\"2022-05\",\"2022-05\",\"2022-05\",\"2022-05\",\"2022-05\",\"2022-05\",\"2022-05\",\"2022-05\",\"2022-05\",\"2022-05\",\"2022-05\",\"2022-05\",\"2022-05\",\"2022-05\"],\"xaxis\":\"x\",\"y\":[126032.3788,101023.8217,175948.31530000002,251600.9564,151227.37610000002,151012.0294,252698.6081,152143.6144,202561.0879,151262.2953,279228.309,75402.0666,100745.64809999999,50847.6186,50372.778399999996,125596.0436,202463.43699999998,126388.2082,126387.93470000001,152161.4811,25236.3322,100918.6428,101094.4973,75822.4305,76170.7668,101224.11290000001,228081.1164,253026.55079999997,252890.2732,301015.2709,330250.3114],\"yaxis\":\"y\",\"type\":\"bar\"},{\"alignmentgroup\":\"True\",\"hovertemplate\":\"aggregate_year_month=%{x}<br>cost=%{y}<extra></extra>\",\"legendgroup\":\"2022-06\",\"marker\":{\"color\":\"#EF553B\",\"pattern\":{\"shape\":\"\"}},\"name\":\"2022-06\",\"offsetgroup\":\"2022-06\",\"orientation\":\"v\",\"showlegend\":true,\"textposition\":\"auto\",\"x\":[\"2022-06\",\"2022-06\",\"2022-06\",\"2022-06\",\"2022-06\",\"2022-06\",\"2022-06\",\"2022-06\",\"2022-06\",\"2022-06\",\"2022-06\",\"2022-06\",\"2022-06\",\"2022-06\",\"2022-06\",\"2022-06\",\"2022-06\",\"2022-06\",\"2022-06\",\"2022-06\",\"2022-06\",\"2022-06\",\"2022-06\",\"2022-06\",\"2022-06\",\"2022-06\",\"2022-06\",\"2022-06\",\"2022-06\",\"2022-06\"],\"xaxis\":\"x\",\"y\":[126909.5245,226247.0482,227230.895,429745.3373,125755.42510000002,152146.3638,177967.7106,277125.7938,353629.9999,251963.39500000002,405759.632,151074.1774,101676.9318,428687.7149,607219.563,633765.5346,859659.2977,735530.9961,403442.6202,328005.1789,252653.2698,177100.8758,202488.43349999998,301634.4817,528639.2067,707781.639,328119.4453,402662.4334,579433.4112,428953.9615],\"yaxis\":\"y\",\"type\":\"bar\"},{\"alignmentgroup\":\"True\",\"hovertemplate\":\"aggregate_year_month=%{x}<br>cost=%{y}<extra></extra>\",\"legendgroup\":\"2022-07\",\"marker\":{\"color\":\"#00cc96\",\"pattern\":{\"shape\":\"\"}},\"name\":\"2022-07\",\"offsetgroup\":\"2022-07\",\"orientation\":\"v\",\"showlegend\":true,\"textposition\":\"auto\",\"x\":[\"2022-07\",\"2022-07\",\"2022-07\",\"2022-07\",\"2022-07\",\"2022-07\",\"2022-07\",\"2022-07\",\"2022-07\",\"2022-07\",\"2022-07\",\"2022-07\",\"2022-07\",\"2022-07\",\"2022-07\",\"2022-07\",\"2022-07\",\"2022-07\",\"2022-07\",\"2022-07\",\"2022-07\",\"2022-07\",\"2022-07\",\"2022-07\",\"2022-07\",\"2022-07\",\"2022-07\",\"2022-07\",\"2022-07\",\"2022-07\",\"2022-07\"],\"xaxis\":\"x\",\"y\":[900954.1586,378043.8134,269277.644,355624.817,1243873.2059999998,610993.3215000001,808932.5885,502651.6047,343279.96880000003,394603.9673,573862.4506,470026.66860000003,773424.9395999999,268888.7859,432738.1018,412160.38060000003,576551.0619,323969.65880000003,888523.3864000001,845573.7663,668304.5309,524215.20509999996,195527.5296,217651.9657,198934.17349999998,108605.1596,270106.3846,576185.4315000001,1136564.6972,520832.04500000004,217784.8495],\"yaxis\":\"y\",\"type\":\"bar\"},{\"alignmentgroup\":\"True\",\"hovertemplate\":\"aggregate_year_month=%{x}<br>cost=%{y}<extra></extra>\",\"legendgroup\":\"2022-08\",\"marker\":{\"color\":\"#ab63fa\",\"pattern\":{\"shape\":\"\"}},\"name\":\"2022-08\",\"offsetgroup\":\"2022-08\",\"orientation\":\"v\",\"showlegend\":true,\"textposition\":\"auto\",\"x\":[\"2022-08\",\"2022-08\",\"2022-08\",\"2022-08\",\"2022-08\",\"2022-08\",\"2022-08\",\"2022-08\",\"2022-08\",\"2022-08\",\"2022-08\",\"2022-08\",\"2022-08\",\"2022-08\",\"2022-08\",\"2022-08\",\"2022-08\",\"2022-08\",\"2022-08\",\"2022-08\",\"2022-08\",\"2022-08\",\"2022-08\",\"2022-08\",\"2022-08\",\"2022-08\",\"2022-08\",\"2022-08\",\"2022-08\",\"2022-08\",\"2022-08\"],\"xaxis\":\"x\",\"y\":[396269.52999999997,631863.1445,288698.80189999996,700410.7376000001,307743.8147,214981.0533,163465.526,160492.9668,594209.4694,342784.152,144499.021,577494.9605,109279.2916,253482.0221,144633.40240000002,125489.80669999999,162844.7533,195716.12209999998,197905.5604,179925.188,54684.9332,125182.0459,179782.5197,70848.1875,379328.7868,627094.1316,504389.982,144733.5641,485342.8034,556065.5292,806418.7870999998],\"yaxis\":\"y\",\"type\":\"bar\"},{\"alignmentgroup\":\"True\",\"hovertemplate\":\"aggregate_year_month=%{x}<br>cost=%{y}<extra></extra>\",\"legendgroup\":\"2022-09\",\"marker\":{\"color\":\"#FFA15A\",\"pattern\":{\"shape\":\"\"}},\"name\":\"2022-09\",\"offsetgroup\":\"2022-09\",\"orientation\":\"v\",\"showlegend\":true,\"textposition\":\"auto\",\"x\":[\"2022-09\",\"2022-09\",\"2022-09\",\"2022-09\",\"2022-09\",\"2022-09\",\"2022-09\",\"2022-09\",\"2022-09\",\"2022-09\",\"2022-09\",\"2022-09\",\"2022-09\",\"2022-09\",\"2022-09\",\"2022-09\",\"2022-09\",\"2022-09\",\"2022-09\",\"2022-09\",\"2022-09\",\"2022-09\",\"2022-09\",\"2022-09\",\"2022-09\",\"2022-09\",\"2022-09\",\"2022-09\",\"2022-09\",\"2022-09\"],\"xaxis\":\"x\",\"y\":[539548.2699,608101.5464999999,413211.09770000004,485610.5206,555672.8163,268201.8299,196106.9267,163953.998,109479.0763,90028.6825,163369.3936,163606.2416,198579.7586,179613.13910000003,233237.1997,144565.0606,70387.9424,89844.7647,54337.1524,197724.6721,253495.1552,360112.951,306646.9487,468250.2812000001,357864.0488,143573.939,70523.1309,143384.0692,593057.5233,390961.56799999997],\"yaxis\":\"y\",\"type\":\"bar\"},{\"alignmentgroup\":\"True\",\"hovertemplate\":\"aggregate_year_month=%{x}<br>cost=%{y}<extra></extra>\",\"legendgroup\":\"2022-10\",\"marker\":{\"color\":\"#19d3f3\",\"pattern\":{\"shape\":\"\"}},\"name\":\"2022-10\",\"offsetgroup\":\"2022-10\",\"orientation\":\"v\",\"showlegend\":true,\"textposition\":\"auto\",\"x\":[\"2022-10\",\"2022-10\",\"2022-10\",\"2022-10\",\"2022-10\",\"2022-10\",\"2022-10\",\"2022-10\",\"2022-10\",\"2022-10\",\"2022-10\",\"2022-10\",\"2022-10\",\"2022-10\",\"2022-10\",\"2022-10\",\"2022-10\",\"2022-10\",\"2022-10\",\"2022-10\",\"2022-10\",\"2022-10\",\"2022-10\",\"2022-10\",\"2022-10\",\"2022-10\",\"2022-10\",\"2022-10\",\"2022-10\",\"2022-10\",\"2022-10\"],\"xaxis\":\"x\",\"y\":[286059.3845,428506.10949999996,449574.01350000006,305215.2174,250291.7484,160974.16879999998,250058.2867,431475.8539,287739.6735,141784.12939999998,288191.8037,337065.1944,396637.90099999995,359023.69019999995,375481.74490000005,269283.29720000003,302075.7347,268446.0196,646250.0451,177048.231,901245.2633,537510.5087,433449.16530000005,591040.3592,407741.9788,195193.0936,342987.58749999997,321339.29000000004,105604.8496,217165.05569999997,105848.17670000001],\"yaxis\":\"y\",\"type\":\"bar\"},{\"alignmentgroup\":\"True\",\"hovertemplate\":\"aggregate_year_month=%{x}<br>cost=%{y}<extra></extra>\",\"legendgroup\":\"2022-11\",\"marker\":{\"color\":\"#FF6692\",\"pattern\":{\"shape\":\"\"}},\"name\":\"2022-11\",\"offsetgroup\":\"2022-11\",\"orientation\":\"v\",\"showlegend\":true,\"textposition\":\"auto\",\"x\":[\"2022-11\",\"2022-11\",\"2022-11\",\"2022-11\",\"2022-11\",\"2022-11\",\"2022-11\",\"2022-11\",\"2022-11\",\"2022-11\",\"2022-11\",\"2022-11\",\"2022-11\",\"2022-11\",\"2022-11\",\"2022-11\",\"2022-11\",\"2022-11\",\"2022-11\",\"2022-11\",\"2022-11\",\"2022-11\",\"2022-11\",\"2022-11\",\"2022-11\",\"2022-11\",\"2022-11\",\"2022-11\",\"2022-11\",\"2022-11\"],\"xaxis\":\"x\",\"y\":[144374.0429,450802.79130000004,89706.1084,252373.1837,70666.9006,198610.4805,13762792.265400002,5130722.2447999995,3479032.5026999996,2727717.4236,1356408.9631,1176135.4216,434968.9755,764605.0022,632651.6732,1389536.1534,830643.9962,1238461.3084000002,1023880.2396999999,1262754.4459000002,1765958.5404000003,1256904.9693000002,540654.9525,789233.1797999999,878546.4585999999,395067.6959,125510.07990000001,466152.0236,527889.3104000001,494811.79959999997],\"yaxis\":\"y\",\"type\":\"bar\"}],                        {\"template\":{\"data\":{\"bar\":[{\"error_x\":{\"color\":\"#2a3f5f\"},\"error_y\":{\"color\":\"#2a3f5f\"},\"marker\":{\"line\":{\"color\":\"#E5ECF6\",\"width\":0.5},\"pattern\":{\"fillmode\":\"overlay\",\"size\":10,\"solidity\":0.2}},\"type\":\"bar\"}],\"barpolar\":[{\"marker\":{\"line\":{\"color\":\"#E5ECF6\",\"width\":0.5},\"pattern\":{\"fillmode\":\"overlay\",\"size\":10,\"solidity\":0.2}},\"type\":\"barpolar\"}],\"carpet\":[{\"aaxis\":{\"endlinecolor\":\"#2a3f5f\",\"gridcolor\":\"white\",\"linecolor\":\"white\",\"minorgridcolor\":\"white\",\"startlinecolor\":\"#2a3f5f\"},\"baxis\":{\"endlinecolor\":\"#2a3f5f\",\"gridcolor\":\"white\",\"linecolor\":\"white\",\"minorgridcolor\":\"white\",\"startlinecolor\":\"#2a3f5f\"},\"type\":\"carpet\"}],\"choropleth\":[{\"colorbar\":{\"outlinewidth\":0,\"ticks\":\"\"},\"type\":\"choropleth\"}],\"contour\":[{\"colorbar\":{\"outlinewidth\":0,\"ticks\":\"\"},\"colorscale\":[[0.0,\"#0d0887\"],[0.1111111111111111,\"#46039f\"],[0.2222222222222222,\"#7201a8\"],[0.3333333333333333,\"#9c179e\"],[0.4444444444444444,\"#bd3786\"],[0.5555555555555556,\"#d8576b\"],[0.6666666666666666,\"#ed7953\"],[0.7777777777777778,\"#fb9f3a\"],[0.8888888888888888,\"#fdca26\"],[1.0,\"#f0f921\"]],\"type\":\"contour\"}],\"contourcarpet\":[{\"colorbar\":{\"outlinewidth\":0,\"ticks\":\"\"},\"type\":\"contourcarpet\"}],\"heatmap\":[{\"colorbar\":{\"outlinewidth\":0,\"ticks\":\"\"},\"colorscale\":[[0.0,\"#0d0887\"],[0.1111111111111111,\"#46039f\"],[0.2222222222222222,\"#7201a8\"],[0.3333333333333333,\"#9c179e\"],[0.4444444444444444,\"#bd3786\"],[0.5555555555555556,\"#d8576b\"],[0.6666666666666666,\"#ed7953\"],[0.7777777777777778,\"#fb9f3a\"],[0.8888888888888888,\"#fdca26\"],[1.0,\"#f0f921\"]],\"type\":\"heatmap\"}],\"heatmapgl\":[{\"colorbar\":{\"outlinewidth\":0,\"ticks\":\"\"},\"colorscale\":[[0.0,\"#0d0887\"],[0.1111111111111111,\"#46039f\"],[0.2222222222222222,\"#7201a8\"],[0.3333333333333333,\"#9c179e\"],[0.4444444444444444,\"#bd3786\"],[0.5555555555555556,\"#d8576b\"],[0.6666666666666666,\"#ed7953\"],[0.7777777777777778,\"#fb9f3a\"],[0.8888888888888888,\"#fdca26\"],[1.0,\"#f0f921\"]],\"type\":\"heatmapgl\"}],\"histogram\":[{\"marker\":{\"pattern\":{\"fillmode\":\"overlay\",\"size\":10,\"solidity\":0.2}},\"type\":\"histogram\"}],\"histogram2d\":[{\"colorbar\":{\"outlinewidth\":0,\"ticks\":\"\"},\"colorscale\":[[0.0,\"#0d0887\"],[0.1111111111111111,\"#46039f\"],[0.2222222222222222,\"#7201a8\"],[0.3333333333333333,\"#9c179e\"],[0.4444444444444444,\"#bd3786\"],[0.5555555555555556,\"#d8576b\"],[0.6666666666666666,\"#ed7953\"],[0.7777777777777778,\"#fb9f3a\"],[0.8888888888888888,\"#fdca26\"],[1.0,\"#f0f921\"]],\"type\":\"histogram2d\"}],\"histogram2dcontour\":[{\"colorbar\":{\"outlinewidth\":0,\"ticks\":\"\"},\"colorscale\":[[0.0,\"#0d0887\"],[0.1111111111111111,\"#46039f\"],[0.2222222222222222,\"#7201a8\"],[0.3333333333333333,\"#9c179e\"],[0.4444444444444444,\"#bd3786\"],[0.5555555555555556,\"#d8576b\"],[0.6666666666666666,\"#ed7953\"],[0.7777777777777778,\"#fb9f3a\"],[0.8888888888888888,\"#fdca26\"],[1.0,\"#f0f921\"]],\"type\":\"histogram2dcontour\"}],\"mesh3d\":[{\"colorbar\":{\"outlinewidth\":0,\"ticks\":\"\"},\"type\":\"mesh3d\"}],\"parcoords\":[{\"line\":{\"colorbar\":{\"outlinewidth\":0,\"ticks\":\"\"}},\"type\":\"parcoords\"}],\"pie\":[{\"automargin\":true,\"type\":\"pie\"}],\"scatter\":[{\"marker\":{\"colorbar\":{\"outlinewidth\":0,\"ticks\":\"\"}},\"type\":\"scatter\"}],\"scatter3d\":[{\"line\":{\"colorbar\":{\"outlinewidth\":0,\"ticks\":\"\"}},\"marker\":{\"colorbar\":{\"outlinewidth\":0,\"ticks\":\"\"}},\"type\":\"scatter3d\"}],\"scattercarpet\":[{\"marker\":{\"colorbar\":{\"outlinewidth\":0,\"ticks\":\"\"}},\"type\":\"scattercarpet\"}],\"scattergeo\":[{\"marker\":{\"colorbar\":{\"outlinewidth\":0,\"ticks\":\"\"}},\"type\":\"scattergeo\"}],\"scattergl\":[{\"marker\":{\"colorbar\":{\"outlinewidth\":0,\"ticks\":\"\"}},\"type\":\"scattergl\"}],\"scattermapbox\":[{\"marker\":{\"colorbar\":{\"outlinewidth\":0,\"ticks\":\"\"}},\"type\":\"scattermapbox\"}],\"scatterpolar\":[{\"marker\":{\"colorbar\":{\"outlinewidth\":0,\"ticks\":\"\"}},\"type\":\"scatterpolar\"}],\"scatterpolargl\":[{\"marker\":{\"colorbar\":{\"outlinewidth\":0,\"ticks\":\"\"}},\"type\":\"scatterpolargl\"}],\"scatterternary\":[{\"marker\":{\"colorbar\":{\"outlinewidth\":0,\"ticks\":\"\"}},\"type\":\"scatterternary\"}],\"surface\":[{\"colorbar\":{\"outlinewidth\":0,\"ticks\":\"\"},\"colorscale\":[[0.0,\"#0d0887\"],[0.1111111111111111,\"#46039f\"],[0.2222222222222222,\"#7201a8\"],[0.3333333333333333,\"#9c179e\"],[0.4444444444444444,\"#bd3786\"],[0.5555555555555556,\"#d8576b\"],[0.6666666666666666,\"#ed7953\"],[0.7777777777777778,\"#fb9f3a\"],[0.8888888888888888,\"#fdca26\"],[1.0,\"#f0f921\"]],\"type\":\"surface\"}],\"table\":[{\"cells\":{\"fill\":{\"color\":\"#EBF0F8\"},\"line\":{\"color\":\"white\"}},\"header\":{\"fill\":{\"color\":\"#C8D4E3\"},\"line\":{\"color\":\"white\"}},\"type\":\"table\"}]},\"layout\":{\"annotationdefaults\":{\"arrowcolor\":\"#2a3f5f\",\"arrowhead\":0,\"arrowwidth\":1},\"autotypenumbers\":\"strict\",\"coloraxis\":{\"colorbar\":{\"outlinewidth\":0,\"ticks\":\"\"}},\"colorscale\":{\"diverging\":[[0,\"#8e0152\"],[0.1,\"#c51b7d\"],[0.2,\"#de77ae\"],[0.3,\"#f1b6da\"],[0.4,\"#fde0ef\"],[0.5,\"#f7f7f7\"],[0.6,\"#e6f5d0\"],[0.7,\"#b8e186\"],[0.8,\"#7fbc41\"],[0.9,\"#4d9221\"],[1,\"#276419\"]],\"sequential\":[[0.0,\"#0d0887\"],[0.1111111111111111,\"#46039f\"],[0.2222222222222222,\"#7201a8\"],[0.3333333333333333,\"#9c179e\"],[0.4444444444444444,\"#bd3786\"],[0.5555555555555556,\"#d8576b\"],[0.6666666666666666,\"#ed7953\"],[0.7777777777777778,\"#fb9f3a\"],[0.8888888888888888,\"#fdca26\"],[1.0,\"#f0f921\"]],\"sequentialminus\":[[0.0,\"#0d0887\"],[0.1111111111111111,\"#46039f\"],[0.2222222222222222,\"#7201a8\"],[0.3333333333333333,\"#9c179e\"],[0.4444444444444444,\"#bd3786\"],[0.5555555555555556,\"#d8576b\"],[0.6666666666666666,\"#ed7953\"],[0.7777777777777778,\"#fb9f3a\"],[0.8888888888888888,\"#fdca26\"],[1.0,\"#f0f921\"]]},\"colorway\":[\"#636efa\",\"#EF553B\",\"#00cc96\",\"#ab63fa\",\"#FFA15A\",\"#19d3f3\",\"#FF6692\",\"#B6E880\",\"#FF97FF\",\"#FECB52\"],\"font\":{\"color\":\"#2a3f5f\"},\"geo\":{\"bgcolor\":\"white\",\"lakecolor\":\"white\",\"landcolor\":\"#E5ECF6\",\"showlakes\":true,\"showland\":true,\"subunitcolor\":\"white\"},\"hoverlabel\":{\"align\":\"left\"},\"hovermode\":\"closest\",\"mapbox\":{\"style\":\"light\"},\"paper_bgcolor\":\"white\",\"plot_bgcolor\":\"#E5ECF6\",\"polar\":{\"angularaxis\":{\"gridcolor\":\"white\",\"linecolor\":\"white\",\"ticks\":\"\"},\"bgcolor\":\"#E5ECF6\",\"radialaxis\":{\"gridcolor\":\"white\",\"linecolor\":\"white\",\"ticks\":\"\"}},\"scene\":{\"xaxis\":{\"backgroundcolor\":\"#E5ECF6\",\"gridcolor\":\"white\",\"gridwidth\":2,\"linecolor\":\"white\",\"showbackground\":true,\"ticks\":\"\",\"zerolinecolor\":\"white\"},\"yaxis\":{\"backgroundcolor\":\"#E5ECF6\",\"gridcolor\":\"white\",\"gridwidth\":2,\"linecolor\":\"white\",\"showbackground\":true,\"ticks\":\"\",\"zerolinecolor\":\"white\"},\"zaxis\":{\"backgroundcolor\":\"#E5ECF6\",\"gridcolor\":\"white\",\"gridwidth\":2,\"linecolor\":\"white\",\"showbackground\":true,\"ticks\":\"\",\"zerolinecolor\":\"white\"}},\"shapedefaults\":{\"line\":{\"color\":\"#2a3f5f\"}},\"ternary\":{\"aaxis\":{\"gridcolor\":\"white\",\"linecolor\":\"white\",\"ticks\":\"\"},\"baxis\":{\"gridcolor\":\"white\",\"linecolor\":\"white\",\"ticks\":\"\"},\"bgcolor\":\"#E5ECF6\",\"caxis\":{\"gridcolor\":\"white\",\"linecolor\":\"white\",\"ticks\":\"\"}},\"title\":{\"x\":0.05},\"xaxis\":{\"automargin\":true,\"gridcolor\":\"white\",\"linecolor\":\"white\",\"ticks\":\"\",\"title\":{\"standoff\":15},\"zerolinecolor\":\"white\",\"zerolinewidth\":2},\"yaxis\":{\"automargin\":true,\"gridcolor\":\"white\",\"linecolor\":\"white\",\"ticks\":\"\",\"title\":{\"standoff\":15},\"zerolinecolor\":\"white\",\"zerolinewidth\":2}}},\"xaxis\":{\"anchor\":\"y\",\"domain\":[0.0,1.0],\"title\":{\"text\":\"aggregate_year_month\"},\"categoryorder\":\"array\",\"categoryarray\":[\"2022-05\",\"2022-06\",\"2022-07\",\"2022-08\",\"2022-09\",\"2022-10\",\"2022-11\"]},\"yaxis\":{\"anchor\":\"x\",\"domain\":[0.0,1.0],\"title\":{\"text\":\"cost\"}},\"legend\":{\"title\":{\"text\":\"aggregate_year_month\"},\"tracegroupgap\":0},\"margin\":{\"t\":60},\"barmode\":\"relative\"},                        {\"responsive\": true}                    ).then(function(){\n",
              "                            \n",
              "var gd = document.getElementById('9aa0bb13-5e02-4748-aac8-38cffa27a5a3');\n",
              "var x = new MutationObserver(function (mutations, observer) {{\n",
              "        var display = window.getComputedStyle(gd).display;\n",
              "        if (!display || display === 'none') {{\n",
              "            console.log([gd, 'removed!']);\n",
              "            Plotly.purge(gd);\n",
              "            observer.disconnect();\n",
              "        }}\n",
              "}});\n",
              "\n",
              "// Listen for the removal of the full notebook cells\n",
              "var notebookContainer = gd.closest('#notebook-container');\n",
              "if (notebookContainer) {{\n",
              "    x.observe(notebookContainer, {childList: true});\n",
              "}}\n",
              "\n",
              "// Listen for the clearing of the current output cell\n",
              "var outputEl = gd.closest('.output');\n",
              "if (outputEl) {{\n",
              "    x.observe(outputEl, {childList: true});\n",
              "}}\n",
              "\n",
              "                        })                };                            </script>        </div>\n",
              "</body>\n",
              "</html>"
            ]
          },
          "metadata": {}
        }
      ]
    },
    {
      "cell_type": "code",
      "source": [
        "## << 데이터프레임 생성 - 월간 마케팅 비용 >>\n",
        "\n",
        "query_job = client.query(\"\"\"\n",
        "  select format_date('%Y-%m', aggregate_date) as aggregate_year_month, round(sum(cost)) as cost\n",
        "  from `my_temp.daily_cost`\n",
        "  group by aggregate_year_month\n",
        "  order by aggregate_year_month\n",
        "\"\"\")\n",
        "\n",
        "monthlyCostDf = query_job.to_dataframe()"
      ],
      "metadata": {
        "id": "xzBZ5OTSXJzZ"
      },
      "execution_count": null,
      "outputs": []
    },
    {
      "cell_type": "code",
      "source": [
        "## << 시각화 - 월간 마케팅 비용 >>\n",
        "\n",
        "import plotly.express as px\n",
        "\n",
        "fig = px.bar(monthlyCostDf, \n",
        "             x ='aggregate_year_month', \n",
        "             y = 'cost', \n",
        "             color='aggregate_year_month',)\n",
        "\n",
        "fig.show(renderer='colab')"
      ],
      "metadata": {
        "colab": {
          "base_uri": "https://localhost:8080/",
          "height": 542
        },
        "id": "gEKL9OTupSfq",
        "outputId": "79fdcdbb-cf1a-406d-c09e-676e3972222b"
      },
      "execution_count": null,
      "outputs": [
        {
          "output_type": "display_data",
          "data": {
            "text/html": [
              "<html>\n",
              "<head><meta charset=\"utf-8\" /></head>\n",
              "<body>\n",
              "    <div>            <script src=\"https://cdnjs.cloudflare.com/ajax/libs/mathjax/2.7.5/MathJax.js?config=TeX-AMS-MML_SVG\"></script><script type=\"text/javascript\">if (window.MathJax) {MathJax.Hub.Config({SVG: {font: \"STIX-Web\"}});}</script>                <script type=\"text/javascript\">window.PlotlyConfig = {MathJaxConfig: 'local'};</script>\n",
              "        <script src=\"https://cdn.plot.ly/plotly-2.8.3.min.js\"></script>                <div id=\"18b08920-6a95-489c-9cd3-39439b1d7b5d\" class=\"plotly-graph-div\" style=\"height:525px; width:100%;\"></div>            <script type=\"text/javascript\">                                    window.PLOTLYENV=window.PLOTLYENV || {};                                    if (document.getElementById(\"18b08920-6a95-489c-9cd3-39439b1d7b5d\")) {                    Plotly.newPlot(                        \"18b08920-6a95-489c-9cd3-39439b1d7b5d\",                        [{\"alignmentgroup\":\"True\",\"hovertemplate\":\"aggregate_year_month=%{x}<br>cost=%{y}<extra></extra>\",\"legendgroup\":\"2022-05\",\"marker\":{\"color\":\"#636efa\",\"pattern\":{\"shape\":\"\"}},\"name\":\"2022-05\",\"offsetgroup\":\"2022-05\",\"orientation\":\"v\",\"showlegend\":true,\"textposition\":\"auto\",\"x\":[\"2022-05\"],\"xaxis\":\"x\",\"y\":[4850834.0],\"yaxis\":\"y\",\"type\":\"bar\"},{\"alignmentgroup\":\"True\",\"hovertemplate\":\"aggregate_year_month=%{x}<br>cost=%{y}<extra></extra>\",\"legendgroup\":\"2022-06\",\"marker\":{\"color\":\"#EF553B\",\"pattern\":{\"shape\":\"\"}},\"name\":\"2022-06\",\"offsetgroup\":\"2022-06\",\"orientation\":\"v\",\"showlegend\":true,\"textposition\":\"auto\",\"x\":[\"2022-06\"],\"xaxis\":\"x\",\"y\":[10913010.0],\"yaxis\":\"y\",\"type\":\"bar\"},{\"alignmentgroup\":\"True\",\"hovertemplate\":\"aggregate_year_month=%{x}<br>cost=%{y}<extra></extra>\",\"legendgroup\":\"2022-07\",\"marker\":{\"color\":\"#00cc96\",\"pattern\":{\"shape\":\"\"}},\"name\":\"2022-07\",\"offsetgroup\":\"2022-07\",\"orientation\":\"v\",\"showlegend\":true,\"textposition\":\"auto\",\"x\":[\"2022-07\"],\"xaxis\":\"x\",\"y\":[16008666.0],\"yaxis\":\"y\",\"type\":\"bar\"},{\"alignmentgroup\":\"True\",\"hovertemplate\":\"aggregate_year_month=%{x}<br>cost=%{y}<extra></extra>\",\"legendgroup\":\"2022-08\",\"marker\":{\"color\":\"#ab63fa\",\"pattern\":{\"shape\":\"\"}},\"name\":\"2022-08\",\"offsetgroup\":\"2022-08\",\"orientation\":\"v\",\"showlegend\":true,\"textposition\":\"auto\",\"x\":[\"2022-08\"],\"xaxis\":\"x\",\"y\":[9826061.0],\"yaxis\":\"y\",\"type\":\"bar\"},{\"alignmentgroup\":\"True\",\"hovertemplate\":\"aggregate_year_month=%{x}<br>cost=%{y}<extra></extra>\",\"legendgroup\":\"2022-09\",\"marker\":{\"color\":\"#FFA15A\",\"pattern\":{\"shape\":\"\"}},\"name\":\"2022-09\",\"offsetgroup\":\"2022-09\",\"orientation\":\"v\",\"showlegend\":true,\"textposition\":\"auto\",\"x\":[\"2022-09\"],\"xaxis\":\"x\",\"y\":[8013050.0],\"yaxis\":\"y\",\"type\":\"bar\"},{\"alignmentgroup\":\"True\",\"hovertemplate\":\"aggregate_year_month=%{x}<br>cost=%{y}<extra></extra>\",\"legendgroup\":\"2022-10\",\"marker\":{\"color\":\"#19d3f3\",\"pattern\":{\"shape\":\"\"}},\"name\":\"2022-10\",\"offsetgroup\":\"2022-10\",\"orientation\":\"v\",\"showlegend\":true,\"textposition\":\"auto\",\"x\":[\"2022-10\"],\"xaxis\":\"x\",\"y\":[10570308.0],\"yaxis\":\"y\",\"type\":\"bar\"},{\"alignmentgroup\":\"True\",\"hovertemplate\":\"aggregate_year_month=%{x}<br>cost=%{y}<extra></extra>\",\"legendgroup\":\"2022-11\",\"marker\":{\"color\":\"#FF6692\",\"pattern\":{\"shape\":\"\"}},\"name\":\"2022-11\",\"offsetgroup\":\"2022-11\",\"orientation\":\"v\",\"showlegend\":true,\"textposition\":\"auto\",\"x\":[\"2022-11\"],\"xaxis\":\"x\",\"y\":[43657573.0],\"yaxis\":\"y\",\"type\":\"bar\"}],                        {\"template\":{\"data\":{\"bar\":[{\"error_x\":{\"color\":\"#2a3f5f\"},\"error_y\":{\"color\":\"#2a3f5f\"},\"marker\":{\"line\":{\"color\":\"#E5ECF6\",\"width\":0.5},\"pattern\":{\"fillmode\":\"overlay\",\"size\":10,\"solidity\":0.2}},\"type\":\"bar\"}],\"barpolar\":[{\"marker\":{\"line\":{\"color\":\"#E5ECF6\",\"width\":0.5},\"pattern\":{\"fillmode\":\"overlay\",\"size\":10,\"solidity\":0.2}},\"type\":\"barpolar\"}],\"carpet\":[{\"aaxis\":{\"endlinecolor\":\"#2a3f5f\",\"gridcolor\":\"white\",\"linecolor\":\"white\",\"minorgridcolor\":\"white\",\"startlinecolor\":\"#2a3f5f\"},\"baxis\":{\"endlinecolor\":\"#2a3f5f\",\"gridcolor\":\"white\",\"linecolor\":\"white\",\"minorgridcolor\":\"white\",\"startlinecolor\":\"#2a3f5f\"},\"type\":\"carpet\"}],\"choropleth\":[{\"colorbar\":{\"outlinewidth\":0,\"ticks\":\"\"},\"type\":\"choropleth\"}],\"contour\":[{\"colorbar\":{\"outlinewidth\":0,\"ticks\":\"\"},\"colorscale\":[[0.0,\"#0d0887\"],[0.1111111111111111,\"#46039f\"],[0.2222222222222222,\"#7201a8\"],[0.3333333333333333,\"#9c179e\"],[0.4444444444444444,\"#bd3786\"],[0.5555555555555556,\"#d8576b\"],[0.6666666666666666,\"#ed7953\"],[0.7777777777777778,\"#fb9f3a\"],[0.8888888888888888,\"#fdca26\"],[1.0,\"#f0f921\"]],\"type\":\"contour\"}],\"contourcarpet\":[{\"colorbar\":{\"outlinewidth\":0,\"ticks\":\"\"},\"type\":\"contourcarpet\"}],\"heatmap\":[{\"colorbar\":{\"outlinewidth\":0,\"ticks\":\"\"},\"colorscale\":[[0.0,\"#0d0887\"],[0.1111111111111111,\"#46039f\"],[0.2222222222222222,\"#7201a8\"],[0.3333333333333333,\"#9c179e\"],[0.4444444444444444,\"#bd3786\"],[0.5555555555555556,\"#d8576b\"],[0.6666666666666666,\"#ed7953\"],[0.7777777777777778,\"#fb9f3a\"],[0.8888888888888888,\"#fdca26\"],[1.0,\"#f0f921\"]],\"type\":\"heatmap\"}],\"heatmapgl\":[{\"colorbar\":{\"outlinewidth\":0,\"ticks\":\"\"},\"colorscale\":[[0.0,\"#0d0887\"],[0.1111111111111111,\"#46039f\"],[0.2222222222222222,\"#7201a8\"],[0.3333333333333333,\"#9c179e\"],[0.4444444444444444,\"#bd3786\"],[0.5555555555555556,\"#d8576b\"],[0.6666666666666666,\"#ed7953\"],[0.7777777777777778,\"#fb9f3a\"],[0.8888888888888888,\"#fdca26\"],[1.0,\"#f0f921\"]],\"type\":\"heatmapgl\"}],\"histogram\":[{\"marker\":{\"pattern\":{\"fillmode\":\"overlay\",\"size\":10,\"solidity\":0.2}},\"type\":\"histogram\"}],\"histogram2d\":[{\"colorbar\":{\"outlinewidth\":0,\"ticks\":\"\"},\"colorscale\":[[0.0,\"#0d0887\"],[0.1111111111111111,\"#46039f\"],[0.2222222222222222,\"#7201a8\"],[0.3333333333333333,\"#9c179e\"],[0.4444444444444444,\"#bd3786\"],[0.5555555555555556,\"#d8576b\"],[0.6666666666666666,\"#ed7953\"],[0.7777777777777778,\"#fb9f3a\"],[0.8888888888888888,\"#fdca26\"],[1.0,\"#f0f921\"]],\"type\":\"histogram2d\"}],\"histogram2dcontour\":[{\"colorbar\":{\"outlinewidth\":0,\"ticks\":\"\"},\"colorscale\":[[0.0,\"#0d0887\"],[0.1111111111111111,\"#46039f\"],[0.2222222222222222,\"#7201a8\"],[0.3333333333333333,\"#9c179e\"],[0.4444444444444444,\"#bd3786\"],[0.5555555555555556,\"#d8576b\"],[0.6666666666666666,\"#ed7953\"],[0.7777777777777778,\"#fb9f3a\"],[0.8888888888888888,\"#fdca26\"],[1.0,\"#f0f921\"]],\"type\":\"histogram2dcontour\"}],\"mesh3d\":[{\"colorbar\":{\"outlinewidth\":0,\"ticks\":\"\"},\"type\":\"mesh3d\"}],\"parcoords\":[{\"line\":{\"colorbar\":{\"outlinewidth\":0,\"ticks\":\"\"}},\"type\":\"parcoords\"}],\"pie\":[{\"automargin\":true,\"type\":\"pie\"}],\"scatter\":[{\"marker\":{\"colorbar\":{\"outlinewidth\":0,\"ticks\":\"\"}},\"type\":\"scatter\"}],\"scatter3d\":[{\"line\":{\"colorbar\":{\"outlinewidth\":0,\"ticks\":\"\"}},\"marker\":{\"colorbar\":{\"outlinewidth\":0,\"ticks\":\"\"}},\"type\":\"scatter3d\"}],\"scattercarpet\":[{\"marker\":{\"colorbar\":{\"outlinewidth\":0,\"ticks\":\"\"}},\"type\":\"scattercarpet\"}],\"scattergeo\":[{\"marker\":{\"colorbar\":{\"outlinewidth\":0,\"ticks\":\"\"}},\"type\":\"scattergeo\"}],\"scattergl\":[{\"marker\":{\"colorbar\":{\"outlinewidth\":0,\"ticks\":\"\"}},\"type\":\"scattergl\"}],\"scattermapbox\":[{\"marker\":{\"colorbar\":{\"outlinewidth\":0,\"ticks\":\"\"}},\"type\":\"scattermapbox\"}],\"scatterpolar\":[{\"marker\":{\"colorbar\":{\"outlinewidth\":0,\"ticks\":\"\"}},\"type\":\"scatterpolar\"}],\"scatterpolargl\":[{\"marker\":{\"colorbar\":{\"outlinewidth\":0,\"ticks\":\"\"}},\"type\":\"scatterpolargl\"}],\"scatterternary\":[{\"marker\":{\"colorbar\":{\"outlinewidth\":0,\"ticks\":\"\"}},\"type\":\"scatterternary\"}],\"surface\":[{\"colorbar\":{\"outlinewidth\":0,\"ticks\":\"\"},\"colorscale\":[[0.0,\"#0d0887\"],[0.1111111111111111,\"#46039f\"],[0.2222222222222222,\"#7201a8\"],[0.3333333333333333,\"#9c179e\"],[0.4444444444444444,\"#bd3786\"],[0.5555555555555556,\"#d8576b\"],[0.6666666666666666,\"#ed7953\"],[0.7777777777777778,\"#fb9f3a\"],[0.8888888888888888,\"#fdca26\"],[1.0,\"#f0f921\"]],\"type\":\"surface\"}],\"table\":[{\"cells\":{\"fill\":{\"color\":\"#EBF0F8\"},\"line\":{\"color\":\"white\"}},\"header\":{\"fill\":{\"color\":\"#C8D4E3\"},\"line\":{\"color\":\"white\"}},\"type\":\"table\"}]},\"layout\":{\"annotationdefaults\":{\"arrowcolor\":\"#2a3f5f\",\"arrowhead\":0,\"arrowwidth\":1},\"autotypenumbers\":\"strict\",\"coloraxis\":{\"colorbar\":{\"outlinewidth\":0,\"ticks\":\"\"}},\"colorscale\":{\"diverging\":[[0,\"#8e0152\"],[0.1,\"#c51b7d\"],[0.2,\"#de77ae\"],[0.3,\"#f1b6da\"],[0.4,\"#fde0ef\"],[0.5,\"#f7f7f7\"],[0.6,\"#e6f5d0\"],[0.7,\"#b8e186\"],[0.8,\"#7fbc41\"],[0.9,\"#4d9221\"],[1,\"#276419\"]],\"sequential\":[[0.0,\"#0d0887\"],[0.1111111111111111,\"#46039f\"],[0.2222222222222222,\"#7201a8\"],[0.3333333333333333,\"#9c179e\"],[0.4444444444444444,\"#bd3786\"],[0.5555555555555556,\"#d8576b\"],[0.6666666666666666,\"#ed7953\"],[0.7777777777777778,\"#fb9f3a\"],[0.8888888888888888,\"#fdca26\"],[1.0,\"#f0f921\"]],\"sequentialminus\":[[0.0,\"#0d0887\"],[0.1111111111111111,\"#46039f\"],[0.2222222222222222,\"#7201a8\"],[0.3333333333333333,\"#9c179e\"],[0.4444444444444444,\"#bd3786\"],[0.5555555555555556,\"#d8576b\"],[0.6666666666666666,\"#ed7953\"],[0.7777777777777778,\"#fb9f3a\"],[0.8888888888888888,\"#fdca26\"],[1.0,\"#f0f921\"]]},\"colorway\":[\"#636efa\",\"#EF553B\",\"#00cc96\",\"#ab63fa\",\"#FFA15A\",\"#19d3f3\",\"#FF6692\",\"#B6E880\",\"#FF97FF\",\"#FECB52\"],\"font\":{\"color\":\"#2a3f5f\"},\"geo\":{\"bgcolor\":\"white\",\"lakecolor\":\"white\",\"landcolor\":\"#E5ECF6\",\"showlakes\":true,\"showland\":true,\"subunitcolor\":\"white\"},\"hoverlabel\":{\"align\":\"left\"},\"hovermode\":\"closest\",\"mapbox\":{\"style\":\"light\"},\"paper_bgcolor\":\"white\",\"plot_bgcolor\":\"#E5ECF6\",\"polar\":{\"angularaxis\":{\"gridcolor\":\"white\",\"linecolor\":\"white\",\"ticks\":\"\"},\"bgcolor\":\"#E5ECF6\",\"radialaxis\":{\"gridcolor\":\"white\",\"linecolor\":\"white\",\"ticks\":\"\"}},\"scene\":{\"xaxis\":{\"backgroundcolor\":\"#E5ECF6\",\"gridcolor\":\"white\",\"gridwidth\":2,\"linecolor\":\"white\",\"showbackground\":true,\"ticks\":\"\",\"zerolinecolor\":\"white\"},\"yaxis\":{\"backgroundcolor\":\"#E5ECF6\",\"gridcolor\":\"white\",\"gridwidth\":2,\"linecolor\":\"white\",\"showbackground\":true,\"ticks\":\"\",\"zerolinecolor\":\"white\"},\"zaxis\":{\"backgroundcolor\":\"#E5ECF6\",\"gridcolor\":\"white\",\"gridwidth\":2,\"linecolor\":\"white\",\"showbackground\":true,\"ticks\":\"\",\"zerolinecolor\":\"white\"}},\"shapedefaults\":{\"line\":{\"color\":\"#2a3f5f\"}},\"ternary\":{\"aaxis\":{\"gridcolor\":\"white\",\"linecolor\":\"white\",\"ticks\":\"\"},\"baxis\":{\"gridcolor\":\"white\",\"linecolor\":\"white\",\"ticks\":\"\"},\"bgcolor\":\"#E5ECF6\",\"caxis\":{\"gridcolor\":\"white\",\"linecolor\":\"white\",\"ticks\":\"\"}},\"title\":{\"x\":0.05},\"xaxis\":{\"automargin\":true,\"gridcolor\":\"white\",\"linecolor\":\"white\",\"ticks\":\"\",\"title\":{\"standoff\":15},\"zerolinecolor\":\"white\",\"zerolinewidth\":2},\"yaxis\":{\"automargin\":true,\"gridcolor\":\"white\",\"linecolor\":\"white\",\"ticks\":\"\",\"title\":{\"standoff\":15},\"zerolinecolor\":\"white\",\"zerolinewidth\":2}}},\"xaxis\":{\"anchor\":\"y\",\"domain\":[0.0,1.0],\"title\":{\"text\":\"aggregate_year_month\"},\"categoryorder\":\"array\",\"categoryarray\":[\"2022-05\",\"2022-06\",\"2022-07\",\"2022-08\",\"2022-09\",\"2022-10\",\"2022-11\"]},\"yaxis\":{\"anchor\":\"x\",\"domain\":[0.0,1.0],\"title\":{\"text\":\"cost\"}},\"legend\":{\"title\":{\"text\":\"aggregate_year_month\"},\"tracegroupgap\":0},\"margin\":{\"t\":60},\"barmode\":\"relative\"},                        {\"responsive\": true}                    ).then(function(){\n",
              "                            \n",
              "var gd = document.getElementById('18b08920-6a95-489c-9cd3-39439b1d7b5d');\n",
              "var x = new MutationObserver(function (mutations, observer) {{\n",
              "        var display = window.getComputedStyle(gd).display;\n",
              "        if (!display || display === 'none') {{\n",
              "            console.log([gd, 'removed!']);\n",
              "            Plotly.purge(gd);\n",
              "            observer.disconnect();\n",
              "        }}\n",
              "}});\n",
              "\n",
              "// Listen for the removal of the full notebook cells\n",
              "var notebookContainer = gd.closest('#notebook-container');\n",
              "if (notebookContainer) {{\n",
              "    x.observe(notebookContainer, {childList: true});\n",
              "}}\n",
              "\n",
              "// Listen for the clearing of the current output cell\n",
              "var outputEl = gd.closest('.output');\n",
              "if (outputEl) {{\n",
              "    x.observe(outputEl, {childList: true});\n",
              "}}\n",
              "\n",
              "                        })                };                            </script>        </div>\n",
              "</body>\n",
              "</html>"
            ]
          },
          "metadata": {}
        }
      ]
    },
    {
      "cell_type": "markdown",
      "source": [
        "## 모객 유저수"
      ],
      "metadata": {
        "id": "fim3fresyZG1"
      }
    },
    {
      "cell_type": "markdown",
      "source": [
        "### 일간 모객 유저수"
      ],
      "metadata": {
        "id": "ShVrUhNpql5B"
      }
    },
    {
      "cell_type": "code",
      "source": [
        "## << 데이터프레임 생성 - 일간 가입 유저수 >>\n",
        "\n",
        "query_job = client.query(\"\"\"\n",
        "  with userinfo as (\n",
        "    select b.attribute_type, b.campaign\n",
        "        , b.install_time, a.create_date, a.create_year_month\n",
        "        , a.attribute_id, a.user_id, a.nickname, a.account_type, a.platform\n",
        "        , a.region_1depth_name, a.region_2depth_name, a.region_3depth_name\n",
        "        , a.h_code, a.x, a.y\n",
        "    from `my_temp.marketing_myinfos` as a\n",
        "    left join (\n",
        "      select 'organic' as attribute_type, install_time, attribute_id, campaign\n",
        "      from `my_temp.organic_install`\n",
        "\n",
        "      union all \n",
        "\n",
        "      select 'non_organic' as attribute_type, install_time, attribute_id, campaign\n",
        "      from `my_temp.non_organic_install`\n",
        "    ) as b\n",
        "    on a.attribute_id = b.attribute_id and a.create_date = b.install_time\n",
        "  )\n",
        "\n",
        "  select create_date, attribute_type, count(distinct user_id) as user_cnt\n",
        "  from userinfo\n",
        "  group by create_date, attribute_type \n",
        "  order by create_date, attribute_type \n",
        "\"\"\")\n",
        "\n",
        "dailyJoinDf = query_job.to_dataframe()"
      ],
      "metadata": {
        "id": "UVBekPzAXvjw"
      },
      "execution_count": null,
      "outputs": []
    },
    {
      "cell_type": "code",
      "source": [
        "## << 시각화 - Attribute 타입별 일간 가입 유저수  >>\n",
        "\n",
        "import plotly.express as px\n",
        "\n",
        "fig = px.bar(dailyJoinDf, \n",
        "             x ='create_date', \n",
        "             y = 'user_cnt', \n",
        "             color='attribute_type',)\n",
        "\n",
        "fig.show(renderer='colab')"
      ],
      "metadata": {
        "colab": {
          "base_uri": "https://localhost:8080/",
          "height": 542
        },
        "id": "fHRhnfzrwMD6",
        "outputId": "a880a182-2471-4cef-900d-67d450531d4a"
      },
      "execution_count": null,
      "outputs": [
        {
          "output_type": "display_data",
          "data": {
            "text/html": [
              "<html>\n",
              "<head><meta charset=\"utf-8\" /></head>\n",
              "<body>\n",
              "    <div>            <script src=\"https://cdnjs.cloudflare.com/ajax/libs/mathjax/2.7.5/MathJax.js?config=TeX-AMS-MML_SVG\"></script><script type=\"text/javascript\">if (window.MathJax) {MathJax.Hub.Config({SVG: {font: \"STIX-Web\"}});}</script>                <script type=\"text/javascript\">window.PlotlyConfig = {MathJaxConfig: 'local'};</script>\n",
              "        <script src=\"https://cdn.plot.ly/plotly-2.8.3.min.js\"></script>                <div id=\"0447640b-ae27-40a1-8bd1-df54d2d7dec3\" class=\"plotly-graph-div\" style=\"height:525px; width:100%;\"></div>            <script type=\"text/javascript\">                                    window.PLOTLYENV=window.PLOTLYENV || {};                                    if (document.getElementById(\"0447640b-ae27-40a1-8bd1-df54d2d7dec3\")) {                    Plotly.newPlot(                        \"0447640b-ae27-40a1-8bd1-df54d2d7dec3\",                        [{\"alignmentgroup\":\"True\",\"hovertemplate\":\"attribute_type=non_organic<br>create_date=%{x}<br>user_cnt=%{y}<extra></extra>\",\"legendgroup\":\"non_organic\",\"marker\":{\"color\":\"#636efa\",\"pattern\":{\"shape\":\"\"}},\"name\":\"non_organic\",\"offsetgroup\":\"non_organic\",\"orientation\":\"v\",\"showlegend\":true,\"textposition\":\"auto\",\"x\":[\"2022-05-01\",\"2022-05-02\",\"2022-05-03\",\"2022-05-04\",\"2022-05-05\",\"2022-05-06\",\"2022-05-07\",\"2022-05-08\",\"2022-05-09\",\"2022-05-10\",\"2022-05-11\",\"2022-05-12\",\"2022-05-13\",\"2022-05-14\",\"2022-05-15\",\"2022-05-16\",\"2022-05-17\",\"2022-05-18\",\"2022-05-19\",\"2022-05-20\",\"2022-05-21\",\"2022-05-22\",\"2022-05-23\",\"2022-05-24\",\"2022-05-25\",\"2022-05-26\",\"2022-05-27\",\"2022-05-28\",\"2022-05-29\",\"2022-05-30\",\"2022-05-31\",\"2022-06-01\",\"2022-06-02\",\"2022-06-03\",\"2022-06-04\",\"2022-06-05\",\"2022-06-06\",\"2022-06-07\",\"2022-06-08\",\"2022-06-09\",\"2022-06-10\",\"2022-06-11\",\"2022-06-12\",\"2022-06-13\",\"2022-06-14\",\"2022-06-15\",\"2022-06-16\",\"2022-06-17\",\"2022-06-18\",\"2022-06-19\",\"2022-06-20\",\"2022-06-21\",\"2022-06-22\",\"2022-06-23\",\"2022-06-24\",\"2022-06-25\",\"2022-06-26\",\"2022-06-27\",\"2022-06-28\",\"2022-06-29\",\"2022-06-30\",\"2022-07-01\",\"2022-07-02\",\"2022-07-03\",\"2022-07-04\",\"2022-07-05\",\"2022-07-06\",\"2022-07-07\",\"2022-07-08\",\"2022-07-09\",\"2022-07-10\",\"2022-07-11\",\"2022-07-12\",\"2022-07-13\",\"2022-07-14\",\"2022-07-15\",\"2022-07-16\",\"2022-07-17\",\"2022-07-18\",\"2022-07-19\",\"2022-07-20\",\"2022-07-21\",\"2022-07-22\",\"2022-07-23\",\"2022-07-24\",\"2022-07-25\",\"2022-07-26\",\"2022-07-27\",\"2022-07-28\",\"2022-07-29\",\"2022-07-30\",\"2022-07-31\",\"2022-08-01\",\"2022-08-02\",\"2022-08-03\",\"2022-08-04\",\"2022-08-05\",\"2022-08-06\",\"2022-08-07\",\"2022-08-08\",\"2022-08-09\",\"2022-08-10\",\"2022-08-11\",\"2022-08-12\",\"2022-08-13\",\"2022-08-14\",\"2022-08-15\",\"2022-08-16\",\"2022-08-17\",\"2022-08-18\",\"2022-08-19\",\"2022-08-20\",\"2022-08-21\",\"2022-08-22\",\"2022-08-23\",\"2022-08-24\",\"2022-08-25\",\"2022-08-26\",\"2022-08-27\",\"2022-08-28\",\"2022-08-29\",\"2022-08-30\",\"2022-08-31\",\"2022-09-01\",\"2022-09-02\",\"2022-09-03\",\"2022-09-04\",\"2022-09-05\",\"2022-09-06\",\"2022-09-07\",\"2022-09-08\",\"2022-09-09\",\"2022-09-10\",\"2022-09-11\",\"2022-09-12\",\"2022-09-13\",\"2022-09-14\",\"2022-09-15\",\"2022-09-16\",\"2022-09-17\",\"2022-09-18\",\"2022-09-19\",\"2022-09-20\",\"2022-09-21\",\"2022-09-22\",\"2022-09-23\",\"2022-09-24\",\"2022-09-25\",\"2022-09-26\",\"2022-09-27\",\"2022-09-28\",\"2022-09-29\",\"2022-09-30\",\"2022-10-01\",\"2022-10-02\",\"2022-10-03\",\"2022-10-04\",\"2022-10-05\",\"2022-10-06\",\"2022-10-07\",\"2022-10-08\",\"2022-10-09\",\"2022-10-10\",\"2022-10-11\",\"2022-10-12\",\"2022-10-13\",\"2022-10-14\",\"2022-10-15\",\"2022-10-16\",\"2022-10-17\",\"2022-10-18\",\"2022-10-19\",\"2022-10-20\",\"2022-10-21\",\"2022-10-22\",\"2022-10-23\",\"2022-10-24\",\"2022-10-25\",\"2022-10-26\",\"2022-10-27\",\"2022-10-28\",\"2022-10-29\",\"2022-10-30\",\"2022-10-31\",\"2022-11-01\",\"2022-11-02\",\"2022-11-03\",\"2022-11-04\",\"2022-11-05\",\"2022-11-06\",\"2022-11-07\",\"2022-11-08\",\"2022-11-09\",\"2022-11-10\",\"2022-11-11\",\"2022-11-12\",\"2022-11-13\",\"2022-11-14\",\"2022-11-15\",\"2022-11-16\",\"2022-11-17\",\"2022-11-18\",\"2022-11-19\",\"2022-11-20\",\"2022-11-21\",\"2022-11-22\",\"2022-11-23\",\"2022-11-24\",\"2022-11-25\",\"2022-11-26\",\"2022-11-27\",\"2022-11-28\",\"2022-11-29\",\"2022-11-30\"],\"xaxis\":\"x\",\"y\":[5,4,7,10,6,6,10,6,8,6,11,3,4,2,2,5,8,5,5,6,1,4,4,3,3,4,9,10,10,12,13,5,9,9,17,5,6,7,11,14,10,16,6,4,17,24,25,34,29,16,13,10,7,8,12,21,28,13,16,23,17,18,8,6,9,27,13,18,11,7,9,13,9,17,6,9,9,12,7,17,18,14,10,5,4,4,2,6,12,24,12,4,8,13,6,16,6,5,3,4,13,7,3,12,2,5,3,3,3,5,4,4,1,3,4,2,8,14,10,3,11,13,18,12,14,9,11,13,6,5,3,2,2,3,3,4,4,5,3,2,2,1,4,5,8,6,10,8,3,2,3,13,10,7,10,10,7,6,4,6,9,6,4,6,9,8,8,9,6,8,6,14,5,19,12,9,13,10,5,7,7,3,4,3,3,9,2,5,2,4,255,96,65,53,26,23,8,14,13,28,17,26,22,25,37,28,11,18,19,9,3,11,15,14],\"yaxis\":\"y\",\"type\":\"bar\"},{\"alignmentgroup\":\"True\",\"hovertemplate\":\"attribute_type=organic<br>create_date=%{x}<br>user_cnt=%{y}<extra></extra>\",\"legendgroup\":\"organic\",\"marker\":{\"color\":\"#EF553B\",\"pattern\":{\"shape\":\"\"}},\"name\":\"organic\",\"offsetgroup\":\"organic\",\"orientation\":\"v\",\"showlegend\":true,\"textposition\":\"auto\",\"x\":[\"2022-05-01\",\"2022-05-02\",\"2022-05-03\",\"2022-05-04\",\"2022-05-05\",\"2022-05-06\",\"2022-05-07\",\"2022-05-08\",\"2022-05-09\",\"2022-05-10\",\"2022-05-11\",\"2022-05-12\",\"2022-05-13\",\"2022-05-14\",\"2022-05-15\",\"2022-05-16\",\"2022-05-17\",\"2022-05-18\",\"2022-05-19\",\"2022-05-20\",\"2022-05-21\",\"2022-05-22\",\"2022-05-23\",\"2022-05-24\",\"2022-05-25\",\"2022-05-26\",\"2022-05-27\",\"2022-05-28\",\"2022-05-29\",\"2022-05-30\",\"2022-05-31\",\"2022-06-01\",\"2022-06-02\",\"2022-06-03\",\"2022-06-04\",\"2022-06-05\",\"2022-06-06\",\"2022-06-07\",\"2022-06-08\",\"2022-06-09\",\"2022-06-10\",\"2022-06-11\",\"2022-06-12\",\"2022-06-13\",\"2022-06-14\",\"2022-06-15\",\"2022-06-16\",\"2022-06-17\",\"2022-06-18\",\"2022-06-19\",\"2022-06-20\",\"2022-06-21\",\"2022-06-22\",\"2022-06-23\",\"2022-06-24\",\"2022-06-25\",\"2022-06-26\",\"2022-06-27\",\"2022-06-28\",\"2022-06-29\",\"2022-06-30\",\"2022-07-01\",\"2022-07-02\",\"2022-07-03\",\"2022-07-04\",\"2022-07-05\",\"2022-07-06\",\"2022-07-07\",\"2022-07-08\",\"2022-07-09\",\"2022-07-10\",\"2022-07-11\",\"2022-07-12\",\"2022-07-13\",\"2022-07-14\",\"2022-07-15\",\"2022-07-16\",\"2022-07-17\",\"2022-07-18\",\"2022-07-19\",\"2022-07-20\",\"2022-07-21\",\"2022-07-22\",\"2022-07-23\",\"2022-07-24\",\"2022-07-25\",\"2022-07-26\",\"2022-07-27\",\"2022-07-28\",\"2022-07-29\",\"2022-07-30\",\"2022-07-31\",\"2022-08-01\",\"2022-08-02\",\"2022-08-03\",\"2022-08-04\",\"2022-08-05\",\"2022-08-06\",\"2022-08-07\",\"2022-08-08\",\"2022-08-09\",\"2022-08-10\",\"2022-08-11\",\"2022-08-12\",\"2022-08-13\",\"2022-08-14\",\"2022-08-15\",\"2022-08-16\",\"2022-08-17\",\"2022-08-18\",\"2022-08-19\",\"2022-08-20\",\"2022-08-21\",\"2022-08-22\",\"2022-08-23\",\"2022-08-24\",\"2022-08-25\",\"2022-08-26\",\"2022-08-27\",\"2022-08-28\",\"2022-08-29\",\"2022-08-30\",\"2022-08-31\",\"2022-09-01\",\"2022-09-02\",\"2022-09-03\",\"2022-09-04\",\"2022-09-05\",\"2022-09-06\",\"2022-09-07\",\"2022-09-08\",\"2022-09-09\",\"2022-09-10\",\"2022-09-11\",\"2022-09-12\",\"2022-09-13\",\"2022-09-14\",\"2022-09-15\",\"2022-09-16\",\"2022-09-17\",\"2022-09-18\",\"2022-09-19\",\"2022-09-20\",\"2022-09-21\",\"2022-09-22\",\"2022-09-23\",\"2022-09-24\",\"2022-09-25\",\"2022-09-26\",\"2022-09-27\",\"2022-09-28\",\"2022-09-29\",\"2022-09-30\",\"2022-10-01\",\"2022-10-02\",\"2022-10-03\",\"2022-10-04\",\"2022-10-05\",\"2022-10-06\",\"2022-10-07\",\"2022-10-08\",\"2022-10-09\",\"2022-10-10\",\"2022-10-11\",\"2022-10-12\",\"2022-10-13\",\"2022-10-14\",\"2022-10-15\",\"2022-10-16\",\"2022-10-17\",\"2022-10-18\",\"2022-10-19\",\"2022-10-20\",\"2022-10-21\",\"2022-10-22\",\"2022-10-23\",\"2022-10-24\",\"2022-10-25\",\"2022-10-26\",\"2022-10-27\",\"2022-10-28\",\"2022-10-29\",\"2022-10-30\",\"2022-10-31\",\"2022-11-01\",\"2022-11-02\",\"2022-11-03\",\"2022-11-04\",\"2022-11-05\",\"2022-11-06\",\"2022-11-07\",\"2022-11-08\",\"2022-11-09\",\"2022-11-10\",\"2022-11-11\",\"2022-11-12\",\"2022-11-13\",\"2022-11-14\",\"2022-11-15\",\"2022-11-16\",\"2022-11-17\",\"2022-11-18\",\"2022-11-19\",\"2022-11-20\",\"2022-11-21\",\"2022-11-22\",\"2022-11-23\",\"2022-11-24\",\"2022-11-25\",\"2022-11-26\",\"2022-11-27\",\"2022-11-28\",\"2022-11-29\",\"2022-11-30\"],\"xaxis\":\"x\",\"y\":[4,5,8,13,7,13,25,24,27,8,9,9,8,2,3,5,3,13,9,9,4,1,6,6,3,12,15,15,22,14,18,16,15,27,23,13,8,19,12,12,9,19,12,7,20,33,29,47,43,19,19,14,9,16,19,44,33,13,38,30,27,33,26,13,17,52,34,29,19,34,15,18,27,34,30,30,15,18,20,28,37,27,27,18,13,15,13,15,23,33,15,11,15,23,40,24,25,11,7,7,20,20,13,18,12,10,10,4,8,19,9,10,12,14,5,13,12,30,22,14,23,25,17,28,28,31,15,28,17,10,16,11,5,8,5,12,5,9,10,7,8,3,20,15,20,21,15,21,12,6,16,21,20,19,18,13,10,9,11,19,25,21,15,12,24,28,21,19,17,18,23,18,25,48,21,24,20,18,15,12,16,9,12,11,8,11,10,14,10,9,629,222,154,127,61,39,34,36,38,51,42,74,55,64,56,51,29,51,49,28,9,16,38,31],\"yaxis\":\"y\",\"type\":\"bar\"}],                        {\"template\":{\"data\":{\"bar\":[{\"error_x\":{\"color\":\"#2a3f5f\"},\"error_y\":{\"color\":\"#2a3f5f\"},\"marker\":{\"line\":{\"color\":\"#E5ECF6\",\"width\":0.5},\"pattern\":{\"fillmode\":\"overlay\",\"size\":10,\"solidity\":0.2}},\"type\":\"bar\"}],\"barpolar\":[{\"marker\":{\"line\":{\"color\":\"#E5ECF6\",\"width\":0.5},\"pattern\":{\"fillmode\":\"overlay\",\"size\":10,\"solidity\":0.2}},\"type\":\"barpolar\"}],\"carpet\":[{\"aaxis\":{\"endlinecolor\":\"#2a3f5f\",\"gridcolor\":\"white\",\"linecolor\":\"white\",\"minorgridcolor\":\"white\",\"startlinecolor\":\"#2a3f5f\"},\"baxis\":{\"endlinecolor\":\"#2a3f5f\",\"gridcolor\":\"white\",\"linecolor\":\"white\",\"minorgridcolor\":\"white\",\"startlinecolor\":\"#2a3f5f\"},\"type\":\"carpet\"}],\"choropleth\":[{\"colorbar\":{\"outlinewidth\":0,\"ticks\":\"\"},\"type\":\"choropleth\"}],\"contour\":[{\"colorbar\":{\"outlinewidth\":0,\"ticks\":\"\"},\"colorscale\":[[0.0,\"#0d0887\"],[0.1111111111111111,\"#46039f\"],[0.2222222222222222,\"#7201a8\"],[0.3333333333333333,\"#9c179e\"],[0.4444444444444444,\"#bd3786\"],[0.5555555555555556,\"#d8576b\"],[0.6666666666666666,\"#ed7953\"],[0.7777777777777778,\"#fb9f3a\"],[0.8888888888888888,\"#fdca26\"],[1.0,\"#f0f921\"]],\"type\":\"contour\"}],\"contourcarpet\":[{\"colorbar\":{\"outlinewidth\":0,\"ticks\":\"\"},\"type\":\"contourcarpet\"}],\"heatmap\":[{\"colorbar\":{\"outlinewidth\":0,\"ticks\":\"\"},\"colorscale\":[[0.0,\"#0d0887\"],[0.1111111111111111,\"#46039f\"],[0.2222222222222222,\"#7201a8\"],[0.3333333333333333,\"#9c179e\"],[0.4444444444444444,\"#bd3786\"],[0.5555555555555556,\"#d8576b\"],[0.6666666666666666,\"#ed7953\"],[0.7777777777777778,\"#fb9f3a\"],[0.8888888888888888,\"#fdca26\"],[1.0,\"#f0f921\"]],\"type\":\"heatmap\"}],\"heatmapgl\":[{\"colorbar\":{\"outlinewidth\":0,\"ticks\":\"\"},\"colorscale\":[[0.0,\"#0d0887\"],[0.1111111111111111,\"#46039f\"],[0.2222222222222222,\"#7201a8\"],[0.3333333333333333,\"#9c179e\"],[0.4444444444444444,\"#bd3786\"],[0.5555555555555556,\"#d8576b\"],[0.6666666666666666,\"#ed7953\"],[0.7777777777777778,\"#fb9f3a\"],[0.8888888888888888,\"#fdca26\"],[1.0,\"#f0f921\"]],\"type\":\"heatmapgl\"}],\"histogram\":[{\"marker\":{\"pattern\":{\"fillmode\":\"overlay\",\"size\":10,\"solidity\":0.2}},\"type\":\"histogram\"}],\"histogram2d\":[{\"colorbar\":{\"outlinewidth\":0,\"ticks\":\"\"},\"colorscale\":[[0.0,\"#0d0887\"],[0.1111111111111111,\"#46039f\"],[0.2222222222222222,\"#7201a8\"],[0.3333333333333333,\"#9c179e\"],[0.4444444444444444,\"#bd3786\"],[0.5555555555555556,\"#d8576b\"],[0.6666666666666666,\"#ed7953\"],[0.7777777777777778,\"#fb9f3a\"],[0.8888888888888888,\"#fdca26\"],[1.0,\"#f0f921\"]],\"type\":\"histogram2d\"}],\"histogram2dcontour\":[{\"colorbar\":{\"outlinewidth\":0,\"ticks\":\"\"},\"colorscale\":[[0.0,\"#0d0887\"],[0.1111111111111111,\"#46039f\"],[0.2222222222222222,\"#7201a8\"],[0.3333333333333333,\"#9c179e\"],[0.4444444444444444,\"#bd3786\"],[0.5555555555555556,\"#d8576b\"],[0.6666666666666666,\"#ed7953\"],[0.7777777777777778,\"#fb9f3a\"],[0.8888888888888888,\"#fdca26\"],[1.0,\"#f0f921\"]],\"type\":\"histogram2dcontour\"}],\"mesh3d\":[{\"colorbar\":{\"outlinewidth\":0,\"ticks\":\"\"},\"type\":\"mesh3d\"}],\"parcoords\":[{\"line\":{\"colorbar\":{\"outlinewidth\":0,\"ticks\":\"\"}},\"type\":\"parcoords\"}],\"pie\":[{\"automargin\":true,\"type\":\"pie\"}],\"scatter\":[{\"marker\":{\"colorbar\":{\"outlinewidth\":0,\"ticks\":\"\"}},\"type\":\"scatter\"}],\"scatter3d\":[{\"line\":{\"colorbar\":{\"outlinewidth\":0,\"ticks\":\"\"}},\"marker\":{\"colorbar\":{\"outlinewidth\":0,\"ticks\":\"\"}},\"type\":\"scatter3d\"}],\"scattercarpet\":[{\"marker\":{\"colorbar\":{\"outlinewidth\":0,\"ticks\":\"\"}},\"type\":\"scattercarpet\"}],\"scattergeo\":[{\"marker\":{\"colorbar\":{\"outlinewidth\":0,\"ticks\":\"\"}},\"type\":\"scattergeo\"}],\"scattergl\":[{\"marker\":{\"colorbar\":{\"outlinewidth\":0,\"ticks\":\"\"}},\"type\":\"scattergl\"}],\"scattermapbox\":[{\"marker\":{\"colorbar\":{\"outlinewidth\":0,\"ticks\":\"\"}},\"type\":\"scattermapbox\"}],\"scatterpolar\":[{\"marker\":{\"colorbar\":{\"outlinewidth\":0,\"ticks\":\"\"}},\"type\":\"scatterpolar\"}],\"scatterpolargl\":[{\"marker\":{\"colorbar\":{\"outlinewidth\":0,\"ticks\":\"\"}},\"type\":\"scatterpolargl\"}],\"scatterternary\":[{\"marker\":{\"colorbar\":{\"outlinewidth\":0,\"ticks\":\"\"}},\"type\":\"scatterternary\"}],\"surface\":[{\"colorbar\":{\"outlinewidth\":0,\"ticks\":\"\"},\"colorscale\":[[0.0,\"#0d0887\"],[0.1111111111111111,\"#46039f\"],[0.2222222222222222,\"#7201a8\"],[0.3333333333333333,\"#9c179e\"],[0.4444444444444444,\"#bd3786\"],[0.5555555555555556,\"#d8576b\"],[0.6666666666666666,\"#ed7953\"],[0.7777777777777778,\"#fb9f3a\"],[0.8888888888888888,\"#fdca26\"],[1.0,\"#f0f921\"]],\"type\":\"surface\"}],\"table\":[{\"cells\":{\"fill\":{\"color\":\"#EBF0F8\"},\"line\":{\"color\":\"white\"}},\"header\":{\"fill\":{\"color\":\"#C8D4E3\"},\"line\":{\"color\":\"white\"}},\"type\":\"table\"}]},\"layout\":{\"annotationdefaults\":{\"arrowcolor\":\"#2a3f5f\",\"arrowhead\":0,\"arrowwidth\":1},\"autotypenumbers\":\"strict\",\"coloraxis\":{\"colorbar\":{\"outlinewidth\":0,\"ticks\":\"\"}},\"colorscale\":{\"diverging\":[[0,\"#8e0152\"],[0.1,\"#c51b7d\"],[0.2,\"#de77ae\"],[0.3,\"#f1b6da\"],[0.4,\"#fde0ef\"],[0.5,\"#f7f7f7\"],[0.6,\"#e6f5d0\"],[0.7,\"#b8e186\"],[0.8,\"#7fbc41\"],[0.9,\"#4d9221\"],[1,\"#276419\"]],\"sequential\":[[0.0,\"#0d0887\"],[0.1111111111111111,\"#46039f\"],[0.2222222222222222,\"#7201a8\"],[0.3333333333333333,\"#9c179e\"],[0.4444444444444444,\"#bd3786\"],[0.5555555555555556,\"#d8576b\"],[0.6666666666666666,\"#ed7953\"],[0.7777777777777778,\"#fb9f3a\"],[0.8888888888888888,\"#fdca26\"],[1.0,\"#f0f921\"]],\"sequentialminus\":[[0.0,\"#0d0887\"],[0.1111111111111111,\"#46039f\"],[0.2222222222222222,\"#7201a8\"],[0.3333333333333333,\"#9c179e\"],[0.4444444444444444,\"#bd3786\"],[0.5555555555555556,\"#d8576b\"],[0.6666666666666666,\"#ed7953\"],[0.7777777777777778,\"#fb9f3a\"],[0.8888888888888888,\"#fdca26\"],[1.0,\"#f0f921\"]]},\"colorway\":[\"#636efa\",\"#EF553B\",\"#00cc96\",\"#ab63fa\",\"#FFA15A\",\"#19d3f3\",\"#FF6692\",\"#B6E880\",\"#FF97FF\",\"#FECB52\"],\"font\":{\"color\":\"#2a3f5f\"},\"geo\":{\"bgcolor\":\"white\",\"lakecolor\":\"white\",\"landcolor\":\"#E5ECF6\",\"showlakes\":true,\"showland\":true,\"subunitcolor\":\"white\"},\"hoverlabel\":{\"align\":\"left\"},\"hovermode\":\"closest\",\"mapbox\":{\"style\":\"light\"},\"paper_bgcolor\":\"white\",\"plot_bgcolor\":\"#E5ECF6\",\"polar\":{\"angularaxis\":{\"gridcolor\":\"white\",\"linecolor\":\"white\",\"ticks\":\"\"},\"bgcolor\":\"#E5ECF6\",\"radialaxis\":{\"gridcolor\":\"white\",\"linecolor\":\"white\",\"ticks\":\"\"}},\"scene\":{\"xaxis\":{\"backgroundcolor\":\"#E5ECF6\",\"gridcolor\":\"white\",\"gridwidth\":2,\"linecolor\":\"white\",\"showbackground\":true,\"ticks\":\"\",\"zerolinecolor\":\"white\"},\"yaxis\":{\"backgroundcolor\":\"#E5ECF6\",\"gridcolor\":\"white\",\"gridwidth\":2,\"linecolor\":\"white\",\"showbackground\":true,\"ticks\":\"\",\"zerolinecolor\":\"white\"},\"zaxis\":{\"backgroundcolor\":\"#E5ECF6\",\"gridcolor\":\"white\",\"gridwidth\":2,\"linecolor\":\"white\",\"showbackground\":true,\"ticks\":\"\",\"zerolinecolor\":\"white\"}},\"shapedefaults\":{\"line\":{\"color\":\"#2a3f5f\"}},\"ternary\":{\"aaxis\":{\"gridcolor\":\"white\",\"linecolor\":\"white\",\"ticks\":\"\"},\"baxis\":{\"gridcolor\":\"white\",\"linecolor\":\"white\",\"ticks\":\"\"},\"bgcolor\":\"#E5ECF6\",\"caxis\":{\"gridcolor\":\"white\",\"linecolor\":\"white\",\"ticks\":\"\"}},\"title\":{\"x\":0.05},\"xaxis\":{\"automargin\":true,\"gridcolor\":\"white\",\"linecolor\":\"white\",\"ticks\":\"\",\"title\":{\"standoff\":15},\"zerolinecolor\":\"white\",\"zerolinewidth\":2},\"yaxis\":{\"automargin\":true,\"gridcolor\":\"white\",\"linecolor\":\"white\",\"ticks\":\"\",\"title\":{\"standoff\":15},\"zerolinecolor\":\"white\",\"zerolinewidth\":2}}},\"xaxis\":{\"anchor\":\"y\",\"domain\":[0.0,1.0],\"title\":{\"text\":\"create_date\"}},\"yaxis\":{\"anchor\":\"x\",\"domain\":[0.0,1.0],\"title\":{\"text\":\"user_cnt\"}},\"legend\":{\"title\":{\"text\":\"attribute_type\"},\"tracegroupgap\":0},\"margin\":{\"t\":60},\"barmode\":\"relative\"},                        {\"responsive\": true}                    ).then(function(){\n",
              "                            \n",
              "var gd = document.getElementById('0447640b-ae27-40a1-8bd1-df54d2d7dec3');\n",
              "var x = new MutationObserver(function (mutations, observer) {{\n",
              "        var display = window.getComputedStyle(gd).display;\n",
              "        if (!display || display === 'none') {{\n",
              "            console.log([gd, 'removed!']);\n",
              "            Plotly.purge(gd);\n",
              "            observer.disconnect();\n",
              "        }}\n",
              "}});\n",
              "\n",
              "// Listen for the removal of the full notebook cells\n",
              "var notebookContainer = gd.closest('#notebook-container');\n",
              "if (notebookContainer) {{\n",
              "    x.observe(notebookContainer, {childList: true});\n",
              "}}\n",
              "\n",
              "// Listen for the clearing of the current output cell\n",
              "var outputEl = gd.closest('.output');\n",
              "if (outputEl) {{\n",
              "    x.observe(outputEl, {childList: true});\n",
              "}}\n",
              "\n",
              "                        })                };                            </script>        </div>\n",
              "</body>\n",
              "</html>"
            ]
          },
          "metadata": {}
        }
      ]
    },
    {
      "cell_type": "markdown",
      "source": [
        "### 월간 모객 유저수"
      ],
      "metadata": {
        "id": "NYhuFI8Jx87p"
      }
    },
    {
      "cell_type": "code",
      "source": [
        "## << 데이터 프레임 생성 - 월간 가입 유저수 >>\n",
        "\n",
        "query_job = client.query(\"\"\"\n",
        "  with userinfo as (\n",
        "    select b.attribute_type, b.campaign\n",
        "        , b.install_time, a.create_date, a.create_year_month\n",
        "        , a.attribute_id, a.user_id, a.nickname, a.account_type, a.platform\n",
        "        , a.region_1depth_name, a.region_2depth_name, a.region_3depth_name\n",
        "        , a.h_code, a.x, a.y\n",
        "    from `my_temp.marketing_myinfos` as a\n",
        "    left join (\n",
        "      select 'organic' as attribute_type, install_time, attribute_id, campaign\n",
        "      from `my_temp.organic_install`\n",
        "\n",
        "      union all \n",
        "\n",
        "      select 'non_organic' as attribute_type, install_time, attribute_id, campaign\n",
        "      from `my_temp.non_organic_install`\n",
        "    ) as b\n",
        "    on a.attribute_id = b.attribute_id and a.create_date = b.install_time\n",
        "  )\n",
        "\n",
        "  select create_year_month, attribute_type, count(distinct user_id) as user_cnt\n",
        "  from userinfo\n",
        "  group by create_year_month, attribute_type \n",
        "  order by create_year_month, attribute_type \n",
        "\"\"\")\n",
        "\n",
        "MonthlyJoinDf = query_job.to_dataframe()"
      ],
      "metadata": {
        "id": "Ync2yLkYYhPb"
      },
      "execution_count": null,
      "outputs": []
    },
    {
      "cell_type": "code",
      "source": [
        "## << 시각화 - Attribute 타입별 월간 가입 유저수  >>\n",
        "\n",
        "import plotly.express as px\n",
        "\n",
        "fig = px.bar(MonthlyJoinDf, \n",
        "             x ='create_year_month', \n",
        "             y = 'user_cnt', \n",
        "             color= 'attribute_type',)\n",
        "\n",
        "fig.show(renderer='colab')"
      ],
      "metadata": {
        "colab": {
          "base_uri": "https://localhost:8080/",
          "height": 542
        },
        "id": "Qu1eQkzQwMPb",
        "outputId": "50a8dacb-e7ae-4923-c97e-36afb3091904"
      },
      "execution_count": null,
      "outputs": [
        {
          "output_type": "display_data",
          "data": {
            "text/html": [
              "<html>\n",
              "<head><meta charset=\"utf-8\" /></head>\n",
              "<body>\n",
              "    <div>            <script src=\"https://cdnjs.cloudflare.com/ajax/libs/mathjax/2.7.5/MathJax.js?config=TeX-AMS-MML_SVG\"></script><script type=\"text/javascript\">if (window.MathJax) {MathJax.Hub.Config({SVG: {font: \"STIX-Web\"}});}</script>                <script type=\"text/javascript\">window.PlotlyConfig = {MathJaxConfig: 'local'};</script>\n",
              "        <script src=\"https://cdn.plot.ly/plotly-2.8.3.min.js\"></script>                <div id=\"beff45aa-a88b-447b-aee4-05644eee4ae7\" class=\"plotly-graph-div\" style=\"height:525px; width:100%;\"></div>            <script type=\"text/javascript\">                                    window.PLOTLYENV=window.PLOTLYENV || {};                                    if (document.getElementById(\"beff45aa-a88b-447b-aee4-05644eee4ae7\")) {                    Plotly.newPlot(                        \"beff45aa-a88b-447b-aee4-05644eee4ae7\",                        [{\"alignmentgroup\":\"True\",\"hovertemplate\":\"attribute_type=non_organic<br>create_year_month=%{x}<br>user_cnt=%{y}<extra></extra>\",\"legendgroup\":\"non_organic\",\"marker\":{\"color\":\"#636efa\",\"pattern\":{\"shape\":\"\"}},\"name\":\"non_organic\",\"offsetgroup\":\"non_organic\",\"orientation\":\"v\",\"showlegend\":true,\"textposition\":\"auto\",\"x\":[\"2022-05\",\"2022-06\",\"2022-07\",\"2022-08\",\"2022-09\",\"2022-10\",\"2022-11\"],\"xaxis\":\"x\",\"y\":[192,432,340,212,176,240,861],\"yaxis\":\"y\",\"type\":\"bar\"},{\"alignmentgroup\":\"True\",\"hovertemplate\":\"attribute_type=organic<br>create_year_month=%{x}<br>user_cnt=%{y}<extra></extra>\",\"legendgroup\":\"organic\",\"marker\":{\"color\":\"#EF553B\",\"pattern\":{\"shape\":\"\"}},\"name\":\"organic\",\"offsetgroup\":\"organic\",\"orientation\":\"v\",\"showlegend\":true,\"textposition\":\"auto\",\"x\":[\"2022-05\",\"2022-06\",\"2022-07\",\"2022-08\",\"2022-09\",\"2022-10\",\"2022-11\"],\"xaxis\":\"x\",\"y\":[320,645,739,492,443,571,2046],\"yaxis\":\"y\",\"type\":\"bar\"}],                        {\"template\":{\"data\":{\"bar\":[{\"error_x\":{\"color\":\"#2a3f5f\"},\"error_y\":{\"color\":\"#2a3f5f\"},\"marker\":{\"line\":{\"color\":\"#E5ECF6\",\"width\":0.5},\"pattern\":{\"fillmode\":\"overlay\",\"size\":10,\"solidity\":0.2}},\"type\":\"bar\"}],\"barpolar\":[{\"marker\":{\"line\":{\"color\":\"#E5ECF6\",\"width\":0.5},\"pattern\":{\"fillmode\":\"overlay\",\"size\":10,\"solidity\":0.2}},\"type\":\"barpolar\"}],\"carpet\":[{\"aaxis\":{\"endlinecolor\":\"#2a3f5f\",\"gridcolor\":\"white\",\"linecolor\":\"white\",\"minorgridcolor\":\"white\",\"startlinecolor\":\"#2a3f5f\"},\"baxis\":{\"endlinecolor\":\"#2a3f5f\",\"gridcolor\":\"white\",\"linecolor\":\"white\",\"minorgridcolor\":\"white\",\"startlinecolor\":\"#2a3f5f\"},\"type\":\"carpet\"}],\"choropleth\":[{\"colorbar\":{\"outlinewidth\":0,\"ticks\":\"\"},\"type\":\"choropleth\"}],\"contour\":[{\"colorbar\":{\"outlinewidth\":0,\"ticks\":\"\"},\"colorscale\":[[0.0,\"#0d0887\"],[0.1111111111111111,\"#46039f\"],[0.2222222222222222,\"#7201a8\"],[0.3333333333333333,\"#9c179e\"],[0.4444444444444444,\"#bd3786\"],[0.5555555555555556,\"#d8576b\"],[0.6666666666666666,\"#ed7953\"],[0.7777777777777778,\"#fb9f3a\"],[0.8888888888888888,\"#fdca26\"],[1.0,\"#f0f921\"]],\"type\":\"contour\"}],\"contourcarpet\":[{\"colorbar\":{\"outlinewidth\":0,\"ticks\":\"\"},\"type\":\"contourcarpet\"}],\"heatmap\":[{\"colorbar\":{\"outlinewidth\":0,\"ticks\":\"\"},\"colorscale\":[[0.0,\"#0d0887\"],[0.1111111111111111,\"#46039f\"],[0.2222222222222222,\"#7201a8\"],[0.3333333333333333,\"#9c179e\"],[0.4444444444444444,\"#bd3786\"],[0.5555555555555556,\"#d8576b\"],[0.6666666666666666,\"#ed7953\"],[0.7777777777777778,\"#fb9f3a\"],[0.8888888888888888,\"#fdca26\"],[1.0,\"#f0f921\"]],\"type\":\"heatmap\"}],\"heatmapgl\":[{\"colorbar\":{\"outlinewidth\":0,\"ticks\":\"\"},\"colorscale\":[[0.0,\"#0d0887\"],[0.1111111111111111,\"#46039f\"],[0.2222222222222222,\"#7201a8\"],[0.3333333333333333,\"#9c179e\"],[0.4444444444444444,\"#bd3786\"],[0.5555555555555556,\"#d8576b\"],[0.6666666666666666,\"#ed7953\"],[0.7777777777777778,\"#fb9f3a\"],[0.8888888888888888,\"#fdca26\"],[1.0,\"#f0f921\"]],\"type\":\"heatmapgl\"}],\"histogram\":[{\"marker\":{\"pattern\":{\"fillmode\":\"overlay\",\"size\":10,\"solidity\":0.2}},\"type\":\"histogram\"}],\"histogram2d\":[{\"colorbar\":{\"outlinewidth\":0,\"ticks\":\"\"},\"colorscale\":[[0.0,\"#0d0887\"],[0.1111111111111111,\"#46039f\"],[0.2222222222222222,\"#7201a8\"],[0.3333333333333333,\"#9c179e\"],[0.4444444444444444,\"#bd3786\"],[0.5555555555555556,\"#d8576b\"],[0.6666666666666666,\"#ed7953\"],[0.7777777777777778,\"#fb9f3a\"],[0.8888888888888888,\"#fdca26\"],[1.0,\"#f0f921\"]],\"type\":\"histogram2d\"}],\"histogram2dcontour\":[{\"colorbar\":{\"outlinewidth\":0,\"ticks\":\"\"},\"colorscale\":[[0.0,\"#0d0887\"],[0.1111111111111111,\"#46039f\"],[0.2222222222222222,\"#7201a8\"],[0.3333333333333333,\"#9c179e\"],[0.4444444444444444,\"#bd3786\"],[0.5555555555555556,\"#d8576b\"],[0.6666666666666666,\"#ed7953\"],[0.7777777777777778,\"#fb9f3a\"],[0.8888888888888888,\"#fdca26\"],[1.0,\"#f0f921\"]],\"type\":\"histogram2dcontour\"}],\"mesh3d\":[{\"colorbar\":{\"outlinewidth\":0,\"ticks\":\"\"},\"type\":\"mesh3d\"}],\"parcoords\":[{\"line\":{\"colorbar\":{\"outlinewidth\":0,\"ticks\":\"\"}},\"type\":\"parcoords\"}],\"pie\":[{\"automargin\":true,\"type\":\"pie\"}],\"scatter\":[{\"marker\":{\"colorbar\":{\"outlinewidth\":0,\"ticks\":\"\"}},\"type\":\"scatter\"}],\"scatter3d\":[{\"line\":{\"colorbar\":{\"outlinewidth\":0,\"ticks\":\"\"}},\"marker\":{\"colorbar\":{\"outlinewidth\":0,\"ticks\":\"\"}},\"type\":\"scatter3d\"}],\"scattercarpet\":[{\"marker\":{\"colorbar\":{\"outlinewidth\":0,\"ticks\":\"\"}},\"type\":\"scattercarpet\"}],\"scattergeo\":[{\"marker\":{\"colorbar\":{\"outlinewidth\":0,\"ticks\":\"\"}},\"type\":\"scattergeo\"}],\"scattergl\":[{\"marker\":{\"colorbar\":{\"outlinewidth\":0,\"ticks\":\"\"}},\"type\":\"scattergl\"}],\"scattermapbox\":[{\"marker\":{\"colorbar\":{\"outlinewidth\":0,\"ticks\":\"\"}},\"type\":\"scattermapbox\"}],\"scatterpolar\":[{\"marker\":{\"colorbar\":{\"outlinewidth\":0,\"ticks\":\"\"}},\"type\":\"scatterpolar\"}],\"scatterpolargl\":[{\"marker\":{\"colorbar\":{\"outlinewidth\":0,\"ticks\":\"\"}},\"type\":\"scatterpolargl\"}],\"scatterternary\":[{\"marker\":{\"colorbar\":{\"outlinewidth\":0,\"ticks\":\"\"}},\"type\":\"scatterternary\"}],\"surface\":[{\"colorbar\":{\"outlinewidth\":0,\"ticks\":\"\"},\"colorscale\":[[0.0,\"#0d0887\"],[0.1111111111111111,\"#46039f\"],[0.2222222222222222,\"#7201a8\"],[0.3333333333333333,\"#9c179e\"],[0.4444444444444444,\"#bd3786\"],[0.5555555555555556,\"#d8576b\"],[0.6666666666666666,\"#ed7953\"],[0.7777777777777778,\"#fb9f3a\"],[0.8888888888888888,\"#fdca26\"],[1.0,\"#f0f921\"]],\"type\":\"surface\"}],\"table\":[{\"cells\":{\"fill\":{\"color\":\"#EBF0F8\"},\"line\":{\"color\":\"white\"}},\"header\":{\"fill\":{\"color\":\"#C8D4E3\"},\"line\":{\"color\":\"white\"}},\"type\":\"table\"}]},\"layout\":{\"annotationdefaults\":{\"arrowcolor\":\"#2a3f5f\",\"arrowhead\":0,\"arrowwidth\":1},\"autotypenumbers\":\"strict\",\"coloraxis\":{\"colorbar\":{\"outlinewidth\":0,\"ticks\":\"\"}},\"colorscale\":{\"diverging\":[[0,\"#8e0152\"],[0.1,\"#c51b7d\"],[0.2,\"#de77ae\"],[0.3,\"#f1b6da\"],[0.4,\"#fde0ef\"],[0.5,\"#f7f7f7\"],[0.6,\"#e6f5d0\"],[0.7,\"#b8e186\"],[0.8,\"#7fbc41\"],[0.9,\"#4d9221\"],[1,\"#276419\"]],\"sequential\":[[0.0,\"#0d0887\"],[0.1111111111111111,\"#46039f\"],[0.2222222222222222,\"#7201a8\"],[0.3333333333333333,\"#9c179e\"],[0.4444444444444444,\"#bd3786\"],[0.5555555555555556,\"#d8576b\"],[0.6666666666666666,\"#ed7953\"],[0.7777777777777778,\"#fb9f3a\"],[0.8888888888888888,\"#fdca26\"],[1.0,\"#f0f921\"]],\"sequentialminus\":[[0.0,\"#0d0887\"],[0.1111111111111111,\"#46039f\"],[0.2222222222222222,\"#7201a8\"],[0.3333333333333333,\"#9c179e\"],[0.4444444444444444,\"#bd3786\"],[0.5555555555555556,\"#d8576b\"],[0.6666666666666666,\"#ed7953\"],[0.7777777777777778,\"#fb9f3a\"],[0.8888888888888888,\"#fdca26\"],[1.0,\"#f0f921\"]]},\"colorway\":[\"#636efa\",\"#EF553B\",\"#00cc96\",\"#ab63fa\",\"#FFA15A\",\"#19d3f3\",\"#FF6692\",\"#B6E880\",\"#FF97FF\",\"#FECB52\"],\"font\":{\"color\":\"#2a3f5f\"},\"geo\":{\"bgcolor\":\"white\",\"lakecolor\":\"white\",\"landcolor\":\"#E5ECF6\",\"showlakes\":true,\"showland\":true,\"subunitcolor\":\"white\"},\"hoverlabel\":{\"align\":\"left\"},\"hovermode\":\"closest\",\"mapbox\":{\"style\":\"light\"},\"paper_bgcolor\":\"white\",\"plot_bgcolor\":\"#E5ECF6\",\"polar\":{\"angularaxis\":{\"gridcolor\":\"white\",\"linecolor\":\"white\",\"ticks\":\"\"},\"bgcolor\":\"#E5ECF6\",\"radialaxis\":{\"gridcolor\":\"white\",\"linecolor\":\"white\",\"ticks\":\"\"}},\"scene\":{\"xaxis\":{\"backgroundcolor\":\"#E5ECF6\",\"gridcolor\":\"white\",\"gridwidth\":2,\"linecolor\":\"white\",\"showbackground\":true,\"ticks\":\"\",\"zerolinecolor\":\"white\"},\"yaxis\":{\"backgroundcolor\":\"#E5ECF6\",\"gridcolor\":\"white\",\"gridwidth\":2,\"linecolor\":\"white\",\"showbackground\":true,\"ticks\":\"\",\"zerolinecolor\":\"white\"},\"zaxis\":{\"backgroundcolor\":\"#E5ECF6\",\"gridcolor\":\"white\",\"gridwidth\":2,\"linecolor\":\"white\",\"showbackground\":true,\"ticks\":\"\",\"zerolinecolor\":\"white\"}},\"shapedefaults\":{\"line\":{\"color\":\"#2a3f5f\"}},\"ternary\":{\"aaxis\":{\"gridcolor\":\"white\",\"linecolor\":\"white\",\"ticks\":\"\"},\"baxis\":{\"gridcolor\":\"white\",\"linecolor\":\"white\",\"ticks\":\"\"},\"bgcolor\":\"#E5ECF6\",\"caxis\":{\"gridcolor\":\"white\",\"linecolor\":\"white\",\"ticks\":\"\"}},\"title\":{\"x\":0.05},\"xaxis\":{\"automargin\":true,\"gridcolor\":\"white\",\"linecolor\":\"white\",\"ticks\":\"\",\"title\":{\"standoff\":15},\"zerolinecolor\":\"white\",\"zerolinewidth\":2},\"yaxis\":{\"automargin\":true,\"gridcolor\":\"white\",\"linecolor\":\"white\",\"ticks\":\"\",\"title\":{\"standoff\":15},\"zerolinecolor\":\"white\",\"zerolinewidth\":2}}},\"xaxis\":{\"anchor\":\"y\",\"domain\":[0.0,1.0],\"title\":{\"text\":\"create_year_month\"}},\"yaxis\":{\"anchor\":\"x\",\"domain\":[0.0,1.0],\"title\":{\"text\":\"user_cnt\"}},\"legend\":{\"title\":{\"text\":\"attribute_type\"},\"tracegroupgap\":0},\"margin\":{\"t\":60},\"barmode\":\"relative\"},                        {\"responsive\": true}                    ).then(function(){\n",
              "                            \n",
              "var gd = document.getElementById('beff45aa-a88b-447b-aee4-05644eee4ae7');\n",
              "var x = new MutationObserver(function (mutations, observer) {{\n",
              "        var display = window.getComputedStyle(gd).display;\n",
              "        if (!display || display === 'none') {{\n",
              "            console.log([gd, 'removed!']);\n",
              "            Plotly.purge(gd);\n",
              "            observer.disconnect();\n",
              "        }}\n",
              "}});\n",
              "\n",
              "// Listen for the removal of the full notebook cells\n",
              "var notebookContainer = gd.closest('#notebook-container');\n",
              "if (notebookContainer) {{\n",
              "    x.observe(notebookContainer, {childList: true});\n",
              "}}\n",
              "\n",
              "// Listen for the clearing of the current output cell\n",
              "var outputEl = gd.closest('.output');\n",
              "if (outputEl) {{\n",
              "    x.observe(outputEl, {childList: true});\n",
              "}}\n",
              "\n",
              "                        })                };                            </script>        </div>\n",
              "</body>\n",
              "</html>"
            ]
          },
          "metadata": {}
        }
      ]
    },
    {
      "cell_type": "markdown",
      "source": [
        "## LTV (Life Time Value)"
      ],
      "metadata": {
        "id": "gHhfzFp6yj8Y"
      }
    },
    {
      "cell_type": "markdown",
      "source": [
        "### 월간 모객유저 LTV"
      ],
      "metadata": {
        "id": "_8zt6EZ7yta8"
      }
    },
    {
      "cell_type": "code",
      "source": [
        "## << 데이터프레임 생성 - 유저그룹(all/organic/non_organic), 월간 가입유저수, SALES, LTV  >> - 추적기간이 차지 않은 그룹까지도 sales, ltv가 집계됨(코드상에서 처리할 수는 없을까요?)\n",
        "\n",
        "query_job = client.query(\"\"\"\n",
        "  with userinfo as (\n",
        "    select b.attribute_type, b.campaign\n",
        "        , b.install_time, a.create_date, a.create_year_month\n",
        "        , a.attribute_id, a.user_id, a.nickname, a.account_type, a.platform\n",
        "        , a.region_1depth_name, a.region_2depth_name, a.region_3depth_name\n",
        "        , a.h_code, a.x, a.y\n",
        "    from `my_temp.marketing_myinfos` as a\n",
        "    left join (\n",
        "      select 'organic' as attribute_type, install_time, attribute_id, campaign\n",
        "      from `my_temp.organic_install`\n",
        "\n",
        "      union all \n",
        "\n",
        "      select 'non_organic' as attribute_type, install_time, attribute_id, campaign\n",
        "      from `my_temp.non_organic_install`\n",
        "    ) as b\n",
        "    on a.attribute_id = b.attribute_id and a.create_date = b.install_time\n",
        "  ),\n",
        "\n",
        "  daily_orders as (\n",
        "    select order_date, user_id, sum(payment_amount) as payment_amount\n",
        "    from `my_temp.daily_orders`\n",
        "    where order_date >= '2022-05-01'\n",
        "    group by order_date, user_id\n",
        "  ),\n",
        "\n",
        "  ltv_set as (\n",
        "    select 'D15' as ltv_period \n",
        "        , a.create_year_month, a.attribute_type\n",
        "        , count(distinct a.user_id) as user_cnt\n",
        "        , sum(d15.payment_amount) as sales\n",
        "        , round(sum(d15.payment_amount)/count(distinct a.user_id)) as ltv\n",
        "    from userinfo as a\n",
        "    left join daily_orders as d15\n",
        "    on a.user_id = d15.user_id and a.create_date <= d15.order_date and date_add(a.create_date, interval 14 day) >= d15.order_date \n",
        "    group by rollup(a.create_year_month, a.attribute_type)\n",
        "\n",
        "    union all\n",
        "\n",
        "    select 'D30' as ltv_period \n",
        "        , a.create_year_month, a.attribute_type\n",
        "        , count(distinct a.user_id) as user_cnt\n",
        "        , sum(d30.payment_amount) as sales\n",
        "        , round(sum(D30.payment_amount)/count(distinct a.user_id)) as ltv\n",
        "    from userinfo as a\n",
        "    left join daily_orders as d30\n",
        "    on a.user_id = d30.user_id and a.create_date <= d30.order_date and date_add(a.create_date, interval 29 day) >= d30.order_date \n",
        "    group by rollup(a.create_year_month, a.attribute_type)\n",
        "\n",
        "    union all\n",
        "\n",
        "    select 'D45' as ltv_period \n",
        "        , a.create_year_month, a.attribute_type\n",
        "        , count(distinct a.user_id) as user_cnt\n",
        "        , sum(d45.payment_amount) as sales\n",
        "        , round(sum(D45.payment_amount)/count(distinct a.user_id)) as ltv\n",
        "    from userinfo as a\n",
        "    left join daily_orders as d45\n",
        "    on a.user_id = d45.user_id and a.create_date <= d45.order_date and date_add(a.create_date, interval 44 day) >= d45.order_date \n",
        "    group by rollup(a.create_year_month, a.attribute_type)\n",
        "\n",
        "    union all\n",
        "\n",
        "    select 'D60' as ltv_period \n",
        "        , a.create_year_month, a.attribute_type\n",
        "        , count(distinct a.user_id) as user_cnt\n",
        "        , sum(d60.payment_amount) as sales\n",
        "        , round(sum(D60.payment_amount)/count(distinct a.user_id)) as ltv\n",
        "    from userinfo as a\n",
        "    left join daily_orders as d60\n",
        "    on a.user_id = d60.user_id and a.create_date <= d60.order_date and date_add(a.create_date, interval 59 day) >= d60.order_date \n",
        "    group by rollup(a.create_year_month, a.attribute_type)\n",
        "\n",
        "    union all\n",
        "\n",
        "    select 'D75' as ltv_period \n",
        "        , a.create_year_month, a.attribute_type\n",
        "        , count(distinct a.user_id) as user_cnt\n",
        "        , sum(d75.payment_amount) as sales\n",
        "        , round(sum(D75.payment_amount)/count(distinct a.user_id)) as ltv\n",
        "    from userinfo as a\n",
        "    left join daily_orders as d75\n",
        "    on a.user_id = d75.user_id and a.create_date <= d75.order_date and date_add(a.create_date, interval 74 day) >= d75.order_date \n",
        "    group by rollup(a.create_year_month, a.attribute_type)\n",
        "\n",
        "    union all\n",
        "\n",
        "    select 'D90' as ltv_period \n",
        "        , a.create_year_month, a.attribute_type\n",
        "        , count(distinct a.user_id) as user_cnt\n",
        "        , sum(d90.payment_amount) as sales   \n",
        "        , round(sum(D90.payment_amount)/count(distinct a.user_id)) as ltv\n",
        "    from userinfo as a\n",
        "    left join daily_orders as d90\n",
        "    on a.user_id = d90.user_id and a.create_date <= d90.order_date and date_add(a.create_date, interval 89 day) >= d90.order_date \n",
        "    group by rollup(a.create_year_month, a.attribute_type)\n",
        "  )\n",
        "\n",
        "  select ltv_period, create_year_month\n",
        "      , case when attribute_type is null then 'all' else attribute_type end as attribute_type\n",
        "      , user_cnt, sales, ltv \n",
        "  from ltv_set\n",
        "  where create_year_month is not null\n",
        "  order by create_year_month, attribute_type, ltv_period \n",
        "\"\"\")\n",
        "\n",
        "ltvDf = query_job.to_dataframe()\n"
      ],
      "metadata": {
        "id": "rQ73xmx8y1uI"
      },
      "execution_count": null,
      "outputs": []
    },
    {
      "cell_type": "code",
      "source": [
        "## << 데이터프레임 생성 - 유저그룹(all/organic/non_organic), 월간 가입유저수, SALES, LTV  >> - 추적기간이 차지 않은 그룹은 sales, ltv에 null값 할당\n",
        "\n",
        "query_job = client.query(\"\"\"\n",
        "  with userinfo as (\n",
        "    select b.attribute_type, b.campaign\n",
        "        , b.install_time, a.create_date, a.create_year_month\n",
        "        , a.attribute_id, a.user_id, a.nickname, a.account_type, a.platform\n",
        "        , a.region_1depth_name, a.region_2depth_name, a.region_3depth_name\n",
        "        , a.h_code, a.x, a.y\n",
        "    from `my_temp.marketing_myinfos` as a\n",
        "    left join (\n",
        "      select 'organic' as attribute_type, install_time, attribute_id, campaign\n",
        "      from `my_temp.organic_install`\n",
        "\n",
        "      union all \n",
        "\n",
        "      select 'non_organic' as attribute_type, install_time, attribute_id, campaign\n",
        "      from `my_temp.non_organic_install`\n",
        "    ) as b\n",
        "    on a.attribute_id = b.attribute_id and a.create_date = b.install_time\n",
        "  ),\n",
        "\n",
        "  daily_orders as (\n",
        "    select order_date, user_id, sum(payment_amount) as payment_amount\n",
        "    from `my_temp.daily_orders`\n",
        "    where order_date >= '2022-05-01'\n",
        "    group by order_date, user_id\n",
        "  ),\n",
        "\n",
        "  ltv_set as (\n",
        "    select 'D15' as ltv_period, a.user_id   \n",
        "        , a.create_year_month, a.attribute_type\n",
        "        , case when date_diff(DATE '2022-11-30', a.create_date, DAY) < 14 then 0 else d15.payment_amount end as payment_amount\n",
        "    from userinfo as a\n",
        "    left join daily_orders as d15\n",
        "    on a.user_id = d15.user_id and a.create_date <= d15.order_date and date_add(a.create_date, interval 14 day) >= d15.order_date \n",
        "\n",
        "    union all\n",
        "\n",
        "    select 'D30' as ltv_period, a.user_id   \n",
        "        , a.create_year_month, a.attribute_type\n",
        "        , case when date_diff(DATE '2022-11-30', a.create_date, DAY) < 29 then 0 else d30.payment_amount end as payment_amount\n",
        "    from userinfo as a\n",
        "    left join daily_orders as d30\n",
        "    on a.user_id = d30.user_id and a.create_date <= d30.order_date and date_add(a.create_date, interval 29 day) >= d30.order_date \n",
        "\n",
        "    union all\n",
        "\n",
        "    select 'D45' as ltv_period, a.user_id  \n",
        "        , a.create_year_month, a.attribute_type\n",
        "        , case when date_diff(DATE '2022-11-30', a.create_date, DAY) < 44 then 0 else d45.payment_amount end as payment_amount\n",
        "    from userinfo as a\n",
        "    left join daily_orders as d45\n",
        "    on a.user_id = d45.user_id and a.create_date <= d45.order_date and date_add(a.create_date, interval 44 day) >= d45.order_date \n",
        "\n",
        "    union all\n",
        "\n",
        "    select 'D60' as ltv_period, a.user_id  \n",
        "        , a.create_year_month, a.attribute_type\n",
        "        , case when date_diff(DATE '2022-11-30', a.create_date, DAY) < 59 then 0 else d60.payment_amount end as payment_amount\n",
        "    from userinfo as a\n",
        "    left join daily_orders as d60\n",
        "    on a.user_id = d60.user_id and a.create_date <= d60.order_date and date_add(a.create_date, interval 59 day) >= d60.order_date \n",
        "\n",
        "    union all\n",
        "\n",
        "    select 'D75' as ltv_period, a.user_id \n",
        "        , a.create_year_month, a.attribute_type\n",
        "        , case when date_diff(DATE '2022-11-30', a.create_date, DAY) < 74 then 0 else d75.payment_amount end as payment_amount\n",
        "    from userinfo as a\n",
        "    left join daily_orders as d75\n",
        "    on a.user_id = d75.user_id and a.create_date <= d75.order_date and date_add(a.create_date, interval 74 day) >= d75.order_date \n",
        "\n",
        "    union all\n",
        "\n",
        "    select 'D90' as ltv_period, a.user_id\n",
        "        , a.create_year_month, a.attribute_type\n",
        "        , case when date_diff(DATE '2022-11-30', a.create_date, DAY) < 89 then 0 else d90.payment_amount end as payment_amount\n",
        "    from userinfo as a\n",
        "    left join daily_orders as d90\n",
        "    on a.user_id = d90.user_id and a.create_date <= d90.order_date and date_add(a.create_date, interval 89 day) >= d90.order_date \n",
        "\n",
        "  ),\n",
        "\n",
        "  agg_ltv_group as (\n",
        "    select ltv_period, create_year_month, attribute_type\n",
        "        , count(distinct user_id) as user_cnt\n",
        "        , sum(payment_amount) as sales\n",
        "        , round(sum(payment_amount)/count(distinct user_id)) as ltv \n",
        "        , count(distinct case when payment_amount = 0 then user_id end) as check_cnt\n",
        "    from ltv_set\n",
        "    group by rollup(ltv_period, create_year_month, attribute_type)\n",
        "  )\n",
        "\n",
        "  select ltv_period, create_year_month\n",
        "      , case when attribute_type is null then 'all' else attribute_type end as attribute_type\n",
        "      , user_cnt\n",
        "      , case when check_cnt = 0 then sales else null end as sales\n",
        "      , case when check_cnt = 0 then ltv else null end as ltv\n",
        "  from agg_ltv_group\n",
        "  where create_year_month is not null\n",
        "  order by ltv_period, create_year_month, attribute_type\n",
        "\"\"\")\n",
        "\n",
        "ltvDf = query_job.to_dataframe()"
      ],
      "metadata": {
        "id": "yfdpKyNE-_pS"
      },
      "execution_count": null,
      "outputs": []
    },
    {
      "cell_type": "code",
      "source": [
        "## < 시각화 - 월간 가입 유저 그룹별 LTV >\n",
        "allLtvDf = ltvDf[ltvDf['attribute_type'] == 'all']\n",
        "organicLtvDf = ltvDf[ltvDf['attribute_type'] == 'organic']\n",
        "nonOrganicvDf = ltvDf[ltvDf['attribute_type'] == 'non_organic']\n",
        "\n",
        "# 참고 : https://community.plotly.com/t/can-plotly-support-2-x-axis-and-2-y-axis-in-one-graph/38303/16\n",
        "\n",
        "import plotly.graph_objects as go\n",
        "from plotly.subplots import make_subplots\n",
        "\n",
        "fig = make_subplots(rows=3, cols=1)\n",
        "\n",
        "fig.add_trace(go.Bar(x = [allLtvDf['create_year_month'].tolist(), allLtvDf['ltv_period'].tolist()], y= allLtvDf['ltv'].tolist(), name = \"all\"), row=1, col=1)  #name=“yaxis1 data”, yaxis=“y2”), row=1, col=2)\n",
        "fig.add_trace(go.Bar(x = [organicLtvDf['create_year_month'].tolist(), organicLtvDf['ltv_period'].tolist()], y= organicLtvDf['ltv'].tolist(), name = \"organic\"), row=2, col=1)  #name=“yaxis1 data”, yaxis=“y2”), row=1, col=2)\n",
        "fig.add_trace(go.Bar(x = [nonOrganicvDf['create_year_month'].tolist(), nonOrganicvDf['ltv_period'].tolist()], y= nonOrganicvDf['ltv'].tolist(), name = \"non-organic\"), row=3, col=1)  #name=“yaxis1 data”, yaxis=“y2”), row=1, col=2)\n",
        "fig.show(renderer='colab')"
      ],
      "metadata": {
        "colab": {
          "base_uri": "https://localhost:8080/",
          "height": 542
        },
        "id": "btm-xwSVyjQ1",
        "outputId": "9affe7d1-27fa-42eb-a6aa-9e649b51fbf6"
      },
      "execution_count": null,
      "outputs": [
        {
          "output_type": "display_data",
          "data": {
            "text/html": [
              "<html>\n",
              "<head><meta charset=\"utf-8\" /></head>\n",
              "<body>\n",
              "    <div>            <script src=\"https://cdnjs.cloudflare.com/ajax/libs/mathjax/2.7.5/MathJax.js?config=TeX-AMS-MML_SVG\"></script><script type=\"text/javascript\">if (window.MathJax) {MathJax.Hub.Config({SVG: {font: \"STIX-Web\"}});}</script>                <script type=\"text/javascript\">window.PlotlyConfig = {MathJaxConfig: 'local'};</script>\n",
              "        <script src=\"https://cdn.plot.ly/plotly-2.8.3.min.js\"></script>                <div id=\"9bae729d-2045-430e-880f-8ab3bd29ce31\" class=\"plotly-graph-div\" style=\"height:525px; width:100%;\"></div>            <script type=\"text/javascript\">                                    window.PLOTLYENV=window.PLOTLYENV || {};                                    if (document.getElementById(\"9bae729d-2045-430e-880f-8ab3bd29ce31\")) {                    Plotly.newPlot(                        \"9bae729d-2045-430e-880f-8ab3bd29ce31\",                        [{\"name\":\"all\",\"x\":[[\"2022-05\",\"2022-05\",\"2022-05\",\"2022-05\",\"2022-05\",\"2022-05\",\"2022-06\",\"2022-06\",\"2022-06\",\"2022-06\",\"2022-06\",\"2022-06\",\"2022-07\",\"2022-07\",\"2022-07\",\"2022-07\",\"2022-07\",\"2022-07\",\"2022-08\",\"2022-08\",\"2022-08\",\"2022-08\",\"2022-08\",\"2022-08\",\"2022-09\",\"2022-09\",\"2022-09\",\"2022-09\",\"2022-09\",\"2022-09\",\"2022-10\",\"2022-10\",\"2022-10\",\"2022-10\",\"2022-10\",\"2022-10\",\"2022-11\",\"2022-11\",\"2022-11\",\"2022-11\",\"2022-11\",\"2022-11\"],[\"D15\",\"D30\",\"D45\",\"D60\",\"D75\",\"D90\",\"D15\",\"D30\",\"D45\",\"D60\",\"D75\",\"D90\",\"D15\",\"D30\",\"D45\",\"D60\",\"D75\",\"D90\",\"D15\",\"D30\",\"D45\",\"D60\",\"D75\",\"D90\",\"D15\",\"D30\",\"D45\",\"D60\",\"D75\",\"D90\",\"D15\",\"D30\",\"D45\",\"D60\",\"D75\",\"D90\",\"D15\",\"D30\",\"D45\",\"D60\",\"D75\",\"D90\"]],\"y\":[2885.0,5695.0,8129.0,11092.0,13743.0,16688.0,3050.0,5350.0,7295.0,9149.0,11217.0,12379.0,5025.0,8368.0,11009.0,12971.0,15017.0,17083.0,5647.0,8760.0,11220.0,14205.0,17355.0,20416.0,4499.0,7335.0,10005.0,12989.0,14616.0,15316.0,3665.0,5638.0,7549.0,8138.0,8174.0,8174.0,20816.0,26214.0,26214.0,26214.0,26214.0,26214.0],\"type\":\"bar\",\"xaxis\":\"x\",\"yaxis\":\"y\"},{\"name\":\"organic\",\"x\":[[\"2022-05\",\"2022-05\",\"2022-05\",\"2022-05\",\"2022-05\",\"2022-05\",\"2022-06\",\"2022-06\",\"2022-06\",\"2022-06\",\"2022-06\",\"2022-06\",\"2022-07\",\"2022-07\",\"2022-07\",\"2022-07\",\"2022-07\",\"2022-07\",\"2022-08\",\"2022-08\",\"2022-08\",\"2022-08\",\"2022-08\",\"2022-08\",\"2022-09\",\"2022-09\",\"2022-09\",\"2022-09\",\"2022-09\",\"2022-09\",\"2022-10\",\"2022-10\",\"2022-10\",\"2022-10\",\"2022-10\",\"2022-10\",\"2022-11\",\"2022-11\",\"2022-11\",\"2022-11\",\"2022-11\",\"2022-11\"],[\"D15\",\"D30\",\"D45\",\"D60\",\"D75\",\"D90\",\"D15\",\"D30\",\"D45\",\"D60\",\"D75\",\"D90\",\"D15\",\"D30\",\"D45\",\"D60\",\"D75\",\"D90\",\"D15\",\"D30\",\"D45\",\"D60\",\"D75\",\"D90\",\"D15\",\"D30\",\"D45\",\"D60\",\"D75\",\"D90\",\"D15\",\"D30\",\"D45\",\"D60\",\"D75\",\"D90\",\"D15\",\"D30\",\"D45\",\"D60\",\"D75\",\"D90\"]],\"y\":[3066.0,5102.0,7688.0,10562.0,13220.0,15530.0,2921.0,4834.0,6084.0,7408.0,9134.0,9918.0,4578.0,7642.0,10109.0,12005.0,13861.0,15992.0,5792.0,9298.0,11813.0,14665.0,18383.0,21432.0,4197.0,7261.0,10079.0,13310.0,14911.0,15393.0,3661.0,5320.0,6902.0,7230.0,7281.0,7281.0,20106.0,25683.0,25683.0,25683.0,25683.0,25683.0],\"type\":\"bar\",\"xaxis\":\"x2\",\"yaxis\":\"y2\"},{\"name\":\"non-organic\",\"x\":[[\"2022-05\",\"2022-05\",\"2022-05\",\"2022-05\",\"2022-05\",\"2022-05\",\"2022-06\",\"2022-06\",\"2022-06\",\"2022-06\",\"2022-06\",\"2022-06\",\"2022-07\",\"2022-07\",\"2022-07\",\"2022-07\",\"2022-07\",\"2022-07\",\"2022-08\",\"2022-08\",\"2022-08\",\"2022-08\",\"2022-08\",\"2022-08\",\"2022-09\",\"2022-09\",\"2022-09\",\"2022-09\",\"2022-09\",\"2022-09\",\"2022-10\",\"2022-10\",\"2022-10\",\"2022-10\",\"2022-10\",\"2022-10\",\"2022-11\",\"2022-11\",\"2022-11\",\"2022-11\",\"2022-11\",\"2022-11\"],[\"D15\",\"D30\",\"D45\",\"D60\",\"D75\",\"D90\",\"D15\",\"D30\",\"D45\",\"D60\",\"D75\",\"D90\",\"D15\",\"D30\",\"D45\",\"D60\",\"D75\",\"D90\",\"D15\",\"D30\",\"D45\",\"D60\",\"D75\",\"D90\",\"D15\",\"D30\",\"D45\",\"D60\",\"D75\",\"D90\",\"D15\",\"D30\",\"D45\",\"D60\",\"D75\",\"D90\",\"D15\",\"D30\",\"D45\",\"D60\",\"D75\",\"D90\"]],\"y\":[2582.0,6684.0,8865.0,11977.0,14616.0,18619.0,3241.0,6121.0,9102.0,11749.0,14326.0,16053.0,5995.0,9945.0,12963.0,15070.0,17530.0,19453.0,5311.0,7511.0,9844.0,13136.0,14970.0,18059.0,5259.0,7522.0,9816.0,12181.0,13872.0,15123.0,3674.0,6393.0,9087.0,10299.0,10299.0,10299.0,22505.0,27478.0,27478.0,27478.0,27478.0,27478.0],\"type\":\"bar\",\"xaxis\":\"x3\",\"yaxis\":\"y3\"}],                        {\"template\":{\"data\":{\"bar\":[{\"error_x\":{\"color\":\"#2a3f5f\"},\"error_y\":{\"color\":\"#2a3f5f\"},\"marker\":{\"line\":{\"color\":\"#E5ECF6\",\"width\":0.5},\"pattern\":{\"fillmode\":\"overlay\",\"size\":10,\"solidity\":0.2}},\"type\":\"bar\"}],\"barpolar\":[{\"marker\":{\"line\":{\"color\":\"#E5ECF6\",\"width\":0.5},\"pattern\":{\"fillmode\":\"overlay\",\"size\":10,\"solidity\":0.2}},\"type\":\"barpolar\"}],\"carpet\":[{\"aaxis\":{\"endlinecolor\":\"#2a3f5f\",\"gridcolor\":\"white\",\"linecolor\":\"white\",\"minorgridcolor\":\"white\",\"startlinecolor\":\"#2a3f5f\"},\"baxis\":{\"endlinecolor\":\"#2a3f5f\",\"gridcolor\":\"white\",\"linecolor\":\"white\",\"minorgridcolor\":\"white\",\"startlinecolor\":\"#2a3f5f\"},\"type\":\"carpet\"}],\"choropleth\":[{\"colorbar\":{\"outlinewidth\":0,\"ticks\":\"\"},\"type\":\"choropleth\"}],\"contour\":[{\"colorbar\":{\"outlinewidth\":0,\"ticks\":\"\"},\"colorscale\":[[0.0,\"#0d0887\"],[0.1111111111111111,\"#46039f\"],[0.2222222222222222,\"#7201a8\"],[0.3333333333333333,\"#9c179e\"],[0.4444444444444444,\"#bd3786\"],[0.5555555555555556,\"#d8576b\"],[0.6666666666666666,\"#ed7953\"],[0.7777777777777778,\"#fb9f3a\"],[0.8888888888888888,\"#fdca26\"],[1.0,\"#f0f921\"]],\"type\":\"contour\"}],\"contourcarpet\":[{\"colorbar\":{\"outlinewidth\":0,\"ticks\":\"\"},\"type\":\"contourcarpet\"}],\"heatmap\":[{\"colorbar\":{\"outlinewidth\":0,\"ticks\":\"\"},\"colorscale\":[[0.0,\"#0d0887\"],[0.1111111111111111,\"#46039f\"],[0.2222222222222222,\"#7201a8\"],[0.3333333333333333,\"#9c179e\"],[0.4444444444444444,\"#bd3786\"],[0.5555555555555556,\"#d8576b\"],[0.6666666666666666,\"#ed7953\"],[0.7777777777777778,\"#fb9f3a\"],[0.8888888888888888,\"#fdca26\"],[1.0,\"#f0f921\"]],\"type\":\"heatmap\"}],\"heatmapgl\":[{\"colorbar\":{\"outlinewidth\":0,\"ticks\":\"\"},\"colorscale\":[[0.0,\"#0d0887\"],[0.1111111111111111,\"#46039f\"],[0.2222222222222222,\"#7201a8\"],[0.3333333333333333,\"#9c179e\"],[0.4444444444444444,\"#bd3786\"],[0.5555555555555556,\"#d8576b\"],[0.6666666666666666,\"#ed7953\"],[0.7777777777777778,\"#fb9f3a\"],[0.8888888888888888,\"#fdca26\"],[1.0,\"#f0f921\"]],\"type\":\"heatmapgl\"}],\"histogram\":[{\"marker\":{\"pattern\":{\"fillmode\":\"overlay\",\"size\":10,\"solidity\":0.2}},\"type\":\"histogram\"}],\"histogram2d\":[{\"colorbar\":{\"outlinewidth\":0,\"ticks\":\"\"},\"colorscale\":[[0.0,\"#0d0887\"],[0.1111111111111111,\"#46039f\"],[0.2222222222222222,\"#7201a8\"],[0.3333333333333333,\"#9c179e\"],[0.4444444444444444,\"#bd3786\"],[0.5555555555555556,\"#d8576b\"],[0.6666666666666666,\"#ed7953\"],[0.7777777777777778,\"#fb9f3a\"],[0.8888888888888888,\"#fdca26\"],[1.0,\"#f0f921\"]],\"type\":\"histogram2d\"}],\"histogram2dcontour\":[{\"colorbar\":{\"outlinewidth\":0,\"ticks\":\"\"},\"colorscale\":[[0.0,\"#0d0887\"],[0.1111111111111111,\"#46039f\"],[0.2222222222222222,\"#7201a8\"],[0.3333333333333333,\"#9c179e\"],[0.4444444444444444,\"#bd3786\"],[0.5555555555555556,\"#d8576b\"],[0.6666666666666666,\"#ed7953\"],[0.7777777777777778,\"#fb9f3a\"],[0.8888888888888888,\"#fdca26\"],[1.0,\"#f0f921\"]],\"type\":\"histogram2dcontour\"}],\"mesh3d\":[{\"colorbar\":{\"outlinewidth\":0,\"ticks\":\"\"},\"type\":\"mesh3d\"}],\"parcoords\":[{\"line\":{\"colorbar\":{\"outlinewidth\":0,\"ticks\":\"\"}},\"type\":\"parcoords\"}],\"pie\":[{\"automargin\":true,\"type\":\"pie\"}],\"scatter\":[{\"marker\":{\"colorbar\":{\"outlinewidth\":0,\"ticks\":\"\"}},\"type\":\"scatter\"}],\"scatter3d\":[{\"line\":{\"colorbar\":{\"outlinewidth\":0,\"ticks\":\"\"}},\"marker\":{\"colorbar\":{\"outlinewidth\":0,\"ticks\":\"\"}},\"type\":\"scatter3d\"}],\"scattercarpet\":[{\"marker\":{\"colorbar\":{\"outlinewidth\":0,\"ticks\":\"\"}},\"type\":\"scattercarpet\"}],\"scattergeo\":[{\"marker\":{\"colorbar\":{\"outlinewidth\":0,\"ticks\":\"\"}},\"type\":\"scattergeo\"}],\"scattergl\":[{\"marker\":{\"colorbar\":{\"outlinewidth\":0,\"ticks\":\"\"}},\"type\":\"scattergl\"}],\"scattermapbox\":[{\"marker\":{\"colorbar\":{\"outlinewidth\":0,\"ticks\":\"\"}},\"type\":\"scattermapbox\"}],\"scatterpolar\":[{\"marker\":{\"colorbar\":{\"outlinewidth\":0,\"ticks\":\"\"}},\"type\":\"scatterpolar\"}],\"scatterpolargl\":[{\"marker\":{\"colorbar\":{\"outlinewidth\":0,\"ticks\":\"\"}},\"type\":\"scatterpolargl\"}],\"scatterternary\":[{\"marker\":{\"colorbar\":{\"outlinewidth\":0,\"ticks\":\"\"}},\"type\":\"scatterternary\"}],\"surface\":[{\"colorbar\":{\"outlinewidth\":0,\"ticks\":\"\"},\"colorscale\":[[0.0,\"#0d0887\"],[0.1111111111111111,\"#46039f\"],[0.2222222222222222,\"#7201a8\"],[0.3333333333333333,\"#9c179e\"],[0.4444444444444444,\"#bd3786\"],[0.5555555555555556,\"#d8576b\"],[0.6666666666666666,\"#ed7953\"],[0.7777777777777778,\"#fb9f3a\"],[0.8888888888888888,\"#fdca26\"],[1.0,\"#f0f921\"]],\"type\":\"surface\"}],\"table\":[{\"cells\":{\"fill\":{\"color\":\"#EBF0F8\"},\"line\":{\"color\":\"white\"}},\"header\":{\"fill\":{\"color\":\"#C8D4E3\"},\"line\":{\"color\":\"white\"}},\"type\":\"table\"}]},\"layout\":{\"annotationdefaults\":{\"arrowcolor\":\"#2a3f5f\",\"arrowhead\":0,\"arrowwidth\":1},\"autotypenumbers\":\"strict\",\"coloraxis\":{\"colorbar\":{\"outlinewidth\":0,\"ticks\":\"\"}},\"colorscale\":{\"diverging\":[[0,\"#8e0152\"],[0.1,\"#c51b7d\"],[0.2,\"#de77ae\"],[0.3,\"#f1b6da\"],[0.4,\"#fde0ef\"],[0.5,\"#f7f7f7\"],[0.6,\"#e6f5d0\"],[0.7,\"#b8e186\"],[0.8,\"#7fbc41\"],[0.9,\"#4d9221\"],[1,\"#276419\"]],\"sequential\":[[0.0,\"#0d0887\"],[0.1111111111111111,\"#46039f\"],[0.2222222222222222,\"#7201a8\"],[0.3333333333333333,\"#9c179e\"],[0.4444444444444444,\"#bd3786\"],[0.5555555555555556,\"#d8576b\"],[0.6666666666666666,\"#ed7953\"],[0.7777777777777778,\"#fb9f3a\"],[0.8888888888888888,\"#fdca26\"],[1.0,\"#f0f921\"]],\"sequentialminus\":[[0.0,\"#0d0887\"],[0.1111111111111111,\"#46039f\"],[0.2222222222222222,\"#7201a8\"],[0.3333333333333333,\"#9c179e\"],[0.4444444444444444,\"#bd3786\"],[0.5555555555555556,\"#d8576b\"],[0.6666666666666666,\"#ed7953\"],[0.7777777777777778,\"#fb9f3a\"],[0.8888888888888888,\"#fdca26\"],[1.0,\"#f0f921\"]]},\"colorway\":[\"#636efa\",\"#EF553B\",\"#00cc96\",\"#ab63fa\",\"#FFA15A\",\"#19d3f3\",\"#FF6692\",\"#B6E880\",\"#FF97FF\",\"#FECB52\"],\"font\":{\"color\":\"#2a3f5f\"},\"geo\":{\"bgcolor\":\"white\",\"lakecolor\":\"white\",\"landcolor\":\"#E5ECF6\",\"showlakes\":true,\"showland\":true,\"subunitcolor\":\"white\"},\"hoverlabel\":{\"align\":\"left\"},\"hovermode\":\"closest\",\"mapbox\":{\"style\":\"light\"},\"paper_bgcolor\":\"white\",\"plot_bgcolor\":\"#E5ECF6\",\"polar\":{\"angularaxis\":{\"gridcolor\":\"white\",\"linecolor\":\"white\",\"ticks\":\"\"},\"bgcolor\":\"#E5ECF6\",\"radialaxis\":{\"gridcolor\":\"white\",\"linecolor\":\"white\",\"ticks\":\"\"}},\"scene\":{\"xaxis\":{\"backgroundcolor\":\"#E5ECF6\",\"gridcolor\":\"white\",\"gridwidth\":2,\"linecolor\":\"white\",\"showbackground\":true,\"ticks\":\"\",\"zerolinecolor\":\"white\"},\"yaxis\":{\"backgroundcolor\":\"#E5ECF6\",\"gridcolor\":\"white\",\"gridwidth\":2,\"linecolor\":\"white\",\"showbackground\":true,\"ticks\":\"\",\"zerolinecolor\":\"white\"},\"zaxis\":{\"backgroundcolor\":\"#E5ECF6\",\"gridcolor\":\"white\",\"gridwidth\":2,\"linecolor\":\"white\",\"showbackground\":true,\"ticks\":\"\",\"zerolinecolor\":\"white\"}},\"shapedefaults\":{\"line\":{\"color\":\"#2a3f5f\"}},\"ternary\":{\"aaxis\":{\"gridcolor\":\"white\",\"linecolor\":\"white\",\"ticks\":\"\"},\"baxis\":{\"gridcolor\":\"white\",\"linecolor\":\"white\",\"ticks\":\"\"},\"bgcolor\":\"#E5ECF6\",\"caxis\":{\"gridcolor\":\"white\",\"linecolor\":\"white\",\"ticks\":\"\"}},\"title\":{\"x\":0.05},\"xaxis\":{\"automargin\":true,\"gridcolor\":\"white\",\"linecolor\":\"white\",\"ticks\":\"\",\"title\":{\"standoff\":15},\"zerolinecolor\":\"white\",\"zerolinewidth\":2},\"yaxis\":{\"automargin\":true,\"gridcolor\":\"white\",\"linecolor\":\"white\",\"ticks\":\"\",\"title\":{\"standoff\":15},\"zerolinecolor\":\"white\",\"zerolinewidth\":2}}},\"xaxis\":{\"anchor\":\"y\",\"domain\":[0.0,1.0]},\"yaxis\":{\"anchor\":\"x\",\"domain\":[0.7333333333333333,1.0]},\"xaxis2\":{\"anchor\":\"y2\",\"domain\":[0.0,1.0]},\"yaxis2\":{\"anchor\":\"x2\",\"domain\":[0.36666666666666664,0.6333333333333333]},\"xaxis3\":{\"anchor\":\"y3\",\"domain\":[0.0,1.0]},\"yaxis3\":{\"anchor\":\"x3\",\"domain\":[0.0,0.26666666666666666]}},                        {\"responsive\": true}                    ).then(function(){\n",
              "                            \n",
              "var gd = document.getElementById('9bae729d-2045-430e-880f-8ab3bd29ce31');\n",
              "var x = new MutationObserver(function (mutations, observer) {{\n",
              "        var display = window.getComputedStyle(gd).display;\n",
              "        if (!display || display === 'none') {{\n",
              "            console.log([gd, 'removed!']);\n",
              "            Plotly.purge(gd);\n",
              "            observer.disconnect();\n",
              "        }}\n",
              "}});\n",
              "\n",
              "// Listen for the removal of the full notebook cells\n",
              "var notebookContainer = gd.closest('#notebook-container');\n",
              "if (notebookContainer) {{\n",
              "    x.observe(notebookContainer, {childList: true});\n",
              "}}\n",
              "\n",
              "// Listen for the clearing of the current output cell\n",
              "var outputEl = gd.closest('.output');\n",
              "if (outputEl) {{\n",
              "    x.observe(outputEl, {childList: true});\n",
              "}}\n",
              "\n",
              "                        })                };                            </script>        </div>\n",
              "</body>\n",
              "</html>"
            ]
          },
          "metadata": {}
        }
      ]
    },
    {
      "cell_type": "markdown",
      "source": [
        "## ROAS (Return on Ad Spend)"
      ],
      "metadata": {
        "id": "Cu7cU9pSy2Lh"
      }
    },
    {
      "cell_type": "markdown",
      "source": [
        "### 월간 모객유저 ROAS"
      ],
      "metadata": {
        "id": "QWyEQfZMy51s"
      }
    },
    {
      "cell_type": "code",
      "source": [
        "## << 데이터프레임 생성 - Attribute 타입별 월간 가입 유저 ROAS  >>\n",
        "\n",
        "query_job = client.query(\"\"\"\n",
        "  with userinfo as (\n",
        "    select b.attribute_type, b.campaign\n",
        "        , b.install_time, a.create_date, a.create_year_month\n",
        "        , a.attribute_id, a.user_id, a.nickname, a.account_type, a.platform\n",
        "        , a.region_1depth_name, a.region_2depth_name, a.region_3depth_name\n",
        "        , a.h_code, a.x, a.y\n",
        "    from `my_temp.marketing_myinfos` as a\n",
        "    left join (\n",
        "      select 'organic' as attribute_type, install_time, attribute_id, campaign\n",
        "      from `my_temp.organic_install`\n",
        "\n",
        "      union all \n",
        "\n",
        "      select 'non_organic' as attribute_type, install_time, attribute_id, campaign\n",
        "      from `my_temp.non_organic_install`\n",
        "    ) as b\n",
        "    on a.attribute_id = b.attribute_id and a.create_date = b.install_time\n",
        "  ),\n",
        "\n",
        "  daily_orders as (\n",
        "    select order_date, user_id, sum(payment_amount) as payment_amount\n",
        "    from `my_temp.daily_orders`\n",
        "    where order_date >= '2022-05-01'\n",
        "    group by order_date, user_id\n",
        "  ),\n",
        "\n",
        "  ltv_set as (\n",
        "    select 'D15' as ltv_period, a.user_id   \n",
        "        , a.create_year_month, a.attribute_type\n",
        "        , case when date_diff(DATE '2022-11-30', a.create_date, DAY) < 14 then 0 else d15.payment_amount end as payment_amount\n",
        "    from userinfo as a\n",
        "    left join daily_orders as d15\n",
        "    on a.user_id = d15.user_id and a.create_date <= d15.order_date and date_add(a.create_date, interval 14 day) >= d15.order_date \n",
        "\n",
        "    union all\n",
        "\n",
        "    select 'D30' as ltv_period, a.user_id   \n",
        "        , a.create_year_month, a.attribute_type\n",
        "        , case when date_diff(DATE '2022-11-30', a.create_date, DAY) < 29 then 0 else d30.payment_amount end as payment_amount\n",
        "    from userinfo as a\n",
        "    left join daily_orders as d30\n",
        "    on a.user_id = d30.user_id and a.create_date <= d30.order_date and date_add(a.create_date, interval 29 day) >= d30.order_date \n",
        "\n",
        "    union all\n",
        "\n",
        "    select 'D45' as ltv_period, a.user_id  \n",
        "        , a.create_year_month, a.attribute_type\n",
        "        , case when date_diff(DATE '2022-11-30', a.create_date, DAY) < 44 then 0 else d45.payment_amount end as payment_amount\n",
        "    from userinfo as a\n",
        "    left join daily_orders as d45\n",
        "    on a.user_id = d45.user_id and a.create_date <= d45.order_date and date_add(a.create_date, interval 44 day) >= d45.order_date \n",
        "\n",
        "    union all\n",
        "\n",
        "    select 'D60' as ltv_period, a.user_id  \n",
        "        , a.create_year_month, a.attribute_type\n",
        "        , case when date_diff(DATE '2022-11-30', a.create_date, DAY) < 59 then 0 else d60.payment_amount end as payment_amount\n",
        "    from userinfo as a\n",
        "    left join daily_orders as d60\n",
        "    on a.user_id = d60.user_id and a.create_date <= d60.order_date and date_add(a.create_date, interval 59 day) >= d60.order_date \n",
        "\n",
        "    union all\n",
        "\n",
        "    select 'D75' as ltv_period, a.user_id \n",
        "        , a.create_year_month, a.attribute_type\n",
        "        , case when date_diff(DATE '2022-11-30', a.create_date, DAY) < 74 then 0 else d75.payment_amount end as payment_amount\n",
        "    from userinfo as a\n",
        "    left join daily_orders as d75\n",
        "    on a.user_id = d75.user_id and a.create_date <= d75.order_date and date_add(a.create_date, interval 74 day) >= d75.order_date \n",
        "\n",
        "    union all\n",
        "\n",
        "    select 'D90' as ltv_period, a.user_id\n",
        "        , a.create_year_month, a.attribute_type\n",
        "        , case when date_diff(DATE '2022-11-30', a.create_date, DAY) < 89 then 0 else d90.payment_amount end as payment_amount\n",
        "    from userinfo as a\n",
        "    left join daily_orders as d90\n",
        "    on a.user_id = d90.user_id and a.create_date <= d90.order_date and date_add(a.create_date, interval 89 day) >= d90.order_date \n",
        "\n",
        "  ),\n",
        "\n",
        "  agg_ltv_group as (\n",
        "    select ltv_period, create_year_month, attribute_type\n",
        "        , count(distinct user_id) as user_cnt\n",
        "        , sum(payment_amount) as sales\n",
        "        , round(sum(payment_amount)/count(distinct user_id)) as ltv \n",
        "        , count(distinct case when payment_amount = 0 then user_id end) as check_cnt\n",
        "    from ltv_set\n",
        "    group by rollup(ltv_period, create_year_month, attribute_type)\n",
        "  ),\n",
        "\n",
        "  agg_ltv_group_final as (\n",
        "    select ltv_period, create_year_month\n",
        "        , case when attribute_type is null then 'all' else attribute_type end as attribute_type\n",
        "        , user_cnt\n",
        "        , case when check_cnt = 0 then sales else null end as sales -- else 0 으로 하면, 시각화 할때 어떤 차이가 날까요?\n",
        "        , case when check_cnt = 0 then ltv else null end as ltv     -- else 0 으로 하면, 시각화 할때 어떤 차이가 날까요?\n",
        "    from agg_ltv_group\n",
        "    where create_year_month is not null\n",
        "      -- and attribute_type = 'non_organic'\n",
        "    order by ltv_period, create_year_month, attribute_type\n",
        "  ), \n",
        "\n",
        "  monthly_cost as (\n",
        "    select format_date('%Y-%m', aggregate_date) as aggregate_year_month, sum(cost) as cost\n",
        "    from `my_temp.daily_cost`\n",
        "    group by aggregate_year_month\n",
        "    order by aggregate_year_month\n",
        "  )\n",
        "\n",
        "  select a.ltv_period, a.create_year_month, a.attribute_type\n",
        "      , a.user_cnt, a.sales, a.ltv, b.cost\n",
        "      , round(a.sales/b.cost, 3) as roas \n",
        "  from agg_ltv_group_final as a\n",
        "  left join monthly_cost as b\n",
        "  on a.create_year_month = b.aggregate_year_month\n",
        "  order by create_year_month, attribute_type, ltv_period \n",
        "\"\"\")\n",
        "\n",
        "roasDf = query_job.to_dataframe()"
      ],
      "metadata": {
        "id": "nqBK87VPRAHb"
      },
      "execution_count": null,
      "outputs": []
    },
    {
      "cell_type": "code",
      "source": [
        "# 11월은 지표 추적기간이 다차지 않았으므로 데이터에서 제외 처리\n",
        "allRoasDf = roasDf[(roasDf['attribute_type'] == 'all') & (roasDf['create_year_month'] != '2022-11')] \n",
        "organicRoasDf = roasDf[(roasDf['attribute_type'] == 'organic') & (roasDf['create_year_month'] != '2022-11')]\n",
        "nonOrganicRoasDf = roasDf[(roasDf['attribute_type'] == 'non_organic') & (roasDf['create_year_month'] != '2022-11')]\n",
        "\n",
        "import plotly.graph_objects as go\n",
        "from plotly.subplots import make_subplots\n",
        "\n",
        "# 그리고자 하는 서브플랏 골격 설정 (3x1로 설정, y축 이중축 허용, 그래프간 간격 설정)\n",
        "fig = make_subplots(rows=3, cols=1, \n",
        "                    specs=[[{\"secondary_y\": True}], [{\"secondary_y\": True}], [{\"secondary_y\": True}]], \n",
        "                    vertical_spacing = 0.15)\n",
        "\n",
        "# fig에 go.Bar를 사용해서 LTV 막대그래프 그리기 \n",
        "fig.add_trace(go.Bar(x = [allRoasDf['create_year_month'].tolist(), allRoasDf['ltv_period'].tolist()], \n",
        "                     y= allRoasDf['ltv'].tolist(), name = \"LTV(all)\"), \n",
        "              secondary_y=False, \n",
        "              row=1, col=1)  \n",
        "fig.add_trace(go.Bar(x = [organicRoasDf['create_year_month'].tolist(), organicRoasDf['ltv_period'].tolist()], \n",
        "                     y= organicRoasDf['ltv'].tolist(), name = \"LTV(organic)\"), \n",
        "              secondary_y=False, \n",
        "              row=2, col=1) \n",
        "fig.add_trace(go.Bar(x = [nonOrganicRoasDf['create_year_month'].tolist(), nonOrganicRoasDf['ltv_period'].tolist()], \n",
        "                     y= nonOrganicRoasDf['ltv'].tolist(), name = \"LTV(non-organic)\"), \n",
        "              secondary_y=False, \n",
        "              row=3, col=1)\n",
        "\n",
        "# fig에 go.Scatter를 사용해서 ROAS 라인+마커 그래프 그리기\n",
        "fig.add_trace(\n",
        "    go.Scatter(\n",
        "        x = [allRoasDf['create_year_month'].tolist(), allRoasDf['ltv_period'].tolist()], \n",
        "        y = allRoasDf['roas'].tolist(), \n",
        "        name='ROAS(all)', \n",
        "        mode = 'lines+markers+text', \n",
        "        text = allRoasDf['roas'], \n",
        "        textposition = 'top center',\n",
        "        texttemplate = \"%{text:.0%}\", # %{변수:변수포맷}’의 형태로 사용.  https://github.com/d3/d3-format/tree/v1.4.5#d3-format\n",
        "    ),\n",
        "    secondary_y = True,\n",
        "    row=1, col=1\n",
        ")\n",
        "\n",
        "fig.add_trace(\n",
        "    go.Scatter(\n",
        "        x = [organicRoasDf['create_year_month'].tolist(), organicRoasDf['ltv_period'].tolist()], \n",
        "        y = organicRoasDf['roas'].tolist(), \n",
        "        name='ROAS(organic)', \n",
        "        mode = 'lines+markers+text', \n",
        "        text = organicRoasDf['roas'], \n",
        "        textposition = 'top center',\n",
        "        texttemplate = \"%{text:.0%}\",\n",
        "    ),\n",
        "    secondary_y = True,\n",
        "    row=2, col=1\n",
        ")\n",
        "\n",
        "fig.add_trace(\n",
        "    go.Scatter(\n",
        "        x = [nonOrganicRoasDf['create_year_month'].tolist(), nonOrganicRoasDf['ltv_period'].tolist()], \n",
        "        y = nonOrganicRoasDf['roas'].tolist(), \n",
        "        name='ROAS(non-organic)', \n",
        "        mode = 'lines+markers+text', \n",
        "        text = nonOrganicRoasDf['roas'], \n",
        "        textposition = 'top center',\n",
        "        texttemplate = \"%{text:.0%}\",\n",
        "    ),\n",
        "    secondary_y = True,\n",
        "    row=3, col=1\n",
        ")\n",
        "\n",
        "# 출력되는 그래프 레이아웃 상세 조정\n",
        "fig.update_layout(height = 900) # e.g.(height=600, width=600)\n",
        "fig.update_layout(\n",
        "    {\n",
        "        \"title\": {\n",
        "            \"text\": \"<b>< 월간 가입유저 LTV, ROAS ><b>\",\n",
        "            \"x\": 0.5, # An int or float in the interval [0, 1]\n",
        "            \"y\": 0.95, # An int or float in the interval [0, 1]\n",
        "            \"font\": {\n",
        "                \"size\": 13\n",
        "            }\n",
        "        },\n",
        "        \"yaxis1\": {\n",
        "            \"title\": \"LTV (원)\"\n",
        "        },\n",
        "        \"yaxis2\": { \n",
        "            \"title\": \"ROAS\",\n",
        "            \"tickformat\": '.0%',\n",
        "            \"range\": [0, 3],\n",
        "        },\n",
        "        \"yaxis3\": {\n",
        "            \"title\": \"LTV (원)\"\n",
        "        },\n",
        "        \"yaxis4\": { \n",
        "            \"title\": \"ROAS\",\n",
        "            \"tickformat\": '.0%',\n",
        "            \"range\": [0, 3],\n",
        "        },\n",
        "        \"yaxis5\": {\n",
        "            \"title\": \"LTV (원)\"\n",
        "        },\n",
        "        \"yaxis6\": { \n",
        "            \"title\": \"ROAS\",\n",
        "            \"tickformat\": '.0%',\n",
        "            \"range\": [0, 3],\n",
        "        },\n",
        "        \n",
        "    },    \n",
        ")\n",
        "\n",
        "# 각 서브플랏에서, 이중축으로 잡혀있는 ROAS 그리드 지우기 \n",
        "fig['layout']['yaxis2']['showgrid'] = False\n",
        "fig['layout']['yaxis4']['showgrid'] = False\n",
        "fig['layout']['yaxis6']['showgrid'] = False\n",
        "\n",
        "# 그래프 출력\n",
        "fig.show(renderer='colab')"
      ],
      "metadata": {
        "colab": {
          "base_uri": "https://localhost:8080/",
          "height": 917
        },
        "id": "360ArBxVdcfC",
        "outputId": "13a00807-577c-473c-a256-12fbcfe7816e"
      },
      "execution_count": null,
      "outputs": [
        {
          "output_type": "display_data",
          "data": {
            "text/html": [
              "<html>\n",
              "<head><meta charset=\"utf-8\" /></head>\n",
              "<body>\n",
              "    <div>            <script src=\"https://cdnjs.cloudflare.com/ajax/libs/mathjax/2.7.5/MathJax.js?config=TeX-AMS-MML_SVG\"></script><script type=\"text/javascript\">if (window.MathJax) {MathJax.Hub.Config({SVG: {font: \"STIX-Web\"}});}</script>                <script type=\"text/javascript\">window.PlotlyConfig = {MathJaxConfig: 'local'};</script>\n",
              "        <script src=\"https://cdn.plot.ly/plotly-2.8.3.min.js\"></script>                <div id=\"22c22c9f-4440-4b5b-bc3f-b68d3343db8c\" class=\"plotly-graph-div\" style=\"height:900px; width:100%;\"></div>            <script type=\"text/javascript\">                                    window.PLOTLYENV=window.PLOTLYENV || {};                                    if (document.getElementById(\"22c22c9f-4440-4b5b-bc3f-b68d3343db8c\")) {                    Plotly.newPlot(                        \"22c22c9f-4440-4b5b-bc3f-b68d3343db8c\",                        [{\"name\":\"LTV(all)\",\"x\":[[\"2022-05\",\"2022-05\",\"2022-05\",\"2022-05\",\"2022-05\",\"2022-05\",\"2022-06\",\"2022-06\",\"2022-06\",\"2022-06\",\"2022-06\",\"2022-06\",\"2022-07\",\"2022-07\",\"2022-07\",\"2022-07\",\"2022-07\",\"2022-07\",\"2022-08\",\"2022-08\",\"2022-08\",\"2022-08\",\"2022-08\",\"2022-08\",\"2022-09\",\"2022-09\",\"2022-09\",\"2022-09\",\"2022-09\",\"2022-09\",\"2022-10\",\"2022-10\",\"2022-10\",\"2022-10\",\"2022-10\",\"2022-10\"],[\"D15\",\"D30\",\"D45\",\"D60\",\"D75\",\"D90\",\"D15\",\"D30\",\"D45\",\"D60\",\"D75\",\"D90\",\"D15\",\"D30\",\"D45\",\"D60\",\"D75\",\"D90\",\"D15\",\"D30\",\"D45\",\"D60\",\"D75\",\"D90\",\"D15\",\"D30\",\"D45\",\"D60\",\"D75\",\"D90\",\"D15\",\"D30\",\"D45\",\"D60\",\"D75\",\"D90\"]],\"y\":[2885.0,5695.0,8129.0,11092.0,13743.0,16688.0,3050.0,5350.0,7295.0,9149.0,11217.0,12379.0,5025.0,8368.0,11009.0,12971.0,15017.0,17083.0,5647.0,8760.0,11220.0,14205.0,17355.0,20416.0,4499.0,7335.0,10005.0,12989.0,null,null,3665.0,5638.0,null,null,null,null],\"type\":\"bar\",\"xaxis\":\"x\",\"yaxis\":\"y\"},{\"name\":\"LTV(organic)\",\"x\":[[\"2022-05\",\"2022-05\",\"2022-05\",\"2022-05\",\"2022-05\",\"2022-05\",\"2022-06\",\"2022-06\",\"2022-06\",\"2022-06\",\"2022-06\",\"2022-06\",\"2022-07\",\"2022-07\",\"2022-07\",\"2022-07\",\"2022-07\",\"2022-07\",\"2022-08\",\"2022-08\",\"2022-08\",\"2022-08\",\"2022-08\",\"2022-08\",\"2022-09\",\"2022-09\",\"2022-09\",\"2022-09\",\"2022-09\",\"2022-09\",\"2022-10\",\"2022-10\",\"2022-10\",\"2022-10\",\"2022-10\",\"2022-10\"],[\"D15\",\"D30\",\"D45\",\"D60\",\"D75\",\"D90\",\"D15\",\"D30\",\"D45\",\"D60\",\"D75\",\"D90\",\"D15\",\"D30\",\"D45\",\"D60\",\"D75\",\"D90\",\"D15\",\"D30\",\"D45\",\"D60\",\"D75\",\"D90\",\"D15\",\"D30\",\"D45\",\"D60\",\"D75\",\"D90\",\"D15\",\"D30\",\"D45\",\"D60\",\"D75\",\"D90\"]],\"y\":[3066.0,5102.0,7688.0,10562.0,13220.0,15530.0,2921.0,4834.0,6084.0,7408.0,9134.0,9918.0,4578.0,7642.0,10109.0,12005.0,13861.0,15992.0,5792.0,9298.0,11813.0,14665.0,18383.0,21432.0,4197.0,7261.0,10079.0,13310.0,null,null,3661.0,5320.0,null,null,null,null],\"type\":\"bar\",\"xaxis\":\"x2\",\"yaxis\":\"y3\"},{\"name\":\"LTV(non-organic)\",\"x\":[[\"2022-05\",\"2022-05\",\"2022-05\",\"2022-05\",\"2022-05\",\"2022-05\",\"2022-06\",\"2022-06\",\"2022-06\",\"2022-06\",\"2022-06\",\"2022-06\",\"2022-07\",\"2022-07\",\"2022-07\",\"2022-07\",\"2022-07\",\"2022-07\",\"2022-08\",\"2022-08\",\"2022-08\",\"2022-08\",\"2022-08\",\"2022-08\",\"2022-09\",\"2022-09\",\"2022-09\",\"2022-09\",\"2022-09\",\"2022-09\",\"2022-10\",\"2022-10\",\"2022-10\",\"2022-10\",\"2022-10\",\"2022-10\"],[\"D15\",\"D30\",\"D45\",\"D60\",\"D75\",\"D90\",\"D15\",\"D30\",\"D45\",\"D60\",\"D75\",\"D90\",\"D15\",\"D30\",\"D45\",\"D60\",\"D75\",\"D90\",\"D15\",\"D30\",\"D45\",\"D60\",\"D75\",\"D90\",\"D15\",\"D30\",\"D45\",\"D60\",\"D75\",\"D90\",\"D15\",\"D30\",\"D45\",\"D60\",\"D75\",\"D90\"]],\"y\":[2582.0,6684.0,8865.0,11977.0,14616.0,18619.0,3241.0,6121.0,9102.0,11749.0,14326.0,16053.0,5995.0,9945.0,12963.0,15070.0,17530.0,19453.0,5311.0,7511.0,9844.0,13136.0,14970.0,18059.0,5259.0,7522.0,9816.0,12181.0,null,null,3674.0,6393.0,null,null,null,null],\"type\":\"bar\",\"xaxis\":\"x3\",\"yaxis\":\"y5\"},{\"mode\":\"lines+markers+text\",\"name\":\"ROAS(all)\",\"text\":[0.304,0.601,0.858,1.171,1.451,1.761,0.301,0.528,0.72,0.903,1.107,1.222,0.339,0.564,0.742,0.874,1.012,1.151,0.405,0.628,0.804,1.018,1.243,1.463,0.348,0.567,0.773,1.003,null,null,0.281,0.433,null,null,null,null],\"textposition\":\"top center\",\"texttemplate\":\"%{text:.0%}\",\"x\":[[\"2022-05\",\"2022-05\",\"2022-05\",\"2022-05\",\"2022-05\",\"2022-05\",\"2022-06\",\"2022-06\",\"2022-06\",\"2022-06\",\"2022-06\",\"2022-06\",\"2022-07\",\"2022-07\",\"2022-07\",\"2022-07\",\"2022-07\",\"2022-07\",\"2022-08\",\"2022-08\",\"2022-08\",\"2022-08\",\"2022-08\",\"2022-08\",\"2022-09\",\"2022-09\",\"2022-09\",\"2022-09\",\"2022-09\",\"2022-09\",\"2022-10\",\"2022-10\",\"2022-10\",\"2022-10\",\"2022-10\",\"2022-10\"],[\"D15\",\"D30\",\"D45\",\"D60\",\"D75\",\"D90\",\"D15\",\"D30\",\"D45\",\"D60\",\"D75\",\"D90\",\"D15\",\"D30\",\"D45\",\"D60\",\"D75\",\"D90\",\"D15\",\"D30\",\"D45\",\"D60\",\"D75\",\"D90\",\"D15\",\"D30\",\"D45\",\"D60\",\"D75\",\"D90\",\"D15\",\"D30\",\"D45\",\"D60\",\"D75\",\"D90\"]],\"y\":[0.304,0.601,0.858,1.171,1.451,1.761,0.301,0.528,0.72,0.903,1.107,1.222,0.339,0.564,0.742,0.874,1.012,1.151,0.405,0.628,0.804,1.018,1.243,1.463,0.348,0.567,0.773,1.003,null,null,0.281,0.433,null,null,null,null],\"type\":\"scatter\",\"xaxis\":\"x\",\"yaxis\":\"y2\"},{\"mode\":\"lines+markers+text\",\"name\":\"ROAS(organic)\",\"text\":[0.202,0.337,0.507,0.697,0.872,1.024,0.173,0.286,0.36,0.438,0.54,0.586,0.211,0.353,0.467,0.554,0.64,0.738,0.29,0.466,0.591,0.734,0.92,1.073,0.232,0.401,0.557,0.736,null,null,0.198,0.287,null,null,null,null],\"textposition\":\"top center\",\"texttemplate\":\"%{text:.0%}\",\"x\":[[\"2022-05\",\"2022-05\",\"2022-05\",\"2022-05\",\"2022-05\",\"2022-05\",\"2022-06\",\"2022-06\",\"2022-06\",\"2022-06\",\"2022-06\",\"2022-06\",\"2022-07\",\"2022-07\",\"2022-07\",\"2022-07\",\"2022-07\",\"2022-07\",\"2022-08\",\"2022-08\",\"2022-08\",\"2022-08\",\"2022-08\",\"2022-08\",\"2022-09\",\"2022-09\",\"2022-09\",\"2022-09\",\"2022-09\",\"2022-09\",\"2022-10\",\"2022-10\",\"2022-10\",\"2022-10\",\"2022-10\",\"2022-10\"],[\"D15\",\"D30\",\"D45\",\"D60\",\"D75\",\"D90\",\"D15\",\"D30\",\"D45\",\"D60\",\"D75\",\"D90\",\"D15\",\"D30\",\"D45\",\"D60\",\"D75\",\"D90\",\"D15\",\"D30\",\"D45\",\"D60\",\"D75\",\"D90\",\"D15\",\"D30\",\"D45\",\"D60\",\"D75\",\"D90\",\"D15\",\"D30\",\"D45\",\"D60\",\"D75\",\"D90\"]],\"y\":[0.202,0.337,0.507,0.697,0.872,1.024,0.173,0.286,0.36,0.438,0.54,0.586,0.211,0.353,0.467,0.554,0.64,0.738,0.29,0.466,0.591,0.734,0.92,1.073,0.232,0.401,0.557,0.736,null,null,0.198,0.287,null,null,null,null],\"type\":\"scatter\",\"xaxis\":\"x2\",\"yaxis\":\"y4\"},{\"mode\":\"lines+markers+text\",\"name\":\"ROAS(non-organic)\",\"text\":[0.102,0.265,0.351,0.474,0.578,0.737,0.128,0.242,0.36,0.465,0.567,0.635,0.127,0.211,0.275,0.32,0.372,0.413,0.115,0.162,0.212,0.283,0.323,0.39,0.116,0.165,0.216,0.268,null,null,0.083,0.145,null,null,null,null],\"textposition\":\"top center\",\"texttemplate\":\"%{text:.0%}\",\"x\":[[\"2022-05\",\"2022-05\",\"2022-05\",\"2022-05\",\"2022-05\",\"2022-05\",\"2022-06\",\"2022-06\",\"2022-06\",\"2022-06\",\"2022-06\",\"2022-06\",\"2022-07\",\"2022-07\",\"2022-07\",\"2022-07\",\"2022-07\",\"2022-07\",\"2022-08\",\"2022-08\",\"2022-08\",\"2022-08\",\"2022-08\",\"2022-08\",\"2022-09\",\"2022-09\",\"2022-09\",\"2022-09\",\"2022-09\",\"2022-09\",\"2022-10\",\"2022-10\",\"2022-10\",\"2022-10\",\"2022-10\",\"2022-10\"],[\"D15\",\"D30\",\"D45\",\"D60\",\"D75\",\"D90\",\"D15\",\"D30\",\"D45\",\"D60\",\"D75\",\"D90\",\"D15\",\"D30\",\"D45\",\"D60\",\"D75\",\"D90\",\"D15\",\"D30\",\"D45\",\"D60\",\"D75\",\"D90\",\"D15\",\"D30\",\"D45\",\"D60\",\"D75\",\"D90\",\"D15\",\"D30\",\"D45\",\"D60\",\"D75\",\"D90\"]],\"y\":[0.102,0.265,0.351,0.474,0.578,0.737,0.128,0.242,0.36,0.465,0.567,0.635,0.127,0.211,0.275,0.32,0.372,0.413,0.115,0.162,0.212,0.283,0.323,0.39,0.116,0.165,0.216,0.268,null,null,0.083,0.145,null,null,null,null],\"type\":\"scatter\",\"xaxis\":\"x3\",\"yaxis\":\"y6\"}],                        {\"template\":{\"data\":{\"bar\":[{\"error_x\":{\"color\":\"#2a3f5f\"},\"error_y\":{\"color\":\"#2a3f5f\"},\"marker\":{\"line\":{\"color\":\"#E5ECF6\",\"width\":0.5},\"pattern\":{\"fillmode\":\"overlay\",\"size\":10,\"solidity\":0.2}},\"type\":\"bar\"}],\"barpolar\":[{\"marker\":{\"line\":{\"color\":\"#E5ECF6\",\"width\":0.5},\"pattern\":{\"fillmode\":\"overlay\",\"size\":10,\"solidity\":0.2}},\"type\":\"barpolar\"}],\"carpet\":[{\"aaxis\":{\"endlinecolor\":\"#2a3f5f\",\"gridcolor\":\"white\",\"linecolor\":\"white\",\"minorgridcolor\":\"white\",\"startlinecolor\":\"#2a3f5f\"},\"baxis\":{\"endlinecolor\":\"#2a3f5f\",\"gridcolor\":\"white\",\"linecolor\":\"white\",\"minorgridcolor\":\"white\",\"startlinecolor\":\"#2a3f5f\"},\"type\":\"carpet\"}],\"choropleth\":[{\"colorbar\":{\"outlinewidth\":0,\"ticks\":\"\"},\"type\":\"choropleth\"}],\"contour\":[{\"colorbar\":{\"outlinewidth\":0,\"ticks\":\"\"},\"colorscale\":[[0.0,\"#0d0887\"],[0.1111111111111111,\"#46039f\"],[0.2222222222222222,\"#7201a8\"],[0.3333333333333333,\"#9c179e\"],[0.4444444444444444,\"#bd3786\"],[0.5555555555555556,\"#d8576b\"],[0.6666666666666666,\"#ed7953\"],[0.7777777777777778,\"#fb9f3a\"],[0.8888888888888888,\"#fdca26\"],[1.0,\"#f0f921\"]],\"type\":\"contour\"}],\"contourcarpet\":[{\"colorbar\":{\"outlinewidth\":0,\"ticks\":\"\"},\"type\":\"contourcarpet\"}],\"heatmap\":[{\"colorbar\":{\"outlinewidth\":0,\"ticks\":\"\"},\"colorscale\":[[0.0,\"#0d0887\"],[0.1111111111111111,\"#46039f\"],[0.2222222222222222,\"#7201a8\"],[0.3333333333333333,\"#9c179e\"],[0.4444444444444444,\"#bd3786\"],[0.5555555555555556,\"#d8576b\"],[0.6666666666666666,\"#ed7953\"],[0.7777777777777778,\"#fb9f3a\"],[0.8888888888888888,\"#fdca26\"],[1.0,\"#f0f921\"]],\"type\":\"heatmap\"}],\"heatmapgl\":[{\"colorbar\":{\"outlinewidth\":0,\"ticks\":\"\"},\"colorscale\":[[0.0,\"#0d0887\"],[0.1111111111111111,\"#46039f\"],[0.2222222222222222,\"#7201a8\"],[0.3333333333333333,\"#9c179e\"],[0.4444444444444444,\"#bd3786\"],[0.5555555555555556,\"#d8576b\"],[0.6666666666666666,\"#ed7953\"],[0.7777777777777778,\"#fb9f3a\"],[0.8888888888888888,\"#fdca26\"],[1.0,\"#f0f921\"]],\"type\":\"heatmapgl\"}],\"histogram\":[{\"marker\":{\"pattern\":{\"fillmode\":\"overlay\",\"size\":10,\"solidity\":0.2}},\"type\":\"histogram\"}],\"histogram2d\":[{\"colorbar\":{\"outlinewidth\":0,\"ticks\":\"\"},\"colorscale\":[[0.0,\"#0d0887\"],[0.1111111111111111,\"#46039f\"],[0.2222222222222222,\"#7201a8\"],[0.3333333333333333,\"#9c179e\"],[0.4444444444444444,\"#bd3786\"],[0.5555555555555556,\"#d8576b\"],[0.6666666666666666,\"#ed7953\"],[0.7777777777777778,\"#fb9f3a\"],[0.8888888888888888,\"#fdca26\"],[1.0,\"#f0f921\"]],\"type\":\"histogram2d\"}],\"histogram2dcontour\":[{\"colorbar\":{\"outlinewidth\":0,\"ticks\":\"\"},\"colorscale\":[[0.0,\"#0d0887\"],[0.1111111111111111,\"#46039f\"],[0.2222222222222222,\"#7201a8\"],[0.3333333333333333,\"#9c179e\"],[0.4444444444444444,\"#bd3786\"],[0.5555555555555556,\"#d8576b\"],[0.6666666666666666,\"#ed7953\"],[0.7777777777777778,\"#fb9f3a\"],[0.8888888888888888,\"#fdca26\"],[1.0,\"#f0f921\"]],\"type\":\"histogram2dcontour\"}],\"mesh3d\":[{\"colorbar\":{\"outlinewidth\":0,\"ticks\":\"\"},\"type\":\"mesh3d\"}],\"parcoords\":[{\"line\":{\"colorbar\":{\"outlinewidth\":0,\"ticks\":\"\"}},\"type\":\"parcoords\"}],\"pie\":[{\"automargin\":true,\"type\":\"pie\"}],\"scatter\":[{\"marker\":{\"colorbar\":{\"outlinewidth\":0,\"ticks\":\"\"}},\"type\":\"scatter\"}],\"scatter3d\":[{\"line\":{\"colorbar\":{\"outlinewidth\":0,\"ticks\":\"\"}},\"marker\":{\"colorbar\":{\"outlinewidth\":0,\"ticks\":\"\"}},\"type\":\"scatter3d\"}],\"scattercarpet\":[{\"marker\":{\"colorbar\":{\"outlinewidth\":0,\"ticks\":\"\"}},\"type\":\"scattercarpet\"}],\"scattergeo\":[{\"marker\":{\"colorbar\":{\"outlinewidth\":0,\"ticks\":\"\"}},\"type\":\"scattergeo\"}],\"scattergl\":[{\"marker\":{\"colorbar\":{\"outlinewidth\":0,\"ticks\":\"\"}},\"type\":\"scattergl\"}],\"scattermapbox\":[{\"marker\":{\"colorbar\":{\"outlinewidth\":0,\"ticks\":\"\"}},\"type\":\"scattermapbox\"}],\"scatterpolar\":[{\"marker\":{\"colorbar\":{\"outlinewidth\":0,\"ticks\":\"\"}},\"type\":\"scatterpolar\"}],\"scatterpolargl\":[{\"marker\":{\"colorbar\":{\"outlinewidth\":0,\"ticks\":\"\"}},\"type\":\"scatterpolargl\"}],\"scatterternary\":[{\"marker\":{\"colorbar\":{\"outlinewidth\":0,\"ticks\":\"\"}},\"type\":\"scatterternary\"}],\"surface\":[{\"colorbar\":{\"outlinewidth\":0,\"ticks\":\"\"},\"colorscale\":[[0.0,\"#0d0887\"],[0.1111111111111111,\"#46039f\"],[0.2222222222222222,\"#7201a8\"],[0.3333333333333333,\"#9c179e\"],[0.4444444444444444,\"#bd3786\"],[0.5555555555555556,\"#d8576b\"],[0.6666666666666666,\"#ed7953\"],[0.7777777777777778,\"#fb9f3a\"],[0.8888888888888888,\"#fdca26\"],[1.0,\"#f0f921\"]],\"type\":\"surface\"}],\"table\":[{\"cells\":{\"fill\":{\"color\":\"#EBF0F8\"},\"line\":{\"color\":\"white\"}},\"header\":{\"fill\":{\"color\":\"#C8D4E3\"},\"line\":{\"color\":\"white\"}},\"type\":\"table\"}]},\"layout\":{\"annotationdefaults\":{\"arrowcolor\":\"#2a3f5f\",\"arrowhead\":0,\"arrowwidth\":1},\"autotypenumbers\":\"strict\",\"coloraxis\":{\"colorbar\":{\"outlinewidth\":0,\"ticks\":\"\"}},\"colorscale\":{\"diverging\":[[0,\"#8e0152\"],[0.1,\"#c51b7d\"],[0.2,\"#de77ae\"],[0.3,\"#f1b6da\"],[0.4,\"#fde0ef\"],[0.5,\"#f7f7f7\"],[0.6,\"#e6f5d0\"],[0.7,\"#b8e186\"],[0.8,\"#7fbc41\"],[0.9,\"#4d9221\"],[1,\"#276419\"]],\"sequential\":[[0.0,\"#0d0887\"],[0.1111111111111111,\"#46039f\"],[0.2222222222222222,\"#7201a8\"],[0.3333333333333333,\"#9c179e\"],[0.4444444444444444,\"#bd3786\"],[0.5555555555555556,\"#d8576b\"],[0.6666666666666666,\"#ed7953\"],[0.7777777777777778,\"#fb9f3a\"],[0.8888888888888888,\"#fdca26\"],[1.0,\"#f0f921\"]],\"sequentialminus\":[[0.0,\"#0d0887\"],[0.1111111111111111,\"#46039f\"],[0.2222222222222222,\"#7201a8\"],[0.3333333333333333,\"#9c179e\"],[0.4444444444444444,\"#bd3786\"],[0.5555555555555556,\"#d8576b\"],[0.6666666666666666,\"#ed7953\"],[0.7777777777777778,\"#fb9f3a\"],[0.8888888888888888,\"#fdca26\"],[1.0,\"#f0f921\"]]},\"colorway\":[\"#636efa\",\"#EF553B\",\"#00cc96\",\"#ab63fa\",\"#FFA15A\",\"#19d3f3\",\"#FF6692\",\"#B6E880\",\"#FF97FF\",\"#FECB52\"],\"font\":{\"color\":\"#2a3f5f\"},\"geo\":{\"bgcolor\":\"white\",\"lakecolor\":\"white\",\"landcolor\":\"#E5ECF6\",\"showlakes\":true,\"showland\":true,\"subunitcolor\":\"white\"},\"hoverlabel\":{\"align\":\"left\"},\"hovermode\":\"closest\",\"mapbox\":{\"style\":\"light\"},\"paper_bgcolor\":\"white\",\"plot_bgcolor\":\"#E5ECF6\",\"polar\":{\"angularaxis\":{\"gridcolor\":\"white\",\"linecolor\":\"white\",\"ticks\":\"\"},\"bgcolor\":\"#E5ECF6\",\"radialaxis\":{\"gridcolor\":\"white\",\"linecolor\":\"white\",\"ticks\":\"\"}},\"scene\":{\"xaxis\":{\"backgroundcolor\":\"#E5ECF6\",\"gridcolor\":\"white\",\"gridwidth\":2,\"linecolor\":\"white\",\"showbackground\":true,\"ticks\":\"\",\"zerolinecolor\":\"white\"},\"yaxis\":{\"backgroundcolor\":\"#E5ECF6\",\"gridcolor\":\"white\",\"gridwidth\":2,\"linecolor\":\"white\",\"showbackground\":true,\"ticks\":\"\",\"zerolinecolor\":\"white\"},\"zaxis\":{\"backgroundcolor\":\"#E5ECF6\",\"gridcolor\":\"white\",\"gridwidth\":2,\"linecolor\":\"white\",\"showbackground\":true,\"ticks\":\"\",\"zerolinecolor\":\"white\"}},\"shapedefaults\":{\"line\":{\"color\":\"#2a3f5f\"}},\"ternary\":{\"aaxis\":{\"gridcolor\":\"white\",\"linecolor\":\"white\",\"ticks\":\"\"},\"baxis\":{\"gridcolor\":\"white\",\"linecolor\":\"white\",\"ticks\":\"\"},\"bgcolor\":\"#E5ECF6\",\"caxis\":{\"gridcolor\":\"white\",\"linecolor\":\"white\",\"ticks\":\"\"}},\"title\":{\"x\":0.05},\"xaxis\":{\"automargin\":true,\"gridcolor\":\"white\",\"linecolor\":\"white\",\"ticks\":\"\",\"title\":{\"standoff\":15},\"zerolinecolor\":\"white\",\"zerolinewidth\":2},\"yaxis\":{\"automargin\":true,\"gridcolor\":\"white\",\"linecolor\":\"white\",\"ticks\":\"\",\"title\":{\"standoff\":15},\"zerolinecolor\":\"white\",\"zerolinewidth\":2}}},\"xaxis\":{\"anchor\":\"y\",\"domain\":[0.0,0.94]},\"yaxis\":{\"anchor\":\"x\",\"domain\":[0.7666666666666666,0.9999999999999999],\"title\":{\"text\":\"LTV (\\uc6d0)\"}},\"yaxis2\":{\"anchor\":\"x\",\"overlaying\":\"y\",\"side\":\"right\",\"title\":{\"text\":\"ROAS\"},\"tickformat\":\".0%\",\"range\":[0,3],\"showgrid\":false},\"xaxis2\":{\"anchor\":\"y3\",\"domain\":[0.0,0.94]},\"yaxis3\":{\"anchor\":\"x2\",\"domain\":[0.3833333333333333,0.6166666666666666],\"title\":{\"text\":\"LTV (\\uc6d0)\"}},\"yaxis4\":{\"anchor\":\"x2\",\"overlaying\":\"y3\",\"side\":\"right\",\"title\":{\"text\":\"ROAS\"},\"tickformat\":\".0%\",\"range\":[0,3],\"showgrid\":false},\"xaxis3\":{\"anchor\":\"y5\",\"domain\":[0.0,0.94]},\"yaxis5\":{\"anchor\":\"x3\",\"domain\":[0.0,0.2333333333333333],\"title\":{\"text\":\"LTV (\\uc6d0)\"}},\"yaxis6\":{\"anchor\":\"x3\",\"overlaying\":\"y5\",\"side\":\"right\",\"title\":{\"text\":\"ROAS\"},\"tickformat\":\".0%\",\"range\":[0,3],\"showgrid\":false},\"height\":900,\"title\":{\"font\":{\"size\":13},\"text\":\"<b>< \\uc6d4\\uac04 \\uac00\\uc785\\uc720\\uc800 LTV, ROAS ><b>\",\"x\":0.5,\"y\":0.95}},                        {\"responsive\": true}                    ).then(function(){\n",
              "                            \n",
              "var gd = document.getElementById('22c22c9f-4440-4b5b-bc3f-b68d3343db8c');\n",
              "var x = new MutationObserver(function (mutations, observer) {{\n",
              "        var display = window.getComputedStyle(gd).display;\n",
              "        if (!display || display === 'none') {{\n",
              "            console.log([gd, 'removed!']);\n",
              "            Plotly.purge(gd);\n",
              "            observer.disconnect();\n",
              "        }}\n",
              "}});\n",
              "\n",
              "// Listen for the removal of the full notebook cells\n",
              "var notebookContainer = gd.closest('#notebook-container');\n",
              "if (notebookContainer) {{\n",
              "    x.observe(notebookContainer, {childList: true});\n",
              "}}\n",
              "\n",
              "// Listen for the clearing of the current output cell\n",
              "var outputEl = gd.closest('.output');\n",
              "if (outputEl) {{\n",
              "    x.observe(outputEl, {childList: true});\n",
              "}}\n",
              "\n",
              "                        })                };                            </script>        </div>\n",
              "</body>\n",
              "</html>"
            ]
          },
          "metadata": {}
        }
      ]
    },
    {
      "cell_type": "code",
      "source": [
        "roasDf.head(20).info()"
      ],
      "metadata": {
        "colab": {
          "base_uri": "https://localhost:8080/"
        },
        "id": "SpPOz17wcxau",
        "outputId": "9c768abe-0660-4cad-8c5d-2b10331b7fa7"
      },
      "execution_count": null,
      "outputs": [
        {
          "output_type": "stream",
          "name": "stdout",
          "text": [
            "<class 'pandas.core.frame.DataFrame'>\n",
            "RangeIndex: 20 entries, 0 to 19\n",
            "Data columns (total 8 columns):\n",
            " #   Column             Non-Null Count  Dtype  \n",
            "---  ------             --------------  -----  \n",
            " 0   ltv_period         20 non-null     object \n",
            " 1   create_year_month  20 non-null     object \n",
            " 2   attribute_type     20 non-null     object \n",
            " 3   user_cnt           20 non-null     Int64  \n",
            " 4   sales              20 non-null     Int64  \n",
            " 5   ltv                20 non-null     float64\n",
            " 6   cost               20 non-null     float64\n",
            " 7   roas               20 non-null     float64\n",
            "dtypes: Int64(2), float64(3), object(3)\n",
            "memory usage: 1.4+ KB\n"
          ]
        }
      ]
    },
    {
      "cell_type": "markdown",
      "source": [
        "### 캠페인별 월간 모객유저 ROAS"
      ],
      "metadata": {
        "id": "VuWMjdaXxzVy"
      }
    },
    {
      "cell_type": "code",
      "source": [
        "## << 데이터프레임 생성 - 캠페인별 월간 가입 유저수  >>\n",
        "\n",
        "query_job = client.query(\"\"\"\n",
        "  with userinfo as (\n",
        "    select b.attribute_type, b.campaign\n",
        "        , b.install_time, a.create_date, a.create_year_month\n",
        "        , a.attribute_id, a.user_id, a.nickname, a.account_type, a.platform\n",
        "        , a.region_1depth_name, a.region_2depth_name, a.region_3depth_name\n",
        "        , a.h_code, a.x, a.y\n",
        "    from `my_temp.marketing_myinfos` as a\n",
        "    left join (\n",
        "      select 'organic' as attribute_type, install_time, attribute_id, campaign\n",
        "      from `my_temp.organic_install`\n",
        "\n",
        "      union all \n",
        "\n",
        "      select 'non_organic' as attribute_type, install_time, attribute_id, campaign\n",
        "      from `my_temp.non_organic_install`\n",
        "    ) as b\n",
        "    on a.attribute_id = b.attribute_id and a.create_date = b.install_time\n",
        "  ),\n",
        "\n",
        "  daily_orders as (\n",
        "    select order_date, user_id, sum(payment_amount) as payment_amount\n",
        "    from `my_temp.daily_orders`\n",
        "    where order_date >= '2022-05-01'\n",
        "    group by order_date, user_id\n",
        "  ),\n",
        "\n",
        "  ltv_set as (\n",
        "    select 'D15' as ltv_period, a.user_id, a.campaign   \n",
        "        , a.create_year_month, a.attribute_type\n",
        "        , case when date_diff(DATE '2022-11-30', a.create_date, DAY) < 14 then 0 else d15.payment_amount end as payment_amount\n",
        "    from userinfo as a\n",
        "    left join daily_orders as d15\n",
        "    on a.user_id = d15.user_id and a.create_date <= d15.order_date and date_add(a.create_date, interval 14 day) >= d15.order_date \n",
        "\n",
        "    union all\n",
        "\n",
        "    select 'D30' as ltv_period, a.user_id, a.campaign\n",
        "        , a.create_year_month, a.attribute_type\n",
        "        , case when date_diff(DATE '2022-11-30', a.create_date, DAY) < 29 then 0 else d30.payment_amount end as payment_amount\n",
        "    from userinfo as a\n",
        "    left join daily_orders as d30\n",
        "    on a.user_id = d30.user_id and a.create_date <= d30.order_date and date_add(a.create_date, interval 29 day) >= d30.order_date \n",
        "\n",
        "    union all\n",
        "\n",
        "    select 'D45' as ltv_period, a.user_id, a.campaign\n",
        "        , a.create_year_month, a.attribute_type\n",
        "        , case when date_diff(DATE '2022-11-30', a.create_date, DAY) < 44 then 0 else d45.payment_amount end as payment_amount\n",
        "    from userinfo as a\n",
        "    left join daily_orders as d45\n",
        "    on a.user_id = d45.user_id and a.create_date <= d45.order_date and date_add(a.create_date, interval 44 day) >= d45.order_date \n",
        "\n",
        "    union all\n",
        "\n",
        "    select 'D60' as ltv_period, a.user_id, a.campaign\n",
        "        , a.create_year_month, a.attribute_type\n",
        "        , case when date_diff(DATE '2022-11-30', a.create_date, DAY) < 59 then 0 else d60.payment_amount end as payment_amount\n",
        "    from userinfo as a\n",
        "    left join daily_orders as d60\n",
        "    on a.user_id = d60.user_id and a.create_date <= d60.order_date and date_add(a.create_date, interval 59 day) >= d60.order_date \n",
        "\n",
        "    union all\n",
        "\n",
        "    select 'D75' as ltv_period, a.user_id, a.campaign\n",
        "        , a.create_year_month, a.attribute_type\n",
        "        , case when date_diff(DATE '2022-11-30', a.create_date, DAY) < 74 then 0 else d75.payment_amount end as payment_amount\n",
        "    from userinfo as a\n",
        "    left join daily_orders as d75\n",
        "    on a.user_id = d75.user_id and a.create_date <= d75.order_date and date_add(a.create_date, interval 74 day) >= d75.order_date \n",
        "\n",
        "    union all\n",
        "\n",
        "    select 'D90' as ltv_period, a.user_id, a.campaign\n",
        "        , a.create_year_month, a.attribute_type\n",
        "        , case when date_diff(DATE '2022-11-30', a.create_date, DAY) < 89 then 0 else d90.payment_amount end as payment_amount\n",
        "    from userinfo as a\n",
        "    left join daily_orders as d90\n",
        "    on a.user_id = d90.user_id and a.create_date <= d90.order_date and date_add(a.create_date, interval 89 day) >= d90.order_date \n",
        "\n",
        "  ),\n",
        "\n",
        "  agg_ltv_group as (\n",
        "    select ltv_period, create_year_month, attribute_type, campaign\n",
        "        , count(distinct user_id) as user_cnt\n",
        "        , sum(payment_amount) as sales\n",
        "        , round(sum(payment_amount)/count(distinct user_id)) as ltv \n",
        "        , count(distinct case when payment_amount = 0 then user_id end) as check_cnt\n",
        "    from ltv_set\n",
        "    group by rollup(ltv_period, create_year_month, attribute_type, campaign)\n",
        "  ),\n",
        "\n",
        "  agg_ltv_group_final as (\n",
        "    select ltv_period, create_year_month\n",
        "        , case when attribute_type is null then 'all' else attribute_type end as attribute_type\n",
        "        , campaign\n",
        "        , user_cnt\n",
        "        , case when check_cnt = 0 then sales else 0 end as sales\n",
        "        , case when check_cnt = 0 then ltv else 0 end as ltv\n",
        "    from agg_ltv_group\n",
        "    where create_year_month is not null and campaign is not null\n",
        "      and attribute_type = 'non_organic'\n",
        "    order by ltv_period, create_year_month, attribute_type\n",
        "  ), \n",
        "\n",
        "  monthly_cost as (\n",
        "    select format_date('%Y-%m', aggregate_date) as aggregate_year_month, campaign, sum(cost) as cost\n",
        "    from `my_temp.daily_cost`\n",
        "    group by aggregate_year_month, campaign\n",
        "    order by aggregate_year_month, campaign\n",
        "  )\n",
        "\n",
        "  select a.ltv_period, a.create_year_month, a.attribute_type, a.campaign\n",
        "      , a.user_cnt, a.sales, a.ltv, b.cost\n",
        "      , round(a.sales/b.cost, 3) as roas \n",
        "  from agg_ltv_group_final as a\n",
        "  left join monthly_cost as b\n",
        "  on a.create_year_month = b.aggregate_year_month and a.campaign = b.campaign\n",
        "  order by create_year_month, attribute_type, ltv_period\n",
        "\n",
        "\"\"\")\n",
        "\n",
        "roasByCampaignDf = query_job.to_dataframe()"
      ],
      "metadata": {
        "id": "QpKO1UN9x4r3"
      },
      "execution_count": null,
      "outputs": []
    },
    {
      "cell_type": "code",
      "source": [
        "# 11월은 지표 추적기간이 다차지 않았으므로 데이터에서 제외 처리\n",
        "seoulRoasDf = roasByCampaignDf[(roasByCampaignDf['campaign'] == 'SEOUL') & (roasByCampaignDf['create_year_month'] != '2022-11')] \n",
        "mokdongRoasDf = roasByCampaignDf[(roasByCampaignDf['campaign'] == 'LC_Mok-dong') & (roasByCampaignDf['create_year_month'] != '2022-11')]\n",
        "gurodongDf = roasByCampaignDf[(roasByCampaignDf['campaign'] == 'LC_Guro-dong') & (roasByCampaignDf['create_year_month'] != '2022-11')]\n",
        "mullaedongRoasDf = roasByCampaignDf[(roasByCampaignDf['campaign'] == 'LC_Mullae-dong') & (roasByCampaignDf['create_year_month'] != '2022-11')]\n",
        "sillimdongRoasDf = roasByCampaignDf[(roasByCampaignDf['campaign'] == 'LC_Sillim-dong') & (roasByCampaignDf['create_year_month'] != '2022-11')]\n",
        "dangsandongRoasDf = roasByCampaignDf[(roasByCampaignDf['campaign'] == 'LC_Dangsan-dong') & (roasByCampaignDf['create_year_month'] != '2022-11')]\n",
        "yeouidodongRoasDf = roasByCampaignDf[(roasByCampaignDf['campaign'] == 'LC_Yeouido-dong') & (roasByCampaignDf['create_year_month'] != '2022-11')]\n",
        "sindorimdongRoasDf = roasByCampaignDf[(roasByCampaignDf['campaign'] == 'LC_Sindorim-dong') & (roasByCampaignDf['create_year_month'] != '2022-11')]\n",
        "\n",
        "\n",
        "import plotly.graph_objects as go\n",
        "from plotly.subplots import make_subplots\n",
        "\n",
        "# 그리고자 하는 서브플랏 골격 설정 (2x1로 설정, 그래프간 간격 설정)\n",
        "fig = make_subplots(rows=2, cols=1, \n",
        "                    vertical_spacing = 0.15)\n",
        "\n",
        "# fig에 go.Bar를 사용해서 캠페인별 가입 유저수 막대그래프 그리기 \n",
        "fig.add_trace(go.Bar(x = [seoulRoasDf['create_year_month'].tolist(), seoulRoasDf['ltv_period'].tolist()], \n",
        "                     y= seoulRoasDf['user_cnt'].tolist(), name = \"유저수(SEOUL)\"), \n",
        "              row=1, col=1)  \n",
        "\n",
        "fig.add_trace(go.Bar(x = [mokdongRoasDf['create_year_month'].tolist(), mokdongRoasDf['ltv_period'].tolist()], \n",
        "                     y= mokdongRoasDf['user_cnt'].tolist(), name = \"유저수(mokdong)\"), \n",
        "              row=1, col=1)  \n",
        "\n",
        "fig.add_trace(go.Bar(x = [gurodongDf['create_year_month'].tolist(), gurodongDf['ltv_period'].tolist()], \n",
        "                     y= gurodongDf['user_cnt'].tolist(), name = \"유저수(gurodong)\"), \n",
        "              row=1, col=1)  \n",
        "\n",
        "fig.add_trace(go.Bar(x = [mullaedongRoasDf['create_year_month'].tolist(), mullaedongRoasDf['ltv_period'].tolist()], \n",
        "                     y= mullaedongRoasDf['user_cnt'].tolist(), name = \"유저수(mullaedong)\"), \n",
        "              row=1, col=1)\n",
        "\n",
        "fig.add_trace(go.Bar(x = [sillimdongRoasDf['create_year_month'].tolist(), sillimdongRoasDf['ltv_period'].tolist()], \n",
        "                     y= sillimdongRoasDf['user_cnt'].tolist(), name = \"유저수(sillimdong)\"), \n",
        "              row=1, col=1)  \n",
        "\n",
        "fig.add_trace(go.Bar(x = [dangsandongRoasDf['create_year_month'].tolist(), dangsandongRoasDf['ltv_period'].tolist()], \n",
        "                     y= dangsandongRoasDf['user_cnt'].tolist(), name = \"유저수(dangsandong)\"), \n",
        "              row=1, col=1)  \n",
        "\n",
        "fig.add_trace(go.Bar(x = [yeouidodongRoasDf['create_year_month'].tolist(), yeouidodongRoasDf['ltv_period'].tolist()], \n",
        "                     y= yeouidodongRoasDf['user_cnt'].tolist(), name = \"유저수(yeouidodong)\"), \n",
        "              row=1, col=1)  \n",
        "\n",
        "fig.add_trace(go.Bar(x = [sindorimdongRoasDf['create_year_month'].tolist(), sindorimdongRoasDf['ltv_period'].tolist()], \n",
        "                     y= sindorimdongRoasDf['user_cnt'].tolist(), name = \"유저수(sindorimdong)\"), \n",
        "              row=1, col=1)  \n",
        "\n",
        "\n",
        "# fig에 go.Bar를 사용해서 캠페인별 ROAS 막대그래프 그리기 \n",
        "fig.add_trace(go.Bar(x = [seoulRoasDf['create_year_month'].tolist(), seoulRoasDf['ltv_period'].tolist()], \n",
        "                     y= seoulRoasDf['roas'].tolist(), name = \"ROAS(SEOUL)\"), \n",
        "              row=2, col=1)  \n",
        "\n",
        "fig.add_trace(go.Bar(x = [mokdongRoasDf['create_year_month'].tolist(), mokdongRoasDf['ltv_period'].tolist()], \n",
        "                     y= mokdongRoasDf['roas'].tolist(), name = \"ROAS(mokdong)\"), \n",
        "              row=2, col=1)  \n",
        "\n",
        "fig.add_trace(go.Bar(x = [gurodongDf['create_year_month'].tolist(), gurodongDf['ltv_period'].tolist()], \n",
        "                     y= gurodongDf['roas'].tolist(), name = \"ROAS(gurodong)\"), \n",
        "              row=2, col=1)  \n",
        "\n",
        "fig.add_trace(go.Bar(x = [mullaedongRoasDf['create_year_month'].tolist(), mullaedongRoasDf['ltv_period'].tolist()], \n",
        "                     y= mullaedongRoasDf['roas'].tolist(), name = \"ROAS(mullaedong)\"), \n",
        "              row=2, col=1)\n",
        "\n",
        "fig.add_trace(go.Bar(x = [sillimdongRoasDf['create_year_month'].tolist(), sillimdongRoasDf['ltv_period'].tolist()], \n",
        "                     y= sillimdongRoasDf['roas'].tolist(), name = \"ROAS(sillimdong)\"), \n",
        "              row=2, col=1)  \n",
        "\n",
        "fig.add_trace(go.Bar(x = [dangsandongRoasDf['create_year_month'].tolist(), dangsandongRoasDf['ltv_period'].tolist()], \n",
        "                     y= dangsandongRoasDf['roas'].tolist(), name = \"ROAS(dangsandong)\"), \n",
        "              row=2, col=1)  \n",
        "\n",
        "fig.add_trace(go.Bar(x = [yeouidodongRoasDf['create_year_month'].tolist(), yeouidodongRoasDf['ltv_period'].tolist()], \n",
        "                     y= yeouidodongRoasDf['roas'].tolist(), name = \"ROAS(yeouidodong)\"), \n",
        "              row=2, col=1)  \n",
        "\n",
        "fig.add_trace(go.Bar(x = [sindorimdongRoasDf['create_year_month'].tolist(), sindorimdongRoasDf['ltv_period'].tolist()], \n",
        "                     y= sindorimdongRoasDf['roas'].tolist(), name = \"ROAS(sindorimdong)\"), \n",
        "              row=2, col=1)  \n",
        "\n",
        "\n",
        "# 출력되는 그래프 레이아웃 상세 조정\n",
        "fig.update_layout(height = 900) # e.g.(height=600, width=600)\n",
        "fig.update_layout(\n",
        "    {\n",
        "        \"title\": {\n",
        "            \"text\": \"<b>< 월간 가입유저 LTV, ROAS ><b>\",\n",
        "            \"x\": 0.5, # An int or float in the interval [0, 1]\n",
        "            \"y\": 0.95, # An int or float in the interval [0, 1]\n",
        "            \"font\": {\n",
        "                \"size\": 13\n",
        "            }\n",
        "        },\n",
        "        \"yaxis\": { \n",
        "            \"title\": \"가입유저수(명)\",\n",
        "        },\n",
        "        \"yaxis2\": { \n",
        "            \"title\": \"ROAS\",\n",
        "            \"tickformat\": '.0%',\n",
        "            \"range\": [0, 3],\n",
        "        },\n",
        "    },    \n",
        ")\n",
        "\n",
        "# 그래프 출력\n",
        "fig.show(renderer='colab')"
      ],
      "metadata": {
        "colab": {
          "base_uri": "https://localhost:8080/",
          "height": 917
        },
        "id": "k3IJJ9bCSjn1",
        "outputId": "0b670d43-5a5f-483e-8076-d8dcd0ab29fb"
      },
      "execution_count": null,
      "outputs": [
        {
          "output_type": "display_data",
          "data": {
            "text/html": [
              "<html>\n",
              "<head><meta charset=\"utf-8\" /></head>\n",
              "<body>\n",
              "    <div>            <script src=\"https://cdnjs.cloudflare.com/ajax/libs/mathjax/2.7.5/MathJax.js?config=TeX-AMS-MML_SVG\"></script><script type=\"text/javascript\">if (window.MathJax) {MathJax.Hub.Config({SVG: {font: \"STIX-Web\"}});}</script>                <script type=\"text/javascript\">window.PlotlyConfig = {MathJaxConfig: 'local'};</script>\n",
              "        <script src=\"https://cdn.plot.ly/plotly-2.8.3.min.js\"></script>                <div id=\"c4d4bb59-60ac-4397-b7d2-30c5d3b716fc\" class=\"plotly-graph-div\" style=\"height:900px; width:100%;\"></div>            <script type=\"text/javascript\">                                    window.PLOTLYENV=window.PLOTLYENV || {};                                    if (document.getElementById(\"c4d4bb59-60ac-4397-b7d2-30c5d3b716fc\")) {                    Plotly.newPlot(                        \"c4d4bb59-60ac-4397-b7d2-30c5d3b716fc\",                        [{\"name\":\"\\uc720\\uc800\\uc218(SEOUL)\",\"x\":[[\"2022-05\",\"2022-05\",\"2022-05\",\"2022-05\",\"2022-05\",\"2022-05\",\"2022-06\",\"2022-06\",\"2022-06\",\"2022-06\",\"2022-06\",\"2022-06\",\"2022-07\",\"2022-07\",\"2022-07\",\"2022-07\",\"2022-07\",\"2022-07\",\"2022-08\",\"2022-08\",\"2022-08\",\"2022-08\",\"2022-08\",\"2022-08\",\"2022-09\",\"2022-09\",\"2022-09\",\"2022-09\",\"2022-09\",\"2022-09\",\"2022-10\",\"2022-10\",\"2022-10\",\"2022-10\",\"2022-10\",\"2022-10\"],[\"D15\",\"D30\",\"D45\",\"D60\",\"D75\",\"D90\",\"D15\",\"D30\",\"D45\",\"D60\",\"D75\",\"D90\",\"D15\",\"D30\",\"D45\",\"D60\",\"D75\",\"D90\",\"D15\",\"D30\",\"D45\",\"D60\",\"D75\",\"D90\",\"D15\",\"D30\",\"D45\",\"D60\",\"D75\",\"D90\",\"D15\",\"D30\",\"D45\",\"D60\",\"D75\",\"D90\"]],\"y\":[192,192,192,192,192,192,432,432,432,432,432,432,131,131,131,131,131,131,90,90,90,90,90,90,82,82,82,82,82,82,130,130,130,130,130,130],\"type\":\"bar\",\"xaxis\":\"x\",\"yaxis\":\"y\"},{\"name\":\"\\uc720\\uc800\\uc218(mokdong)\",\"x\":[[\"2022-07\",\"2022-07\",\"2022-07\",\"2022-07\",\"2022-07\",\"2022-07\",\"2022-08\",\"2022-08\",\"2022-08\",\"2022-08\",\"2022-08\",\"2022-08\",\"2022-09\",\"2022-09\",\"2022-09\",\"2022-09\",\"2022-09\",\"2022-09\",\"2022-10\",\"2022-10\",\"2022-10\",\"2022-10\",\"2022-10\",\"2022-10\"],[\"D15\",\"D30\",\"D45\",\"D60\",\"D75\",\"D90\",\"D15\",\"D30\",\"D45\",\"D60\",\"D75\",\"D90\",\"D15\",\"D30\",\"D45\",\"D60\",\"D75\",\"D90\",\"D15\",\"D30\",\"D45\",\"D60\",\"D75\",\"D90\"]],\"y\":[79,79,79,79,79,79,50,50,50,50,50,50,45,45,45,45,45,45,58,58,58,58,58,58],\"type\":\"bar\",\"xaxis\":\"x\",\"yaxis\":\"y\"},{\"name\":\"\\uc720\\uc800\\uc218(gurodong)\",\"x\":[[\"2022-07\",\"2022-07\",\"2022-07\",\"2022-07\",\"2022-07\",\"2022-07\",\"2022-08\",\"2022-08\",\"2022-08\",\"2022-08\",\"2022-08\",\"2022-08\",\"2022-09\",\"2022-09\",\"2022-09\",\"2022-09\",\"2022-09\",\"2022-09\",\"2022-10\",\"2022-10\",\"2022-10\",\"2022-10\",\"2022-10\",\"2022-10\"],[\"D15\",\"D30\",\"D45\",\"D60\",\"D75\",\"D90\",\"D15\",\"D30\",\"D45\",\"D60\",\"D75\",\"D90\",\"D15\",\"D30\",\"D45\",\"D60\",\"D75\",\"D90\",\"D15\",\"D30\",\"D45\",\"D60\",\"D75\",\"D90\"]],\"y\":[79,79,79,79,79,79,42,42,42,42,42,42,32,32,32,32,32,32,22,22,22,22,22,22],\"type\":\"bar\",\"xaxis\":\"x\",\"yaxis\":\"y\"},{\"name\":\"\\uc720\\uc800\\uc218(mullaedong)\",\"x\":[[\"2022-07\",\"2022-07\",\"2022-07\",\"2022-07\",\"2022-07\",\"2022-07\",\"2022-08\",\"2022-08\",\"2022-08\",\"2022-08\",\"2022-08\",\"2022-08\",\"2022-09\",\"2022-09\",\"2022-09\",\"2022-09\",\"2022-09\",\"2022-09\",\"2022-10\",\"2022-10\",\"2022-10\",\"2022-10\",\"2022-10\",\"2022-10\"],[\"D15\",\"D30\",\"D45\",\"D60\",\"D75\",\"D90\",\"D15\",\"D30\",\"D45\",\"D60\",\"D75\",\"D90\",\"D15\",\"D30\",\"D45\",\"D60\",\"D75\",\"D90\",\"D15\",\"D30\",\"D45\",\"D60\",\"D75\",\"D90\"]],\"y\":[10,10,10,10,10,10,12,12,12,12,12,12,5,5,5,5,5,5,13,13,13,13,13,13],\"type\":\"bar\",\"xaxis\":\"x\",\"yaxis\":\"y\"},{\"name\":\"\\uc720\\uc800\\uc218(sillimdong)\",\"x\":[[\"2022-07\",\"2022-07\",\"2022-07\",\"2022-07\",\"2022-07\",\"2022-07\",\"2022-08\",\"2022-08\",\"2022-08\",\"2022-08\",\"2022-08\",\"2022-08\"],[\"D15\",\"D30\",\"D45\",\"D60\",\"D75\",\"D90\",\"D15\",\"D30\",\"D45\",\"D60\",\"D75\",\"D90\"]],\"y\":[1,1,1,1,1,1,1,1,1,1,1,1],\"type\":\"bar\",\"xaxis\":\"x\",\"yaxis\":\"y\"},{\"name\":\"\\uc720\\uc800\\uc218(dangsandong)\",\"x\":[[\"2022-10\",\"2022-10\",\"2022-10\",\"2022-10\",\"2022-10\",\"2022-10\"],[\"D15\",\"D30\",\"D45\",\"D60\",\"D75\",\"D90\"]],\"y\":[4,4,4,4,4,4],\"type\":\"bar\",\"xaxis\":\"x\",\"yaxis\":\"y\"},{\"name\":\"\\uc720\\uc800\\uc218(yeouidodong)\",\"x\":[[],[]],\"y\":[],\"type\":\"bar\",\"xaxis\":\"x\",\"yaxis\":\"y\"},{\"name\":\"\\uc720\\uc800\\uc218(sindorimdong)\",\"x\":[[\"2022-07\",\"2022-07\",\"2022-07\",\"2022-07\",\"2022-07\",\"2022-07\",\"2022-08\",\"2022-08\",\"2022-08\",\"2022-08\",\"2022-08\",\"2022-08\",\"2022-09\",\"2022-09\",\"2022-09\",\"2022-09\",\"2022-09\",\"2022-09\",\"2022-10\",\"2022-10\",\"2022-10\",\"2022-10\",\"2022-10\",\"2022-10\"],[\"D15\",\"D30\",\"D45\",\"D60\",\"D75\",\"D90\",\"D15\",\"D30\",\"D45\",\"D60\",\"D75\",\"D90\",\"D15\",\"D30\",\"D45\",\"D60\",\"D75\",\"D90\",\"D15\",\"D30\",\"D45\",\"D60\",\"D75\",\"D90\"]],\"y\":[40,40,40,40,40,40,17,17,17,17,17,17,12,12,12,12,12,12,13,13,13,13,13,13],\"type\":\"bar\",\"xaxis\":\"x\",\"yaxis\":\"y\"},{\"name\":\"ROAS(SEOUL)\",\"x\":[[\"2022-05\",\"2022-05\",\"2022-05\",\"2022-05\",\"2022-05\",\"2022-05\",\"2022-06\",\"2022-06\",\"2022-06\",\"2022-06\",\"2022-06\",\"2022-06\",\"2022-07\",\"2022-07\",\"2022-07\",\"2022-07\",\"2022-07\",\"2022-07\",\"2022-08\",\"2022-08\",\"2022-08\",\"2022-08\",\"2022-08\",\"2022-08\",\"2022-09\",\"2022-09\",\"2022-09\",\"2022-09\",\"2022-09\",\"2022-09\",\"2022-10\",\"2022-10\",\"2022-10\",\"2022-10\",\"2022-10\",\"2022-10\"],[\"D15\",\"D30\",\"D45\",\"D60\",\"D75\",\"D90\",\"D15\",\"D30\",\"D45\",\"D60\",\"D75\",\"D90\",\"D15\",\"D30\",\"D45\",\"D60\",\"D75\",\"D90\",\"D15\",\"D30\",\"D45\",\"D60\",\"D75\",\"D90\",\"D15\",\"D30\",\"D45\",\"D60\",\"D75\",\"D90\",\"D15\",\"D30\",\"D45\",\"D60\",\"D75\",\"D90\"]],\"y\":[0.102,0.265,0.351,0.474,0.578,0.737,0.128,0.242,0.36,0.465,0.567,0.635,0.002,0.002,0.002,0.002,0.002,0.002,0.006,0.006,0.006,0.006,0.006,0.006,0.003,0.003,0.003,0.003,0.0,0.0,null,null,0.0,0.0,0.0,0.0],\"type\":\"bar\",\"xaxis\":\"x2\",\"yaxis\":\"y2\"},{\"name\":\"ROAS(mokdong)\",\"x\":[[\"2022-07\",\"2022-07\",\"2022-07\",\"2022-07\",\"2022-07\",\"2022-07\",\"2022-08\",\"2022-08\",\"2022-08\",\"2022-08\",\"2022-08\",\"2022-08\",\"2022-09\",\"2022-09\",\"2022-09\",\"2022-09\",\"2022-09\",\"2022-09\",\"2022-10\",\"2022-10\",\"2022-10\",\"2022-10\",\"2022-10\",\"2022-10\"],[\"D15\",\"D30\",\"D45\",\"D60\",\"D75\",\"D90\",\"D15\",\"D30\",\"D45\",\"D60\",\"D75\",\"D90\",\"D15\",\"D30\",\"D45\",\"D60\",\"D75\",\"D90\",\"D15\",\"D30\",\"D45\",\"D60\",\"D75\",\"D90\"]],\"y\":[0.149,0.322,0.419,0.512,0.597,0.673,0.178,0.218,0.297,0.395,0.433,0.511,0.152,0.185,0.222,0.282,0.0,0.0,0.18,0.313,0.0,0.0,0.0,0.0],\"type\":\"bar\",\"xaxis\":\"x2\",\"yaxis\":\"y2\"},{\"name\":\"ROAS(gurodong)\",\"x\":[[\"2022-07\",\"2022-07\",\"2022-07\",\"2022-07\",\"2022-07\",\"2022-07\",\"2022-08\",\"2022-08\",\"2022-08\",\"2022-08\",\"2022-08\",\"2022-08\",\"2022-09\",\"2022-09\",\"2022-09\",\"2022-09\",\"2022-09\",\"2022-09\",\"2022-10\",\"2022-10\",\"2022-10\",\"2022-10\",\"2022-10\",\"2022-10\"],[\"D15\",\"D30\",\"D45\",\"D60\",\"D75\",\"D90\",\"D15\",\"D30\",\"D45\",\"D60\",\"D75\",\"D90\",\"D15\",\"D30\",\"D45\",\"D60\",\"D75\",\"D90\",\"D15\",\"D30\",\"D45\",\"D60\",\"D75\",\"D90\"]],\"y\":[0.017,0.023,0.042,0.042,0.057,0.057,0.065,0.082,0.103,0.139,0.154,0.227,0.167,0.27,0.372,0.448,0.0,0.0,0.014,0.066,0.0,0.0,0.0,0.0],\"type\":\"bar\",\"xaxis\":\"x2\",\"yaxis\":\"y2\"},{\"name\":\"ROAS(mullaedong)\",\"x\":[[\"2022-07\",\"2022-07\",\"2022-07\",\"2022-07\",\"2022-07\",\"2022-07\",\"2022-08\",\"2022-08\",\"2022-08\",\"2022-08\",\"2022-08\",\"2022-08\",\"2022-09\",\"2022-09\",\"2022-09\",\"2022-09\",\"2022-09\",\"2022-09\",\"2022-10\",\"2022-10\",\"2022-10\",\"2022-10\",\"2022-10\",\"2022-10\"],[\"D15\",\"D30\",\"D45\",\"D60\",\"D75\",\"D90\",\"D15\",\"D30\",\"D45\",\"D60\",\"D75\",\"D90\",\"D15\",\"D30\",\"D45\",\"D60\",\"D75\",\"D90\",\"D15\",\"D30\",\"D45\",\"D60\",\"D75\",\"D90\"]],\"y\":[0.063,0.063,0.063,0.063,0.063,0.063,0.172,0.188,0.209,0.407,0.468,0.524,0.369,0.424,0.579,0.696,0.0,0.0,null,null,0.0,0.0,0.0,0.0],\"type\":\"bar\",\"xaxis\":\"x2\",\"yaxis\":\"y2\"},{\"name\":\"ROAS(sillimdong)\",\"x\":[[\"2022-07\",\"2022-07\",\"2022-07\",\"2022-07\",\"2022-07\",\"2022-07\",\"2022-08\",\"2022-08\",\"2022-08\",\"2022-08\",\"2022-08\",\"2022-08\"],[\"D15\",\"D30\",\"D45\",\"D60\",\"D75\",\"D90\",\"D15\",\"D30\",\"D45\",\"D60\",\"D75\",\"D90\"]],\"y\":[null,null,null,null,null,null,null,null,null,null,null,null],\"type\":\"bar\",\"xaxis\":\"x2\",\"yaxis\":\"y2\"},{\"name\":\"ROAS(dangsandong)\",\"x\":[[\"2022-10\",\"2022-10\",\"2022-10\",\"2022-10\",\"2022-10\",\"2022-10\"],[\"D15\",\"D30\",\"D45\",\"D60\",\"D75\",\"D90\"]],\"y\":[null,null,0.0,0.0,0.0,0.0],\"type\":\"bar\",\"xaxis\":\"x2\",\"yaxis\":\"y2\"},{\"name\":\"ROAS(yeouidodong)\",\"x\":[[],[]],\"y\":[],\"type\":\"bar\",\"xaxis\":\"x2\",\"yaxis\":\"y2\"},{\"name\":\"ROAS(sindorimdong)\",\"x\":[[\"2022-07\",\"2022-07\",\"2022-07\",\"2022-07\",\"2022-07\",\"2022-07\",\"2022-08\",\"2022-08\",\"2022-08\",\"2022-08\",\"2022-08\",\"2022-08\",\"2022-09\",\"2022-09\",\"2022-09\",\"2022-09\",\"2022-09\",\"2022-09\",\"2022-10\",\"2022-10\",\"2022-10\",\"2022-10\",\"2022-10\",\"2022-10\"],[\"D15\",\"D30\",\"D45\",\"D60\",\"D75\",\"D90\",\"D15\",\"D30\",\"D45\",\"D60\",\"D75\",\"D90\",\"D15\",\"D30\",\"D45\",\"D60\",\"D75\",\"D90\",\"D15\",\"D30\",\"D45\",\"D60\",\"D75\",\"D90\"]],\"y\":[0.59,0.852,1.093,1.239,1.426,1.576,0.39,0.726,0.961,1.198,1.427,1.686,0.237,0.425,0.565,0.729,0.0,0.0,0.42,0.662,0.0,0.0,0.0,0.0],\"type\":\"bar\",\"xaxis\":\"x2\",\"yaxis\":\"y2\"}],                        {\"template\":{\"data\":{\"bar\":[{\"error_x\":{\"color\":\"#2a3f5f\"},\"error_y\":{\"color\":\"#2a3f5f\"},\"marker\":{\"line\":{\"color\":\"#E5ECF6\",\"width\":0.5},\"pattern\":{\"fillmode\":\"overlay\",\"size\":10,\"solidity\":0.2}},\"type\":\"bar\"}],\"barpolar\":[{\"marker\":{\"line\":{\"color\":\"#E5ECF6\",\"width\":0.5},\"pattern\":{\"fillmode\":\"overlay\",\"size\":10,\"solidity\":0.2}},\"type\":\"barpolar\"}],\"carpet\":[{\"aaxis\":{\"endlinecolor\":\"#2a3f5f\",\"gridcolor\":\"white\",\"linecolor\":\"white\",\"minorgridcolor\":\"white\",\"startlinecolor\":\"#2a3f5f\"},\"baxis\":{\"endlinecolor\":\"#2a3f5f\",\"gridcolor\":\"white\",\"linecolor\":\"white\",\"minorgridcolor\":\"white\",\"startlinecolor\":\"#2a3f5f\"},\"type\":\"carpet\"}],\"choropleth\":[{\"colorbar\":{\"outlinewidth\":0,\"ticks\":\"\"},\"type\":\"choropleth\"}],\"contour\":[{\"colorbar\":{\"outlinewidth\":0,\"ticks\":\"\"},\"colorscale\":[[0.0,\"#0d0887\"],[0.1111111111111111,\"#46039f\"],[0.2222222222222222,\"#7201a8\"],[0.3333333333333333,\"#9c179e\"],[0.4444444444444444,\"#bd3786\"],[0.5555555555555556,\"#d8576b\"],[0.6666666666666666,\"#ed7953\"],[0.7777777777777778,\"#fb9f3a\"],[0.8888888888888888,\"#fdca26\"],[1.0,\"#f0f921\"]],\"type\":\"contour\"}],\"contourcarpet\":[{\"colorbar\":{\"outlinewidth\":0,\"ticks\":\"\"},\"type\":\"contourcarpet\"}],\"heatmap\":[{\"colorbar\":{\"outlinewidth\":0,\"ticks\":\"\"},\"colorscale\":[[0.0,\"#0d0887\"],[0.1111111111111111,\"#46039f\"],[0.2222222222222222,\"#7201a8\"],[0.3333333333333333,\"#9c179e\"],[0.4444444444444444,\"#bd3786\"],[0.5555555555555556,\"#d8576b\"],[0.6666666666666666,\"#ed7953\"],[0.7777777777777778,\"#fb9f3a\"],[0.8888888888888888,\"#fdca26\"],[1.0,\"#f0f921\"]],\"type\":\"heatmap\"}],\"heatmapgl\":[{\"colorbar\":{\"outlinewidth\":0,\"ticks\":\"\"},\"colorscale\":[[0.0,\"#0d0887\"],[0.1111111111111111,\"#46039f\"],[0.2222222222222222,\"#7201a8\"],[0.3333333333333333,\"#9c179e\"],[0.4444444444444444,\"#bd3786\"],[0.5555555555555556,\"#d8576b\"],[0.6666666666666666,\"#ed7953\"],[0.7777777777777778,\"#fb9f3a\"],[0.8888888888888888,\"#fdca26\"],[1.0,\"#f0f921\"]],\"type\":\"heatmapgl\"}],\"histogram\":[{\"marker\":{\"pattern\":{\"fillmode\":\"overlay\",\"size\":10,\"solidity\":0.2}},\"type\":\"histogram\"}],\"histogram2d\":[{\"colorbar\":{\"outlinewidth\":0,\"ticks\":\"\"},\"colorscale\":[[0.0,\"#0d0887\"],[0.1111111111111111,\"#46039f\"],[0.2222222222222222,\"#7201a8\"],[0.3333333333333333,\"#9c179e\"],[0.4444444444444444,\"#bd3786\"],[0.5555555555555556,\"#d8576b\"],[0.6666666666666666,\"#ed7953\"],[0.7777777777777778,\"#fb9f3a\"],[0.8888888888888888,\"#fdca26\"],[1.0,\"#f0f921\"]],\"type\":\"histogram2d\"}],\"histogram2dcontour\":[{\"colorbar\":{\"outlinewidth\":0,\"ticks\":\"\"},\"colorscale\":[[0.0,\"#0d0887\"],[0.1111111111111111,\"#46039f\"],[0.2222222222222222,\"#7201a8\"],[0.3333333333333333,\"#9c179e\"],[0.4444444444444444,\"#bd3786\"],[0.5555555555555556,\"#d8576b\"],[0.6666666666666666,\"#ed7953\"],[0.7777777777777778,\"#fb9f3a\"],[0.8888888888888888,\"#fdca26\"],[1.0,\"#f0f921\"]],\"type\":\"histogram2dcontour\"}],\"mesh3d\":[{\"colorbar\":{\"outlinewidth\":0,\"ticks\":\"\"},\"type\":\"mesh3d\"}],\"parcoords\":[{\"line\":{\"colorbar\":{\"outlinewidth\":0,\"ticks\":\"\"}},\"type\":\"parcoords\"}],\"pie\":[{\"automargin\":true,\"type\":\"pie\"}],\"scatter\":[{\"marker\":{\"colorbar\":{\"outlinewidth\":0,\"ticks\":\"\"}},\"type\":\"scatter\"}],\"scatter3d\":[{\"line\":{\"colorbar\":{\"outlinewidth\":0,\"ticks\":\"\"}},\"marker\":{\"colorbar\":{\"outlinewidth\":0,\"ticks\":\"\"}},\"type\":\"scatter3d\"}],\"scattercarpet\":[{\"marker\":{\"colorbar\":{\"outlinewidth\":0,\"ticks\":\"\"}},\"type\":\"scattercarpet\"}],\"scattergeo\":[{\"marker\":{\"colorbar\":{\"outlinewidth\":0,\"ticks\":\"\"}},\"type\":\"scattergeo\"}],\"scattergl\":[{\"marker\":{\"colorbar\":{\"outlinewidth\":0,\"ticks\":\"\"}},\"type\":\"scattergl\"}],\"scattermapbox\":[{\"marker\":{\"colorbar\":{\"outlinewidth\":0,\"ticks\":\"\"}},\"type\":\"scattermapbox\"}],\"scatterpolar\":[{\"marker\":{\"colorbar\":{\"outlinewidth\":0,\"ticks\":\"\"}},\"type\":\"scatterpolar\"}],\"scatterpolargl\":[{\"marker\":{\"colorbar\":{\"outlinewidth\":0,\"ticks\":\"\"}},\"type\":\"scatterpolargl\"}],\"scatterternary\":[{\"marker\":{\"colorbar\":{\"outlinewidth\":0,\"ticks\":\"\"}},\"type\":\"scatterternary\"}],\"surface\":[{\"colorbar\":{\"outlinewidth\":0,\"ticks\":\"\"},\"colorscale\":[[0.0,\"#0d0887\"],[0.1111111111111111,\"#46039f\"],[0.2222222222222222,\"#7201a8\"],[0.3333333333333333,\"#9c179e\"],[0.4444444444444444,\"#bd3786\"],[0.5555555555555556,\"#d8576b\"],[0.6666666666666666,\"#ed7953\"],[0.7777777777777778,\"#fb9f3a\"],[0.8888888888888888,\"#fdca26\"],[1.0,\"#f0f921\"]],\"type\":\"surface\"}],\"table\":[{\"cells\":{\"fill\":{\"color\":\"#EBF0F8\"},\"line\":{\"color\":\"white\"}},\"header\":{\"fill\":{\"color\":\"#C8D4E3\"},\"line\":{\"color\":\"white\"}},\"type\":\"table\"}]},\"layout\":{\"annotationdefaults\":{\"arrowcolor\":\"#2a3f5f\",\"arrowhead\":0,\"arrowwidth\":1},\"autotypenumbers\":\"strict\",\"coloraxis\":{\"colorbar\":{\"outlinewidth\":0,\"ticks\":\"\"}},\"colorscale\":{\"diverging\":[[0,\"#8e0152\"],[0.1,\"#c51b7d\"],[0.2,\"#de77ae\"],[0.3,\"#f1b6da\"],[0.4,\"#fde0ef\"],[0.5,\"#f7f7f7\"],[0.6,\"#e6f5d0\"],[0.7,\"#b8e186\"],[0.8,\"#7fbc41\"],[0.9,\"#4d9221\"],[1,\"#276419\"]],\"sequential\":[[0.0,\"#0d0887\"],[0.1111111111111111,\"#46039f\"],[0.2222222222222222,\"#7201a8\"],[0.3333333333333333,\"#9c179e\"],[0.4444444444444444,\"#bd3786\"],[0.5555555555555556,\"#d8576b\"],[0.6666666666666666,\"#ed7953\"],[0.7777777777777778,\"#fb9f3a\"],[0.8888888888888888,\"#fdca26\"],[1.0,\"#f0f921\"]],\"sequentialminus\":[[0.0,\"#0d0887\"],[0.1111111111111111,\"#46039f\"],[0.2222222222222222,\"#7201a8\"],[0.3333333333333333,\"#9c179e\"],[0.4444444444444444,\"#bd3786\"],[0.5555555555555556,\"#d8576b\"],[0.6666666666666666,\"#ed7953\"],[0.7777777777777778,\"#fb9f3a\"],[0.8888888888888888,\"#fdca26\"],[1.0,\"#f0f921\"]]},\"colorway\":[\"#636efa\",\"#EF553B\",\"#00cc96\",\"#ab63fa\",\"#FFA15A\",\"#19d3f3\",\"#FF6692\",\"#B6E880\",\"#FF97FF\",\"#FECB52\"],\"font\":{\"color\":\"#2a3f5f\"},\"geo\":{\"bgcolor\":\"white\",\"lakecolor\":\"white\",\"landcolor\":\"#E5ECF6\",\"showlakes\":true,\"showland\":true,\"subunitcolor\":\"white\"},\"hoverlabel\":{\"align\":\"left\"},\"hovermode\":\"closest\",\"mapbox\":{\"style\":\"light\"},\"paper_bgcolor\":\"white\",\"plot_bgcolor\":\"#E5ECF6\",\"polar\":{\"angularaxis\":{\"gridcolor\":\"white\",\"linecolor\":\"white\",\"ticks\":\"\"},\"bgcolor\":\"#E5ECF6\",\"radialaxis\":{\"gridcolor\":\"white\",\"linecolor\":\"white\",\"ticks\":\"\"}},\"scene\":{\"xaxis\":{\"backgroundcolor\":\"#E5ECF6\",\"gridcolor\":\"white\",\"gridwidth\":2,\"linecolor\":\"white\",\"showbackground\":true,\"ticks\":\"\",\"zerolinecolor\":\"white\"},\"yaxis\":{\"backgroundcolor\":\"#E5ECF6\",\"gridcolor\":\"white\",\"gridwidth\":2,\"linecolor\":\"white\",\"showbackground\":true,\"ticks\":\"\",\"zerolinecolor\":\"white\"},\"zaxis\":{\"backgroundcolor\":\"#E5ECF6\",\"gridcolor\":\"white\",\"gridwidth\":2,\"linecolor\":\"white\",\"showbackground\":true,\"ticks\":\"\",\"zerolinecolor\":\"white\"}},\"shapedefaults\":{\"line\":{\"color\":\"#2a3f5f\"}},\"ternary\":{\"aaxis\":{\"gridcolor\":\"white\",\"linecolor\":\"white\",\"ticks\":\"\"},\"baxis\":{\"gridcolor\":\"white\",\"linecolor\":\"white\",\"ticks\":\"\"},\"bgcolor\":\"#E5ECF6\",\"caxis\":{\"gridcolor\":\"white\",\"linecolor\":\"white\",\"ticks\":\"\"}},\"title\":{\"x\":0.05},\"xaxis\":{\"automargin\":true,\"gridcolor\":\"white\",\"linecolor\":\"white\",\"ticks\":\"\",\"title\":{\"standoff\":15},\"zerolinecolor\":\"white\",\"zerolinewidth\":2},\"yaxis\":{\"automargin\":true,\"gridcolor\":\"white\",\"linecolor\":\"white\",\"ticks\":\"\",\"title\":{\"standoff\":15},\"zerolinecolor\":\"white\",\"zerolinewidth\":2}}},\"xaxis\":{\"anchor\":\"y\",\"domain\":[0.0,1.0]},\"yaxis\":{\"anchor\":\"x\",\"domain\":[0.575,1.0],\"title\":{\"text\":\"\\uac00\\uc785\\uc720\\uc800\\uc218(\\uba85)\"}},\"xaxis2\":{\"anchor\":\"y2\",\"domain\":[0.0,1.0]},\"yaxis2\":{\"anchor\":\"x2\",\"domain\":[0.0,0.425],\"title\":{\"text\":\"ROAS\"},\"tickformat\":\".0%\",\"range\":[0,3]},\"height\":900,\"title\":{\"font\":{\"size\":13},\"text\":\"<b>< \\uc6d4\\uac04 \\uac00\\uc785\\uc720\\uc800 LTV, ROAS ><b>\",\"x\":0.5,\"y\":0.95}},                        {\"responsive\": true}                    ).then(function(){\n",
              "                            \n",
              "var gd = document.getElementById('c4d4bb59-60ac-4397-b7d2-30c5d3b716fc');\n",
              "var x = new MutationObserver(function (mutations, observer) {{\n",
              "        var display = window.getComputedStyle(gd).display;\n",
              "        if (!display || display === 'none') {{\n",
              "            console.log([gd, 'removed!']);\n",
              "            Plotly.purge(gd);\n",
              "            observer.disconnect();\n",
              "        }}\n",
              "}});\n",
              "\n",
              "// Listen for the removal of the full notebook cells\n",
              "var notebookContainer = gd.closest('#notebook-container');\n",
              "if (notebookContainer) {{\n",
              "    x.observe(notebookContainer, {childList: true});\n",
              "}}\n",
              "\n",
              "// Listen for the clearing of the current output cell\n",
              "var outputEl = gd.closest('.output');\n",
              "if (outputEl) {{\n",
              "    x.observe(outputEl, {childList: true});\n",
              "}}\n",
              "\n",
              "                        })                };                            </script>        </div>\n",
              "</body>\n",
              "</html>"
            ]
          },
          "metadata": {}
        }
      ]
    }
  ]
}