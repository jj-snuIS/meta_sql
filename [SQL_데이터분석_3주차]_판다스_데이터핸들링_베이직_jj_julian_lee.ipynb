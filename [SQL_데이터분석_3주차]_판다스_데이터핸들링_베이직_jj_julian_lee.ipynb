{
  "nbformat": 4,
  "nbformat_minor": 0,
  "metadata": {
    "colab": {
      "provenance": [],
      "toc_visible": true,
      "include_colab_link": true
    },
    "kernelspec": {
      "name": "python3",
      "display_name": "Python 3"
    },
    "language_info": {
      "name": "python"
    }
  },
  "cells": [
    {
      "cell_type": "markdown",
      "metadata": {
        "id": "view-in-github",
        "colab_type": "text"
      },
      "source": [
        "<a href=\"https://colab.research.google.com/github/jj-snuIS/meta_sql/blob/main/%5BSQL_%EB%8D%B0%EC%9D%B4%ED%84%B0%EB%B6%84%EC%84%9D_3%EC%A3%BC%EC%B0%A8%5D_%ED%8C%90%EB%8B%A4%EC%8A%A4_%EB%8D%B0%EC%9D%B4%ED%84%B0%ED%95%B8%EB%93%A4%EB%A7%81_%EB%B2%A0%EC%9D%B4%EC%A7%81_jj_julian_lee.ipynb\" target=\"_parent\"><img src=\"https://colab.research.google.com/assets/colab-badge.svg\" alt=\"Open In Colab\"/></a>"
      ]
    },
    {
      "cell_type": "markdown",
      "source": [
        "# 기본 설정"
      ],
      "metadata": {
        "id": "0jy7hWyY5X6X"
      }
    },
    {
      "cell_type": "markdown",
      "source": [
        "## 기본 라이브러리 import"
      ],
      "metadata": {
        "id": "R1R4UcsbZU8r"
      }
    },
    {
      "cell_type": "code",
      "source": [
        "import pandas as pd\n",
        "import numpy as np"
      ],
      "metadata": {
        "id": "JoA4edWMae3q"
      },
      "execution_count": null,
      "outputs": []
    },
    {
      "cell_type": "markdown",
      "source": [
        "## BigQuery 연동을 위한 기본 설정"
      ],
      "metadata": {
        "id": "Qak1JKpTZZPr"
      }
    },
    {
      "cell_type": "code",
      "execution_count": null,
      "metadata": {
        "id": "AM5RuPJYZUtS"
      },
      "outputs": [],
      "source": [
        "from google.colab import auth\n",
        "from google.cloud import bigquery\n",
        "from google.colab import data_table\n",
        "\n",
        "project = 'crested-drive-372522' # Project ID inserted based on the query results selected to explore\n",
        "location = 'US' # Location inserted based on the query results selected to explore\n",
        "client = bigquery.Client(project=project, location=location)\n",
        "data_table.enable_dataframe_formatter()\n",
        "auth.authenticate_user()"
      ]
    },
    {
      "cell_type": "markdown",
      "source": [
        "## BigQuery 데이터 불러오기\n",
        "- `loginUsersDf`: 일간 로그인 유저 데이터프레임\n",
        "- `ordersDf`: 일간 주문 정보 데이터프레임\n",
        "- `salesByShopDf`: 매장별 누적매출 데이터프레임\n",
        "- `shopsDf`: 픽업 매장 정보 데이터프레임"
      ],
      "metadata": {
        "id": "oCCDQkC9Zeud"
      }
    },
    {
      "cell_type": "code",
      "source": [
        "query_job = client.query(\"\"\"\n",
        "    select *\n",
        "    from `crested-drive-372522.my_temp.daily_login_users`\n",
        "\"\"\")\n",
        "\n",
        "loginUsersDf = query_job.to_dataframe()\n",
        "loginUsersDf['login_date'] = loginUsersDf['login_date'].astype('datetime64') #datetime 타입으로 변환(외부에서 불러온 날짜데이터의 경우 datetime이 아닌 다른 형식으로 들어오는 경우가 종종 있음)\n",
        "#------------------------------------------------------------------------------------------------------------------------------------------------#\n",
        "query_job = client.query(\"\"\"\n",
        "    select *\n",
        "    from `crested-drive-372522.my_temp.daily_orders`\n",
        "\"\"\")\n",
        "\n",
        "ordersDf = query_job.to_dataframe()\n",
        "ordersDf['order_date'] = ordersDf['order_date'].astype('datetime64') \n",
        "\n",
        "#------------------------------------------------------------------------------------------------------------------------------------------------#\n",
        "query_job = client.query(\"\"\"\n",
        "    select pickup_shop_name, sum(payment_amount) as sales, count(distinct user_id) as pu\n",
        "    from `crested-drive-372522.localparm_dw.orders`\n",
        "    group by pickup_shop_name\n",
        "\"\"\")\n",
        "\n",
        "salesByShopDf = query_job.to_dataframe()\n",
        "\n",
        "#------------------------------------------------------------------------------------------------------------------------------------------------#\n",
        "query_job = client.query(\"\"\"\n",
        "    select *\n",
        "    from `crested-drive-372522.localparm_dw.pickup_shop`\n",
        "\"\"\")\n",
        "shopsDf = query_job.to_dataframe()"
      ],
      "metadata": {
        "id": "bx0fFkHaZldA"
      },
      "execution_count": null,
      "outputs": []
    },
    {
      "cell_type": "markdown",
      "source": [
        "# 데이터 살펴보기"
      ],
      "metadata": {
        "id": "wtgbpFnU5wqb"
      }
    },
    {
      "cell_type": "markdown",
      "source": [
        "## 일부만 출력 - head(), tail() ⭐️\n",
        "- colab에서 출력가능한 데이터프레임은 최대 20,000행 입니다.\n",
        "- colab에서 데이터프레임을 출력할 경우 `filter` 기능도 사용할 수 있습니다. 같이 살펴볼까요?"
      ],
      "metadata": {
        "id": "2K-jSBdOZAd7"
      }
    },
    {
      "cell_type": "code",
      "source": [
        "ordersDf.head(4)"
      ],
      "metadata": {
        "id": "de31lX3R3Cqa"
      },
      "execution_count": null,
      "outputs": []
    },
    {
      "cell_type": "markdown",
      "source": [
        "## 타입 확인 - type()"
      ],
      "metadata": {
        "id": "QF3d2Cq2ZpNC"
      }
    },
    {
      "cell_type": "code",
      "source": [
        "print(type(ordersDf)) # <class 'pandas.core.frame.DataFrame'>"
      ],
      "metadata": {
        "id": "Yjg0YHyAZ4fN"
      },
      "execution_count": null,
      "outputs": []
    },
    {
      "cell_type": "markdown",
      "source": [
        "## 데이터의 분포를 확인 - value_counts() ⭐️"
      ],
      "metadata": {
        "id": "yWGbF3CFZLsS"
      }
    },
    {
      "cell_type": "code",
      "source": [
        "ordersDf['pickup_shop_name'].value_counts()\n",
        "\n",
        "# << Series를 DataFrame으로 만들어서 보면 보기/다루기 편하죠 아래 코드를 '.' 단위로 나눠서 실행해 볼까요? >>\n",
        "# ordersDf[['pickup_shop_name', 'product_id']].value_counts().to_frame().reset_index().rename(columns={0:'order_count'}).head()"
      ],
      "metadata": {
        "id": "vSOtOEM9Ay00"
      },
      "execution_count": null,
      "outputs": []
    },
    {
      "cell_type": "markdown",
      "source": [
        "## 데이터의 타입, 갯수, 각 컬럼별 정보를 확인 - df.info()\n",
        "- 참고: Series의 경우 info() attribute이 없기때문에 사용할 수 없습니다."
      ],
      "metadata": {
        "id": "Gn-1Zru6aDrj"
      }
    },
    {
      "cell_type": "code",
      "source": [
        "ordersDf.info()"
      ],
      "metadata": {
        "id": "iImqe5uaBJkQ"
      },
      "execution_count": null,
      "outputs": []
    },
    {
      "cell_type": "markdown",
      "source": [
        "## 컬럼별 요약 통계 제공 - df.describe() ⭐️\n",
        "- 공식문서: https://pandas.pydata.org/docs/reference/api/pandas.DataFrame.describe.html\n",
        "- include파라미터의 default설정은 `number`(수치형)이며, `object`(문자형), `all`(모두) 옵션 선택 가능 \n",
        "- 문자형 컬럼에 대한 통계량\n",
        "  - `count`: 데이터 개수(중복 포함)\n",
        "  - `unique`: 데이터 개수(중복 제외)\n",
        "  - `top`: 가장 많은 빈도수를 갖는 값\n",
        "  - `freq`: top에서 관측된 값의 빈도수\n",
        "- Timestamp 타입의 컬럼에게는 first, last 값도 통계량으로 함께 제공"
      ],
      "metadata": {
        "id": "8rINoVuOYp9h"
      }
    },
    {
      "cell_type": "code",
      "source": [
        "# << 수치형 컬럼에 대한 통계량 확인 >>\n",
        "ordersDf.describe() \n",
        "\n",
        "# << 문자열 컬럼에 대한 통계량 확인 >>\n",
        "# ordersDf.describe(include='object')\n",
        "\n",
        "# << 전체 컬럼에 대한 통계량 확인 >>\n",
        "# ordersDf.describe(include='all')\n"
      ],
      "metadata": {
        "id": "6RDvbfq9CLA8"
      },
      "execution_count": null,
      "outputs": []
    },
    {
      "cell_type": "markdown",
      "source": [
        "## 데이터프레임의 컬럼별 타입 확인 - df.dtypes\n",
        "- 참고 : Pandas는 문자열 자료형을 `object라는` 이름으로 인식하고, Python은 `string`이라는 이름으로 인식"
      ],
      "metadata": {
        "id": "60nHPUjRaLNr"
      }
    },
    {
      "cell_type": "code",
      "source": [
        "print(ordersDf.dtypes)"
      ],
      "metadata": {
        "id": "jQbpoVRO6ysp",
        "colab": {
          "base_uri": "https://localhost:8080/"
        },
        "outputId": "2f06a62f-2508-427a-92da-e261e0f2d9af"
      },
      "execution_count": null,
      "outputs": [
        {
          "output_type": "stream",
          "name": "stdout",
          "text": [
            "order_id                    object\n",
            "order_date          datetime64[ns]\n",
            "order_year_month            object\n",
            "product_id                  object\n",
            "user_id                     object\n",
            "payment_amount               Int64\n",
            "payment_status              object\n",
            "pickup_shop_name            object\n",
            "dtype: object\n"
          ]
        }
      ]
    },
    {
      "cell_type": "markdown",
      "source": [
        "## 데이터프레임의 (행x열) 크기 확인 - df.shape ⭐️\n",
        "- 함수가 아닌 DataFrame의 속성(Attributes)을 확인하는 경우는 ()를 붙이지 않습니다.\n",
        "- loc[], iloc[] 처럼 속성 사용시 대괄호가 붙는 경우도 있으니 속성별 사용방법은 공식문서를 참고해주세요 💪\n",
        "- [참고] 공식문서 : https://pandas.pydata.org/docs/reference/api/pandas.DataFrame.html"
      ],
      "metadata": {
        "id": "TGEdf1tkaUoC"
      }
    },
    {
      "cell_type": "code",
      "source": [
        "print(ordersDf.shape) # (행 크기, 열 크기)"
      ],
      "metadata": {
        "id": "I7RD2wnK6iwJ"
      },
      "execution_count": null,
      "outputs": []
    },
    {
      "cell_type": "markdown",
      "source": [
        "## 데이터프레임의 컬럼명 확인 - df.columns"
      ],
      "metadata": {
        "id": "Oz_duHnOaaPY"
      }
    },
    {
      "cell_type": "code",
      "source": [
        "print(ordersDf.columns)"
      ],
      "metadata": {
        "id": "eXb8T7jv6yqU"
      },
      "execution_count": null,
      "outputs": []
    },
    {
      "cell_type": "markdown",
      "source": [
        "# 데이터 정렬하기"
      ],
      "metadata": {
        "id": "IKE8PrzLJ41b"
      }
    },
    {
      "cell_type": "markdown",
      "source": [
        "## 인덱스 정렬 - sort_indx()\n",
        "- 인덱스를 기준으로 데이터를 정렬합니다.\n",
        "- 기본 정렬은 오름차순이며, `ascending=False`를 통해 내림차순 정렬 가능."
      ],
      "metadata": {
        "id": "r1XtdO7zKCFI"
      }
    },
    {
      "cell_type": "code",
      "source": [
        "# << 샵별 상품별 주문건수 데이터프레임 생성 >>\n",
        "shopAndProductCountDf = ordersDf[['pickup_shop_name', 'product_id']].value_counts().to_frame().reset_index().rename(columns={0:'order_count'}) \n",
        "\n",
        "# << index 값을 기준으로 정렬 >>\n",
        "shopAndProductCountDf.sort_index(ascending=False).head()"
      ],
      "metadata": {
        "id": "Loj2161NKBh8"
      },
      "execution_count": null,
      "outputs": []
    },
    {
      "cell_type": "markdown",
      "source": [
        "## 값 정렬 - sort_values() ⭐️\n",
        "- 값을 기준으로 정렬되며 기준값은 by로 설정합니다.\n",
        "- by에는 2개 이상의 컬럼을 설정할 수 있습니다.\n",
        "- 기본 정렬은 오름차순이며, `ascending=False`를 통해 내림차순 정렬 적용 가능."
      ],
      "metadata": {
        "id": "CidXXH1GKLFI"
      }
    },
    {
      "cell_type": "code",
      "source": [
        "# << 단일컬럼 정렬 >>\n",
        "shopAndProductCountDf.sort_values(by='order_count', ascending=False).head()\n",
        "\n",
        "# << 다중컬럼 정렬 >>\n",
        "# shopAndProductCountDf.sort_values(by=['pickup_shop_name', 'order_count'], ascending=False).head()\n",
        "\n",
        "# << 다중컬럼 정렬 - 컬럼별 정렬순서 설정 >>\n",
        "# shopAndProductCountDf.sort_values(by=['pickup_shop_name', 'order_count'], ascending=[True, False]).head() # 컬럼별 정렬 개별적용도 가능"
      ],
      "metadata": {
        "id": "1eZFFafLJ9s3"
      },
      "execution_count": null,
      "outputs": []
    },
    {
      "cell_type": "markdown",
      "source": [
        "# 데이터 뽑아내기 & 핸들링 하기"
      ],
      "metadata": {
        "id": "V34Lf6KI8ISw"
      }
    },
    {
      "cell_type": "markdown",
      "source": [
        "## 데이터프레임에서 일부 컬럼을 선택 ⭐️\n",
        "- 데이터프레임에서 하나의 컬럼을 선택하면 `Series` 형태가 됩니다.\n",
        "- 데이터프레임에서 두개 이상의 컬럼을 선택하면 `DataFrame` 형태가 됩니다."
      ],
      "metadata": {
        "id": "vjcBqUqhajHp"
      }
    },
    {
      "cell_type": "code",
      "source": [
        "# << 데이터프레임에서 단일컬럼 뽑아내기 >>\n",
        "orderIdDf = ordersDf['order_id'] # 하나의 열만 선택해서 orderIdDf에 할당하는 경우\n",
        "orderIdDf.head() # Series도 head, tail 메소드를 가지고 있기 때문에. DataFrame과 동일하게 사용 가능\n",
        "\n",
        "# << orderIdDf의 타입 확인 >>\n",
        "# print(type(orderIdDf))"
      ],
      "metadata": {
        "id": "aRiQ33A96yvA"
      },
      "execution_count": null,
      "outputs": []
    },
    {
      "cell_type": "code",
      "source": [
        "# << 데이터프레임에서 다중컬럼 뽑아내기 >>\n",
        "subOrdersDf = ordersDf[['order_id', 'order_date', 'user_id', 'payment_amount']] # 다수의 컬럼을 선택할때는 리스트[] 안에 컬럼을 감싼 상태로 전달해야 합니다.\n",
        "subOrdersDf.head(3)\n",
        "\n",
        "# << subOrdersDf의 타입 확인 >>\n",
        "# print(subOrdersDf.dtypes)\n",
        "# print(type(subOrdersDf)) "
      ],
      "metadata": {
        "id": "hm-VdG3q6yxG"
      },
      "execution_count": null,
      "outputs": []
    },
    {
      "cell_type": "markdown",
      "source": [
        "## df.copy() ⭐️\n",
        "- 데이터프레임을 복제할 때 사용됩니다.\n",
        "- copy() 없이 복제한 데이터프레임을 수정할 경우, 원본 데이터프레임도 함께 수정되므로 원본데이터의 형태 유지가 중요한 경우라면 사본 생성시 copy()를 사용해주세요. "
      ],
      "metadata": {
        "id": "orv0enSzk5iy"
      }
    },
    {
      "cell_type": "code",
      "source": [
        "shopsDf"
      ],
      "metadata": {
        "colab": {
          "base_uri": "https://localhost:8080/",
          "height": 262
        },
        "id": "eimn1cCwmyBj",
        "outputId": "675591fe-234f-41a5-db1a-d75967330c47"
      },
      "execution_count": null,
      "outputs": [
        {
          "output_type": "execute_result",
          "data": {
            "text/plain": [
              "  pickup_shop_name region_1depth_name region_2depth_name region_3depth_name  \\\n",
              "0  픽업존(다이소 난곡사거리점)                 서울                관악구                신림동   \n",
              "1       픽업존(메이비카페)                 서울                구로구                구로동   \n",
              "2  픽업존(서울드림신용협동조합)                 서울                구로구               신도림동   \n",
              "3        픽업존(유승상가)                 서울                양천구                 목동   \n",
              "4  픽업존(GS25 목동3동점)                 서울                양천구                 목동   \n",
              "5   픽업존(참맛부대찌개아구찜)                 서울               영등포구              문래동3가   \n",
              "6    픽업존(GS영등포당산점)                 서울               영등포구              당산동5가   \n",
              "7       픽업존(더현대서울)                 서울               영등포구               여의도동   \n",
              "\n",
              "       h_code          x           y  \n",
              "0  1162076500  37.481460  126.914207  \n",
              "1  1153054000  37.484929  126.900259  \n",
              "2  1153051000  37.509568  126.882036  \n",
              "3  1147055000  37.539895  126.881942  \n",
              "4  1147053000  37.546389  126.864435  \n",
              "5  1156060500  37.516276  126.897390  \n",
              "6  1156056000  37.532379  126.896801  \n",
              "7  1156054000  37.525191  126.929113  "
            ],
            "text/html": [
              "\n",
              "  <div id=\"df-05e378c4-e23d-4f41-b242-e2d40a34e12e\">\n",
              "    <div class=\"colab-df-container\">\n",
              "      <div>\n",
              "<style scoped>\n",
              "    .dataframe tbody tr th:only-of-type {\n",
              "        vertical-align: middle;\n",
              "    }\n",
              "\n",
              "    .dataframe tbody tr th {\n",
              "        vertical-align: top;\n",
              "    }\n",
              "\n",
              "    .dataframe thead th {\n",
              "        text-align: right;\n",
              "    }\n",
              "</style>\n",
              "<table border=\"1\" class=\"dataframe\">\n",
              "  <thead>\n",
              "    <tr style=\"text-align: right;\">\n",
              "      <th></th>\n",
              "      <th>pickup_shop_name</th>\n",
              "      <th>region_1depth_name</th>\n",
              "      <th>region_2depth_name</th>\n",
              "      <th>region_3depth_name</th>\n",
              "      <th>h_code</th>\n",
              "      <th>x</th>\n",
              "      <th>y</th>\n",
              "    </tr>\n",
              "  </thead>\n",
              "  <tbody>\n",
              "    <tr>\n",
              "      <th>0</th>\n",
              "      <td>픽업존(다이소 난곡사거리점)</td>\n",
              "      <td>서울</td>\n",
              "      <td>관악구</td>\n",
              "      <td>신림동</td>\n",
              "      <td>1162076500</td>\n",
              "      <td>37.481460</td>\n",
              "      <td>126.914207</td>\n",
              "    </tr>\n",
              "    <tr>\n",
              "      <th>1</th>\n",
              "      <td>픽업존(메이비카페)</td>\n",
              "      <td>서울</td>\n",
              "      <td>구로구</td>\n",
              "      <td>구로동</td>\n",
              "      <td>1153054000</td>\n",
              "      <td>37.484929</td>\n",
              "      <td>126.900259</td>\n",
              "    </tr>\n",
              "    <tr>\n",
              "      <th>2</th>\n",
              "      <td>픽업존(서울드림신용협동조합)</td>\n",
              "      <td>서울</td>\n",
              "      <td>구로구</td>\n",
              "      <td>신도림동</td>\n",
              "      <td>1153051000</td>\n",
              "      <td>37.509568</td>\n",
              "      <td>126.882036</td>\n",
              "    </tr>\n",
              "    <tr>\n",
              "      <th>3</th>\n",
              "      <td>픽업존(유승상가)</td>\n",
              "      <td>서울</td>\n",
              "      <td>양천구</td>\n",
              "      <td>목동</td>\n",
              "      <td>1147055000</td>\n",
              "      <td>37.539895</td>\n",
              "      <td>126.881942</td>\n",
              "    </tr>\n",
              "    <tr>\n",
              "      <th>4</th>\n",
              "      <td>픽업존(GS25 목동3동점)</td>\n",
              "      <td>서울</td>\n",
              "      <td>양천구</td>\n",
              "      <td>목동</td>\n",
              "      <td>1147053000</td>\n",
              "      <td>37.546389</td>\n",
              "      <td>126.864435</td>\n",
              "    </tr>\n",
              "    <tr>\n",
              "      <th>5</th>\n",
              "      <td>픽업존(참맛부대찌개아구찜)</td>\n",
              "      <td>서울</td>\n",
              "      <td>영등포구</td>\n",
              "      <td>문래동3가</td>\n",
              "      <td>1156060500</td>\n",
              "      <td>37.516276</td>\n",
              "      <td>126.897390</td>\n",
              "    </tr>\n",
              "    <tr>\n",
              "      <th>6</th>\n",
              "      <td>픽업존(GS영등포당산점)</td>\n",
              "      <td>서울</td>\n",
              "      <td>영등포구</td>\n",
              "      <td>당산동5가</td>\n",
              "      <td>1156056000</td>\n",
              "      <td>37.532379</td>\n",
              "      <td>126.896801</td>\n",
              "    </tr>\n",
              "    <tr>\n",
              "      <th>7</th>\n",
              "      <td>픽업존(더현대서울)</td>\n",
              "      <td>서울</td>\n",
              "      <td>영등포구</td>\n",
              "      <td>여의도동</td>\n",
              "      <td>1156054000</td>\n",
              "      <td>37.525191</td>\n",
              "      <td>126.929113</td>\n",
              "    </tr>\n",
              "  </tbody>\n",
              "</table>\n",
              "</div>\n",
              "      <button class=\"colab-df-convert\" onclick=\"convertToInteractive('df-05e378c4-e23d-4f41-b242-e2d40a34e12e')\"\n",
              "              title=\"Convert this dataframe to an interactive table.\"\n",
              "              style=\"display:none;\">\n",
              "        \n",
              "  <svg xmlns=\"http://www.w3.org/2000/svg\" height=\"24px\"viewBox=\"0 0 24 24\"\n",
              "       width=\"24px\">\n",
              "    <path d=\"M0 0h24v24H0V0z\" fill=\"none\"/>\n",
              "    <path d=\"M18.56 5.44l.94 2.06.94-2.06 2.06-.94-2.06-.94-.94-2.06-.94 2.06-2.06.94zm-11 1L8.5 8.5l.94-2.06 2.06-.94-2.06-.94L8.5 2.5l-.94 2.06-2.06.94zm10 10l.94 2.06.94-2.06 2.06-.94-2.06-.94-.94-2.06-.94 2.06-2.06.94z\"/><path d=\"M17.41 7.96l-1.37-1.37c-.4-.4-.92-.59-1.43-.59-.52 0-1.04.2-1.43.59L10.3 9.45l-7.72 7.72c-.78.78-.78 2.05 0 2.83L4 21.41c.39.39.9.59 1.41.59.51 0 1.02-.2 1.41-.59l7.78-7.78 2.81-2.81c.8-.78.8-2.07 0-2.86zM5.41 20L4 18.59l7.72-7.72 1.47 1.35L5.41 20z\"/>\n",
              "  </svg>\n",
              "      </button>\n",
              "      \n",
              "  <style>\n",
              "    .colab-df-container {\n",
              "      display:flex;\n",
              "      flex-wrap:wrap;\n",
              "      gap: 12px;\n",
              "    }\n",
              "\n",
              "    .colab-df-convert {\n",
              "      background-color: #E8F0FE;\n",
              "      border: none;\n",
              "      border-radius: 50%;\n",
              "      cursor: pointer;\n",
              "      display: none;\n",
              "      fill: #1967D2;\n",
              "      height: 32px;\n",
              "      padding: 0 0 0 0;\n",
              "      width: 32px;\n",
              "    }\n",
              "\n",
              "    .colab-df-convert:hover {\n",
              "      background-color: #E2EBFA;\n",
              "      box-shadow: 0px 1px 2px rgba(60, 64, 67, 0.3), 0px 1px 3px 1px rgba(60, 64, 67, 0.15);\n",
              "      fill: #174EA6;\n",
              "    }\n",
              "\n",
              "    [theme=dark] .colab-df-convert {\n",
              "      background-color: #3B4455;\n",
              "      fill: #D2E3FC;\n",
              "    }\n",
              "\n",
              "    [theme=dark] .colab-df-convert:hover {\n",
              "      background-color: #434B5C;\n",
              "      box-shadow: 0px 1px 3px 1px rgba(0, 0, 0, 0.15);\n",
              "      filter: drop-shadow(0px 1px 2px rgba(0, 0, 0, 0.3));\n",
              "      fill: #FFFFFF;\n",
              "    }\n",
              "  </style>\n",
              "\n",
              "      <script>\n",
              "        const buttonEl =\n",
              "          document.querySelector('#df-05e378c4-e23d-4f41-b242-e2d40a34e12e button.colab-df-convert');\n",
              "        buttonEl.style.display =\n",
              "          google.colab.kernel.accessAllowed ? 'block' : 'none';\n",
              "\n",
              "        async function convertToInteractive(key) {\n",
              "          const element = document.querySelector('#df-05e378c4-e23d-4f41-b242-e2d40a34e12e');\n",
              "          const dataTable =\n",
              "            await google.colab.kernel.invokeFunction('convertToInteractive',\n",
              "                                                     [key], {});\n",
              "          if (!dataTable) return;\n",
              "\n",
              "          const docLinkHtml = 'Like what you see? Visit the ' +\n",
              "            '<a target=\"_blank\" href=https://colab.research.google.com/notebooks/data_table.ipynb>data table notebook</a>'\n",
              "            + ' to learn more about interactive tables.';\n",
              "          element.innerHTML = '';\n",
              "          dataTable['output_type'] = 'display_data';\n",
              "          await google.colab.output.renderOutput(dataTable, element);\n",
              "          const docLink = document.createElement('div');\n",
              "          docLink.innerHTML = docLinkHtml;\n",
              "          element.appendChild(docLink);\n",
              "        }\n",
              "      </script>\n",
              "    </div>\n",
              "  </div>\n",
              "  "
            ],
            "application/vnd.google.colaboratory.module+javascript": "\n      import \"https://ssl.gstatic.com/colaboratory/data_table/99dac6621f6ae8c4/data_table.js\";\n\n      window.createDataTable({\n        data: [[{\n            'v': 0,\n            'f': \"0\",\n        },\n\"\\ud53d\\uc5c5\\uc874(\\ub2e4\\uc774\\uc18c \\ub09c\\uace1\\uc0ac\\uac70\\ub9ac\\uc810)\",\n\"\\uc11c\\uc6b8\",\n\"\\uad00\\uc545\\uad6c\",\n\"\\uc2e0\\ub9bc\\ub3d9\",\n{\n            'v': 1162076500,\n            'f': \"1162076500\",\n        },\n{\n            'v': 37.48145951,\n            'f': \"37.48145951\",\n        },\n{\n            'v': 126.9142068,\n            'f': \"126.9142068\",\n        }],\n [{\n            'v': 1,\n            'f': \"1\",\n        },\n\"\\ud53d\\uc5c5\\uc874(\\uba54\\uc774\\ube44\\uce74\\ud398)\",\n\"\\uc11c\\uc6b8\",\n\"\\uad6c\\ub85c\\uad6c\",\n\"\\uad6c\\ub85c\\ub3d9\",\n{\n            'v': 1153054000,\n            'f': \"1153054000\",\n        },\n{\n            'v': 37.4849288,\n            'f': \"37.4849288\",\n        },\n{\n            'v': 126.9002594,\n            'f': \"126.9002594\",\n        }],\n [{\n            'v': 2,\n            'f': \"2\",\n        },\n\"\\ud53d\\uc5c5\\uc874(\\uc11c\\uc6b8\\ub4dc\\ub9bc\\uc2e0\\uc6a9\\ud611\\ub3d9\\uc870\\ud569)\",\n\"\\uc11c\\uc6b8\",\n\"\\uad6c\\ub85c\\uad6c\",\n\"\\uc2e0\\ub3c4\\ub9bc\\ub3d9\",\n{\n            'v': 1153051000,\n            'f': \"1153051000\",\n        },\n{\n            'v': 37.5095675,\n            'f': \"37.5095675\",\n        },\n{\n            'v': 126.8820361,\n            'f': \"126.8820361\",\n        }],\n [{\n            'v': 3,\n            'f': \"3\",\n        },\n\"\\ud53d\\uc5c5\\uc874(\\uc720\\uc2b9\\uc0c1\\uac00)\",\n\"\\uc11c\\uc6b8\",\n\"\\uc591\\ucc9c\\uad6c\",\n\"\\ubaa9\\ub3d9\",\n{\n            'v': 1147055000,\n            'f': \"1147055000\",\n        },\n{\n            'v': 37.5398954,\n            'f': \"37.5398954\",\n        },\n{\n            'v': 126.881942,\n            'f': \"126.881942\",\n        }],\n [{\n            'v': 4,\n            'f': \"4\",\n        },\n\"\\ud53d\\uc5c5\\uc874(GS25 \\ubaa9\\ub3d93\\ub3d9\\uc810)\",\n\"\\uc11c\\uc6b8\",\n\"\\uc591\\ucc9c\\uad6c\",\n\"\\ubaa9\\ub3d9\",\n{\n            'v': 1147053000,\n            'f': \"1147053000\",\n        },\n{\n            'v': 37.54638929,\n            'f': \"37.54638929\",\n        },\n{\n            'v': 126.8644345,\n            'f': \"126.8644345\",\n        }],\n [{\n            'v': 5,\n            'f': \"5\",\n        },\n\"\\ud53d\\uc5c5\\uc874(\\ucc38\\ub9db\\ubd80\\ub300\\ucc0c\\uac1c\\uc544\\uad6c\\ucc1c)\",\n\"\\uc11c\\uc6b8\",\n\"\\uc601\\ub4f1\\ud3ec\\uad6c\",\n\"\\ubb38\\ub798\\ub3d93\\uac00\",\n{\n            'v': 1156060500,\n            'f': \"1156060500\",\n        },\n{\n            'v': 37.51627575,\n            'f': \"37.51627575\",\n        },\n{\n            'v': 126.8973904,\n            'f': \"126.8973904\",\n        }],\n [{\n            'v': 6,\n            'f': \"6\",\n        },\n\"\\ud53d\\uc5c5\\uc874(GS\\uc601\\ub4f1\\ud3ec\\ub2f9\\uc0b0\\uc810)\",\n\"\\uc11c\\uc6b8\",\n\"\\uc601\\ub4f1\\ud3ec\\uad6c\",\n\"\\ub2f9\\uc0b0\\ub3d95\\uac00\",\n{\n            'v': 1156056000,\n            'f': \"1156056000\",\n        },\n{\n            'v': 37.53237867,\n            'f': \"37.53237867\",\n        },\n{\n            'v': 126.8968009,\n            'f': \"126.8968009\",\n        }],\n [{\n            'v': 7,\n            'f': \"7\",\n        },\n\"\\ud53d\\uc5c5\\uc874(\\ub354\\ud604\\ub300\\uc11c\\uc6b8)\",\n\"\\uc11c\\uc6b8\",\n\"\\uc601\\ub4f1\\ud3ec\\uad6c\",\n\"\\uc5ec\\uc758\\ub3c4\\ub3d9\",\n{\n            'v': 1156054000,\n            'f': \"1156054000\",\n        },\n{\n            'v': 37.52519132,\n            'f': \"37.52519132\",\n        },\n{\n            'v': 126.9291128,\n            'f': \"126.9291128\",\n        }]],\n        columns: [[\"number\", \"index\"], [\"string\", \"pickup_shop_name\"], [\"string\", \"region_1depth_name\"], [\"string\", \"region_2depth_name\"], [\"string\", \"region_3depth_name\"], [\"number\", \"h_code\"], [\"number\", \"x\"], [\"number\", \"y\"]],\n        columnOptions: [{\"width\": \"1px\", \"className\": \"index_column\"}],\n        rowsPerPage: 25,\n        helpUrl: \"https://colab.research.google.com/notebooks/data_table.ipynb\",\n        suppressOutputScrolling: true,\n        minimumWidth: undefined,\n      });\n    "
          },
          "metadata": {},
          "execution_count": 16
        }
      ]
    },
    {
      "cell_type": "code",
      "source": [
        "shopsDfCopy1 = shopsDf\n",
        "shopsDfCopy2 = shopsDf.copy()\n",
        "shopsDfCopy3 = shopsDf[['pickup_shop_name', 'h_code', 'x', 'y']]\n",
        "\n",
        "# << 각 데이터프레임의 메모리 주소 확인 >>\n",
        "id(shopsDf), id(shopsDfCopy1), id(shopsDfCopy2), id(shopsDfCopy3)"
      ],
      "metadata": {
        "colab": {
          "base_uri": "https://localhost:8080/"
        },
        "id": "SCXzjy0klyS0",
        "outputId": "f8813d19-0890-4cc6-a7a1-5dfebda662f4"
      },
      "execution_count": null,
      "outputs": [
        {
          "output_type": "execute_result",
          "data": {
            "text/plain": [
              "(140276469311280, 140276469311280, 140276452476192, 140276452474944)"
            ]
          },
          "metadata": {},
          "execution_count": 17
        }
      ]
    },
    {
      "cell_type": "markdown",
      "source": [
        "## df.loc[] ⭐️\n",
        "- `Access a group of rows and columns by label(s) or a boolean array`\n",
        "- 인덱스를 기준으로 행 데이터를 추출하는 방법\n",
        "- 협업이 많고 규모가 큰 프로젝트 일수록 iloc[] 보다는, `컬럼명을 명시적으로 작성해주는 loc[]를 사용하는 편.`"
      ],
      "metadata": {
        "id": "JBz-2p_Aaw1_"
      }
    },
    {
      "cell_type": "code",
      "source": [
        "ordersDf.head(10)"
      ],
      "metadata": {
        "id": "MGRYFhdF6y1h"
      },
      "execution_count": null,
      "outputs": []
    },
    {
      "cell_type": "code",
      "source": [
        "# << indexing >>\n",
        "# index = 8 & 하나의 컬럼 선택\n",
        "ordersDf.loc[8, 'order_id']"
      ],
      "metadata": {
        "colab": {
          "base_uri": "https://localhost:8080/",
          "height": 35
        },
        "id": "RZUdHee6eYLL",
        "outputId": "b527350f-a3e3-4af0-a2fe-bdb01ea9b72a"
      },
      "execution_count": null,
      "outputs": [
        {
          "output_type": "execute_result",
          "data": {
            "text/plain": [
              "'eb251887-798b-4777-aff3-35e5620a9465'"
            ],
            "application/vnd.google.colaboratory.intrinsic+json": {
              "type": "string"
            }
          },
          "metadata": {},
          "execution_count": 76
        }
      ]
    },
    {
      "cell_type": "code",
      "source": [
        "# << indexing >> \n",
        "# index = 8 & 여러개의 컬럼 선택\n",
        "ordersDf.loc[8, ['order_id', 'order_date', 'product_id', 'payment_amount']]"
      ],
      "metadata": {
        "id": "LljbglS-e9bn"
      },
      "execution_count": null,
      "outputs": []
    },
    {
      "cell_type": "code",
      "source": [
        "# << slicing >>\n",
        "# 이때, [시장(포함): 끝(포함)] 된다는 점에 유의!\n",
        "ordersDf.loc[4:7, 'order_id':'user_id']"
      ],
      "metadata": {
        "id": "zMhmodW3fH5y"
      },
      "execution_count": null,
      "outputs": []
    },
    {
      "cell_type": "code",
      "source": [
        "# << fnacy indexing >>\n",
        "ordersDf.loc[4:8, ['order_id', 'user_id']]\n",
        "ordersDf.loc[8, 'order_id':'user_id']"
      ],
      "metadata": {
        "id": "0R4XDP2bfIAr"
      },
      "execution_count": null,
      "outputs": []
    },
    {
      "cell_type": "code",
      "source": [
        "# << boolean indexing >>\n",
        "condition = ordersDf['product_id'] == '7680cebc-f48a-40f0-a2e9-b9d8c0354555'\n",
        "ordersDf[condition]"
      ],
      "metadata": {
        "id": "xoJYBgDNfIC-"
      },
      "execution_count": null,
      "outputs": []
    },
    {
      "cell_type": "code",
      "source": [
        "# << boolean indexing - 다중 조건 >>\n",
        "condition1 = ordersDf['product_id'] == '7680cebc-f48a-40f0-a2e9-b9d8c0354555'\n",
        "condition2 = ordersDf['order_date'] == '2022-07-15'\n",
        "ordersDf.loc[condition1 & condition2] # and <<- 31개 행\n",
        "ordersDf.loc[condition1 | condition2] # or  <<- 296개 행"
      ],
      "metadata": {
        "id": "vz7tajs7hvA0"
      },
      "execution_count": null,
      "outputs": []
    },
    {
      "cell_type": "markdown",
      "source": [
        "## df.iloc[]\n",
        "- `Purely integer-location based indexing for selection by position.`\n",
        "- df.loc[] 와 사용방법이 동일하지만, 인덱스가 아닌 행/열 번호를 기준으로 데이터를 추출\n",
        "- [참고] 인덱스와 행번호의 차이 🔥 \n",
        "  - 인덱스는 보통 0부터 시작하지만 중간에 데이터가 삭제되면 언제든 변할 수 있으며 숫자가 아니라 문자열도 사용할 수 있음\n",
        "  - 하지만 행/열 번호는 데이터의 순서를 따라가기 때문에 정수를 통해서만 데이터 조회/추출이 가능"
      ],
      "metadata": {
        "id": "70a5oJVEocuG"
      }
    },
    {
      "cell_type": "code",
      "source": [
        "# << indexing >>\n",
        "ordersDf.iloc[3, 3]"
      ],
      "metadata": {
        "id": "y5Jt43e2ic4A"
      },
      "execution_count": null,
      "outputs": []
    },
    {
      "cell_type": "code",
      "source": [
        "# << slicing >>\n",
        "# df.loc와 다르게 [시작(포함):끝(제외)] 된다는 점에 유의!\n",
        "ordersDf.iloc[4:7, 0:4]\n",
        "\n",
        "# << 비교용 - loc slicing >>\n",
        "# 이때, [시작(포함): 끝(포함)] 된다는 점에 유의!\n",
        "# ordersDf.loc[4:7, 'order_id':'user_id']"
      ],
      "metadata": {
        "id": "F9FJsd2grpwD"
      },
      "execution_count": null,
      "outputs": []
    },
    {
      "cell_type": "code",
      "source": [
        "# << fancy indexing >>\n",
        "ordersDf.iloc[[4, 5, 6], 0:4]"
      ],
      "metadata": {
        "id": "ZrcWUbcSic6j"
      },
      "execution_count": null,
      "outputs": []
    },
    {
      "cell_type": "markdown",
      "source": [
        "## Series.where\n",
        "- `Series.where(시리즈에 대한 조건문, 조건이 거짓일때 값)` 형태로 사용하며 \n",
        "- 조건이 참인 경우에 대해서는 `기존의 값을 유지한다.`\n"
      ],
      "metadata": {
        "id": "psVRS9S4tQiA"
      }
    },
    {
      "cell_type": "code",
      "source": [
        "# region_2depth_name 컬럼의 값이 '관악구'가 아닌 경우, 해당 컬럼의 다른 값들을 모두 999로 변경\n",
        "shopsDf['region_2depth_name'].where(shopsDf['region_2depth_name'] == '관악구', 999).to_frame()"
      ],
      "metadata": {
        "id": "kP5eIS9MhvDJ"
      },
      "execution_count": null,
      "outputs": []
    },
    {
      "cell_type": "code",
      "source": [
        "# region_2depth_name 컬럼의 값이 '관악구'가 아닌 경우, 해당 행을 제외한 나머지 행의 모든 컬럼의 값을 999로 변경\n",
        "shopsDf.where(shopsDf['region_2depth_name'] == '관악구', 999)"
      ],
      "metadata": {
        "id": "WfVBthfnulDs"
      },
      "execution_count": null,
      "outputs": []
    },
    {
      "cell_type": "markdown",
      "source": [
        "## np.where ⭐️\n",
        "- `np.where(배열에 대한 조건문, 조건이 참일때 값, 조건이 거짓일때 값)` 형태로 사용하며 배열 형태로 반환\n",
        "- `pd.where` 보다 유연하게 사용 가능\n"
      ],
      "metadata": {
        "id": "PO1d_dyOt9CM"
      }
    },
    {
      "cell_type": "code",
      "source": [
        "shopsDf"
      ],
      "metadata": {
        "id": "z8fOdd89vPxN"
      },
      "execution_count": null,
      "outputs": []
    },
    {
      "cell_type": "code",
      "source": [
        "# << 어떤 결과가 나오나요? >>\n",
        "np.where(shopsDf['region_2depth_name'] != '영등포구')\n",
        "\n",
        "# << 여기에 조건을 충족하는경우와, 아닌경우에 임의의 값을 넣어봅시다. >>\n",
        "# np.where(shopsDf['region_2depth_name'] != '영등포구', '충족하면_이렇게', '아니면_이렇게')\n",
        "# shopsDf['region_3depth_name'] = np.where(shopsDf['region_2depth_name'] != '영등포구', '충족하면_이렇게', '아니면_이렇게')\n",
        "# shopsDf"
      ],
      "metadata": {
        "id": "Yk5kUd16KEB1"
      },
      "execution_count": null,
      "outputs": []
    },
    {
      "cell_type": "markdown",
      "source": [
        "## df.isin()\n",
        "- 특정 값에 대한 포함 여부를 확인"
      ],
      "metadata": {
        "id": "9qSTRqZUPPL-"
      }
    },
    {
      "cell_type": "code",
      "source": [
        "# DataFrame.isin() - shopsDf을 구성하는 각 값들 중에서, '픽업존(메이비카페)', '픽업존(더현대서울)'과 일치하는 경우만 true로 출력\n",
        "shopsDf.isin(['픽업존(메이비카페)', '픽업존(더현대서울)'])\n",
        "\n",
        "# << 어떻게 출력될까요? >>\n",
        "# shopsDf[shopsDf.isin(['픽업존(메이비카페)', '픽업존(더현대서울)'])]"
      ],
      "metadata": {
        "id": "-KKtfd6QPPVX"
      },
      "execution_count": null,
      "outputs": []
    },
    {
      "cell_type": "code",
      "source": [
        "# Series.isin() - pickup_shop_name 컬럼의 값들 중 '픽업존(메이비카페)', '픽업존(더현대서울)'과 일치하는 경우만 True 출력\n",
        "shopsDf['pickup_shop_name'].isin(['픽업존(메이비카페)', '픽업존(더현대서울)'])\n",
        "# shopsDf.isin(['픽업존(메이비카페)', '픽업존(더현대서울)'])\n",
        "\n",
        "# << 어떻게 출력될까요? >>\n",
        "shopsDf[shopsDf['pickup_shop_name'].isin(['픽업존(메이비카페)', '픽업존(더현대서울)'])]"
      ],
      "metadata": {
        "id": "l52f1DQ5P0BL"
      },
      "execution_count": null,
      "outputs": []
    },
    {
      "cell_type": "markdown",
      "source": [
        "## datetime ⭐️\n",
        "- 공식 문서 참고 : https://pandas.pydata.org/pandas-docs/stable/reference/api/pandas.DatetimeIndex.year.html\n",
        "- 외부에서 불러온 데이터에서 날짜 형식의 데이터가 있는경우 `datetime 타입으로 변환시켜주시는게 좋습니다.` (데이터 핸들링 편의성 관점)\n",
        "- datetime 타입의 데이터를 사용할 경우, 사용할 수 있는 기능\n",
        "  - dt.year: 연도\n",
        "  - dt.month: 월\n",
        "  - dt.day: 일\n",
        "  - dt.week: 주\n",
        "  - dt.weekofyear: 연중 몇 째주\n",
        "  - dt.dayofweek: 요일 (월요일: 0, ..., 일요일: 6)\n",
        "  - dt.weekday: 요일 (dayofweek과 동일)"
      ],
      "metadata": {
        "id": "RNwMMTcfmec9"
      }
    },
    {
      "cell_type": "code",
      "source": [
        "ordersDf['order_date'].dt.year\n",
        "# ordersDf['order_date'].dt.month\n",
        "# ordersDf['order_date'].dt.day\n",
        "# ordersDf['order_date'].dt.dayofweek"
      ],
      "metadata": {
        "id": "-F8itOwWnpYr"
      },
      "execution_count": null,
      "outputs": []
    },
    {
      "cell_type": "markdown",
      "source": [
        "# 데이터 병합"
      ],
      "metadata": {
        "id": "pqRbAZQAUcPh"
      }
    },
    {
      "cell_type": "markdown",
      "source": [
        "## pd.concat() ⭐️\n",
        "- 지정한 DataFrame을 연결하는데 사용"
      ],
      "metadata": {
        "id": "U5lvgGFykWfV"
      }
    },
    {
      "cell_type": "code",
      "source": [
        "# << 실습을 위한 shopsDf 데이터 분할 >>\n",
        "shopsDf_02 = shopsDf.loc[0:2]\n",
        "shopsDf_34 = shopsDf.loc[3:4]\n",
        "shopsDf_57 = shopsDf.loc[5:7]\n",
        "\n",
        "# << concat을 통한 위, 아래 병합 >>\n",
        "# 각 컬럼 기준으로 같은 이름들끼리 알아서 병합해주고 (컬럼 순서도 상관 X), 병합시 다른 한쪽에 없는 컬럼이 있으면 없는데로 null값을 할당해서 합쳐 줍니다.\n",
        "pd.concat([shopsDf_02, shopsDf_57, shopsDf_34], ignore_index=True) # ignore_index=True 설정이 있어야, 데이터 병합 후 index가 재설정 됩니다."
      ],
      "metadata": {
        "id": "QVGQ2A27mVft"
      },
      "execution_count": null,
      "outputs": []
    },
    {
      "cell_type": "code",
      "source": [
        "# << 실습을 위한 shopsDf 데이터 분할 >>\n",
        "shopsDf_left = shopsDf.loc[:, ['pickup_shop_name', 'region_1depth_name', 'region_2depth_name', 'region_3depth_name']]\n",
        "shopsDf_right = shopsDf.loc[4:, ['h_code', 'x', 'y']]\n",
        "\n",
        "# << concat을 통한 왼쪽, 오른쪽 병합 >>\n",
        "# 위아래 병합과 달리 같은 인덱스 끼리 합해줍니다.\n",
        "pd.concat([shopsDf_left, shopsDf_right], axis=1) # axis = 1 설정을 통해 열방향 병합을 설정!"
      ],
      "metadata": {
        "id": "nvuA3GtPmoku"
      },
      "execution_count": null,
      "outputs": []
    },
    {
      "cell_type": "code",
      "source": [
        "shopsDf"
      ],
      "metadata": {
        "id": "D6Xl8m5tlDEH"
      },
      "execution_count": null,
      "outputs": []
    },
    {
      "cell_type": "markdown",
      "source": [
        "## pd.merge() ⭐️\n",
        "- 공통된 key(컬럼)을 기준으로 DataFraem을 병합하는데 사용\n",
        "- default 조인 방법은 inner이며, `총 네가지 병합 방식을 제공(left, right, outer, inner)`\n",
        "- SQL의 JOIN과 유사한 기능"
      ],
      "metadata": {
        "id": "Av-vLjf2lCGU"
      }
    },
    {
      "cell_type": "code",
      "source": [
        "# << 실습 데이터 확인 >>\n",
        "salesByShopDf_harf = salesByShopDf.loc[0:4]\n",
        "salesByShopDf_harf"
      ],
      "metadata": {
        "id": "qeVM0Am4prex"
      },
      "execution_count": null,
      "outputs": []
    },
    {
      "cell_type": "code",
      "source": [
        "# << 이름이 같은 두 컬럼을 조인키로 지정하는 방법 - on >>\n",
        "pd.merge(salesByShopDf_harf, salesByShopDf, on = 'pickup_shop_name', how = 'left') # left, right, outer, inner"
      ],
      "metadata": {
        "colab": {
          "base_uri": "https://localhost:8080/",
          "height": 197
        },
        "id": "p115BisKq-Wd",
        "outputId": "ff37ab5c-bc7c-4878-9315-d02d3167cea3"
      },
      "execution_count": null,
      "outputs": [
        {
          "output_type": "execute_result",
          "data": {
            "text/plain": [
              "  pickup_shop_name    sales_x  pu_x    sales_y  pu_y\n",
              "0        픽업존(유승상가)  267844000  1929  267844000  1929\n",
              "1       픽업존(더현대서울)    1199500    23    1199500    23\n",
              "2       픽업존(메이비카페)   76700200   653   76700200   653\n",
              "3  픽업존(GS25 목동3동점)   33700500   394   33700500   394\n",
              "4    픽업존(GS영등포당산점)   36577700   547   36577700   547"
            ],
            "text/html": [
              "\n",
              "  <div id=\"df-d76096d3-a9e6-4a2b-af9c-6ff08f0bf6ed\">\n",
              "    <div class=\"colab-df-container\">\n",
              "      <div>\n",
              "<style scoped>\n",
              "    .dataframe tbody tr th:only-of-type {\n",
              "        vertical-align: middle;\n",
              "    }\n",
              "\n",
              "    .dataframe tbody tr th {\n",
              "        vertical-align: top;\n",
              "    }\n",
              "\n",
              "    .dataframe thead th {\n",
              "        text-align: right;\n",
              "    }\n",
              "</style>\n",
              "<table border=\"1\" class=\"dataframe\">\n",
              "  <thead>\n",
              "    <tr style=\"text-align: right;\">\n",
              "      <th></th>\n",
              "      <th>pickup_shop_name</th>\n",
              "      <th>sales_x</th>\n",
              "      <th>pu_x</th>\n",
              "      <th>sales_y</th>\n",
              "      <th>pu_y</th>\n",
              "    </tr>\n",
              "  </thead>\n",
              "  <tbody>\n",
              "    <tr>\n",
              "      <th>0</th>\n",
              "      <td>픽업존(유승상가)</td>\n",
              "      <td>267844000</td>\n",
              "      <td>1929</td>\n",
              "      <td>267844000</td>\n",
              "      <td>1929</td>\n",
              "    </tr>\n",
              "    <tr>\n",
              "      <th>1</th>\n",
              "      <td>픽업존(더현대서울)</td>\n",
              "      <td>1199500</td>\n",
              "      <td>23</td>\n",
              "      <td>1199500</td>\n",
              "      <td>23</td>\n",
              "    </tr>\n",
              "    <tr>\n",
              "      <th>2</th>\n",
              "      <td>픽업존(메이비카페)</td>\n",
              "      <td>76700200</td>\n",
              "      <td>653</td>\n",
              "      <td>76700200</td>\n",
              "      <td>653</td>\n",
              "    </tr>\n",
              "    <tr>\n",
              "      <th>3</th>\n",
              "      <td>픽업존(GS25 목동3동점)</td>\n",
              "      <td>33700500</td>\n",
              "      <td>394</td>\n",
              "      <td>33700500</td>\n",
              "      <td>394</td>\n",
              "    </tr>\n",
              "    <tr>\n",
              "      <th>4</th>\n",
              "      <td>픽업존(GS영등포당산점)</td>\n",
              "      <td>36577700</td>\n",
              "      <td>547</td>\n",
              "      <td>36577700</td>\n",
              "      <td>547</td>\n",
              "    </tr>\n",
              "  </tbody>\n",
              "</table>\n",
              "</div>\n",
              "      <button class=\"colab-df-convert\" onclick=\"convertToInteractive('df-d76096d3-a9e6-4a2b-af9c-6ff08f0bf6ed')\"\n",
              "              title=\"Convert this dataframe to an interactive table.\"\n",
              "              style=\"display:none;\">\n",
              "        \n",
              "  <svg xmlns=\"http://www.w3.org/2000/svg\" height=\"24px\"viewBox=\"0 0 24 24\"\n",
              "       width=\"24px\">\n",
              "    <path d=\"M0 0h24v24H0V0z\" fill=\"none\"/>\n",
              "    <path d=\"M18.56 5.44l.94 2.06.94-2.06 2.06-.94-2.06-.94-.94-2.06-.94 2.06-2.06.94zm-11 1L8.5 8.5l.94-2.06 2.06-.94-2.06-.94L8.5 2.5l-.94 2.06-2.06.94zm10 10l.94 2.06.94-2.06 2.06-.94-2.06-.94-.94-2.06-.94 2.06-2.06.94z\"/><path d=\"M17.41 7.96l-1.37-1.37c-.4-.4-.92-.59-1.43-.59-.52 0-1.04.2-1.43.59L10.3 9.45l-7.72 7.72c-.78.78-.78 2.05 0 2.83L4 21.41c.39.39.9.59 1.41.59.51 0 1.02-.2 1.41-.59l7.78-7.78 2.81-2.81c.8-.78.8-2.07 0-2.86zM5.41 20L4 18.59l7.72-7.72 1.47 1.35L5.41 20z\"/>\n",
              "  </svg>\n",
              "      </button>\n",
              "      \n",
              "  <style>\n",
              "    .colab-df-container {\n",
              "      display:flex;\n",
              "      flex-wrap:wrap;\n",
              "      gap: 12px;\n",
              "    }\n",
              "\n",
              "    .colab-df-convert {\n",
              "      background-color: #E8F0FE;\n",
              "      border: none;\n",
              "      border-radius: 50%;\n",
              "      cursor: pointer;\n",
              "      display: none;\n",
              "      fill: #1967D2;\n",
              "      height: 32px;\n",
              "      padding: 0 0 0 0;\n",
              "      width: 32px;\n",
              "    }\n",
              "\n",
              "    .colab-df-convert:hover {\n",
              "      background-color: #E2EBFA;\n",
              "      box-shadow: 0px 1px 2px rgba(60, 64, 67, 0.3), 0px 1px 3px 1px rgba(60, 64, 67, 0.15);\n",
              "      fill: #174EA6;\n",
              "    }\n",
              "\n",
              "    [theme=dark] .colab-df-convert {\n",
              "      background-color: #3B4455;\n",
              "      fill: #D2E3FC;\n",
              "    }\n",
              "\n",
              "    [theme=dark] .colab-df-convert:hover {\n",
              "      background-color: #434B5C;\n",
              "      box-shadow: 0px 1px 3px 1px rgba(0, 0, 0, 0.15);\n",
              "      filter: drop-shadow(0px 1px 2px rgba(0, 0, 0, 0.3));\n",
              "      fill: #FFFFFF;\n",
              "    }\n",
              "  </style>\n",
              "\n",
              "      <script>\n",
              "        const buttonEl =\n",
              "          document.querySelector('#df-d76096d3-a9e6-4a2b-af9c-6ff08f0bf6ed button.colab-df-convert');\n",
              "        buttonEl.style.display =\n",
              "          google.colab.kernel.accessAllowed ? 'block' : 'none';\n",
              "\n",
              "        async function convertToInteractive(key) {\n",
              "          const element = document.querySelector('#df-d76096d3-a9e6-4a2b-af9c-6ff08f0bf6ed');\n",
              "          const dataTable =\n",
              "            await google.colab.kernel.invokeFunction('convertToInteractive',\n",
              "                                                     [key], {});\n",
              "          if (!dataTable) return;\n",
              "\n",
              "          const docLinkHtml = 'Like what you see? Visit the ' +\n",
              "            '<a target=\"_blank\" href=https://colab.research.google.com/notebooks/data_table.ipynb>data table notebook</a>'\n",
              "            + ' to learn more about interactive tables.';\n",
              "          element.innerHTML = '';\n",
              "          dataTable['output_type'] = 'display_data';\n",
              "          await google.colab.output.renderOutput(dataTable, element);\n",
              "          const docLink = document.createElement('div');\n",
              "          docLink.innerHTML = docLinkHtml;\n",
              "          element.appendChild(docLink);\n",
              "        }\n",
              "      </script>\n",
              "    </div>\n",
              "  </div>\n",
              "  "
            ],
            "application/vnd.google.colaboratory.module+javascript": "\n      import \"https://ssl.gstatic.com/colaboratory/data_table/fb998edc550c7947/data_table.js\";\n\n      window.createDataTable({\n        data: [[{\n            'v': 0,\n            'f': \"0\",\n        },\n\"\\ud53d\\uc5c5\\uc874(\\uc720\\uc2b9\\uc0c1\\uac00)\",\n{\n            'v': 267844000,\n            'f': \"267844000\",\n        },\n{\n            'v': 1929,\n            'f': \"1929\",\n        },\n{\n            'v': 267844000,\n            'f': \"267844000\",\n        },\n{\n            'v': 1929,\n            'f': \"1929\",\n        }],\n [{\n            'v': 1,\n            'f': \"1\",\n        },\n\"\\ud53d\\uc5c5\\uc874(\\ub354\\ud604\\ub300\\uc11c\\uc6b8)\",\n{\n            'v': 1199500,\n            'f': \"1199500\",\n        },\n{\n            'v': 23,\n            'f': \"23\",\n        },\n{\n            'v': 1199500,\n            'f': \"1199500\",\n        },\n{\n            'v': 23,\n            'f': \"23\",\n        }],\n [{\n            'v': 2,\n            'f': \"2\",\n        },\n\"\\ud53d\\uc5c5\\uc874(\\uba54\\uc774\\ube44\\uce74\\ud398)\",\n{\n            'v': 76700200,\n            'f': \"76700200\",\n        },\n{\n            'v': 653,\n            'f': \"653\",\n        },\n{\n            'v': 76700200,\n            'f': \"76700200\",\n        },\n{\n            'v': 653,\n            'f': \"653\",\n        }],\n [{\n            'v': 3,\n            'f': \"3\",\n        },\n\"\\ud53d\\uc5c5\\uc874(GS25 \\ubaa9\\ub3d93\\ub3d9\\uc810)\",\n{\n            'v': 33700500,\n            'f': \"33700500\",\n        },\n{\n            'v': 394,\n            'f': \"394\",\n        },\n{\n            'v': 33700500,\n            'f': \"33700500\",\n        },\n{\n            'v': 394,\n            'f': \"394\",\n        }],\n [{\n            'v': 4,\n            'f': \"4\",\n        },\n\"\\ud53d\\uc5c5\\uc874(GS\\uc601\\ub4f1\\ud3ec\\ub2f9\\uc0b0\\uc810)\",\n{\n            'v': 36577700,\n            'f': \"36577700\",\n        },\n{\n            'v': 547,\n            'f': \"547\",\n        },\n{\n            'v': 36577700,\n            'f': \"36577700\",\n        },\n{\n            'v': 547,\n            'f': \"547\",\n        }]],\n        columns: [[\"number\", \"index\"], [\"string\", \"pickup_shop_name\"], [\"number\", \"sales_x\"], [\"number\", \"pu_x\"], [\"number\", \"sales_y\"], [\"number\", \"pu_y\"]],\n        columnOptions: [{\"width\": \"1px\", \"className\": \"index_column\"}],\n        rowsPerPage: 25,\n        helpUrl: \"https://colab.research.google.com/notebooks/data_table.ipynb\",\n        suppressOutputScrolling: true,\n        minimumWidth: undefined,\n      });\n    "
          },
          "metadata": {},
          "execution_count": 113
        }
      ]
    },
    {
      "cell_type": "code",
      "source": [
        "# << 이름이 다른 두 컬럼을 조인키로 지정하는 방법 - left_on, right_on >>\n",
        "\n",
        "# 임의 데이터 분할\n",
        "a = shopsDf.loc[:, ['pickup_shop_name', 'region_1depth_name', 'region_2depth_name']]\n",
        "b = shopsDf.loc[:4, ['pickup_shop_name', 'h_code']].rename(columns={'pickup_shop_name':'shop_name'})\n",
        "\n",
        "# 이름이 다른 컬럼으로, 두 데이터 프레임 join\n",
        "pd.merge(a, b, left_on = 'pickup_shop_name', right_on = 'shop_name', how = 'left')"
      ],
      "metadata": {
        "id": "UsDnevcKsJld"
      },
      "execution_count": null,
      "outputs": []
    },
    {
      "cell_type": "markdown",
      "source": [
        "# 기타 고급 기능"
      ],
      "metadata": {
        "id": "NJSKCUe_vBUp"
      }
    },
    {
      "cell_type": "markdown",
      "source": [
        "## df.groupby() ⭐️"
      ],
      "metadata": {
        "id": "gB_CRpBUUiVY"
      }
    },
    {
      "cell_type": "code",
      "source": [
        "# order_year_month별 합 - 숫자형 컬럼들에대해 모두 sum값이 계산되어 나오지만, 이 데이터에는 숫자형이 컬럼이 payment_amount 하나밖에 없습니다.\n",
        "ordersDf.groupby('order_year_month').sum()"
      ],
      "metadata": {
        "id": "azMjI2GqWLPs"
      },
      "execution_count": null,
      "outputs": []
    },
    {
      "cell_type": "code",
      "source": [
        "# order_year_month별 pickup_shop_name 별 합 - 만약 여러개의 숫자형 컬럼이 있었다면 그룹핑 결과 중 특정 컬럼(e.g. payment_amount)에 대해서만 선택해서 볼 수 있습니다.\n",
        "ordersDf.groupby(['order_year_month', 'pickup_shop_name'])['payment_amount'].sum()"
      ],
      "metadata": {
        "id": "AGIgeUL2wVG5"
      },
      "execution_count": null,
      "outputs": []
    },
    {
      "cell_type": "code",
      "source": [
        "# to_frame() 함수를 사용해서, 데이터 프레임 형태로 볼 수 있습니다.\n",
        "# ㄴ to_frame()은 Seires를 DataFrame으로 변환하는 함수이며\n",
        "# ㄴ 아래 코드 전체를 pd.DataFrame()으로 감싸는 방법도 있습니다.\n",
        "ordersDf.groupby(['order_year_month', 'pickup_shop_name'])['payment_amount'].sum().to_frame()"
      ],
      "metadata": {
        "id": "RJxRQcLsz8s0"
      },
      "execution_count": null,
      "outputs": []
    },
    {
      "cell_type": "code",
      "source": [
        "# reset_index()를 사용해서 index를 초기화하고 새로운 데이터 프레임을 만들 수 있습니다.\n",
        "ordersDf.groupby(['order_year_month', 'pickup_shop_name'])['payment_amount'].sum().reset_index()"
      ],
      "metadata": {
        "id": "hwiRLFwqwVJR"
      },
      "execution_count": null,
      "outputs": []
    },
    {
      "cell_type": "code",
      "source": [
        "# << 다중 통계량 계산 >>\n",
        "\n",
        "multiStatsDf = ordersDf.groupby('order_year_month').agg(['sum', 'mean', 'median', 'max', 'min', 'count', 'nunique', 'std', 'var']).reset_index()\n",
        "multiStatsDf"
      ],
      "metadata": {
        "id": "j8QI92dHwVNb"
      },
      "execution_count": null,
      "outputs": []
    },
    {
      "cell_type": "code",
      "source": [
        "# << (참고) 멀티 컬럼에 접근하는 방법 - 어떤 차이가 있는지 한줄식 실행해 보세요 ~ ☺️ >>\n",
        "\n",
        "multiStatsDf['payment_amount']['sum']\n",
        "multiStatsDf[('payment_amount', 'sum')] # 튜플형태로 접근\n",
        "multiStatsDf['payment_amount'][['sum', 'mean']]\n",
        "multiStatsDf.loc[[1,6], 'payment_amount'][['sum', 'max']]"
      ],
      "metadata": {
        "id": "zat4lTWMwVP1"
      },
      "execution_count": null,
      "outputs": []
    },
    {
      "cell_type": "markdown",
      "source": [
        "## df.pivot_table()\n",
        "- `index, colums, values`를 지정하여 테이블을 피벗합니다.\n",
        "  - index : 왼쪽의 기준 행으로 두고 싶은 컬럼\n",
        "  - columns : 상단에 나열하고 싶은 컬럼\n",
        "  - values : 안에 표기하고 싶은 데이터\n",
        "- `aggfunc`는 defaul로 sum이 할당되어 있으며, 변경 및 추가 가능\n"
      ],
      "metadata": {
        "id": "bUDuUz8VWLIa"
      }
    },
    {
      "cell_type": "code",
      "source": [
        "shopsDf.pivot_table(index = 'pickup_shop_name' , columns= 'region_2depth_name', values = 'x')"
      ],
      "metadata": {
        "id": "Ep5ZlZzIVp-p"
      },
      "execution_count": null,
      "outputs": []
    },
    {
      "cell_type": "code",
      "source": [
        "shopsDf.pivot_table(index = 'region_2depth_name' , columns= 'region_1depth_name', values = 'x', aggfunc=['sum', 'min'])"
      ],
      "metadata": {
        "id": "C9rbIOhtb5jP"
      },
      "execution_count": null,
      "outputs": []
    },
    {
      "cell_type": "markdown",
      "source": [
        "## df.melt()\n",
        "- `id_vars, value_vars`를 지정하여 테이블 형태를 변경합니다.\n",
        "  - id_vers : 왼쪽의 기준 행으로 두고 싶은 변수 \n",
        "  - value_vars : 녹이고자 하는 컬럼\n",
        "  - var_name : 변경하고자 하는 variable 컬럼의 이름\n",
        "  - value_name : 변경하고자 하는 value 컬럼의 이름\n"
      ],
      "metadata": {
        "id": "41CLcjXcaf9i"
      }
    },
    {
      "cell_type": "code",
      "source": [
        "shopsDf"
      ],
      "metadata": {
        "id": "HeHPXReKhd1j"
      },
      "execution_count": null,
      "outputs": []
    },
    {
      "cell_type": "code",
      "source": [
        "# 우선 어떻게 녹아내리는지 확인해 볼까요?\n",
        "shopsDf.melt(id_vars='pickup_shop_name')"
      ],
      "metadata": {
        "id": "roZx1FHheNP1"
      },
      "execution_count": null,
      "outputs": []
    },
    {
      "cell_type": "code",
      "source": [
        "# pickup_shop_name을 기준으로 region_1depth_name 컬럼 하나만 녹이고 싶다면?\n",
        "shopsDf.melt(id_vars='pickup_shop_name', value_vars='region_1depth_name')"
      ],
      "metadata": {
        "id": "yy0Rd-tpejsZ"
      },
      "execution_count": null,
      "outputs": []
    },
    {
      "cell_type": "code",
      "source": [
        "# pickup_shop_name을 기준으로 h_code, x, y 컬럼을 녹이고 싶다면?\n",
        "shopsDf.melt(id_vars='pickup_shop_name', value_vars=['h_code', 'x', 'y'])# var_name = 'category', value_name = 'index'"
      ],
      "metadata": {
        "id": "V2u7YAzMew4F"
      },
      "execution_count": null,
      "outputs": []
    },
    {
      "cell_type": "markdown",
      "source": [
        "# pandasql \n",
        "- 해당 라이브러리를 사용하면, python에서 새롭게 생성된 DataFrame도 SQL 문법에 맞춰 핸들링 할 수 있기 때문에, pandas 문법이 갑자기 생각이 나지 않더라도 유연하게 대처할 수 있습니다.\n",
        "- 단 bigquery에서 사용되는 일부 함수의 경우 해당 기능을 제공하지 않을 수 있습니다. \n",
        "- https://pypi.org/project/pandasql/\n",
        "- https://github.com/yhat/pandasql/\n",
        "- SQLite - SQL Function : https://www.sqlite.org/lang_corefunc.html\n",
        "- pandasql uses SQLite syntax. Any pandas dataframes will be automatically detected by pandasql. You can query them as you would any regular SQL table."
      ],
      "metadata": {
        "id": "3NbilJGgVqC_"
      }
    },
    {
      "cell_type": "code",
      "source": [
        "!pip install pandasql"
      ],
      "metadata": {
        "id": "zlXOdgkGl1zI"
      },
      "execution_count": null,
      "outputs": []
    },
    {
      "cell_type": "code",
      "source": [
        "!pip show pandasql"
      ],
      "metadata": {
        "colab": {
          "base_uri": "https://localhost:8080/"
        },
        "id": "gx_8tQXDpB7p",
        "outputId": "afe940d7-a350-4662-f0b8-4a65d8637b4f"
      },
      "execution_count": null,
      "outputs": [
        {
          "output_type": "stream",
          "name": "stdout",
          "text": [
            "Name: pandasql\n",
            "Version: 0.7.3\n",
            "Summary: sqldf for pandas\n",
            "Home-page: https://github.com/yhat/pandasql/\n",
            "Author: Greg Lamp\n",
            "Author-email: greg@yhathq.com\n",
            "License: Copyright (c) 2013 Yhat, Inc.\n",
            "        \n",
            "        Permission is hereby granted, free of charge, to any person obtaining a copy of this software and associated documentation files (the \"Software\"), to deal in the Software without restriction, including without limitation the rights to use, copy, modify, merge, publish, distribute, sublicense, and/or sell copies of the Software, and to permit persons to whom the Software is furnished to do so, subject to the following conditions:\n",
            "        \n",
            "        The above copyright notice and this permission notice shall be included in all copies or substantial portions of the Software.\n",
            "        \n",
            "        THE SOFTWARE IS PROVIDED \"AS IS\", WITHOUT WARRANTY OF ANY KIND, EXPRESS OR IMPLIED, INCLUDING BUT NOT LIMITED TO THE WARRANTIES OF MERCHANTABILITY, FITNESS FOR A PARTICULAR PURPOSE AND NONINFRINGEMENT. IN NO EVENT SHALL THE AUTHORS OR COPYRIGHT HOLDERS BE LIABLE FOR ANY CLAIM, DAMAGES OR OTHER LIABILITY, WHETHER IN AN ACTION OF CONTRACT, TORT OR OTHERWISE, ARISING FROM, OUT OF OR IN CONNECTION WITH THE SOFTWARE OR THE USE OR OTHER DEALINGS IN THE SOFTWARE.\n",
            "Location: /usr/local/lib/python3.8/dist-packages\n",
            "Requires: pandas, numpy, sqlalchemy\n",
            "Required-by: \n"
          ]
        }
      ]
    },
    {
      "cell_type": "code",
      "source": [
        "from pandasql import sqldf\n",
        "dfsql = lambda q: sqldf(q, globals())\n",
        "\n",
        "basicIndexDf = dfsql(\"\"\"\n",
        "with login_users as (\n",
        "  select login_year_month, count(distinct user_id) as mau\n",
        "  from loginUsersDf\n",
        "  group by login_year_month\n",
        "),\n",
        "\n",
        "orders as (\n",
        "  select order_year_month, sum(payment_amount) as sales, count(distinct user_id) as pu\n",
        "  from ordersDf\n",
        "  group by order_year_month\n",
        ")\n",
        "\n",
        "select a.login_year_month, a.mau, b.sales, b.pu, round(b.sales/b.pu, 2) as arppu, round(round(b.sales)/b.pu, 2) as arppu_re\n",
        "from login_users as a\n",
        "left join orders as b\n",
        "on a.login_year_month = b.order_year_month\n",
        "order by a.login_year_month\n",
        "\"\"\")\n",
        "\n",
        "basicIndexDf"
      ],
      "metadata": {
        "id": "70DgWVZWi-2h"
      },
      "execution_count": null,
      "outputs": []
    },
    {
      "cell_type": "code",
      "source": [
        "basicIndexDf.info()"
      ],
      "metadata": {
        "id": "pjxTi-Fsps3b"
      },
      "execution_count": null,
      "outputs": []
    }
  ]
}